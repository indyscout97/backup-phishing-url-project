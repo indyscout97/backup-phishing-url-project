{
  "nbformat": 4,
  "nbformat_minor": 0,
  "metadata": {
    "colab": {
      "name": "table4_nn.ipynb",
      "provenance": [],
      "collapsed_sections": []
    },
    "kernelspec": {
      "name": "python3",
      "display_name": "Python 3"
    },
    "language_info": {
      "name": "python"
    }
  },
  "cells": [
    {
      "cell_type": "markdown",
      "metadata": {
        "id": "AD-tbKBauWhl"
      },
      "source": [
        "# neural network on dataset attributes based on URL file name (table 4)\n",
        "\n",
        "### (18 features)"
      ]
    },
    {
      "cell_type": "code",
      "metadata": {
        "colab": {
          "base_uri": "https://localhost:8080/"
        },
        "id": "nh56fGcS00aE",
        "outputId": "c318f3e5-025a-4207-f1c4-0a9e6a57fe9d"
      },
      "source": [
        "from keras.models import model_from_json\n",
        "import pandas as pd\n",
        "import numpy as np\n",
        "from sklearn.model_selection import train_test_split\n",
        "import sklearn as sk\n",
        "import matplotlib.pyplot as plt\n",
        "from tensorflow import keras\n",
        "from tensorflow.keras import layers\n",
        "import tensorflow as tf\n",
        "from tensorflow.keras import *\n",
        "from keras import callbacks\n",
        "from keras.utils.np_utils import *\n",
        "\n",
        "print(\"Done Loading\")\n"
      ],
      "execution_count": 1,
      "outputs": [
        {
          "output_type": "stream",
          "text": [
            "Done Loading\n"
          ],
          "name": "stdout"
        }
      ]
    },
    {
      "cell_type": "code",
      "metadata": {
        "colab": {
          "base_uri": "https://localhost:8080/",
          "height": 238
        },
        "id": "J4SOrq2500UM",
        "outputId": "387327b6-fefe-4cce-e27b-b1d660a42ed1"
      },
      "source": [
        "full_df = pd.read_csv(\"https://raw.githubusercontent.com/jwaldroop/phishing-url-project/main/dataset_full.csv\")\n",
        "\n",
        "full_df.head()"
      ],
      "execution_count": 2,
      "outputs": [
        {
          "output_type": "execute_result",
          "data": {
            "text/html": [
              "<div>\n",
              "<style scoped>\n",
              "    .dataframe tbody tr th:only-of-type {\n",
              "        vertical-align: middle;\n",
              "    }\n",
              "\n",
              "    .dataframe tbody tr th {\n",
              "        vertical-align: top;\n",
              "    }\n",
              "\n",
              "    .dataframe thead th {\n",
              "        text-align: right;\n",
              "    }\n",
              "</style>\n",
              "<table border=\"1\" class=\"dataframe\">\n",
              "  <thead>\n",
              "    <tr style=\"text-align: right;\">\n",
              "      <th></th>\n",
              "      <th>qty_dot_url</th>\n",
              "      <th>qty_hyphen_url</th>\n",
              "      <th>qty_underline_url</th>\n",
              "      <th>qty_slash_url</th>\n",
              "      <th>qty_questionmark_url</th>\n",
              "      <th>qty_equal_url</th>\n",
              "      <th>qty_at_url</th>\n",
              "      <th>qty_and_url</th>\n",
              "      <th>qty_exclamation_url</th>\n",
              "      <th>qty_space_url</th>\n",
              "      <th>qty_tilde_url</th>\n",
              "      <th>qty_comma_url</th>\n",
              "      <th>qty_plus_url</th>\n",
              "      <th>qty_asterisk_url</th>\n",
              "      <th>qty_hashtag_url</th>\n",
              "      <th>qty_dollar_url</th>\n",
              "      <th>qty_percent_url</th>\n",
              "      <th>qty_tld_url</th>\n",
              "      <th>length_url</th>\n",
              "      <th>qty_dot_domain</th>\n",
              "      <th>qty_hyphen_domain</th>\n",
              "      <th>qty_underline_domain</th>\n",
              "      <th>qty_slash_domain</th>\n",
              "      <th>qty_questionmark_domain</th>\n",
              "      <th>qty_equal_domain</th>\n",
              "      <th>qty_at_domain</th>\n",
              "      <th>qty_and_domain</th>\n",
              "      <th>qty_exclamation_domain</th>\n",
              "      <th>qty_space_domain</th>\n",
              "      <th>qty_tilde_domain</th>\n",
              "      <th>qty_comma_domain</th>\n",
              "      <th>qty_plus_domain</th>\n",
              "      <th>qty_asterisk_domain</th>\n",
              "      <th>qty_hashtag_domain</th>\n",
              "      <th>qty_dollar_domain</th>\n",
              "      <th>qty_percent_domain</th>\n",
              "      <th>qty_vowels_domain</th>\n",
              "      <th>domain_length</th>\n",
              "      <th>domain_in_ip</th>\n",
              "      <th>server_client_domain</th>\n",
              "      <th>...</th>\n",
              "      <th>qty_hashtag_file</th>\n",
              "      <th>qty_dollar_file</th>\n",
              "      <th>qty_percent_file</th>\n",
              "      <th>file_length</th>\n",
              "      <th>qty_dot_params</th>\n",
              "      <th>qty_hyphen_params</th>\n",
              "      <th>qty_underline_params</th>\n",
              "      <th>qty_slash_params</th>\n",
              "      <th>qty_questionmark_params</th>\n",
              "      <th>qty_equal_params</th>\n",
              "      <th>qty_at_params</th>\n",
              "      <th>qty_and_params</th>\n",
              "      <th>qty_exclamation_params</th>\n",
              "      <th>qty_space_params</th>\n",
              "      <th>qty_tilde_params</th>\n",
              "      <th>qty_comma_params</th>\n",
              "      <th>qty_plus_params</th>\n",
              "      <th>qty_asterisk_params</th>\n",
              "      <th>qty_hashtag_params</th>\n",
              "      <th>qty_dollar_params</th>\n",
              "      <th>qty_percent_params</th>\n",
              "      <th>params_length</th>\n",
              "      <th>tld_present_params</th>\n",
              "      <th>qty_params</th>\n",
              "      <th>email_in_url</th>\n",
              "      <th>time_response</th>\n",
              "      <th>domain_spf</th>\n",
              "      <th>asn_ip</th>\n",
              "      <th>time_domain_activation</th>\n",
              "      <th>time_domain_expiration</th>\n",
              "      <th>qty_ip_resolved</th>\n",
              "      <th>qty_nameservers</th>\n",
              "      <th>qty_mx_servers</th>\n",
              "      <th>ttl_hostname</th>\n",
              "      <th>tls_ssl_certificate</th>\n",
              "      <th>qty_redirects</th>\n",
              "      <th>url_google_index</th>\n",
              "      <th>domain_google_index</th>\n",
              "      <th>url_shortened</th>\n",
              "      <th>phishing</th>\n",
              "    </tr>\n",
              "  </thead>\n",
              "  <tbody>\n",
              "    <tr>\n",
              "      <th>0</th>\n",
              "      <td>3</td>\n",
              "      <td>0</td>\n",
              "      <td>0</td>\n",
              "      <td>1</td>\n",
              "      <td>0</td>\n",
              "      <td>0</td>\n",
              "      <td>0</td>\n",
              "      <td>0</td>\n",
              "      <td>0</td>\n",
              "      <td>0</td>\n",
              "      <td>0</td>\n",
              "      <td>0</td>\n",
              "      <td>0</td>\n",
              "      <td>0</td>\n",
              "      <td>0</td>\n",
              "      <td>0</td>\n",
              "      <td>0</td>\n",
              "      <td>1</td>\n",
              "      <td>25</td>\n",
              "      <td>2</td>\n",
              "      <td>0</td>\n",
              "      <td>0</td>\n",
              "      <td>0</td>\n",
              "      <td>0</td>\n",
              "      <td>0</td>\n",
              "      <td>0</td>\n",
              "      <td>0</td>\n",
              "      <td>0</td>\n",
              "      <td>0</td>\n",
              "      <td>0</td>\n",
              "      <td>0</td>\n",
              "      <td>0</td>\n",
              "      <td>0</td>\n",
              "      <td>0</td>\n",
              "      <td>0</td>\n",
              "      <td>0</td>\n",
              "      <td>4</td>\n",
              "      <td>17</td>\n",
              "      <td>0</td>\n",
              "      <td>0</td>\n",
              "      <td>...</td>\n",
              "      <td>0</td>\n",
              "      <td>0</td>\n",
              "      <td>0</td>\n",
              "      <td>7</td>\n",
              "      <td>-1</td>\n",
              "      <td>-1</td>\n",
              "      <td>-1</td>\n",
              "      <td>-1</td>\n",
              "      <td>-1</td>\n",
              "      <td>-1</td>\n",
              "      <td>-1</td>\n",
              "      <td>-1</td>\n",
              "      <td>-1</td>\n",
              "      <td>-1</td>\n",
              "      <td>-1</td>\n",
              "      <td>-1</td>\n",
              "      <td>-1</td>\n",
              "      <td>-1</td>\n",
              "      <td>-1</td>\n",
              "      <td>-1</td>\n",
              "      <td>-1</td>\n",
              "      <td>-1</td>\n",
              "      <td>-1</td>\n",
              "      <td>-1</td>\n",
              "      <td>0</td>\n",
              "      <td>0.207316</td>\n",
              "      <td>0</td>\n",
              "      <td>60781</td>\n",
              "      <td>-1</td>\n",
              "      <td>-1</td>\n",
              "      <td>1</td>\n",
              "      <td>2</td>\n",
              "      <td>0</td>\n",
              "      <td>892</td>\n",
              "      <td>0</td>\n",
              "      <td>0</td>\n",
              "      <td>0</td>\n",
              "      <td>0</td>\n",
              "      <td>0</td>\n",
              "      <td>1</td>\n",
              "    </tr>\n",
              "    <tr>\n",
              "      <th>1</th>\n",
              "      <td>5</td>\n",
              "      <td>0</td>\n",
              "      <td>1</td>\n",
              "      <td>3</td>\n",
              "      <td>0</td>\n",
              "      <td>3</td>\n",
              "      <td>0</td>\n",
              "      <td>2</td>\n",
              "      <td>0</td>\n",
              "      <td>0</td>\n",
              "      <td>0</td>\n",
              "      <td>0</td>\n",
              "      <td>0</td>\n",
              "      <td>0</td>\n",
              "      <td>0</td>\n",
              "      <td>0</td>\n",
              "      <td>0</td>\n",
              "      <td>3</td>\n",
              "      <td>223</td>\n",
              "      <td>2</td>\n",
              "      <td>0</td>\n",
              "      <td>0</td>\n",
              "      <td>0</td>\n",
              "      <td>0</td>\n",
              "      <td>0</td>\n",
              "      <td>0</td>\n",
              "      <td>0</td>\n",
              "      <td>0</td>\n",
              "      <td>0</td>\n",
              "      <td>0</td>\n",
              "      <td>0</td>\n",
              "      <td>0</td>\n",
              "      <td>0</td>\n",
              "      <td>0</td>\n",
              "      <td>0</td>\n",
              "      <td>0</td>\n",
              "      <td>5</td>\n",
              "      <td>16</td>\n",
              "      <td>0</td>\n",
              "      <td>0</td>\n",
              "      <td>...</td>\n",
              "      <td>0</td>\n",
              "      <td>0</td>\n",
              "      <td>0</td>\n",
              "      <td>9</td>\n",
              "      <td>0</td>\n",
              "      <td>0</td>\n",
              "      <td>1</td>\n",
              "      <td>0</td>\n",
              "      <td>0</td>\n",
              "      <td>3</td>\n",
              "      <td>0</td>\n",
              "      <td>2</td>\n",
              "      <td>0</td>\n",
              "      <td>0</td>\n",
              "      <td>0</td>\n",
              "      <td>0</td>\n",
              "      <td>0</td>\n",
              "      <td>0</td>\n",
              "      <td>0</td>\n",
              "      <td>0</td>\n",
              "      <td>0</td>\n",
              "      <td>165</td>\n",
              "      <td>0</td>\n",
              "      <td>3</td>\n",
              "      <td>0</td>\n",
              "      <td>0.499566</td>\n",
              "      <td>-1</td>\n",
              "      <td>36024</td>\n",
              "      <td>579</td>\n",
              "      <td>150</td>\n",
              "      <td>1</td>\n",
              "      <td>2</td>\n",
              "      <td>1</td>\n",
              "      <td>9540</td>\n",
              "      <td>1</td>\n",
              "      <td>0</td>\n",
              "      <td>0</td>\n",
              "      <td>0</td>\n",
              "      <td>0</td>\n",
              "      <td>1</td>\n",
              "    </tr>\n",
              "    <tr>\n",
              "      <th>2</th>\n",
              "      <td>2</td>\n",
              "      <td>0</td>\n",
              "      <td>0</td>\n",
              "      <td>1</td>\n",
              "      <td>0</td>\n",
              "      <td>0</td>\n",
              "      <td>0</td>\n",
              "      <td>0</td>\n",
              "      <td>0</td>\n",
              "      <td>0</td>\n",
              "      <td>0</td>\n",
              "      <td>0</td>\n",
              "      <td>0</td>\n",
              "      <td>0</td>\n",
              "      <td>0</td>\n",
              "      <td>0</td>\n",
              "      <td>0</td>\n",
              "      <td>1</td>\n",
              "      <td>15</td>\n",
              "      <td>2</td>\n",
              "      <td>0</td>\n",
              "      <td>0</td>\n",
              "      <td>0</td>\n",
              "      <td>0</td>\n",
              "      <td>0</td>\n",
              "      <td>0</td>\n",
              "      <td>0</td>\n",
              "      <td>0</td>\n",
              "      <td>0</td>\n",
              "      <td>0</td>\n",
              "      <td>0</td>\n",
              "      <td>0</td>\n",
              "      <td>0</td>\n",
              "      <td>0</td>\n",
              "      <td>0</td>\n",
              "      <td>0</td>\n",
              "      <td>3</td>\n",
              "      <td>14</td>\n",
              "      <td>0</td>\n",
              "      <td>0</td>\n",
              "      <td>...</td>\n",
              "      <td>0</td>\n",
              "      <td>0</td>\n",
              "      <td>0</td>\n",
              "      <td>0</td>\n",
              "      <td>-1</td>\n",
              "      <td>-1</td>\n",
              "      <td>-1</td>\n",
              "      <td>-1</td>\n",
              "      <td>-1</td>\n",
              "      <td>-1</td>\n",
              "      <td>-1</td>\n",
              "      <td>-1</td>\n",
              "      <td>-1</td>\n",
              "      <td>-1</td>\n",
              "      <td>-1</td>\n",
              "      <td>-1</td>\n",
              "      <td>-1</td>\n",
              "      <td>-1</td>\n",
              "      <td>-1</td>\n",
              "      <td>-1</td>\n",
              "      <td>-1</td>\n",
              "      <td>-1</td>\n",
              "      <td>-1</td>\n",
              "      <td>-1</td>\n",
              "      <td>0</td>\n",
              "      <td>0.935901</td>\n",
              "      <td>0</td>\n",
              "      <td>4766</td>\n",
              "      <td>-1</td>\n",
              "      <td>-1</td>\n",
              "      <td>1</td>\n",
              "      <td>2</td>\n",
              "      <td>3</td>\n",
              "      <td>589</td>\n",
              "      <td>1</td>\n",
              "      <td>0</td>\n",
              "      <td>0</td>\n",
              "      <td>0</td>\n",
              "      <td>0</td>\n",
              "      <td>0</td>\n",
              "    </tr>\n",
              "    <tr>\n",
              "      <th>3</th>\n",
              "      <td>4</td>\n",
              "      <td>0</td>\n",
              "      <td>2</td>\n",
              "      <td>5</td>\n",
              "      <td>0</td>\n",
              "      <td>0</td>\n",
              "      <td>0</td>\n",
              "      <td>0</td>\n",
              "      <td>0</td>\n",
              "      <td>0</td>\n",
              "      <td>0</td>\n",
              "      <td>0</td>\n",
              "      <td>0</td>\n",
              "      <td>0</td>\n",
              "      <td>0</td>\n",
              "      <td>0</td>\n",
              "      <td>0</td>\n",
              "      <td>1</td>\n",
              "      <td>81</td>\n",
              "      <td>2</td>\n",
              "      <td>0</td>\n",
              "      <td>0</td>\n",
              "      <td>0</td>\n",
              "      <td>0</td>\n",
              "      <td>0</td>\n",
              "      <td>0</td>\n",
              "      <td>0</td>\n",
              "      <td>0</td>\n",
              "      <td>0</td>\n",
              "      <td>0</td>\n",
              "      <td>0</td>\n",
              "      <td>0</td>\n",
              "      <td>0</td>\n",
              "      <td>0</td>\n",
              "      <td>0</td>\n",
              "      <td>0</td>\n",
              "      <td>7</td>\n",
              "      <td>19</td>\n",
              "      <td>0</td>\n",
              "      <td>0</td>\n",
              "      <td>...</td>\n",
              "      <td>0</td>\n",
              "      <td>0</td>\n",
              "      <td>0</td>\n",
              "      <td>9</td>\n",
              "      <td>-1</td>\n",
              "      <td>-1</td>\n",
              "      <td>-1</td>\n",
              "      <td>-1</td>\n",
              "      <td>-1</td>\n",
              "      <td>-1</td>\n",
              "      <td>-1</td>\n",
              "      <td>-1</td>\n",
              "      <td>-1</td>\n",
              "      <td>-1</td>\n",
              "      <td>-1</td>\n",
              "      <td>-1</td>\n",
              "      <td>-1</td>\n",
              "      <td>-1</td>\n",
              "      <td>-1</td>\n",
              "      <td>-1</td>\n",
              "      <td>-1</td>\n",
              "      <td>-1</td>\n",
              "      <td>-1</td>\n",
              "      <td>-1</td>\n",
              "      <td>0</td>\n",
              "      <td>0.410021</td>\n",
              "      <td>0</td>\n",
              "      <td>20454</td>\n",
              "      <td>-1</td>\n",
              "      <td>-1</td>\n",
              "      <td>1</td>\n",
              "      <td>2</td>\n",
              "      <td>0</td>\n",
              "      <td>292</td>\n",
              "      <td>1</td>\n",
              "      <td>0</td>\n",
              "      <td>0</td>\n",
              "      <td>0</td>\n",
              "      <td>0</td>\n",
              "      <td>1</td>\n",
              "    </tr>\n",
              "    <tr>\n",
              "      <th>4</th>\n",
              "      <td>2</td>\n",
              "      <td>0</td>\n",
              "      <td>0</td>\n",
              "      <td>0</td>\n",
              "      <td>0</td>\n",
              "      <td>0</td>\n",
              "      <td>0</td>\n",
              "      <td>0</td>\n",
              "      <td>0</td>\n",
              "      <td>0</td>\n",
              "      <td>0</td>\n",
              "      <td>0</td>\n",
              "      <td>0</td>\n",
              "      <td>0</td>\n",
              "      <td>0</td>\n",
              "      <td>0</td>\n",
              "      <td>0</td>\n",
              "      <td>1</td>\n",
              "      <td>19</td>\n",
              "      <td>2</td>\n",
              "      <td>0</td>\n",
              "      <td>0</td>\n",
              "      <td>0</td>\n",
              "      <td>0</td>\n",
              "      <td>0</td>\n",
              "      <td>0</td>\n",
              "      <td>0</td>\n",
              "      <td>0</td>\n",
              "      <td>0</td>\n",
              "      <td>0</td>\n",
              "      <td>0</td>\n",
              "      <td>0</td>\n",
              "      <td>0</td>\n",
              "      <td>0</td>\n",
              "      <td>0</td>\n",
              "      <td>0</td>\n",
              "      <td>5</td>\n",
              "      <td>19</td>\n",
              "      <td>0</td>\n",
              "      <td>0</td>\n",
              "      <td>...</td>\n",
              "      <td>-1</td>\n",
              "      <td>-1</td>\n",
              "      <td>-1</td>\n",
              "      <td>-1</td>\n",
              "      <td>-1</td>\n",
              "      <td>-1</td>\n",
              "      <td>-1</td>\n",
              "      <td>-1</td>\n",
              "      <td>-1</td>\n",
              "      <td>-1</td>\n",
              "      <td>-1</td>\n",
              "      <td>-1</td>\n",
              "      <td>-1</td>\n",
              "      <td>-1</td>\n",
              "      <td>-1</td>\n",
              "      <td>-1</td>\n",
              "      <td>-1</td>\n",
              "      <td>-1</td>\n",
              "      <td>-1</td>\n",
              "      <td>-1</td>\n",
              "      <td>-1</td>\n",
              "      <td>-1</td>\n",
              "      <td>-1</td>\n",
              "      <td>-1</td>\n",
              "      <td>0</td>\n",
              "      <td>0.410761</td>\n",
              "      <td>0</td>\n",
              "      <td>53831</td>\n",
              "      <td>6998</td>\n",
              "      <td>306</td>\n",
              "      <td>1</td>\n",
              "      <td>2</td>\n",
              "      <td>1</td>\n",
              "      <td>3597</td>\n",
              "      <td>0</td>\n",
              "      <td>1</td>\n",
              "      <td>0</td>\n",
              "      <td>0</td>\n",
              "      <td>0</td>\n",
              "      <td>0</td>\n",
              "    </tr>\n",
              "  </tbody>\n",
              "</table>\n",
              "<p>5 rows × 112 columns</p>\n",
              "</div>"
            ],
            "text/plain": [
              "   qty_dot_url  qty_hyphen_url  ...  url_shortened  phishing\n",
              "0            3               0  ...              0         1\n",
              "1            5               0  ...              0         1\n",
              "2            2               0  ...              0         0\n",
              "3            4               0  ...              0         1\n",
              "4            2               0  ...              0         0\n",
              "\n",
              "[5 rows x 112 columns]"
            ]
          },
          "metadata": {
            "tags": []
          },
          "execution_count": 2
        }
      ]
    },
    {
      "cell_type": "code",
      "metadata": {
        "colab": {
          "base_uri": "https://localhost:8080/",
          "height": 211
        },
        "id": "1PQ4dcaouS2L",
        "outputId": "c8f82a5b-3c7f-440b-91fd-7f6a7a673a18"
      },
      "source": [
        "y = full_df['phishing']\n",
        "\n",
        "features_table1 = ['qty_dot_file', 'qty_hyphen_file', 'qty_underline_file', 'qty_slash_file', 'qty_questionmark_file', 'qty_equal_file', 'qty_at_file', 'qty_and_file',\n",
        "                   'qty_exclamation_file', 'qty_space_file', 'qty_tilde_file', 'qty_comma_file', 'qty_plus_file', 'qty_asterisk_file', 'qty_hashtag_file', 'qty_dollar_file',\n",
        "                   'qty_percent_file', 'file_length'] \n",
        "\n",
        "X = full_df[features_table1]\n",
        "\n",
        "train_X, val_X, train_y, val_y = train_test_split(X, y, random_state=808)\n",
        "\n",
        "train_X.head()"
      ],
      "execution_count": 3,
      "outputs": [
        {
          "output_type": "execute_result",
          "data": {
            "text/html": [
              "<div>\n",
              "<style scoped>\n",
              "    .dataframe tbody tr th:only-of-type {\n",
              "        vertical-align: middle;\n",
              "    }\n",
              "\n",
              "    .dataframe tbody tr th {\n",
              "        vertical-align: top;\n",
              "    }\n",
              "\n",
              "    .dataframe thead th {\n",
              "        text-align: right;\n",
              "    }\n",
              "</style>\n",
              "<table border=\"1\" class=\"dataframe\">\n",
              "  <thead>\n",
              "    <tr style=\"text-align: right;\">\n",
              "      <th></th>\n",
              "      <th>qty_dot_file</th>\n",
              "      <th>qty_hyphen_file</th>\n",
              "      <th>qty_underline_file</th>\n",
              "      <th>qty_slash_file</th>\n",
              "      <th>qty_questionmark_file</th>\n",
              "      <th>qty_equal_file</th>\n",
              "      <th>qty_at_file</th>\n",
              "      <th>qty_and_file</th>\n",
              "      <th>qty_exclamation_file</th>\n",
              "      <th>qty_space_file</th>\n",
              "      <th>qty_tilde_file</th>\n",
              "      <th>qty_comma_file</th>\n",
              "      <th>qty_plus_file</th>\n",
              "      <th>qty_asterisk_file</th>\n",
              "      <th>qty_hashtag_file</th>\n",
              "      <th>qty_dollar_file</th>\n",
              "      <th>qty_percent_file</th>\n",
              "      <th>file_length</th>\n",
              "    </tr>\n",
              "  </thead>\n",
              "  <tbody>\n",
              "    <tr>\n",
              "      <th>5676</th>\n",
              "      <td>0</td>\n",
              "      <td>0</td>\n",
              "      <td>0</td>\n",
              "      <td>0</td>\n",
              "      <td>0</td>\n",
              "      <td>0</td>\n",
              "      <td>0</td>\n",
              "      <td>0</td>\n",
              "      <td>0</td>\n",
              "      <td>0</td>\n",
              "      <td>0</td>\n",
              "      <td>0</td>\n",
              "      <td>0</td>\n",
              "      <td>0</td>\n",
              "      <td>0</td>\n",
              "      <td>0</td>\n",
              "      <td>0</td>\n",
              "      <td>0</td>\n",
              "    </tr>\n",
              "    <tr>\n",
              "      <th>39002</th>\n",
              "      <td>-1</td>\n",
              "      <td>-1</td>\n",
              "      <td>-1</td>\n",
              "      <td>-1</td>\n",
              "      <td>-1</td>\n",
              "      <td>-1</td>\n",
              "      <td>-1</td>\n",
              "      <td>-1</td>\n",
              "      <td>-1</td>\n",
              "      <td>-1</td>\n",
              "      <td>-1</td>\n",
              "      <td>-1</td>\n",
              "      <td>-1</td>\n",
              "      <td>-1</td>\n",
              "      <td>-1</td>\n",
              "      <td>-1</td>\n",
              "      <td>-1</td>\n",
              "      <td>-1</td>\n",
              "    </tr>\n",
              "    <tr>\n",
              "      <th>1732</th>\n",
              "      <td>-1</td>\n",
              "      <td>-1</td>\n",
              "      <td>-1</td>\n",
              "      <td>-1</td>\n",
              "      <td>-1</td>\n",
              "      <td>-1</td>\n",
              "      <td>-1</td>\n",
              "      <td>-1</td>\n",
              "      <td>-1</td>\n",
              "      <td>-1</td>\n",
              "      <td>-1</td>\n",
              "      <td>-1</td>\n",
              "      <td>-1</td>\n",
              "      <td>-1</td>\n",
              "      <td>-1</td>\n",
              "      <td>-1</td>\n",
              "      <td>-1</td>\n",
              "      <td>-1</td>\n",
              "    </tr>\n",
              "    <tr>\n",
              "      <th>39668</th>\n",
              "      <td>-1</td>\n",
              "      <td>-1</td>\n",
              "      <td>-1</td>\n",
              "      <td>-1</td>\n",
              "      <td>-1</td>\n",
              "      <td>-1</td>\n",
              "      <td>-1</td>\n",
              "      <td>-1</td>\n",
              "      <td>-1</td>\n",
              "      <td>-1</td>\n",
              "      <td>-1</td>\n",
              "      <td>-1</td>\n",
              "      <td>-1</td>\n",
              "      <td>-1</td>\n",
              "      <td>-1</td>\n",
              "      <td>-1</td>\n",
              "      <td>-1</td>\n",
              "      <td>-1</td>\n",
              "    </tr>\n",
              "    <tr>\n",
              "      <th>82035</th>\n",
              "      <td>-1</td>\n",
              "      <td>-1</td>\n",
              "      <td>-1</td>\n",
              "      <td>-1</td>\n",
              "      <td>-1</td>\n",
              "      <td>-1</td>\n",
              "      <td>-1</td>\n",
              "      <td>-1</td>\n",
              "      <td>-1</td>\n",
              "      <td>-1</td>\n",
              "      <td>-1</td>\n",
              "      <td>-1</td>\n",
              "      <td>-1</td>\n",
              "      <td>-1</td>\n",
              "      <td>-1</td>\n",
              "      <td>-1</td>\n",
              "      <td>-1</td>\n",
              "      <td>-1</td>\n",
              "    </tr>\n",
              "  </tbody>\n",
              "</table>\n",
              "</div>"
            ],
            "text/plain": [
              "       qty_dot_file  qty_hyphen_file  ...  qty_percent_file  file_length\n",
              "5676              0                0  ...                 0            0\n",
              "39002            -1               -1  ...                -1           -1\n",
              "1732             -1               -1  ...                -1           -1\n",
              "39668            -1               -1  ...                -1           -1\n",
              "82035            -1               -1  ...                -1           -1\n",
              "\n",
              "[5 rows x 18 columns]"
            ]
          },
          "metadata": {
            "tags": []
          },
          "execution_count": 3
        }
      ]
    },
    {
      "cell_type": "code",
      "metadata": {
        "colab": {
          "base_uri": "https://localhost:8080/"
        },
        "id": "EUauU02l2iFe",
        "outputId": "eefba7ce-185e-444f-a64e-956550db63fc"
      },
      "source": [
        "X.shape"
      ],
      "execution_count": 4,
      "outputs": [
        {
          "output_type": "execute_result",
          "data": {
            "text/plain": [
              "(88647, 18)"
            ]
          },
          "metadata": {
            "tags": []
          },
          "execution_count": 4
        }
      ]
    },
    {
      "cell_type": "code",
      "metadata": {
        "colab": {
          "base_uri": "https://localhost:8080/"
        },
        "id": "6JybKWkn1U8i",
        "outputId": "203f3253-19c5-4155-957d-f1186a90c35e"
      },
      "source": [
        "tf.keras.backend.clear_session()\n",
        "\n",
        "#neural net\n",
        "\n",
        "table4_nn = keras.Sequential([\n",
        "                          layers.InputLayer(input_shape=[18]),\n",
        "                          layers.Dense(units=64, activation='relu'),\n",
        "                          layers.Dropout(0.2),\n",
        "                          layers.Dense(units=64, activation='relu'),\n",
        "                          layers.Dropout(0.2),\n",
        "                          layers.Dense(units=50, activation='relu'),\n",
        "                          layers.Dropout(0.20),\n",
        "                          layers.Dense(units=32, activation='relu'),\n",
        "                          layers.Dropout(0.2),\n",
        "                          layers.Dense(units=32, activation='relu'),\n",
        "                          layers.Dropout(0.2),\n",
        "                          layers.Dense(units=16, activation='relu'),\n",
        "                          layers.Dropout(0.40),\n",
        "                          layers.Dense(units=16, activation='relu'),\n",
        "                          layers.Dropout(0.40),\n",
        "                          layers.Dense(units=111, activation='relu'),\n",
        "                          layers.Flatten(),\n",
        "                          layers.Dense(units=1, activation='sigmoid')\n",
        "])\n",
        "\n",
        "table4_nn.compile(\n",
        "    optimizer='adam',\n",
        "    loss='binary_crossentropy',\n",
        "    metrics=[tf.keras.metrics.BinaryAccuracy(threshold=0.5), \n",
        "             tf.keras.metrics.AUC(),\n",
        "             ]\n",
        ")\n",
        "\n",
        "earlystopping = callbacks.EarlyStopping(monitor = 'val_binary_accuracy', mode = 'max',\n",
        "                                       patience = 25, restore_best_weights = True)\n",
        "\n",
        "\n",
        "table4_nn.summary()"
      ],
      "execution_count": 5,
      "outputs": [
        {
          "output_type": "stream",
          "text": [
            "Model: \"sequential\"\n",
            "_________________________________________________________________\n",
            "Layer (type)                 Output Shape              Param #   \n",
            "=================================================================\n",
            "dense (Dense)                (None, 64)                1216      \n",
            "_________________________________________________________________\n",
            "dropout (Dropout)            (None, 64)                0         \n",
            "_________________________________________________________________\n",
            "dense_1 (Dense)              (None, 64)                4160      \n",
            "_________________________________________________________________\n",
            "dropout_1 (Dropout)          (None, 64)                0         \n",
            "_________________________________________________________________\n",
            "dense_2 (Dense)              (None, 50)                3250      \n",
            "_________________________________________________________________\n",
            "dropout_2 (Dropout)          (None, 50)                0         \n",
            "_________________________________________________________________\n",
            "dense_3 (Dense)              (None, 32)                1632      \n",
            "_________________________________________________________________\n",
            "dropout_3 (Dropout)          (None, 32)                0         \n",
            "_________________________________________________________________\n",
            "dense_4 (Dense)              (None, 32)                1056      \n",
            "_________________________________________________________________\n",
            "dropout_4 (Dropout)          (None, 32)                0         \n",
            "_________________________________________________________________\n",
            "dense_5 (Dense)              (None, 16)                528       \n",
            "_________________________________________________________________\n",
            "dropout_5 (Dropout)          (None, 16)                0         \n",
            "_________________________________________________________________\n",
            "dense_6 (Dense)              (None, 16)                272       \n",
            "_________________________________________________________________\n",
            "dropout_6 (Dropout)          (None, 16)                0         \n",
            "_________________________________________________________________\n",
            "dense_7 (Dense)              (None, 111)               1887      \n",
            "_________________________________________________________________\n",
            "flatten (Flatten)            (None, 111)               0         \n",
            "_________________________________________________________________\n",
            "dense_8 (Dense)              (None, 1)                 112       \n",
            "=================================================================\n",
            "Total params: 14,113\n",
            "Trainable params: 14,113\n",
            "Non-trainable params: 0\n",
            "_________________________________________________________________\n"
          ],
          "name": "stdout"
        }
      ]
    },
    {
      "cell_type": "code",
      "metadata": {
        "colab": {
          "base_uri": "https://localhost:8080/"
        },
        "id": "evPK4SLp1U6a",
        "outputId": "6e02efa4-31aa-4e37-8ea2-2ec53648c024"
      },
      "source": [
        "history = table4_nn.fit(train_X, train_y, validation_split=0.30, batch_size= 15, epochs=500, callbacks = [earlystopping])"
      ],
      "execution_count": 6,
      "outputs": [
        {
          "output_type": "stream",
          "text": [
            "Epoch 1/500\n",
            "3103/3103 [==============================] - 11s 3ms/step - loss: 0.4034 - binary_accuracy: 0.8255 - auc: 0.8815 - val_loss: 0.2930 - val_binary_accuracy: 0.8651 - val_auc: 0.9231\n",
            "Epoch 2/500\n",
            "3103/3103 [==============================] - 9s 3ms/step - loss: 0.3074 - binary_accuracy: 0.8668 - auc: 0.9189 - val_loss: 0.2943 - val_binary_accuracy: 0.8656 - val_auc: 0.9240\n",
            "Epoch 3/500\n",
            "3103/3103 [==============================] - 9s 3ms/step - loss: 0.3067 - binary_accuracy: 0.8651 - auc: 0.9195 - val_loss: 0.2989 - val_binary_accuracy: 0.8663 - val_auc: 0.9246\n",
            "Epoch 4/500\n",
            "3103/3103 [==============================] - 10s 3ms/step - loss: 0.3014 - binary_accuracy: 0.8674 - auc: 0.9209 - val_loss: 0.3008 - val_binary_accuracy: 0.8668 - val_auc: 0.9249\n",
            "Epoch 5/500\n",
            "3103/3103 [==============================] - 9s 3ms/step - loss: 0.3029 - binary_accuracy: 0.8657 - auc: 0.9220 - val_loss: 0.2990 - val_binary_accuracy: 0.8662 - val_auc: 0.9246\n",
            "Epoch 6/500\n",
            "3103/3103 [==============================] - 9s 3ms/step - loss: 0.3026 - binary_accuracy: 0.8666 - auc: 0.9202 - val_loss: 0.3017 - val_binary_accuracy: 0.8662 - val_auc: 0.9250\n",
            "Epoch 7/500\n",
            "3103/3103 [==============================] - 9s 3ms/step - loss: 0.2990 - binary_accuracy: 0.8668 - auc: 0.9215 - val_loss: 0.2933 - val_binary_accuracy: 0.8663 - val_auc: 0.9246\n",
            "Epoch 8/500\n",
            "3103/3103 [==============================] - 9s 3ms/step - loss: 0.3032 - binary_accuracy: 0.8646 - auc: 0.9197 - val_loss: 0.3045 - val_binary_accuracy: 0.8667 - val_auc: 0.9225\n",
            "Epoch 9/500\n",
            "3103/3103 [==============================] - 9s 3ms/step - loss: 0.3044 - binary_accuracy: 0.8646 - auc: 0.9201 - val_loss: 0.2937 - val_binary_accuracy: 0.8663 - val_auc: 0.9251\n",
            "Epoch 10/500\n",
            "3103/3103 [==============================] - 10s 3ms/step - loss: 0.2983 - binary_accuracy: 0.8680 - auc: 0.9214 - val_loss: 0.2974 - val_binary_accuracy: 0.8669 - val_auc: 0.9233\n",
            "Epoch 11/500\n",
            "3103/3103 [==============================] - 9s 3ms/step - loss: 0.3034 - binary_accuracy: 0.8669 - auc: 0.9203 - val_loss: 0.3015 - val_binary_accuracy: 0.8666 - val_auc: 0.9256\n",
            "Epoch 12/500\n",
            "3103/3103 [==============================] - 9s 3ms/step - loss: 0.2992 - binary_accuracy: 0.8643 - auc: 0.9224 - val_loss: 0.3025 - val_binary_accuracy: 0.8663 - val_auc: 0.9253\n",
            "Epoch 13/500\n",
            "3103/3103 [==============================] - 10s 3ms/step - loss: 0.3006 - binary_accuracy: 0.8645 - auc: 0.9224 - val_loss: 0.3041 - val_binary_accuracy: 0.8666 - val_auc: 0.9255\n",
            "Epoch 14/500\n",
            "3103/3103 [==============================] - 10s 3ms/step - loss: 0.2974 - binary_accuracy: 0.8671 - auc: 0.9239 - val_loss: 0.3055 - val_binary_accuracy: 0.8673 - val_auc: 0.9254\n",
            "Epoch 15/500\n",
            "3103/3103 [==============================] - 10s 3ms/step - loss: 0.3050 - binary_accuracy: 0.8658 - auc: 0.9196 - val_loss: 0.2943 - val_binary_accuracy: 0.8668 - val_auc: 0.9243\n",
            "Epoch 16/500\n",
            "3103/3103 [==============================] - 10s 3ms/step - loss: 0.3027 - binary_accuracy: 0.8648 - auc: 0.9204 - val_loss: 0.2999 - val_binary_accuracy: 0.8652 - val_auc: 0.9216\n",
            "Epoch 17/500\n",
            "3103/3103 [==============================] - 10s 3ms/step - loss: 0.3013 - binary_accuracy: 0.8662 - auc: 0.9220 - val_loss: 0.3053 - val_binary_accuracy: 0.8674 - val_auc: 0.9252\n",
            "Epoch 18/500\n",
            "3103/3103 [==============================] - 9s 3ms/step - loss: 0.2986 - binary_accuracy: 0.8669 - auc: 0.9232 - val_loss: 0.3047 - val_binary_accuracy: 0.8667 - val_auc: 0.9255\n",
            "Epoch 19/500\n",
            "3103/3103 [==============================] - 9s 3ms/step - loss: 0.2999 - binary_accuracy: 0.8635 - auc: 0.9218 - val_loss: 0.3069 - val_binary_accuracy: 0.8672 - val_auc: 0.9231\n",
            "Epoch 20/500\n",
            "3103/3103 [==============================] - 10s 3ms/step - loss: 0.2982 - binary_accuracy: 0.8684 - auc: 0.9234 - val_loss: 0.2986 - val_binary_accuracy: 0.8662 - val_auc: 0.9260\n",
            "Epoch 21/500\n",
            "3103/3103 [==============================] - 11s 4ms/step - loss: 0.2959 - binary_accuracy: 0.8670 - auc: 0.9238 - val_loss: 0.3091 - val_binary_accuracy: 0.8666 - val_auc: 0.9264\n",
            "Epoch 22/500\n",
            "3103/3103 [==============================] - 10s 3ms/step - loss: 0.2951 - binary_accuracy: 0.8691 - auc: 0.9261 - val_loss: 0.2970 - val_binary_accuracy: 0.8664 - val_auc: 0.9270\n",
            "Epoch 23/500\n",
            "3103/3103 [==============================] - 10s 3ms/step - loss: 0.2940 - binary_accuracy: 0.8690 - auc: 0.9255 - val_loss: 0.3020 - val_binary_accuracy: 0.8670 - val_auc: 0.9256\n",
            "Epoch 24/500\n",
            "3103/3103 [==============================] - 9s 3ms/step - loss: 0.2979 - binary_accuracy: 0.8681 - auc: 0.9234 - val_loss: 0.3041 - val_binary_accuracy: 0.8671 - val_auc: 0.9252\n",
            "Epoch 25/500\n",
            "3103/3103 [==============================] - 10s 3ms/step - loss: 0.2991 - binary_accuracy: 0.8678 - auc: 0.9239 - val_loss: 0.2970 - val_binary_accuracy: 0.8664 - val_auc: 0.9247\n",
            "Epoch 26/500\n",
            "3103/3103 [==============================] - 10s 3ms/step - loss: 0.3019 - binary_accuracy: 0.8653 - auc: 0.9206 - val_loss: 0.3021 - val_binary_accuracy: 0.8670 - val_auc: 0.9258\n",
            "Epoch 27/500\n",
            "3103/3103 [==============================] - 10s 3ms/step - loss: 0.2930 - binary_accuracy: 0.8699 - auc: 0.9255 - val_loss: 0.3005 - val_binary_accuracy: 0.8671 - val_auc: 0.9264\n",
            "Epoch 28/500\n",
            "3103/3103 [==============================] - 9s 3ms/step - loss: 0.3020 - binary_accuracy: 0.8647 - auc: 0.9222 - val_loss: 0.3071 - val_binary_accuracy: 0.8671 - val_auc: 0.9242\n",
            "Epoch 29/500\n",
            "3103/3103 [==============================] - 9s 3ms/step - loss: 0.2928 - binary_accuracy: 0.8679 - auc: 0.9258 - val_loss: 0.3142 - val_binary_accuracy: 0.8668 - val_auc: 0.9230\n",
            "Epoch 30/500\n",
            "3103/3103 [==============================] - 9s 3ms/step - loss: 0.2979 - binary_accuracy: 0.8688 - auc: 0.9238 - val_loss: 0.3018 - val_binary_accuracy: 0.8672 - val_auc: 0.9251\n",
            "Epoch 31/500\n",
            "3103/3103 [==============================] - 9s 3ms/step - loss: 0.2998 - binary_accuracy: 0.8670 - auc: 0.9245 - val_loss: 0.3043 - val_binary_accuracy: 0.8672 - val_auc: 0.9259\n",
            "Epoch 32/500\n",
            "3103/3103 [==============================] - 9s 3ms/step - loss: 0.2964 - binary_accuracy: 0.8675 - auc: 0.9243 - val_loss: 0.3100 - val_binary_accuracy: 0.8673 - val_auc: 0.9235\n",
            "Epoch 33/500\n",
            "3103/3103 [==============================] - 9s 3ms/step - loss: 0.3048 - binary_accuracy: 0.8663 - auc: 0.9206 - val_loss: 0.3024 - val_binary_accuracy: 0.8674 - val_auc: 0.9254\n",
            "Epoch 34/500\n",
            "3103/3103 [==============================] - 9s 3ms/step - loss: 0.3002 - binary_accuracy: 0.8680 - auc: 0.9228 - val_loss: 0.3032 - val_binary_accuracy: 0.8668 - val_auc: 0.9245\n",
            "Epoch 35/500\n",
            "3103/3103 [==============================] - 10s 3ms/step - loss: 0.2999 - binary_accuracy: 0.8679 - auc: 0.9223 - val_loss: 0.3136 - val_binary_accuracy: 0.8668 - val_auc: 0.9244\n",
            "Epoch 36/500\n",
            "3103/3103 [==============================] - 9s 3ms/step - loss: 0.2991 - binary_accuracy: 0.8701 - auc: 0.9244 - val_loss: 0.3068 - val_binary_accuracy: 0.8667 - val_auc: 0.9255\n",
            "Epoch 37/500\n",
            "3103/3103 [==============================] - 9s 3ms/step - loss: 0.3047 - binary_accuracy: 0.8643 - auc: 0.9193 - val_loss: 0.3161 - val_binary_accuracy: 0.8668 - val_auc: 0.9220\n",
            "Epoch 38/500\n",
            "3103/3103 [==============================] - 9s 3ms/step - loss: 0.3053 - binary_accuracy: 0.8661 - auc: 0.9217 - val_loss: 0.3070 - val_binary_accuracy: 0.8667 - val_auc: 0.9248\n",
            "Epoch 39/500\n",
            "3103/3103 [==============================] - 10s 3ms/step - loss: 0.3002 - binary_accuracy: 0.8681 - auc: 0.9215 - val_loss: 0.3056 - val_binary_accuracy: 0.8673 - val_auc: 0.9260\n",
            "Epoch 40/500\n",
            "3103/3103 [==============================] - 10s 3ms/step - loss: 0.2966 - binary_accuracy: 0.8694 - auc: 0.9256 - val_loss: 0.3028 - val_binary_accuracy: 0.8663 - val_auc: 0.9260\n",
            "Epoch 41/500\n",
            "3103/3103 [==============================] - 10s 3ms/step - loss: 0.2977 - binary_accuracy: 0.8667 - auc: 0.9229 - val_loss: 0.3035 - val_binary_accuracy: 0.8663 - val_auc: 0.9258\n",
            "Epoch 42/500\n",
            "3103/3103 [==============================] - 10s 3ms/step - loss: 0.3020 - binary_accuracy: 0.8643 - auc: 0.9208 - val_loss: 0.3148 - val_binary_accuracy: 0.8670 - val_auc: 0.9231\n",
            "Epoch 43/500\n",
            "3103/3103 [==============================] - 10s 3ms/step - loss: 0.3043 - binary_accuracy: 0.8643 - auc: 0.9201 - val_loss: 0.3138 - val_binary_accuracy: 0.8669 - val_auc: 0.9231\n",
            "Epoch 44/500\n",
            "3103/3103 [==============================] - 10s 3ms/step - loss: 0.3050 - binary_accuracy: 0.8657 - auc: 0.9219 - val_loss: 0.3078 - val_binary_accuracy: 0.8671 - val_auc: 0.9259\n",
            "Epoch 45/500\n",
            "3103/3103 [==============================] - 10s 3ms/step - loss: 0.2946 - binary_accuracy: 0.8699 - auc: 0.9243 - val_loss: 0.3134 - val_binary_accuracy: 0.8671 - val_auc: 0.9265\n",
            "Epoch 46/500\n",
            "3103/3103 [==============================] - 10s 3ms/step - loss: 0.2991 - binary_accuracy: 0.8679 - auc: 0.9230 - val_loss: 0.3063 - val_binary_accuracy: 0.8670 - val_auc: 0.9259\n",
            "Epoch 47/500\n",
            "3103/3103 [==============================] - 10s 3ms/step - loss: 0.2986 - binary_accuracy: 0.8673 - auc: 0.9227 - val_loss: 0.3085 - val_binary_accuracy: 0.8670 - val_auc: 0.9258\n",
            "Epoch 48/500\n",
            "3103/3103 [==============================] - 10s 3ms/step - loss: 0.3033 - binary_accuracy: 0.8659 - auc: 0.9228 - val_loss: 0.3143 - val_binary_accuracy: 0.8671 - val_auc: 0.9258\n",
            "Epoch 49/500\n",
            "3103/3103 [==============================] - 10s 3ms/step - loss: 0.3065 - binary_accuracy: 0.8650 - auc: 0.9208 - val_loss: 0.3051 - val_binary_accuracy: 0.8670 - val_auc: 0.9267\n",
            "Epoch 50/500\n",
            "3103/3103 [==============================] - 9s 3ms/step - loss: 0.2970 - binary_accuracy: 0.8682 - auc: 0.9236 - val_loss: 0.3084 - val_binary_accuracy: 0.8671 - val_auc: 0.9242\n",
            "Epoch 51/500\n",
            "3103/3103 [==============================] - 10s 3ms/step - loss: 0.2995 - binary_accuracy: 0.8682 - auc: 0.9248 - val_loss: 0.3076 - val_binary_accuracy: 0.8674 - val_auc: 0.9249\n",
            "Epoch 52/500\n",
            "3103/3103 [==============================] - 10s 3ms/step - loss: 0.3017 - binary_accuracy: 0.8669 - auc: 0.9214 - val_loss: 0.3071 - val_binary_accuracy: 0.8673 - val_auc: 0.9261\n",
            "Epoch 53/500\n",
            "3103/3103 [==============================] - 11s 3ms/step - loss: 0.2963 - binary_accuracy: 0.8678 - auc: 0.9246 - val_loss: 0.3094 - val_binary_accuracy: 0.8669 - val_auc: 0.9251\n",
            "Epoch 54/500\n",
            "3103/3103 [==============================] - 10s 3ms/step - loss: 0.3004 - binary_accuracy: 0.8672 - auc: 0.9215 - val_loss: 0.3030 - val_binary_accuracy: 0.8667 - val_auc: 0.9262\n",
            "Epoch 55/500\n",
            "3103/3103 [==============================] - 9s 3ms/step - loss: 0.2962 - binary_accuracy: 0.8675 - auc: 0.9238 - val_loss: 0.3065 - val_binary_accuracy: 0.8669 - val_auc: 0.9254\n",
            "Epoch 56/500\n",
            "3103/3103 [==============================] - 9s 3ms/step - loss: 0.2972 - binary_accuracy: 0.8674 - auc: 0.9244 - val_loss: 0.3013 - val_binary_accuracy: 0.8673 - val_auc: 0.9260\n",
            "Epoch 57/500\n",
            "3103/3103 [==============================] - 9s 3ms/step - loss: 0.2982 - binary_accuracy: 0.8638 - auc: 0.9232 - val_loss: 0.3032 - val_binary_accuracy: 0.8666 - val_auc: 0.9259\n",
            "Epoch 58/500\n",
            "3103/3103 [==============================] - 10s 3ms/step - loss: 0.2970 - binary_accuracy: 0.8656 - auc: 0.9236 - val_loss: 0.3096 - val_binary_accuracy: 0.8672 - val_auc: 0.9257\n"
          ],
          "name": "stdout"
        }
      ]
    },
    {
      "cell_type": "code",
      "metadata": {
        "colab": {
          "base_uri": "https://localhost:8080/",
          "height": 277
        },
        "id": "QEylyqAB1U4T",
        "outputId": "eed9813b-f4da-4d4c-9007-6c7df099476d"
      },
      "source": [
        "history_df = pd.DataFrame(history.history)\n",
        "\n",
        "history_df.describe()"
      ],
      "execution_count": 7,
      "outputs": [
        {
          "output_type": "execute_result",
          "data": {
            "text/html": [
              "<div>\n",
              "<style scoped>\n",
              "    .dataframe tbody tr th:only-of-type {\n",
              "        vertical-align: middle;\n",
              "    }\n",
              "\n",
              "    .dataframe tbody tr th {\n",
              "        vertical-align: top;\n",
              "    }\n",
              "\n",
              "    .dataframe thead th {\n",
              "        text-align: right;\n",
              "    }\n",
              "</style>\n",
              "<table border=\"1\" class=\"dataframe\">\n",
              "  <thead>\n",
              "    <tr style=\"text-align: right;\">\n",
              "      <th></th>\n",
              "      <th>loss</th>\n",
              "      <th>binary_accuracy</th>\n",
              "      <th>auc</th>\n",
              "      <th>val_loss</th>\n",
              "      <th>val_binary_accuracy</th>\n",
              "      <th>val_auc</th>\n",
              "    </tr>\n",
              "  </thead>\n",
              "  <tbody>\n",
              "    <tr>\n",
              "      <th>count</th>\n",
              "      <td>58.000000</td>\n",
              "      <td>58.000000</td>\n",
              "      <td>58.000000</td>\n",
              "      <td>58.000000</td>\n",
              "      <td>58.000000</td>\n",
              "      <td>58.000000</td>\n",
              "    </tr>\n",
              "    <tr>\n",
              "      <th>mean</th>\n",
              "      <td>0.300502</td>\n",
              "      <td>0.866648</td>\n",
              "      <td>0.922539</td>\n",
              "      <td>0.304314</td>\n",
              "      <td>0.866785</td>\n",
              "      <td>0.924977</td>\n",
              "    </tr>\n",
              "    <tr>\n",
              "      <th>std</th>\n",
              "      <td>0.006124</td>\n",
              "      <td>0.002184</td>\n",
              "      <td>0.002245</td>\n",
              "      <td>0.005664</td>\n",
              "      <td>0.000493</td>\n",
              "      <td>0.001213</td>\n",
              "    </tr>\n",
              "    <tr>\n",
              "      <th>min</th>\n",
              "      <td>0.295608</td>\n",
              "      <td>0.851157</td>\n",
              "      <td>0.908282</td>\n",
              "      <td>0.293029</td>\n",
              "      <td>0.865086</td>\n",
              "      <td>0.921562</td>\n",
              "    </tr>\n",
              "    <tr>\n",
              "      <th>25%</th>\n",
              "      <td>0.297994</td>\n",
              "      <td>0.866639</td>\n",
              "      <td>0.922203</td>\n",
              "      <td>0.301318</td>\n",
              "      <td>0.866590</td>\n",
              "      <td>0.924464</td>\n",
              "    </tr>\n",
              "    <tr>\n",
              "      <th>50%</th>\n",
              "      <td>0.299391</td>\n",
              "      <td>0.866993</td>\n",
              "      <td>0.922949</td>\n",
              "      <td>0.304213</td>\n",
              "      <td>0.866866</td>\n",
              "      <td>0.925276</td>\n",
              "    </tr>\n",
              "    <tr>\n",
              "      <th>75%</th>\n",
              "      <td>0.301402</td>\n",
              "      <td>0.867348</td>\n",
              "      <td>0.923502</td>\n",
              "      <td>0.307518</td>\n",
              "      <td>0.867091</td>\n",
              "      <td>0.925884</td>\n",
              "    </tr>\n",
              "    <tr>\n",
              "      <th>max</th>\n",
              "      <td>0.342473</td>\n",
              "      <td>0.867982</td>\n",
              "      <td>0.924922</td>\n",
              "      <td>0.316119</td>\n",
              "      <td>0.867442</td>\n",
              "      <td>0.927036</td>\n",
              "    </tr>\n",
              "  </tbody>\n",
              "</table>\n",
              "</div>"
            ],
            "text/plain": [
              "            loss  binary_accuracy  ...  val_binary_accuracy    val_auc\n",
              "count  58.000000        58.000000  ...            58.000000  58.000000\n",
              "mean    0.300502         0.866648  ...             0.866785   0.924977\n",
              "std     0.006124         0.002184  ...             0.000493   0.001213\n",
              "min     0.295608         0.851157  ...             0.865086   0.921562\n",
              "25%     0.297994         0.866639  ...             0.866590   0.924464\n",
              "50%     0.299391         0.866993  ...             0.866866   0.925276\n",
              "75%     0.301402         0.867348  ...             0.867091   0.925884\n",
              "max     0.342473         0.867982  ...             0.867442   0.927036\n",
              "\n",
              "[8 rows x 6 columns]"
            ]
          },
          "metadata": {
            "tags": []
          },
          "execution_count": 7
        }
      ]
    },
    {
      "cell_type": "code",
      "metadata": {
        "colab": {
          "base_uri": "https://localhost:8080/"
        },
        "id": "2rXapaDp1U2O",
        "outputId": "b93d25cc-1c77-44f4-b935-fa6adfebe9f1"
      },
      "source": [
        "train_acc = table4_nn.evaluate(train_X, train_y)\n",
        "test_acc = table4_nn.evaluate(val_X, val_y)"
      ],
      "execution_count": 8,
      "outputs": [
        {
          "output_type": "stream",
          "text": [
            "2078/2078 [==============================] - 3s 1ms/step - loss: 0.3013 - binary_accuracy: 0.8684 - auc: 0.9265\n",
            "693/693 [==============================] - 1s 1ms/step - loss: 0.3038 - binary_accuracy: 0.8663 - auc: 0.9246\n"
          ],
          "name": "stdout"
        }
      ]
    },
    {
      "cell_type": "code",
      "metadata": {
        "colab": {
          "base_uri": "https://localhost:8080/"
        },
        "id": "5ADQEBa41Uz5",
        "outputId": "33505cee-07dd-46d0-b1f5-bd3e04f5df72"
      },
      "source": [
        "dict(zip(table4_nn.metrics_names, test_acc))"
      ],
      "execution_count": 9,
      "outputs": [
        {
          "output_type": "execute_result",
          "data": {
            "text/plain": [
              "{'auc': 0.9245621562004089,\n",
              " 'binary_accuracy': 0.8663026690483093,\n",
              " 'loss': 0.3037920296192169}"
            ]
          },
          "metadata": {
            "tags": []
          },
          "execution_count": 9
        }
      ]
    },
    {
      "cell_type": "code",
      "metadata": {
        "colab": {
          "base_uri": "https://localhost:8080/",
          "height": 281
        },
        "id": "3UfuVOqb1xJ1",
        "outputId": "6bad7038-1c1c-44db-a597-d55c89c6442a"
      },
      "source": [
        "history_df.loc[:, ['loss', 'val_loss']].plot();\n",
        "print(\"Minimum validation loss (binary_crossentropy): {}\".format(history_df['val_loss'].min()))"
      ],
      "execution_count": 10,
      "outputs": [
        {
          "output_type": "stream",
          "text": [
            "Minimum validation loss (binary_crossentropy): 0.2930287718772888\n"
          ],
          "name": "stdout"
        },
        {
          "output_type": "display_data",
          "data": {
            "image/png": "[encoded data removed]",
            "text/plain": [
              "<Figure size 432x288 with 1 Axes>"
            ]
          },
          "metadata": {
            "tags": [],
            "needs_background": "light"
          }
        }
      ]
    },
    {
      "cell_type": "code",
      "metadata": {
        "colab": {
          "base_uri": "https://localhost:8080/",
          "height": 281
        },
        "id": "aT57qZ5W1xHc",
        "outputId": "42205474-7754-4889-c57f-8d6c404ee038"
      },
      "source": [
        "history_df.loc[:, ['auc', 'val_auc']].plot();\n",
        "print(\"Maximum AUC: {}\".format(history_df['val_auc'].max()))"
      ],
      "execution_count": 11,
      "outputs": [
        {
          "output_type": "stream",
          "text": [
            "Maximum AUC: 0.9270357489585876\n"
          ],
          "name": "stdout"
        },
        {
          "output_type": "display_data",
          "data": {
            "image/png": "[encoded data removed]",
            "text/plain": [
              "<Figure size 432x288 with 1 Axes>"
            ]
          },
          "metadata": {
            "tags": [],
            "needs_background": "light"
          }
        }
      ]
    },
    {
      "cell_type": "code",
      "metadata": {
        "colab": {
          "base_uri": "https://localhost:8080/",
          "height": 281
        },
        "id": "kOu5es-F1xE-",
        "outputId": "749e164a-2810-4dfd-f317-f74b7449f426"
      },
      "source": [
        "history_df.loc[:, ['binary_accuracy', 'val_binary_accuracy']].plot();\n",
        "print(\"Maximum validation binary accuracy: {}\".format(history_df['val_binary_accuracy'].max()))"
      ],
      "execution_count": 12,
      "outputs": [
        {
          "output_type": "stream",
          "text": [
            "Maximum validation binary accuracy: 0.8674420714378357\n"
          ],
          "name": "stdout"
        },
        {
          "output_type": "display_data",
          "data": {
            "image/png": "[encoded data removed]",
            "text/plain": [
              "<Figure size 432x288 with 1 Axes>"
            ]
          },
          "metadata": {
            "tags": [],
            "needs_background": "light"
          }
        }
      ]
    },
    {
      "cell_type": "code",
      "metadata": {
        "colab": {
          "base_uri": "https://localhost:8080/"
        },
        "id": "0Z1xGJNl1xCc",
        "outputId": "f8165de8-5a87-4e63-eca8-d4bbd370854f"
      },
      "source": [
        "preds1 = table4_nn.predict(val_X)\n",
        "preds1"
      ],
      "execution_count": 13,
      "outputs": [
        {
          "output_type": "execute_result",
          "data": {
            "text/plain": [
              "array([[0.75350976],\n",
              "       [0.02077782],\n",
              "       [0.6644424 ],\n",
              "       ...,\n",
              "       [0.02077782],\n",
              "       [0.02077782],\n",
              "       [0.74477154]], dtype=float32)"
            ]
          },
          "metadata": {
            "tags": []
          },
          "execution_count": 13
        }
      ]
    },
    {
      "cell_type": "code",
      "metadata": {
        "colab": {
          "base_uri": "https://localhost:8080/"
        },
        "id": "VjJXhtRp1w-H",
        "outputId": "18b9bbcb-e1c2-4e03-fb5e-8796bb32a485"
      },
      "source": [
        "len(preds1[preds1 < 0.5])"
      ],
      "execution_count": 14,
      "outputs": [
        {
          "output_type": "execute_result",
          "data": {
            "text/plain": [
              "11994"
            ]
          },
          "metadata": {
            "tags": []
          },
          "execution_count": 14
        }
      ]
    },
    {
      "cell_type": "code",
      "metadata": {
        "colab": {
          "base_uri": "https://localhost:8080/"
        },
        "id": "lH9o4roL1-mQ",
        "outputId": "283e2051-e44e-4871-f3f7-1a54b0524459"
      },
      "source": [
        "len(preds1[preds1 >= 0.5])"
      ],
      "execution_count": 15,
      "outputs": [
        {
          "output_type": "execute_result",
          "data": {
            "text/plain": [
              "10168"
            ]
          },
          "metadata": {
            "tags": []
          },
          "execution_count": 15
        }
      ]
    },
    {
      "cell_type": "code",
      "metadata": {
        "colab": {
          "base_uri": "https://localhost:8080/"
        },
        "id": "JmjS9QFa2Amb",
        "outputId": "821762ef-3186-4ebf-e6c2-affe06761749"
      },
      "source": [
        "len(val_y)"
      ],
      "execution_count": 16,
      "outputs": [
        {
          "output_type": "execute_result",
          "data": {
            "text/plain": [
              "22162"
            ]
          },
          "metadata": {
            "tags": []
          },
          "execution_count": 16
        }
      ]
    },
    {
      "cell_type": "code",
      "metadata": {
        "colab": {
          "base_uri": "https://localhost:8080/"
        },
        "id": "DUiMHraYpCcT",
        "outputId": "22207294-fc2e-40bc-edd8-215cbb9c7d37"
      },
      "source": [
        "pred_classes = np.argmax(preds1, axis=1)\n",
        "\n",
        "from sklearn.metrics import confusion_matrix\n",
        "cm = confusion_matrix(val_y, pred_classes)\n",
        "print(cm)"
      ],
      "execution_count": 17,
      "outputs": [
        {
          "output_type": "stream",
          "text": [
            "[[14519     0]\n",
            " [ 7643     0]]\n"
          ],
          "name": "stdout"
        }
      ]
    }
  ]
}