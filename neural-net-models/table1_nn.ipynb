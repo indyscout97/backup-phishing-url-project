{
  "nbformat": 4,
  "nbformat_minor": 0,
  "metadata": {
    "colab": {
      "name": "table1_nn.ipynb",
      "provenance": [],
      "collapsed_sections": []
    },
    "kernelspec": {
      "name": "python3",
      "display_name": "Python 3"
    },
    "language_info": {
      "name": "python"
    }
  },
  "cells": [
    {
      "cell_type": "markdown",
      "metadata": {
        "id": "AD-tbKBauWhl"
      },
      "source": [
        "# neural network on dataset attributes (table 1)\n",
        "\n",
        "### (20 features)"
      ]
    },
    {
      "cell_type": "code",
      "metadata": {
        "colab": {
          "base_uri": "https://localhost:8080/"
        },
        "id": "nh56fGcS00aE",
        "outputId": "6a0e9348-f271-4f2c-f82a-6f99fc5bf1fa"
      },
      "source": [
        "from keras.models import model_from_json\n",
        "import pandas as pd\n",
        "import numpy as np\n",
        "from sklearn.model_selection import train_test_split\n",
        "import sklearn as sk\n",
        "import matplotlib.pyplot as plt\n",
        "from tensorflow import keras\n",
        "from tensorflow.keras import layers\n",
        "import tensorflow as tf\n",
        "from tensorflow.keras import *\n",
        "from keras import callbacks\n",
        "from keras.utils.np_utils import *\n",
        "\n",
        "print(\"Done Loading\")\n"
      ],
      "execution_count": null,
      "outputs": [
        {
          "output_type": "stream",
          "text": [
            "Done Loading\n"
          ],
          "name": "stdout"
        }
      ]
    },
    {
      "cell_type": "code",
      "metadata": {
        "colab": {
          "base_uri": "https://localhost:8080/",
          "height": 253
        },
        "id": "J4SOrq2500UM",
        "outputId": "3e30ab0a-657b-4182-d23a-ca4cb2b049cf"
      },
      "source": [
        "full_df = pd.read_csv(\"https://raw.githubusercontent.com/jwaldroop/phishing-url-project/main/dataset_full.csv\")\n",
        "\n",
        "full_df.head()"
      ],
      "execution_count": null,
      "outputs": [
        {
          "output_type": "execute_result",
          "data": {
            "text/html": [
              "<div>\n",
              "<style scoped>\n",
              "    .dataframe tbody tr th:only-of-type {\n",
              "        vertical-align: middle;\n",
              "    }\n",
              "\n",
              "    .dataframe tbody tr th {\n",
              "        vertical-align: top;\n",
              "    }\n",
              "\n",
              "    .dataframe thead th {\n",
              "        text-align: right;\n",
              "    }\n",
              "</style>\n",
              "<table border=\"1\" class=\"dataframe\">\n",
              "  <thead>\n",
              "    <tr style=\"text-align: right;\">\n",
              "      <th></th>\n",
              "      <th>qty_dot_url</th>\n",
              "      <th>qty_hyphen_url</th>\n",
              "      <th>qty_underline_url</th>\n",
              "      <th>qty_slash_url</th>\n",
              "      <th>qty_questionmark_url</th>\n",
              "      <th>qty_equal_url</th>\n",
              "      <th>qty_at_url</th>\n",
              "      <th>qty_and_url</th>\n",
              "      <th>qty_exclamation_url</th>\n",
              "      <th>qty_space_url</th>\n",
              "      <th>qty_tilde_url</th>\n",
              "      <th>qty_comma_url</th>\n",
              "      <th>qty_plus_url</th>\n",
              "      <th>qty_asterisk_url</th>\n",
              "      <th>qty_hashtag_url</th>\n",
              "      <th>qty_dollar_url</th>\n",
              "      <th>qty_percent_url</th>\n",
              "      <th>qty_tld_url</th>\n",
              "      <th>length_url</th>\n",
              "      <th>qty_dot_domain</th>\n",
              "      <th>qty_hyphen_domain</th>\n",
              "      <th>qty_underline_domain</th>\n",
              "      <th>qty_slash_domain</th>\n",
              "      <th>qty_questionmark_domain</th>\n",
              "      <th>qty_equal_domain</th>\n",
              "      <th>qty_at_domain</th>\n",
              "      <th>qty_and_domain</th>\n",
              "      <th>qty_exclamation_domain</th>\n",
              "      <th>qty_space_domain</th>\n",
              "      <th>qty_tilde_domain</th>\n",
              "      <th>qty_comma_domain</th>\n",
              "      <th>qty_plus_domain</th>\n",
              "      <th>qty_asterisk_domain</th>\n",
              "      <th>qty_hashtag_domain</th>\n",
              "      <th>qty_dollar_domain</th>\n",
              "      <th>qty_percent_domain</th>\n",
              "      <th>qty_vowels_domain</th>\n",
              "      <th>domain_length</th>\n",
              "      <th>domain_in_ip</th>\n",
              "      <th>server_client_domain</th>\n",
              "      <th>...</th>\n",
              "      <th>qty_hashtag_file</th>\n",
              "      <th>qty_dollar_file</th>\n",
              "      <th>qty_percent_file</th>\n",
              "      <th>file_length</th>\n",
              "      <th>qty_dot_params</th>\n",
              "      <th>qty_hyphen_params</th>\n",
              "      <th>qty_underline_params</th>\n",
              "      <th>qty_slash_params</th>\n",
              "      <th>qty_questionmark_params</th>\n",
              "      <th>qty_equal_params</th>\n",
              "      <th>qty_at_params</th>\n",
              "      <th>qty_and_params</th>\n",
              "      <th>qty_exclamation_params</th>\n",
              "      <th>qty_space_params</th>\n",
              "      <th>qty_tilde_params</th>\n",
              "      <th>qty_comma_params</th>\n",
              "      <th>qty_plus_params</th>\n",
              "      <th>qty_asterisk_params</th>\n",
              "      <th>qty_hashtag_params</th>\n",
              "      <th>qty_dollar_params</th>\n",
              "      <th>qty_percent_params</th>\n",
              "      <th>params_length</th>\n",
              "      <th>tld_present_params</th>\n",
              "      <th>qty_params</th>\n",
              "      <th>email_in_url</th>\n",
              "      <th>time_response</th>\n",
              "      <th>domain_spf</th>\n",
              "      <th>asn_ip</th>\n",
              "      <th>time_domain_activation</th>\n",
              "      <th>time_domain_expiration</th>\n",
              "      <th>qty_ip_resolved</th>\n",
              "      <th>qty_nameservers</th>\n",
              "      <th>qty_mx_servers</th>\n",
              "      <th>ttl_hostname</th>\n",
              "      <th>tls_ssl_certificate</th>\n",
              "      <th>qty_redirects</th>\n",
              "      <th>url_google_index</th>\n",
              "      <th>domain_google_index</th>\n",
              "      <th>url_shortened</th>\n",
              "      <th>phishing</th>\n",
              "    </tr>\n",
              "  </thead>\n",
              "  <tbody>\n",
              "    <tr>\n",
              "      <th>0</th>\n",
              "      <td>3</td>\n",
              "      <td>0</td>\n",
              "      <td>0</td>\n",
              "      <td>1</td>\n",
              "      <td>0</td>\n",
              "      <td>0</td>\n",
              "      <td>0</td>\n",
              "      <td>0</td>\n",
              "      <td>0</td>\n",
              "      <td>0</td>\n",
              "      <td>0</td>\n",
              "      <td>0</td>\n",
              "      <td>0</td>\n",
              "      <td>0</td>\n",
              "      <td>0</td>\n",
              "      <td>0</td>\n",
              "      <td>0</td>\n",
              "      <td>1</td>\n",
              "      <td>25</td>\n",
              "      <td>2</td>\n",
              "      <td>0</td>\n",
              "      <td>0</td>\n",
              "      <td>0</td>\n",
              "      <td>0</td>\n",
              "      <td>0</td>\n",
              "      <td>0</td>\n",
              "      <td>0</td>\n",
              "      <td>0</td>\n",
              "      <td>0</td>\n",
              "      <td>0</td>\n",
              "      <td>0</td>\n",
              "      <td>0</td>\n",
              "      <td>0</td>\n",
              "      <td>0</td>\n",
              "      <td>0</td>\n",
              "      <td>0</td>\n",
              "      <td>4</td>\n",
              "      <td>17</td>\n",
              "      <td>0</td>\n",
              "      <td>0</td>\n",
              "      <td>...</td>\n",
              "      <td>0</td>\n",
              "      <td>0</td>\n",
              "      <td>0</td>\n",
              "      <td>7</td>\n",
              "      <td>-1</td>\n",
              "      <td>-1</td>\n",
              "      <td>-1</td>\n",
              "      <td>-1</td>\n",
              "      <td>-1</td>\n",
              "      <td>-1</td>\n",
              "      <td>-1</td>\n",
              "      <td>-1</td>\n",
              "      <td>-1</td>\n",
              "      <td>-1</td>\n",
              "      <td>-1</td>\n",
              "      <td>-1</td>\n",
              "      <td>-1</td>\n",
              "      <td>-1</td>\n",
              "      <td>-1</td>\n",
              "      <td>-1</td>\n",
              "      <td>-1</td>\n",
              "      <td>-1</td>\n",
              "      <td>-1</td>\n",
              "      <td>-1</td>\n",
              "      <td>0</td>\n",
              "      <td>0.207316</td>\n",
              "      <td>0</td>\n",
              "      <td>60781</td>\n",
              "      <td>-1</td>\n",
              "      <td>-1</td>\n",
              "      <td>1</td>\n",
              "      <td>2</td>\n",
              "      <td>0</td>\n",
              "      <td>892</td>\n",
              "      <td>0</td>\n",
              "      <td>0</td>\n",
              "      <td>0</td>\n",
              "      <td>0</td>\n",
              "      <td>0</td>\n",
              "      <td>1</td>\n",
              "    </tr>\n",
              "    <tr>\n",
              "      <th>1</th>\n",
              "      <td>5</td>\n",
              "      <td>0</td>\n",
              "      <td>1</td>\n",
              "      <td>3</td>\n",
              "      <td>0</td>\n",
              "      <td>3</td>\n",
              "      <td>0</td>\n",
              "      <td>2</td>\n",
              "      <td>0</td>\n",
              "      <td>0</td>\n",
              "      <td>0</td>\n",
              "      <td>0</td>\n",
              "      <td>0</td>\n",
              "      <td>0</td>\n",
              "      <td>0</td>\n",
              "      <td>0</td>\n",
              "      <td>0</td>\n",
              "      <td>3</td>\n",
              "      <td>223</td>\n",
              "      <td>2</td>\n",
              "      <td>0</td>\n",
              "      <td>0</td>\n",
              "      <td>0</td>\n",
              "      <td>0</td>\n",
              "      <td>0</td>\n",
              "      <td>0</td>\n",
              "      <td>0</td>\n",
              "      <td>0</td>\n",
              "      <td>0</td>\n",
              "      <td>0</td>\n",
              "      <td>0</td>\n",
              "      <td>0</td>\n",
              "      <td>0</td>\n",
              "      <td>0</td>\n",
              "      <td>0</td>\n",
              "      <td>0</td>\n",
              "      <td>5</td>\n",
              "      <td>16</td>\n",
              "      <td>0</td>\n",
              "      <td>0</td>\n",
              "      <td>...</td>\n",
              "      <td>0</td>\n",
              "      <td>0</td>\n",
              "      <td>0</td>\n",
              "      <td>9</td>\n",
              "      <td>0</td>\n",
              "      <td>0</td>\n",
              "      <td>1</td>\n",
              "      <td>0</td>\n",
              "      <td>0</td>\n",
              "      <td>3</td>\n",
              "      <td>0</td>\n",
              "      <td>2</td>\n",
              "      <td>0</td>\n",
              "      <td>0</td>\n",
              "      <td>0</td>\n",
              "      <td>0</td>\n",
              "      <td>0</td>\n",
              "      <td>0</td>\n",
              "      <td>0</td>\n",
              "      <td>0</td>\n",
              "      <td>0</td>\n",
              "      <td>165</td>\n",
              "      <td>0</td>\n",
              "      <td>3</td>\n",
              "      <td>0</td>\n",
              "      <td>0.499566</td>\n",
              "      <td>-1</td>\n",
              "      <td>36024</td>\n",
              "      <td>579</td>\n",
              "      <td>150</td>\n",
              "      <td>1</td>\n",
              "      <td>2</td>\n",
              "      <td>1</td>\n",
              "      <td>9540</td>\n",
              "      <td>1</td>\n",
              "      <td>0</td>\n",
              "      <td>0</td>\n",
              "      <td>0</td>\n",
              "      <td>0</td>\n",
              "      <td>1</td>\n",
              "    </tr>\n",
              "    <tr>\n",
              "      <th>2</th>\n",
              "      <td>2</td>\n",
              "      <td>0</td>\n",
              "      <td>0</td>\n",
              "      <td>1</td>\n",
              "      <td>0</td>\n",
              "      <td>0</td>\n",
              "      <td>0</td>\n",
              "      <td>0</td>\n",
              "      <td>0</td>\n",
              "      <td>0</td>\n",
              "      <td>0</td>\n",
              "      <td>0</td>\n",
              "      <td>0</td>\n",
              "      <td>0</td>\n",
              "      <td>0</td>\n",
              "      <td>0</td>\n",
              "      <td>0</td>\n",
              "      <td>1</td>\n",
              "      <td>15</td>\n",
              "      <td>2</td>\n",
              "      <td>0</td>\n",
              "      <td>0</td>\n",
              "      <td>0</td>\n",
              "      <td>0</td>\n",
              "      <td>0</td>\n",
              "      <td>0</td>\n",
              "      <td>0</td>\n",
              "      <td>0</td>\n",
              "      <td>0</td>\n",
              "      <td>0</td>\n",
              "      <td>0</td>\n",
              "      <td>0</td>\n",
              "      <td>0</td>\n",
              "      <td>0</td>\n",
              "      <td>0</td>\n",
              "      <td>0</td>\n",
              "      <td>3</td>\n",
              "      <td>14</td>\n",
              "      <td>0</td>\n",
              "      <td>0</td>\n",
              "      <td>...</td>\n",
              "      <td>0</td>\n",
              "      <td>0</td>\n",
              "      <td>0</td>\n",
              "      <td>0</td>\n",
              "      <td>-1</td>\n",
              "      <td>-1</td>\n",
              "      <td>-1</td>\n",
              "      <td>-1</td>\n",
              "      <td>-1</td>\n",
              "      <td>-1</td>\n",
              "      <td>-1</td>\n",
              "      <td>-1</td>\n",
              "      <td>-1</td>\n",
              "      <td>-1</td>\n",
              "      <td>-1</td>\n",
              "      <td>-1</td>\n",
              "      <td>-1</td>\n",
              "      <td>-1</td>\n",
              "      <td>-1</td>\n",
              "      <td>-1</td>\n",
              "      <td>-1</td>\n",
              "      <td>-1</td>\n",
              "      <td>-1</td>\n",
              "      <td>-1</td>\n",
              "      <td>0</td>\n",
              "      <td>0.935901</td>\n",
              "      <td>0</td>\n",
              "      <td>4766</td>\n",
              "      <td>-1</td>\n",
              "      <td>-1</td>\n",
              "      <td>1</td>\n",
              "      <td>2</td>\n",
              "      <td>3</td>\n",
              "      <td>589</td>\n",
              "      <td>1</td>\n",
              "      <td>0</td>\n",
              "      <td>0</td>\n",
              "      <td>0</td>\n",
              "      <td>0</td>\n",
              "      <td>0</td>\n",
              "    </tr>\n",
              "    <tr>\n",
              "      <th>3</th>\n",
              "      <td>4</td>\n",
              "      <td>0</td>\n",
              "      <td>2</td>\n",
              "      <td>5</td>\n",
              "      <td>0</td>\n",
              "      <td>0</td>\n",
              "      <td>0</td>\n",
              "      <td>0</td>\n",
              "      <td>0</td>\n",
              "      <td>0</td>\n",
              "      <td>0</td>\n",
              "      <td>0</td>\n",
              "      <td>0</td>\n",
              "      <td>0</td>\n",
              "      <td>0</td>\n",
              "      <td>0</td>\n",
              "      <td>0</td>\n",
              "      <td>1</td>\n",
              "      <td>81</td>\n",
              "      <td>2</td>\n",
              "      <td>0</td>\n",
              "      <td>0</td>\n",
              "      <td>0</td>\n",
              "      <td>0</td>\n",
              "      <td>0</td>\n",
              "      <td>0</td>\n",
              "      <td>0</td>\n",
              "      <td>0</td>\n",
              "      <td>0</td>\n",
              "      <td>0</td>\n",
              "      <td>0</td>\n",
              "      <td>0</td>\n",
              "      <td>0</td>\n",
              "      <td>0</td>\n",
              "      <td>0</td>\n",
              "      <td>0</td>\n",
              "      <td>7</td>\n",
              "      <td>19</td>\n",
              "      <td>0</td>\n",
              "      <td>0</td>\n",
              "      <td>...</td>\n",
              "      <td>0</td>\n",
              "      <td>0</td>\n",
              "      <td>0</td>\n",
              "      <td>9</td>\n",
              "      <td>-1</td>\n",
              "      <td>-1</td>\n",
              "      <td>-1</td>\n",
              "      <td>-1</td>\n",
              "      <td>-1</td>\n",
              "      <td>-1</td>\n",
              "      <td>-1</td>\n",
              "      <td>-1</td>\n",
              "      <td>-1</td>\n",
              "      <td>-1</td>\n",
              "      <td>-1</td>\n",
              "      <td>-1</td>\n",
              "      <td>-1</td>\n",
              "      <td>-1</td>\n",
              "      <td>-1</td>\n",
              "      <td>-1</td>\n",
              "      <td>-1</td>\n",
              "      <td>-1</td>\n",
              "      <td>-1</td>\n",
              "      <td>-1</td>\n",
              "      <td>0</td>\n",
              "      <td>0.410021</td>\n",
              "      <td>0</td>\n",
              "      <td>20454</td>\n",
              "      <td>-1</td>\n",
              "      <td>-1</td>\n",
              "      <td>1</td>\n",
              "      <td>2</td>\n",
              "      <td>0</td>\n",
              "      <td>292</td>\n",
              "      <td>1</td>\n",
              "      <td>0</td>\n",
              "      <td>0</td>\n",
              "      <td>0</td>\n",
              "      <td>0</td>\n",
              "      <td>1</td>\n",
              "    </tr>\n",
              "    <tr>\n",
              "      <th>4</th>\n",
              "      <td>2</td>\n",
              "      <td>0</td>\n",
              "      <td>0</td>\n",
              "      <td>0</td>\n",
              "      <td>0</td>\n",
              "      <td>0</td>\n",
              "      <td>0</td>\n",
              "      <td>0</td>\n",
              "      <td>0</td>\n",
              "      <td>0</td>\n",
              "      <td>0</td>\n",
              "      <td>0</td>\n",
              "      <td>0</td>\n",
              "      <td>0</td>\n",
              "      <td>0</td>\n",
              "      <td>0</td>\n",
              "      <td>0</td>\n",
              "      <td>1</td>\n",
              "      <td>19</td>\n",
              "      <td>2</td>\n",
              "      <td>0</td>\n",
              "      <td>0</td>\n",
              "      <td>0</td>\n",
              "      <td>0</td>\n",
              "      <td>0</td>\n",
              "      <td>0</td>\n",
              "      <td>0</td>\n",
              "      <td>0</td>\n",
              "      <td>0</td>\n",
              "      <td>0</td>\n",
              "      <td>0</td>\n",
              "      <td>0</td>\n",
              "      <td>0</td>\n",
              "      <td>0</td>\n",
              "      <td>0</td>\n",
              "      <td>0</td>\n",
              "      <td>5</td>\n",
              "      <td>19</td>\n",
              "      <td>0</td>\n",
              "      <td>0</td>\n",
              "      <td>...</td>\n",
              "      <td>-1</td>\n",
              "      <td>-1</td>\n",
              "      <td>-1</td>\n",
              "      <td>-1</td>\n",
              "      <td>-1</td>\n",
              "      <td>-1</td>\n",
              "      <td>-1</td>\n",
              "      <td>-1</td>\n",
              "      <td>-1</td>\n",
              "      <td>-1</td>\n",
              "      <td>-1</td>\n",
              "      <td>-1</td>\n",
              "      <td>-1</td>\n",
              "      <td>-1</td>\n",
              "      <td>-1</td>\n",
              "      <td>-1</td>\n",
              "      <td>-1</td>\n",
              "      <td>-1</td>\n",
              "      <td>-1</td>\n",
              "      <td>-1</td>\n",
              "      <td>-1</td>\n",
              "      <td>-1</td>\n",
              "      <td>-1</td>\n",
              "      <td>-1</td>\n",
              "      <td>0</td>\n",
              "      <td>0.410761</td>\n",
              "      <td>0</td>\n",
              "      <td>53831</td>\n",
              "      <td>6998</td>\n",
              "      <td>306</td>\n",
              "      <td>1</td>\n",
              "      <td>2</td>\n",
              "      <td>1</td>\n",
              "      <td>3597</td>\n",
              "      <td>0</td>\n",
              "      <td>1</td>\n",
              "      <td>0</td>\n",
              "      <td>0</td>\n",
              "      <td>0</td>\n",
              "      <td>0</td>\n",
              "    </tr>\n",
              "  </tbody>\n",
              "</table>\n",
              "<p>5 rows × 112 columns</p>\n",
              "</div>"
            ],
            "text/plain": [
              "   qty_dot_url  qty_hyphen_url  ...  url_shortened  phishing\n",
              "0            3               0  ...              0         1\n",
              "1            5               0  ...              0         1\n",
              "2            2               0  ...              0         0\n",
              "3            4               0  ...              0         1\n",
              "4            2               0  ...              0         0\n",
              "\n",
              "[5 rows x 112 columns]"
            ]
          },
          "metadata": {
            "tags": []
          },
          "execution_count": 4
        }
      ]
    },
    {
      "cell_type": "code",
      "metadata": {
        "colab": {
          "base_uri": "https://localhost:8080/",
          "height": 224
        },
        "id": "1PQ4dcaouS2L",
        "outputId": "db3733f9-f691-4c7d-bd2b-7ca2f64a66af"
      },
      "source": [
        "y = full_df['phishing']\n",
        "\n",
        "features_table1 = ['qty_dot_url', 'qty_hyphen_url', 'qty_underline_url', 'qty_slash_url', 'qty_questionmark_url', 'qty_equal_url',\n",
        "                   'qty_at_url', 'qty_and_url', 'qty_exclamation_url', 'qty_space_url', 'qty_tilde_url', 'qty_comma_url',\n",
        "                   'qty_plus_url', 'qty_asterisk_url', 'qty_hashtag_url', 'qty_dollar_url', 'qty_percent_url', 'qty_tld_url',\n",
        "                   'length_url', 'email_in_url'] \n",
        "\n",
        "X = full_df[features_table1]\n",
        "\n",
        "train_X, val_X, train_y, val_y = train_test_split(X, y, random_state=808)\n",
        "\n",
        "train_X.head()"
      ],
      "execution_count": null,
      "outputs": [
        {
          "output_type": "execute_result",
          "data": {
            "text/html": [
              "<div>\n",
              "<style scoped>\n",
              "    .dataframe tbody tr th:only-of-type {\n",
              "        vertical-align: middle;\n",
              "    }\n",
              "\n",
              "    .dataframe tbody tr th {\n",
              "        vertical-align: top;\n",
              "    }\n",
              "\n",
              "    .dataframe thead th {\n",
              "        text-align: right;\n",
              "    }\n",
              "</style>\n",
              "<table border=\"1\" class=\"dataframe\">\n",
              "  <thead>\n",
              "    <tr style=\"text-align: right;\">\n",
              "      <th></th>\n",
              "      <th>qty_dot_url</th>\n",
              "      <th>qty_hyphen_url</th>\n",
              "      <th>qty_underline_url</th>\n",
              "      <th>qty_slash_url</th>\n",
              "      <th>qty_questionmark_url</th>\n",
              "      <th>qty_equal_url</th>\n",
              "      <th>qty_at_url</th>\n",
              "      <th>qty_and_url</th>\n",
              "      <th>qty_exclamation_url</th>\n",
              "      <th>qty_space_url</th>\n",
              "      <th>qty_tilde_url</th>\n",
              "      <th>qty_comma_url</th>\n",
              "      <th>qty_plus_url</th>\n",
              "      <th>qty_asterisk_url</th>\n",
              "      <th>qty_hashtag_url</th>\n",
              "      <th>qty_dollar_url</th>\n",
              "      <th>qty_percent_url</th>\n",
              "      <th>qty_tld_url</th>\n",
              "      <th>length_url</th>\n",
              "      <th>email_in_url</th>\n",
              "    </tr>\n",
              "  </thead>\n",
              "  <tbody>\n",
              "    <tr>\n",
              "      <th>5676</th>\n",
              "      <td>1</td>\n",
              "      <td>0</td>\n",
              "      <td>0</td>\n",
              "      <td>1</td>\n",
              "      <td>0</td>\n",
              "      <td>0</td>\n",
              "      <td>0</td>\n",
              "      <td>0</td>\n",
              "      <td>0</td>\n",
              "      <td>0</td>\n",
              "      <td>0</td>\n",
              "      <td>0</td>\n",
              "      <td>0</td>\n",
              "      <td>0</td>\n",
              "      <td>0</td>\n",
              "      <td>0</td>\n",
              "      <td>0</td>\n",
              "      <td>1</td>\n",
              "      <td>11</td>\n",
              "      <td>0</td>\n",
              "    </tr>\n",
              "    <tr>\n",
              "      <th>39002</th>\n",
              "      <td>3</td>\n",
              "      <td>0</td>\n",
              "      <td>0</td>\n",
              "      <td>0</td>\n",
              "      <td>0</td>\n",
              "      <td>0</td>\n",
              "      <td>0</td>\n",
              "      <td>0</td>\n",
              "      <td>0</td>\n",
              "      <td>0</td>\n",
              "      <td>0</td>\n",
              "      <td>0</td>\n",
              "      <td>0</td>\n",
              "      <td>0</td>\n",
              "      <td>0</td>\n",
              "      <td>0</td>\n",
              "      <td>0</td>\n",
              "      <td>1</td>\n",
              "      <td>13</td>\n",
              "      <td>0</td>\n",
              "    </tr>\n",
              "    <tr>\n",
              "      <th>1732</th>\n",
              "      <td>2</td>\n",
              "      <td>0</td>\n",
              "      <td>0</td>\n",
              "      <td>0</td>\n",
              "      <td>0</td>\n",
              "      <td>0</td>\n",
              "      <td>0</td>\n",
              "      <td>0</td>\n",
              "      <td>0</td>\n",
              "      <td>0</td>\n",
              "      <td>0</td>\n",
              "      <td>0</td>\n",
              "      <td>0</td>\n",
              "      <td>0</td>\n",
              "      <td>0</td>\n",
              "      <td>0</td>\n",
              "      <td>0</td>\n",
              "      <td>1</td>\n",
              "      <td>16</td>\n",
              "      <td>0</td>\n",
              "    </tr>\n",
              "    <tr>\n",
              "      <th>39668</th>\n",
              "      <td>2</td>\n",
              "      <td>0</td>\n",
              "      <td>0</td>\n",
              "      <td>0</td>\n",
              "      <td>0</td>\n",
              "      <td>0</td>\n",
              "      <td>0</td>\n",
              "      <td>0</td>\n",
              "      <td>0</td>\n",
              "      <td>0</td>\n",
              "      <td>0</td>\n",
              "      <td>0</td>\n",
              "      <td>0</td>\n",
              "      <td>0</td>\n",
              "      <td>0</td>\n",
              "      <td>0</td>\n",
              "      <td>0</td>\n",
              "      <td>1</td>\n",
              "      <td>26</td>\n",
              "      <td>0</td>\n",
              "    </tr>\n",
              "    <tr>\n",
              "      <th>82035</th>\n",
              "      <td>2</td>\n",
              "      <td>0</td>\n",
              "      <td>0</td>\n",
              "      <td>0</td>\n",
              "      <td>0</td>\n",
              "      <td>0</td>\n",
              "      <td>0</td>\n",
              "      <td>0</td>\n",
              "      <td>0</td>\n",
              "      <td>0</td>\n",
              "      <td>0</td>\n",
              "      <td>0</td>\n",
              "      <td>0</td>\n",
              "      <td>0</td>\n",
              "      <td>0</td>\n",
              "      <td>0</td>\n",
              "      <td>0</td>\n",
              "      <td>1</td>\n",
              "      <td>28</td>\n",
              "      <td>0</td>\n",
              "    </tr>\n",
              "  </tbody>\n",
              "</table>\n",
              "</div>"
            ],
            "text/plain": [
              "       qty_dot_url  qty_hyphen_url  ...  length_url  email_in_url\n",
              "5676             1               0  ...          11             0\n",
              "39002            3               0  ...          13             0\n",
              "1732             2               0  ...          16             0\n",
              "39668            2               0  ...          26             0\n",
              "82035            2               0  ...          28             0\n",
              "\n",
              "[5 rows x 20 columns]"
            ]
          },
          "metadata": {
            "tags": []
          },
          "execution_count": 5
        }
      ]
    },
    {
      "cell_type": "code",
      "metadata": {
        "colab": {
          "base_uri": "https://localhost:8080/"
        },
        "id": "EUauU02l2iFe",
        "outputId": "59ad402b-6934-4d5f-b8bb-bbf96eb3d633"
      },
      "source": [
        "X.shape"
      ],
      "execution_count": null,
      "outputs": [
        {
          "output_type": "execute_result",
          "data": {
            "text/plain": [
              "(88647, 20)"
            ]
          },
          "metadata": {
            "tags": []
          },
          "execution_count": 6
        }
      ]
    },
    {
      "cell_type": "code",
      "metadata": {
        "colab": {
          "base_uri": "https://localhost:8080/"
        },
        "id": "gJOmc70xD-JA",
        "outputId": "826fa642-597a-4632-d69b-39ec31d54057"
      },
      "source": [
        "len(val_y)"
      ],
      "execution_count": null,
      "outputs": [
        {
          "output_type": "execute_result",
          "data": {
            "text/plain": [
              "22162"
            ]
          },
          "metadata": {
            "tags": []
          },
          "execution_count": 20
        }
      ]
    },
    {
      "cell_type": "code",
      "metadata": {
        "colab": {
          "base_uri": "https://localhost:8080/"
        },
        "id": "FK3H5IUFD3OP",
        "outputId": "f90979c0-f3ef-43cf-b4f7-f53166c51fa8"
      },
      "source": [
        "len(val_y[val_y == 1])"
      ],
      "execution_count": null,
      "outputs": [
        {
          "output_type": "execute_result",
          "data": {
            "text/plain": [
              "7643"
            ]
          },
          "metadata": {
            "tags": []
          },
          "execution_count": 19
        }
      ]
    },
    {
      "cell_type": "code",
      "metadata": {
        "colab": {
          "base_uri": "https://localhost:8080/"
        },
        "id": "hmUoE4BhD3LT",
        "outputId": "7d8862c9-3bc5-4eae-bd59-773e1a0b5469"
      },
      "source": [
        "len(val_y) - len(val_y[val_y == 1])"
      ],
      "execution_count": null,
      "outputs": [
        {
          "output_type": "execute_result",
          "data": {
            "text/plain": [
              "14519"
            ]
          },
          "metadata": {
            "tags": []
          },
          "execution_count": 23
        }
      ]
    },
    {
      "cell_type": "code",
      "metadata": {
        "colab": {
          "base_uri": "https://localhost:8080/"
        },
        "id": "H6e0-t4tEYSc",
        "outputId": "ef2af082-fc1b-4a65-da90-f4525eb3a89e"
      },
      "source": [
        "len(full_df[full_df.phishing == 1])"
      ],
      "execution_count": null,
      "outputs": [
        {
          "output_type": "execute_result",
          "data": {
            "text/plain": [
              "30647"
            ]
          },
          "metadata": {
            "tags": []
          },
          "execution_count": 24
        }
      ]
    },
    {
      "cell_type": "code",
      "metadata": {
        "colab": {
          "base_uri": "https://localhost:8080/"
        },
        "id": "Tvx3vTAIEjgM",
        "outputId": "5a03e852-c51b-467a-f60b-654174da3b68"
      },
      "source": [
        "len(train_y[train_y == 1])"
      ],
      "execution_count": null,
      "outputs": [
        {
          "output_type": "execute_result",
          "data": {
            "text/plain": [
              "23004"
            ]
          },
          "metadata": {
            "tags": []
          },
          "execution_count": 26
        }
      ]
    },
    {
      "cell_type": "code",
      "metadata": {
        "colab": {
          "base_uri": "https://localhost:8080/"
        },
        "id": "a40ljKGSEjd-",
        "outputId": "a6fbba69-5233-45a0-9cf4-f11eb0636bf8"
      },
      "source": [
        "len(train_y)"
      ],
      "execution_count": null,
      "outputs": [
        {
          "output_type": "execute_result",
          "data": {
            "text/plain": [
              "66485"
            ]
          },
          "metadata": {
            "tags": []
          },
          "execution_count": 27
        }
      ]
    },
    {
      "cell_type": "markdown",
      "metadata": {
        "id": "DCeaSAZQET_a"
      },
      "source": [
        "#### train_test_split did well\n",
        "#### full dataset is ~ 34% phishing URLs; validation and train sets both have ~34% phishing URLs"
      ]
    },
    {
      "cell_type": "markdown",
      "metadata": {
        "id": "zxnR5BBuFPbd"
      },
      "source": [
        "### neural net - build/fit/predict"
      ]
    },
    {
      "cell_type": "code",
      "metadata": {
        "colab": {
          "base_uri": "https://localhost:8080/"
        },
        "id": "6JybKWkn1U8i",
        "outputId": "6011b968-2919-449c-f2e3-9a992d72b9d4"
      },
      "source": [
        "tf.keras.backend.clear_session()\n",
        "\n",
        "#neural net\n",
        "\n",
        "table1_nn = keras.Sequential([\n",
        "                          layers.InputLayer(input_shape=[20]),\n",
        "                          layers.Dense(units=64, activation='relu'),\n",
        "                          layers.Dropout(0.2),\n",
        "                          layers.Dense(units=64, activation='relu'),\n",
        "                          layers.Dropout(0.2),\n",
        "                          layers.Dense(units=50, activation='relu'),\n",
        "                          layers.Dropout(0.20),\n",
        "                          layers.Dense(units=32, activation='relu'),\n",
        "                          layers.Dropout(0.2),\n",
        "                          layers.Dense(units=32, activation='relu'),\n",
        "                          layers.Dropout(0.2),\n",
        "                          layers.Dense(units=16, activation='relu'),\n",
        "                          layers.Dropout(0.40),\n",
        "                          layers.Dense(units=16, activation='relu'),\n",
        "                          layers.Dropout(0.40),\n",
        "                          layers.Dense(units=20, activation='relu'),\n",
        "                          layers.Flatten(),\n",
        "                          layers.Dense(units=1, activation='sigmoid')\n",
        "])\n",
        "\n",
        "table1_nn.compile(\n",
        "    optimizer='adam',\n",
        "    loss='binary_crossentropy',\n",
        "    metrics=[tf.keras.metrics.BinaryAccuracy(), \n",
        "             tf.keras.metrics.AUC(),\n",
        "             ]\n",
        ")\n",
        "\n",
        "earlystopping = callbacks.EarlyStopping(monitor = 'val_binary_accuracy', mode = 'max',\n",
        "                                       patience = 25, restore_best_weights = True)\n",
        "\n",
        "\n",
        "table1_nn.summary()"
      ],
      "execution_count": null,
      "outputs": [
        {
          "output_type": "stream",
          "text": [
            "Model: \"sequential\"\n",
            "_________________________________________________________________\n",
            "Layer (type)                 Output Shape              Param #   \n",
            "=================================================================\n",
            "dense (Dense)                (None, 64)                1344      \n",
            "_________________________________________________________________\n",
            "dropout (Dropout)            (None, 64)                0         \n",
            "_________________________________________________________________\n",
            "dense_1 (Dense)              (None, 64)                4160      \n",
            "_________________________________________________________________\n",
            "dropout_1 (Dropout)          (None, 64)                0         \n",
            "_________________________________________________________________\n",
            "dense_2 (Dense)              (None, 50)                3250      \n",
            "_________________________________________________________________\n",
            "dropout_2 (Dropout)          (None, 50)                0         \n",
            "_________________________________________________________________\n",
            "dense_3 (Dense)              (None, 32)                1632      \n",
            "_________________________________________________________________\n",
            "dropout_3 (Dropout)          (None, 32)                0         \n",
            "_________________________________________________________________\n",
            "dense_4 (Dense)              (None, 32)                1056      \n",
            "_________________________________________________________________\n",
            "dropout_4 (Dropout)          (None, 32)                0         \n",
            "_________________________________________________________________\n",
            "dense_5 (Dense)              (None, 16)                528       \n",
            "_________________________________________________________________\n",
            "dropout_5 (Dropout)          (None, 16)                0         \n",
            "_________________________________________________________________\n",
            "dense_6 (Dense)              (None, 16)                272       \n",
            "_________________________________________________________________\n",
            "dropout_6 (Dropout)          (None, 16)                0         \n",
            "_________________________________________________________________\n",
            "dense_7 (Dense)              (None, 20)                340       \n",
            "_________________________________________________________________\n",
            "flatten (Flatten)            (None, 20)                0         \n",
            "_________________________________________________________________\n",
            "dense_8 (Dense)              (None, 1)                 21        \n",
            "=================================================================\n",
            "Total params: 12,603\n",
            "Trainable params: 12,603\n",
            "Non-trainable params: 0\n",
            "_________________________________________________________________\n"
          ],
          "name": "stdout"
        }
      ]
    },
    {
      "cell_type": "code",
      "metadata": {
        "colab": {
          "base_uri": "https://localhost:8080/"
        },
        "id": "evPK4SLp1U6a",
        "outputId": "f7ed52d8-7e5a-47a6-8679-f57e2932a987"
      },
      "source": [
        "history = table1_nn.fit(train_X, train_y, validation_split=0.30, batch_size= 15, epochs=500, callbacks = [earlystopping])"
      ],
      "execution_count": null,
      "outputs": [
        {
          "output_type": "stream",
          "text": [
            "Epoch 1/500\n",
            "3103/3103 [==============================] - 11s 3ms/step - loss: 0.4536 - binary_accuracy: 0.8006 - auc: 0.8579 - val_loss: 0.2818 - val_binary_accuracy: 0.8934 - val_auc: 0.9532\n",
            "Epoch 2/500\n",
            "3103/3103 [==============================] - 9s 3ms/step - loss: 0.2808 - binary_accuracy: 0.8788 - auc: 0.9435 - val_loss: 0.3032 - val_binary_accuracy: 0.8870 - val_auc: 0.9547\n",
            "Epoch 3/500\n",
            "3103/3103 [==============================] - 9s 3ms/step - loss: 0.2680 - binary_accuracy: 0.8826 - auc: 0.9482 - val_loss: 0.2559 - val_binary_accuracy: 0.8934 - val_auc: 0.9585\n",
            "Epoch 4/500\n",
            "3103/3103 [==============================] - 10s 3ms/step - loss: 0.2602 - binary_accuracy: 0.8847 - auc: 0.9509 - val_loss: 0.2552 - val_binary_accuracy: 0.8932 - val_auc: 0.9574\n",
            "Epoch 5/500\n",
            "3103/3103 [==============================] - 10s 3ms/step - loss: 0.2585 - binary_accuracy: 0.8857 - auc: 0.9514 - val_loss: 0.2635 - val_binary_accuracy: 0.8939 - val_auc: 0.9591\n",
            "Epoch 6/500\n",
            "3103/3103 [==============================] - 9s 3ms/step - loss: 0.2526 - binary_accuracy: 0.8887 - auc: 0.9535 - val_loss: 0.2413 - val_binary_accuracy: 0.8975 - val_auc: 0.9611\n",
            "Epoch 7/500\n",
            "3103/3103 [==============================] - 10s 3ms/step - loss: 0.2565 - binary_accuracy: 0.8884 - auc: 0.9521 - val_loss: 0.2498 - val_binary_accuracy: 0.8926 - val_auc: 0.9603\n",
            "Epoch 8/500\n",
            "3103/3103 [==============================] - 9s 3ms/step - loss: 0.2476 - binary_accuracy: 0.8926 - auc: 0.9557 - val_loss: 0.2509 - val_binary_accuracy: 0.9004 - val_auc: 0.9634\n",
            "Epoch 9/500\n",
            "3103/3103 [==============================] - 9s 3ms/step - loss: 0.2510 - binary_accuracy: 0.8918 - auc: 0.9537 - val_loss: 0.2527 - val_binary_accuracy: 0.8972 - val_auc: 0.9612\n",
            "Epoch 10/500\n",
            "3103/3103 [==============================] - 10s 3ms/step - loss: 0.2480 - binary_accuracy: 0.8939 - auc: 0.9551 - val_loss: 0.2524 - val_binary_accuracy: 0.9013 - val_auc: 0.9627\n",
            "Epoch 11/500\n",
            "3103/3103 [==============================] - 10s 3ms/step - loss: 0.2481 - binary_accuracy: 0.8936 - auc: 0.9556 - val_loss: 0.2556 - val_binary_accuracy: 0.8947 - val_auc: 0.9629\n",
            "Epoch 12/500\n",
            "3103/3103 [==============================] - 9s 3ms/step - loss: 0.2474 - binary_accuracy: 0.8940 - auc: 0.9568 - val_loss: 0.2380 - val_binary_accuracy: 0.8963 - val_auc: 0.9609\n",
            "Epoch 13/500\n",
            "3103/3103 [==============================] - 10s 3ms/step - loss: 0.2481 - binary_accuracy: 0.8914 - auc: 0.9552 - val_loss: 0.2423 - val_binary_accuracy: 0.8986 - val_auc: 0.9632\n",
            "Epoch 14/500\n",
            "3103/3103 [==============================] - 9s 3ms/step - loss: 0.2477 - binary_accuracy: 0.8934 - auc: 0.9555 - val_loss: 0.2388 - val_binary_accuracy: 0.8975 - val_auc: 0.9627\n",
            "Epoch 15/500\n",
            "3103/3103 [==============================] - 9s 3ms/step - loss: 0.2447 - binary_accuracy: 0.8947 - auc: 0.9561 - val_loss: 0.2457 - val_binary_accuracy: 0.8956 - val_auc: 0.9629\n",
            "Epoch 16/500\n",
            "3103/3103 [==============================] - 10s 3ms/step - loss: 0.2479 - binary_accuracy: 0.8962 - auc: 0.9549 - val_loss: 0.2545 - val_binary_accuracy: 0.8935 - val_auc: 0.9632\n",
            "Epoch 17/500\n",
            "3103/3103 [==============================] - 9s 3ms/step - loss: 0.2427 - binary_accuracy: 0.8968 - auc: 0.9570 - val_loss: 0.2473 - val_binary_accuracy: 0.8927 - val_auc: 0.9624\n",
            "Epoch 18/500\n",
            "3103/3103 [==============================] - 9s 3ms/step - loss: 0.2430 - binary_accuracy: 0.8955 - auc: 0.9569 - val_loss: 0.2319 - val_binary_accuracy: 0.9002 - val_auc: 0.9637\n",
            "Epoch 19/500\n",
            "3103/3103 [==============================] - 10s 3ms/step - loss: 0.2426 - binary_accuracy: 0.8963 - auc: 0.9569 - val_loss: 0.2460 - val_binary_accuracy: 0.8976 - val_auc: 0.9634\n",
            "Epoch 20/500\n",
            "3103/3103 [==============================] - 10s 3ms/step - loss: 0.2382 - binary_accuracy: 0.8970 - auc: 0.9579 - val_loss: 0.2468 - val_binary_accuracy: 0.8869 - val_auc: 0.9626\n",
            "Epoch 21/500\n",
            "3103/3103 [==============================] - 10s 3ms/step - loss: 0.2520 - binary_accuracy: 0.8911 - auc: 0.9544 - val_loss: 0.2588 - val_binary_accuracy: 0.8872 - val_auc: 0.9617\n",
            "Epoch 22/500\n",
            "3103/3103 [==============================] - 9s 3ms/step - loss: 0.2453 - binary_accuracy: 0.8976 - auc: 0.9561 - val_loss: 0.2350 - val_binary_accuracy: 0.9006 - val_auc: 0.9632\n",
            "Epoch 23/500\n",
            "3103/3103 [==============================] - 9s 3ms/step - loss: 0.2407 - binary_accuracy: 0.8966 - auc: 0.9575 - val_loss: 0.2342 - val_binary_accuracy: 0.8998 - val_auc: 0.9637\n",
            "Epoch 24/500\n",
            "3103/3103 [==============================] - 9s 3ms/step - loss: 0.2427 - binary_accuracy: 0.8964 - auc: 0.9579 - val_loss: 0.2434 - val_binary_accuracy: 0.8972 - val_auc: 0.9623\n",
            "Epoch 25/500\n",
            "3103/3103 [==============================] - 9s 3ms/step - loss: 0.2485 - binary_accuracy: 0.8971 - auc: 0.9547 - val_loss: 0.2315 - val_binary_accuracy: 0.9002 - val_auc: 0.9640\n",
            "Epoch 26/500\n",
            "3103/3103 [==============================] - 10s 3ms/step - loss: 0.2413 - binary_accuracy: 0.8950 - auc: 0.9576 - val_loss: 0.2382 - val_binary_accuracy: 0.8995 - val_auc: 0.9629\n",
            "Epoch 27/500\n",
            "3103/3103 [==============================] - 9s 3ms/step - loss: 0.2442 - binary_accuracy: 0.8945 - auc: 0.9560 - val_loss: 0.2280 - val_binary_accuracy: 0.9013 - val_auc: 0.9643\n",
            "Epoch 28/500\n",
            "3103/3103 [==============================] - 9s 3ms/step - loss: 0.2370 - binary_accuracy: 0.8990 - auc: 0.9591 - val_loss: 0.2363 - val_binary_accuracy: 0.9021 - val_auc: 0.9646\n",
            "Epoch 29/500\n",
            "3103/3103 [==============================] - 9s 3ms/step - loss: 0.2430 - binary_accuracy: 0.8972 - auc: 0.9575 - val_loss: 0.2568 - val_binary_accuracy: 0.8918 - val_auc: 0.9627\n",
            "Epoch 30/500\n",
            "3103/3103 [==============================] - 9s 3ms/step - loss: 0.2445 - binary_accuracy: 0.8962 - auc: 0.9565 - val_loss: 0.2290 - val_binary_accuracy: 0.9016 - val_auc: 0.9643\n",
            "Epoch 31/500\n",
            "3103/3103 [==============================] - 9s 3ms/step - loss: 0.2500 - binary_accuracy: 0.8943 - auc: 0.9550 - val_loss: 0.2463 - val_binary_accuracy: 0.8974 - val_auc: 0.9627\n",
            "Epoch 32/500\n",
            "3103/3103 [==============================] - 9s 3ms/step - loss: 0.2444 - binary_accuracy: 0.8954 - auc: 0.9562 - val_loss: 0.2345 - val_binary_accuracy: 0.8974 - val_auc: 0.9633\n",
            "Epoch 33/500\n",
            "3103/3103 [==============================] - 10s 3ms/step - loss: 0.2369 - binary_accuracy: 0.8966 - auc: 0.9586 - val_loss: 0.2326 - val_binary_accuracy: 0.9010 - val_auc: 0.9644\n",
            "Epoch 34/500\n",
            "3103/3103 [==============================] - 11s 4ms/step - loss: 0.2431 - binary_accuracy: 0.8972 - auc: 0.9571 - val_loss: 0.2302 - val_binary_accuracy: 0.9022 - val_auc: 0.9640\n",
            "Epoch 35/500\n",
            "3103/3103 [==============================] - 9s 3ms/step - loss: 0.2405 - binary_accuracy: 0.8978 - auc: 0.9581 - val_loss: 0.2291 - val_binary_accuracy: 0.9021 - val_auc: 0.9642\n",
            "Epoch 36/500\n",
            "3103/3103 [==============================] - 9s 3ms/step - loss: 0.2416 - binary_accuracy: 0.8958 - auc: 0.9579 - val_loss: 0.2610 - val_binary_accuracy: 0.8825 - val_auc: 0.9602\n",
            "Epoch 37/500\n",
            "3103/3103 [==============================] - 9s 3ms/step - loss: 0.2430 - binary_accuracy: 0.8988 - auc: 0.9569 - val_loss: 0.2334 - val_binary_accuracy: 0.8984 - val_auc: 0.9619\n",
            "Epoch 38/500\n",
            "3103/3103 [==============================] - 9s 3ms/step - loss: 0.2439 - binary_accuracy: 0.8977 - auc: 0.9563 - val_loss: 0.2436 - val_binary_accuracy: 0.8938 - val_auc: 0.9639\n",
            "Epoch 39/500\n",
            "3103/3103 [==============================] - 9s 3ms/step - loss: 0.2421 - binary_accuracy: 0.9001 - auc: 0.9574 - val_loss: 0.2556 - val_binary_accuracy: 0.8909 - val_auc: 0.9608\n",
            "Epoch 40/500\n",
            "3103/3103 [==============================] - 9s 3ms/step - loss: 0.2467 - binary_accuracy: 0.8951 - auc: 0.9555 - val_loss: 0.2447 - val_binary_accuracy: 0.8890 - val_auc: 0.9638\n",
            "Epoch 41/500\n",
            "3103/3103 [==============================] - 9s 3ms/step - loss: 0.2469 - binary_accuracy: 0.8952 - auc: 0.9559 - val_loss: 0.2461 - val_binary_accuracy: 0.8989 - val_auc: 0.9640\n",
            "Epoch 42/500\n",
            "3103/3103 [==============================] - 10s 3ms/step - loss: 0.2431 - binary_accuracy: 0.8973 - auc: 0.9573 - val_loss: 0.2411 - val_binary_accuracy: 0.8953 - val_auc: 0.9638\n",
            "Epoch 43/500\n",
            "3103/3103 [==============================] - 9s 3ms/step - loss: 0.2437 - binary_accuracy: 0.8941 - auc: 0.9572 - val_loss: 0.2402 - val_binary_accuracy: 0.8922 - val_auc: 0.9639\n",
            "Epoch 44/500\n",
            "3103/3103 [==============================] - 9s 3ms/step - loss: 0.2453 - binary_accuracy: 0.8951 - auc: 0.9565 - val_loss: 0.2394 - val_binary_accuracy: 0.8978 - val_auc: 0.9643\n",
            "Epoch 45/500\n",
            "3103/3103 [==============================] - 9s 3ms/step - loss: 0.2438 - binary_accuracy: 0.8971 - auc: 0.9562 - val_loss: 0.2337 - val_binary_accuracy: 0.8967 - val_auc: 0.9643\n",
            "Epoch 46/500\n",
            "3103/3103 [==============================] - 9s 3ms/step - loss: 0.2399 - binary_accuracy: 0.8983 - auc: 0.9577 - val_loss: 0.2436 - val_binary_accuracy: 0.8922 - val_auc: 0.9644\n",
            "Epoch 47/500\n",
            "3103/3103 [==============================] - 9s 3ms/step - loss: 0.2352 - binary_accuracy: 0.8996 - auc: 0.9601 - val_loss: 0.2357 - val_binary_accuracy: 0.8991 - val_auc: 0.9633\n",
            "Epoch 48/500\n",
            "3103/3103 [==============================] - 9s 3ms/step - loss: 0.2441 - binary_accuracy: 0.8994 - auc: 0.9572 - val_loss: 0.2308 - val_binary_accuracy: 0.9032 - val_auc: 0.9651\n",
            "Epoch 49/500\n",
            "3103/3103 [==============================] - 9s 3ms/step - loss: 0.2465 - binary_accuracy: 0.8956 - auc: 0.9560 - val_loss: 0.2352 - val_binary_accuracy: 0.8966 - val_auc: 0.9635\n",
            "Epoch 50/500\n",
            "3103/3103 [==============================] - 9s 3ms/step - loss: 0.2418 - binary_accuracy: 0.8959 - auc: 0.9569 - val_loss: 0.2447 - val_binary_accuracy: 0.8945 - val_auc: 0.9629\n",
            "Epoch 51/500\n",
            "3103/3103 [==============================] - 9s 3ms/step - loss: 0.2417 - binary_accuracy: 0.8991 - auc: 0.9585 - val_loss: 0.2309 - val_binary_accuracy: 0.9014 - val_auc: 0.9642\n",
            "Epoch 52/500\n",
            "3103/3103 [==============================] - 9s 3ms/step - loss: 0.2390 - binary_accuracy: 0.8994 - auc: 0.9584 - val_loss: 0.2453 - val_binary_accuracy: 0.8952 - val_auc: 0.9637\n",
            "Epoch 53/500\n",
            "3103/3103 [==============================] - 9s 3ms/step - loss: 0.2443 - binary_accuracy: 0.8960 - auc: 0.9573 - val_loss: 0.2366 - val_binary_accuracy: 0.8965 - val_auc: 0.9649\n",
            "Epoch 54/500\n",
            "3103/3103 [==============================] - 10s 3ms/step - loss: 0.2433 - binary_accuracy: 0.8973 - auc: 0.9577 - val_loss: 0.2440 - val_binary_accuracy: 0.8973 - val_auc: 0.9638\n",
            "Epoch 55/500\n",
            "3103/3103 [==============================] - 10s 3ms/step - loss: 0.2456 - binary_accuracy: 0.8950 - auc: 0.9568 - val_loss: 0.2419 - val_binary_accuracy: 0.9008 - val_auc: 0.9641\n",
            "Epoch 56/500\n",
            "3103/3103 [==============================] - 9s 3ms/step - loss: 0.2437 - binary_accuracy: 0.8983 - auc: 0.9574 - val_loss: 0.2328 - val_binary_accuracy: 0.9018 - val_auc: 0.9649\n",
            "Epoch 57/500\n",
            "3103/3103 [==============================] - 9s 3ms/step - loss: 0.2535 - binary_accuracy: 0.8920 - auc: 0.9529 - val_loss: 0.2391 - val_binary_accuracy: 0.8947 - val_auc: 0.9648\n",
            "Epoch 58/500\n",
            "3103/3103 [==============================] - 9s 3ms/step - loss: 0.2428 - binary_accuracy: 0.8986 - auc: 0.9573 - val_loss: 0.2250 - val_binary_accuracy: 0.9016 - val_auc: 0.9644\n",
            "Epoch 59/500\n",
            "3103/3103 [==============================] - 9s 3ms/step - loss: 0.2445 - binary_accuracy: 0.8946 - auc: 0.9572 - val_loss: 0.2322 - val_binary_accuracy: 0.8985 - val_auc: 0.9638\n",
            "Epoch 60/500\n",
            "3103/3103 [==============================] - 9s 3ms/step - loss: 0.2405 - binary_accuracy: 0.8959 - auc: 0.9586 - val_loss: 0.2332 - val_binary_accuracy: 0.8949 - val_auc: 0.9649\n",
            "Epoch 61/500\n",
            "3103/3103 [==============================] - 9s 3ms/step - loss: 0.2384 - binary_accuracy: 0.8954 - auc: 0.9589 - val_loss: 0.2335 - val_binary_accuracy: 0.9001 - val_auc: 0.9648\n",
            "Epoch 62/500\n",
            "3103/3103 [==============================] - 9s 3ms/step - loss: 0.2415 - binary_accuracy: 0.8972 - auc: 0.9579 - val_loss: 0.2301 - val_binary_accuracy: 0.8983 - val_auc: 0.9647\n",
            "Epoch 63/500\n",
            "3103/3103 [==============================] - 9s 3ms/step - loss: 0.2463 - binary_accuracy: 0.8964 - auc: 0.9558 - val_loss: 0.2424 - val_binary_accuracy: 0.8959 - val_auc: 0.9640\n",
            "Epoch 64/500\n",
            "3103/3103 [==============================] - 9s 3ms/step - loss: 0.2396 - binary_accuracy: 0.8983 - auc: 0.9586 - val_loss: 0.2341 - val_binary_accuracy: 0.8971 - val_auc: 0.9622\n",
            "Epoch 65/500\n",
            "3103/3103 [==============================] - 9s 3ms/step - loss: 0.2418 - binary_accuracy: 0.8968 - auc: 0.9575 - val_loss: 0.2333 - val_binary_accuracy: 0.9007 - val_auc: 0.9638\n",
            "Epoch 66/500\n",
            "3103/3103 [==============================] - 9s 3ms/step - loss: 0.2412 - binary_accuracy: 0.8988 - auc: 0.9579 - val_loss: 0.2380 - val_binary_accuracy: 0.8990 - val_auc: 0.9635\n",
            "Epoch 67/500\n",
            "3103/3103 [==============================] - 9s 3ms/step - loss: 0.2389 - binary_accuracy: 0.8968 - auc: 0.9585 - val_loss: 0.2399 - val_binary_accuracy: 0.8932 - val_auc: 0.9641\n",
            "Epoch 68/500\n",
            "3103/3103 [==============================] - 9s 3ms/step - loss: 0.2469 - binary_accuracy: 0.8933 - auc: 0.9553 - val_loss: 0.2296 - val_binary_accuracy: 0.8997 - val_auc: 0.9643\n",
            "Epoch 69/500\n",
            "3103/3103 [==============================] - 9s 3ms/step - loss: 0.2426 - binary_accuracy: 0.8989 - auc: 0.9570 - val_loss: 0.2511 - val_binary_accuracy: 0.8943 - val_auc: 0.9624\n",
            "Epoch 70/500\n",
            "3103/3103 [==============================] - 9s 3ms/step - loss: 0.2424 - binary_accuracy: 0.8985 - auc: 0.9568 - val_loss: 0.2315 - val_binary_accuracy: 0.8999 - val_auc: 0.9643\n",
            "Epoch 71/500\n",
            "3103/3103 [==============================] - 9s 3ms/step - loss: 0.2386 - binary_accuracy: 0.8994 - auc: 0.9580 - val_loss: 0.2289 - val_binary_accuracy: 0.8975 - val_auc: 0.9649\n",
            "Epoch 72/500\n",
            "3103/3103 [==============================] - 9s 3ms/step - loss: 0.2410 - binary_accuracy: 0.8992 - auc: 0.9582 - val_loss: 0.2328 - val_binary_accuracy: 0.8999 - val_auc: 0.9641\n",
            "Epoch 73/500\n",
            "3103/3103 [==============================] - 9s 3ms/step - loss: 0.2472 - binary_accuracy: 0.8972 - auc: 0.9558 - val_loss: 0.2335 - val_binary_accuracy: 0.9029 - val_auc: 0.9643\n"
          ],
          "name": "stdout"
        }
      ]
    },
    {
      "cell_type": "code",
      "metadata": {
        "colab": {
          "base_uri": "https://localhost:8080/",
          "height": 297
        },
        "id": "QEylyqAB1U4T",
        "outputId": "a6b84074-cfa0-42ee-99fb-85b8edfeab3d"
      },
      "source": [
        "history_df = pd.DataFrame(history.history)\n",
        "\n",
        "history_df.describe()"
      ],
      "execution_count": null,
      "outputs": [
        {
          "output_type": "execute_result",
          "data": {
            "text/html": [
              "<div>\n",
              "<style scoped>\n",
              "    .dataframe tbody tr th:only-of-type {\n",
              "        vertical-align: middle;\n",
              "    }\n",
              "\n",
              "    .dataframe tbody tr th {\n",
              "        vertical-align: top;\n",
              "    }\n",
              "\n",
              "    .dataframe thead th {\n",
              "        text-align: right;\n",
              "    }\n",
              "</style>\n",
              "<table border=\"1\" class=\"dataframe\">\n",
              "  <thead>\n",
              "    <tr style=\"text-align: right;\">\n",
              "      <th></th>\n",
              "      <th>loss</th>\n",
              "      <th>binary_accuracy</th>\n",
              "      <th>auc</th>\n",
              "      <th>val_loss</th>\n",
              "      <th>val_binary_accuracy</th>\n",
              "      <th>val_auc</th>\n",
              "    </tr>\n",
              "  </thead>\n",
              "  <tbody>\n",
              "    <tr>\n",
              "      <th>count</th>\n",
              "      <td>73.000000</td>\n",
              "      <td>73.000000</td>\n",
              "      <td>73.000000</td>\n",
              "      <td>73.000000</td>\n",
              "      <td>73.000000</td>\n",
              "      <td>73.000000</td>\n",
              "    </tr>\n",
              "    <tr>\n",
              "      <th>mean</th>\n",
              "      <td>0.247057</td>\n",
              "      <td>0.894750</td>\n",
              "      <td>0.955768</td>\n",
              "      <td>0.242002</td>\n",
              "      <td>0.896814</td>\n",
              "      <td>0.962967</td>\n",
              "    </tr>\n",
              "    <tr>\n",
              "      <th>std</th>\n",
              "      <td>0.015081</td>\n",
              "      <td>0.006491</td>\n",
              "      <td>0.005301</td>\n",
              "      <td>0.012573</td>\n",
              "      <td>0.004215</td>\n",
              "      <td>0.002158</td>\n",
              "    </tr>\n",
              "    <tr>\n",
              "      <th>min</th>\n",
              "      <td>0.239268</td>\n",
              "      <td>0.849094</td>\n",
              "      <td>0.915803</td>\n",
              "      <td>0.225008</td>\n",
              "      <td>0.882483</td>\n",
              "      <td>0.953179</td>\n",
              "    </tr>\n",
              "    <tr>\n",
              "      <th>25%</th>\n",
              "      <td>0.241858</td>\n",
              "      <td>0.894862</td>\n",
              "      <td>0.955860</td>\n",
              "      <td>0.233331</td>\n",
              "      <td>0.894265</td>\n",
              "      <td>0.962663</td>\n",
              "    </tr>\n",
              "    <tr>\n",
              "      <th>50%</th>\n",
              "      <td>0.243635</td>\n",
              "      <td>0.896474</td>\n",
              "      <td>0.957052</td>\n",
              "      <td>0.239446</td>\n",
              "      <td>0.897373</td>\n",
              "      <td>0.963684</td>\n",
              "    </tr>\n",
              "    <tr>\n",
              "      <th>75%</th>\n",
              "      <td>0.246978</td>\n",
              "      <td>0.897269</td>\n",
              "      <td>0.957553</td>\n",
              "      <td>0.246331</td>\n",
              "      <td>0.900130</td>\n",
              "      <td>0.964255</td>\n",
              "    </tr>\n",
              "    <tr>\n",
              "      <th>max</th>\n",
              "      <td>0.361627</td>\n",
              "      <td>0.898966</td>\n",
              "      <td>0.958707</td>\n",
              "      <td>0.303181</td>\n",
              "      <td>0.903239</td>\n",
              "      <td>0.965058</td>\n",
              "    </tr>\n",
              "  </tbody>\n",
              "</table>\n",
              "</div>"
            ],
            "text/plain": [
              "            loss  binary_accuracy  ...  val_binary_accuracy    val_auc\n",
              "count  73.000000        73.000000  ...            73.000000  73.000000\n",
              "mean    0.247057         0.894750  ...             0.896814   0.962967\n",
              "std     0.015081         0.006491  ...             0.004215   0.002158\n",
              "min     0.239268         0.849094  ...             0.882483   0.953179\n",
              "25%     0.241858         0.894862  ...             0.894265   0.962663\n",
              "50%     0.243635         0.896474  ...             0.897373   0.963684\n",
              "75%     0.246978         0.897269  ...             0.900130   0.964255\n",
              "max     0.361627         0.898966  ...             0.903239   0.965058\n",
              "\n",
              "[8 rows x 6 columns]"
            ]
          },
          "metadata": {
            "tags": []
          },
          "execution_count": 9
        }
      ]
    },
    {
      "cell_type": "code",
      "metadata": {
        "colab": {
          "base_uri": "https://localhost:8080/"
        },
        "id": "2rXapaDp1U2O",
        "outputId": "8512f086-5cbe-4587-f3e7-6bc7f419f622"
      },
      "source": [
        "train_acc = table1_nn.evaluate(train_X, train_y)\n",
        "test_acc = table1_nn.evaluate(val_X, val_y)"
      ],
      "execution_count": null,
      "outputs": [
        {
          "output_type": "stream",
          "text": [
            "2078/2078 [==============================] - 3s 1ms/step - loss: 0.2332 - binary_accuracy: 0.9023 - auc: 0.9646\n",
            "693/693 [==============================] - 1s 1ms/step - loss: 0.2360 - binary_accuracy: 0.9003 - auc: 0.9644\n"
          ],
          "name": "stdout"
        }
      ]
    },
    {
      "cell_type": "code",
      "metadata": {
        "colab": {
          "base_uri": "https://localhost:8080/"
        },
        "id": "5ADQEBa41Uz5",
        "outputId": "78e64f55-21da-4b02-cad2-05a2f1f67cb1"
      },
      "source": [
        "dict(zip(table1_nn.metrics_names, test_acc))"
      ],
      "execution_count": null,
      "outputs": [
        {
          "output_type": "execute_result",
          "data": {
            "text/plain": [
              "{'auc': 0.9643808603286743,\n",
              " 'binary_accuracy': 0.9002797603607178,\n",
              " 'loss': 0.23598067462444305}"
            ]
          },
          "metadata": {
            "tags": []
          },
          "execution_count": 11
        }
      ]
    },
    {
      "cell_type": "code",
      "metadata": {
        "colab": {
          "base_uri": "https://localhost:8080/",
          "height": 282
        },
        "id": "3UfuVOqb1xJ1",
        "outputId": "2fafb092-07be-4a70-8b6d-d2cd17d89709"
      },
      "source": [
        "history_df.loc[:, ['loss', 'val_loss']].plot();\n",
        "print(\"Minimum validation loss (binary_crossentropy): {}\".format(history_df['val_loss'].min()))"
      ],
      "execution_count": null,
      "outputs": [
        {
          "output_type": "stream",
          "text": [
            "Minimum validation loss (binary_crossentropy): 0.2250083088874817\n"
          ],
          "name": "stdout"
        },
        {
          "output_type": "display_data",
          "data": {
            "image/png": "[encoded data removed]",
            "text/plain": [
              "<Figure size 432x288 with 1 Axes>"
            ]
          },
          "metadata": {
            "tags": [],
            "needs_background": "light"
          }
        }
      ]
    },
    {
      "cell_type": "code",
      "metadata": {
        "colab": {
          "base_uri": "https://localhost:8080/",
          "height": 282
        },
        "id": "aT57qZ5W1xHc",
        "outputId": "c2e560cd-d945-4a02-bde9-eac34c855eef"
      },
      "source": [
        "history_df.loc[:, ['auc', 'val_auc']].plot();\n",
        "print(\"Maximum AUC: {}\".format(history_df['val_auc'].max()))"
      ],
      "execution_count": null,
      "outputs": [
        {
          "output_type": "stream",
          "text": [
            "Maximum AUC: 0.9650578498840332\n"
          ],
          "name": "stdout"
        },
        {
          "output_type": "display_data",
          "data": {
            "image/png": "[encoded data removed]",
            "text/plain": [
              "<Figure size 432x288 with 1 Axes>"
            ]
          },
          "metadata": {
            "tags": [],
            "needs_background": "light"
          }
        }
      ]
    },
    {
      "cell_type": "code",
      "metadata": {
        "colab": {
          "base_uri": "https://localhost:8080/",
          "height": 282
        },
        "id": "kOu5es-F1xE-",
        "outputId": "a20ec85c-e68b-42d2-a6d4-858d0f995cb6"
      },
      "source": [
        "history_df.loc[:, ['binary_accuracy', 'val_binary_accuracy']].plot();\n",
        "print(\"Maximum validation binary accuracy: {}\".format(history_df['val_binary_accuracy'].max()))"
      ],
      "execution_count": null,
      "outputs": [
        {
          "output_type": "stream",
          "text": [
            "Maximum validation binary accuracy: 0.9032387733459473\n"
          ],
          "name": "stdout"
        },
        {
          "output_type": "display_data",
          "data": {
            "image/png": "[encoded data removed]",
            "text/plain": [
              "<Figure size 432x288 with 1 Axes>"
            ]
          },
          "metadata": {
            "tags": [],
            "needs_background": "light"
          }
        }
      ]
    },
    {
      "cell_type": "code",
      "metadata": {
        "colab": {
          "base_uri": "https://localhost:8080/"
        },
        "id": "0Z1xGJNl1xCc",
        "outputId": "bcd1343c-ab55-44b0-a32a-09fdf102f326"
      },
      "source": [
        "preds1 = table1_nn.predict(val_X)\n",
        "preds1"
      ],
      "execution_count": null,
      "outputs": [
        {
          "output_type": "execute_result",
          "data": {
            "text/plain": [
              "array([[0.83254635],\n",
              "       [0.02845484],\n",
              "       [0.61256826],\n",
              "       ...,\n",
              "       [0.02411366],\n",
              "       [0.03616592],\n",
              "       [0.56627095]], dtype=float32)"
            ]
          },
          "metadata": {
            "tags": []
          },
          "execution_count": 15
        }
      ]
    },
    {
      "cell_type": "code",
      "metadata": {
        "colab": {
          "base_uri": "https://localhost:8080/"
        },
        "id": "VjJXhtRp1w-H",
        "outputId": "36ea6958-79a7-4fd5-fd80-91f632644516"
      },
      "source": [
        "len(preds1[preds1 < 0.5])"
      ],
      "execution_count": null,
      "outputs": [
        {
          "output_type": "execute_result",
          "data": {
            "text/plain": [
              "13579"
            ]
          },
          "metadata": {
            "tags": []
          },
          "execution_count": 16
        }
      ]
    },
    {
      "cell_type": "code",
      "metadata": {
        "colab": {
          "base_uri": "https://localhost:8080/"
        },
        "id": "lH9o4roL1-mQ",
        "outputId": "4cced6e6-c726-441a-df28-a6d0cc4d1eae"
      },
      "source": [
        "len(preds1[preds1 >= 0.5])"
      ],
      "execution_count": null,
      "outputs": [
        {
          "output_type": "execute_result",
          "data": {
            "text/plain": [
              "8583"
            ]
          },
          "metadata": {
            "tags": []
          },
          "execution_count": 17
        }
      ]
    },
    {
      "cell_type": "code",
      "metadata": {
        "colab": {
          "base_uri": "https://localhost:8080/"
        },
        "id": "JmjS9QFa2Amb",
        "outputId": "34af5e1f-0ce6-4dc0-beb7-83bbd0e9ee3a"
      },
      "source": [
        "len(val_y)"
      ],
      "execution_count": null,
      "outputs": [
        {
          "output_type": "execute_result",
          "data": {
            "text/plain": [
              "22162"
            ]
          },
          "metadata": {
            "tags": []
          },
          "execution_count": 18
        }
      ]
    }
  ]
}