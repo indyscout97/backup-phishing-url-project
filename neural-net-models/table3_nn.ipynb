{
  "nbformat": 4,
  "nbformat_minor": 0,
  "metadata": {
    "colab": {
      "name": "table3_nn.ipynb",
      "provenance": [],
      "collapsed_sections": []
    },
    "kernelspec": {
      "name": "python3",
      "display_name": "Python 3"
    },
    "language_info": {
      "name": "python"
    }
  },
  "cells": [
    {
      "cell_type": "markdown",
      "metadata": {
        "id": "AD-tbKBauWhl"
      },
      "source": [
        "# neural network on dataset attributes based on URL directory (table 3)\n",
        "\n",
        "### (18 features)"
      ]
    },
    {
      "cell_type": "code",
      "metadata": {
        "colab": {
          "base_uri": "https://localhost:8080/"
        },
        "id": "nh56fGcS00aE",
        "outputId": "3b5bf395-acaa-4090-f0dc-bd12f0b45abf"
      },
      "source": [
        "from keras.models import model_from_json\n",
        "import pandas as pd\n",
        "import numpy as np\n",
        "from sklearn.model_selection import train_test_split\n",
        "import sklearn as sk\n",
        "import matplotlib.pyplot as plt\n",
        "from tensorflow import keras\n",
        "from tensorflow.keras import layers\n",
        "import tensorflow as tf\n",
        "from tensorflow.keras import *\n",
        "from keras import callbacks\n",
        "from keras.utils.np_utils import *\n",
        "\n",
        "print(\"Done Loading\")\n"
      ],
      "execution_count": 1,
      "outputs": [
        {
          "output_type": "stream",
          "text": [
            "Done Loading\n"
          ],
          "name": "stdout"
        }
      ]
    },
    {
      "cell_type": "code",
      "metadata": {
        "colab": {
          "base_uri": "https://localhost:8080/",
          "height": 253
        },
        "id": "J4SOrq2500UM",
        "outputId": "d413da9d-0588-4524-cda2-7bd98e7716b9"
      },
      "source": [
        "full_df = pd.read_csv(\"https://raw.githubusercontent.com/jwaldroop/phishing-url-project/main/dataset_full.csv\")\n",
        "\n",
        "full_df.head()"
      ],
      "execution_count": 2,
      "outputs": [
        {
          "output_type": "execute_result",
          "data": {
            "text/html": [
              "<div>\n",
              "<style scoped>\n",
              "    .dataframe tbody tr th:only-of-type {\n",
              "        vertical-align: middle;\n",
              "    }\n",
              "\n",
              "    .dataframe tbody tr th {\n",
              "        vertical-align: top;\n",
              "    }\n",
              "\n",
              "    .dataframe thead th {\n",
              "        text-align: right;\n",
              "    }\n",
              "</style>\n",
              "<table border=\"1\" class=\"dataframe\">\n",
              "  <thead>\n",
              "    <tr style=\"text-align: right;\">\n",
              "      <th></th>\n",
              "      <th>qty_dot_url</th>\n",
              "      <th>qty_hyphen_url</th>\n",
              "      <th>qty_underline_url</th>\n",
              "      <th>qty_slash_url</th>\n",
              "      <th>qty_questionmark_url</th>\n",
              "      <th>qty_equal_url</th>\n",
              "      <th>qty_at_url</th>\n",
              "      <th>qty_and_url</th>\n",
              "      <th>qty_exclamation_url</th>\n",
              "      <th>qty_space_url</th>\n",
              "      <th>qty_tilde_url</th>\n",
              "      <th>qty_comma_url</th>\n",
              "      <th>qty_plus_url</th>\n",
              "      <th>qty_asterisk_url</th>\n",
              "      <th>qty_hashtag_url</th>\n",
              "      <th>qty_dollar_url</th>\n",
              "      <th>qty_percent_url</th>\n",
              "      <th>qty_tld_url</th>\n",
              "      <th>length_url</th>\n",
              "      <th>qty_dot_domain</th>\n",
              "      <th>qty_hyphen_domain</th>\n",
              "      <th>qty_underline_domain</th>\n",
              "      <th>qty_slash_domain</th>\n",
              "      <th>qty_questionmark_domain</th>\n",
              "      <th>qty_equal_domain</th>\n",
              "      <th>qty_at_domain</th>\n",
              "      <th>qty_and_domain</th>\n",
              "      <th>qty_exclamation_domain</th>\n",
              "      <th>qty_space_domain</th>\n",
              "      <th>qty_tilde_domain</th>\n",
              "      <th>qty_comma_domain</th>\n",
              "      <th>qty_plus_domain</th>\n",
              "      <th>qty_asterisk_domain</th>\n",
              "      <th>qty_hashtag_domain</th>\n",
              "      <th>qty_dollar_domain</th>\n",
              "      <th>qty_percent_domain</th>\n",
              "      <th>qty_vowels_domain</th>\n",
              "      <th>domain_length</th>\n",
              "      <th>domain_in_ip</th>\n",
              "      <th>server_client_domain</th>\n",
              "      <th>...</th>\n",
              "      <th>qty_hashtag_file</th>\n",
              "      <th>qty_dollar_file</th>\n",
              "      <th>qty_percent_file</th>\n",
              "      <th>file_length</th>\n",
              "      <th>qty_dot_params</th>\n",
              "      <th>qty_hyphen_params</th>\n",
              "      <th>qty_underline_params</th>\n",
              "      <th>qty_slash_params</th>\n",
              "      <th>qty_questionmark_params</th>\n",
              "      <th>qty_equal_params</th>\n",
              "      <th>qty_at_params</th>\n",
              "      <th>qty_and_params</th>\n",
              "      <th>qty_exclamation_params</th>\n",
              "      <th>qty_space_params</th>\n",
              "      <th>qty_tilde_params</th>\n",
              "      <th>qty_comma_params</th>\n",
              "      <th>qty_plus_params</th>\n",
              "      <th>qty_asterisk_params</th>\n",
              "      <th>qty_hashtag_params</th>\n",
              "      <th>qty_dollar_params</th>\n",
              "      <th>qty_percent_params</th>\n",
              "      <th>params_length</th>\n",
              "      <th>tld_present_params</th>\n",
              "      <th>qty_params</th>\n",
              "      <th>email_in_url</th>\n",
              "      <th>time_response</th>\n",
              "      <th>domain_spf</th>\n",
              "      <th>asn_ip</th>\n",
              "      <th>time_domain_activation</th>\n",
              "      <th>time_domain_expiration</th>\n",
              "      <th>qty_ip_resolved</th>\n",
              "      <th>qty_nameservers</th>\n",
              "      <th>qty_mx_servers</th>\n",
              "      <th>ttl_hostname</th>\n",
              "      <th>tls_ssl_certificate</th>\n",
              "      <th>qty_redirects</th>\n",
              "      <th>url_google_index</th>\n",
              "      <th>domain_google_index</th>\n",
              "      <th>url_shortened</th>\n",
              "      <th>phishing</th>\n",
              "    </tr>\n",
              "  </thead>\n",
              "  <tbody>\n",
              "    <tr>\n",
              "      <th>0</th>\n",
              "      <td>3</td>\n",
              "      <td>0</td>\n",
              "      <td>0</td>\n",
              "      <td>1</td>\n",
              "      <td>0</td>\n",
              "      <td>0</td>\n",
              "      <td>0</td>\n",
              "      <td>0</td>\n",
              "      <td>0</td>\n",
              "      <td>0</td>\n",
              "      <td>0</td>\n",
              "      <td>0</td>\n",
              "      <td>0</td>\n",
              "      <td>0</td>\n",
              "      <td>0</td>\n",
              "      <td>0</td>\n",
              "      <td>0</td>\n",
              "      <td>1</td>\n",
              "      <td>25</td>\n",
              "      <td>2</td>\n",
              "      <td>0</td>\n",
              "      <td>0</td>\n",
              "      <td>0</td>\n",
              "      <td>0</td>\n",
              "      <td>0</td>\n",
              "      <td>0</td>\n",
              "      <td>0</td>\n",
              "      <td>0</td>\n",
              "      <td>0</td>\n",
              "      <td>0</td>\n",
              "      <td>0</td>\n",
              "      <td>0</td>\n",
              "      <td>0</td>\n",
              "      <td>0</td>\n",
              "      <td>0</td>\n",
              "      <td>0</td>\n",
              "      <td>4</td>\n",
              "      <td>17</td>\n",
              "      <td>0</td>\n",
              "      <td>0</td>\n",
              "      <td>...</td>\n",
              "      <td>0</td>\n",
              "      <td>0</td>\n",
              "      <td>0</td>\n",
              "      <td>7</td>\n",
              "      <td>-1</td>\n",
              "      <td>-1</td>\n",
              "      <td>-1</td>\n",
              "      <td>-1</td>\n",
              "      <td>-1</td>\n",
              "      <td>-1</td>\n",
              "      <td>-1</td>\n",
              "      <td>-1</td>\n",
              "      <td>-1</td>\n",
              "      <td>-1</td>\n",
              "      <td>-1</td>\n",
              "      <td>-1</td>\n",
              "      <td>-1</td>\n",
              "      <td>-1</td>\n",
              "      <td>-1</td>\n",
              "      <td>-1</td>\n",
              "      <td>-1</td>\n",
              "      <td>-1</td>\n",
              "      <td>-1</td>\n",
              "      <td>-1</td>\n",
              "      <td>0</td>\n",
              "      <td>0.207316</td>\n",
              "      <td>0</td>\n",
              "      <td>60781</td>\n",
              "      <td>-1</td>\n",
              "      <td>-1</td>\n",
              "      <td>1</td>\n",
              "      <td>2</td>\n",
              "      <td>0</td>\n",
              "      <td>892</td>\n",
              "      <td>0</td>\n",
              "      <td>0</td>\n",
              "      <td>0</td>\n",
              "      <td>0</td>\n",
              "      <td>0</td>\n",
              "      <td>1</td>\n",
              "    </tr>\n",
              "    <tr>\n",
              "      <th>1</th>\n",
              "      <td>5</td>\n",
              "      <td>0</td>\n",
              "      <td>1</td>\n",
              "      <td>3</td>\n",
              "      <td>0</td>\n",
              "      <td>3</td>\n",
              "      <td>0</td>\n",
              "      <td>2</td>\n",
              "      <td>0</td>\n",
              "      <td>0</td>\n",
              "      <td>0</td>\n",
              "      <td>0</td>\n",
              "      <td>0</td>\n",
              "      <td>0</td>\n",
              "      <td>0</td>\n",
              "      <td>0</td>\n",
              "      <td>0</td>\n",
              "      <td>3</td>\n",
              "      <td>223</td>\n",
              "      <td>2</td>\n",
              "      <td>0</td>\n",
              "      <td>0</td>\n",
              "      <td>0</td>\n",
              "      <td>0</td>\n",
              "      <td>0</td>\n",
              "      <td>0</td>\n",
              "      <td>0</td>\n",
              "      <td>0</td>\n",
              "      <td>0</td>\n",
              "      <td>0</td>\n",
              "      <td>0</td>\n",
              "      <td>0</td>\n",
              "      <td>0</td>\n",
              "      <td>0</td>\n",
              "      <td>0</td>\n",
              "      <td>0</td>\n",
              "      <td>5</td>\n",
              "      <td>16</td>\n",
              "      <td>0</td>\n",
              "      <td>0</td>\n",
              "      <td>...</td>\n",
              "      <td>0</td>\n",
              "      <td>0</td>\n",
              "      <td>0</td>\n",
              "      <td>9</td>\n",
              "      <td>0</td>\n",
              "      <td>0</td>\n",
              "      <td>1</td>\n",
              "      <td>0</td>\n",
              "      <td>0</td>\n",
              "      <td>3</td>\n",
              "      <td>0</td>\n",
              "      <td>2</td>\n",
              "      <td>0</td>\n",
              "      <td>0</td>\n",
              "      <td>0</td>\n",
              "      <td>0</td>\n",
              "      <td>0</td>\n",
              "      <td>0</td>\n",
              "      <td>0</td>\n",
              "      <td>0</td>\n",
              "      <td>0</td>\n",
              "      <td>165</td>\n",
              "      <td>0</td>\n",
              "      <td>3</td>\n",
              "      <td>0</td>\n",
              "      <td>0.499566</td>\n",
              "      <td>-1</td>\n",
              "      <td>36024</td>\n",
              "      <td>579</td>\n",
              "      <td>150</td>\n",
              "      <td>1</td>\n",
              "      <td>2</td>\n",
              "      <td>1</td>\n",
              "      <td>9540</td>\n",
              "      <td>1</td>\n",
              "      <td>0</td>\n",
              "      <td>0</td>\n",
              "      <td>0</td>\n",
              "      <td>0</td>\n",
              "      <td>1</td>\n",
              "    </tr>\n",
              "    <tr>\n",
              "      <th>2</th>\n",
              "      <td>2</td>\n",
              "      <td>0</td>\n",
              "      <td>0</td>\n",
              "      <td>1</td>\n",
              "      <td>0</td>\n",
              "      <td>0</td>\n",
              "      <td>0</td>\n",
              "      <td>0</td>\n",
              "      <td>0</td>\n",
              "      <td>0</td>\n",
              "      <td>0</td>\n",
              "      <td>0</td>\n",
              "      <td>0</td>\n",
              "      <td>0</td>\n",
              "      <td>0</td>\n",
              "      <td>0</td>\n",
              "      <td>0</td>\n",
              "      <td>1</td>\n",
              "      <td>15</td>\n",
              "      <td>2</td>\n",
              "      <td>0</td>\n",
              "      <td>0</td>\n",
              "      <td>0</td>\n",
              "      <td>0</td>\n",
              "      <td>0</td>\n",
              "      <td>0</td>\n",
              "      <td>0</td>\n",
              "      <td>0</td>\n",
              "      <td>0</td>\n",
              "      <td>0</td>\n",
              "      <td>0</td>\n",
              "      <td>0</td>\n",
              "      <td>0</td>\n",
              "      <td>0</td>\n",
              "      <td>0</td>\n",
              "      <td>0</td>\n",
              "      <td>3</td>\n",
              "      <td>14</td>\n",
              "      <td>0</td>\n",
              "      <td>0</td>\n",
              "      <td>...</td>\n",
              "      <td>0</td>\n",
              "      <td>0</td>\n",
              "      <td>0</td>\n",
              "      <td>0</td>\n",
              "      <td>-1</td>\n",
              "      <td>-1</td>\n",
              "      <td>-1</td>\n",
              "      <td>-1</td>\n",
              "      <td>-1</td>\n",
              "      <td>-1</td>\n",
              "      <td>-1</td>\n",
              "      <td>-1</td>\n",
              "      <td>-1</td>\n",
              "      <td>-1</td>\n",
              "      <td>-1</td>\n",
              "      <td>-1</td>\n",
              "      <td>-1</td>\n",
              "      <td>-1</td>\n",
              "      <td>-1</td>\n",
              "      <td>-1</td>\n",
              "      <td>-1</td>\n",
              "      <td>-1</td>\n",
              "      <td>-1</td>\n",
              "      <td>-1</td>\n",
              "      <td>0</td>\n",
              "      <td>0.935901</td>\n",
              "      <td>0</td>\n",
              "      <td>4766</td>\n",
              "      <td>-1</td>\n",
              "      <td>-1</td>\n",
              "      <td>1</td>\n",
              "      <td>2</td>\n",
              "      <td>3</td>\n",
              "      <td>589</td>\n",
              "      <td>1</td>\n",
              "      <td>0</td>\n",
              "      <td>0</td>\n",
              "      <td>0</td>\n",
              "      <td>0</td>\n",
              "      <td>0</td>\n",
              "    </tr>\n",
              "    <tr>\n",
              "      <th>3</th>\n",
              "      <td>4</td>\n",
              "      <td>0</td>\n",
              "      <td>2</td>\n",
              "      <td>5</td>\n",
              "      <td>0</td>\n",
              "      <td>0</td>\n",
              "      <td>0</td>\n",
              "      <td>0</td>\n",
              "      <td>0</td>\n",
              "      <td>0</td>\n",
              "      <td>0</td>\n",
              "      <td>0</td>\n",
              "      <td>0</td>\n",
              "      <td>0</td>\n",
              "      <td>0</td>\n",
              "      <td>0</td>\n",
              "      <td>0</td>\n",
              "      <td>1</td>\n",
              "      <td>81</td>\n",
              "      <td>2</td>\n",
              "      <td>0</td>\n",
              "      <td>0</td>\n",
              "      <td>0</td>\n",
              "      <td>0</td>\n",
              "      <td>0</td>\n",
              "      <td>0</td>\n",
              "      <td>0</td>\n",
              "      <td>0</td>\n",
              "      <td>0</td>\n",
              "      <td>0</td>\n",
              "      <td>0</td>\n",
              "      <td>0</td>\n",
              "      <td>0</td>\n",
              "      <td>0</td>\n",
              "      <td>0</td>\n",
              "      <td>0</td>\n",
              "      <td>7</td>\n",
              "      <td>19</td>\n",
              "      <td>0</td>\n",
              "      <td>0</td>\n",
              "      <td>...</td>\n",
              "      <td>0</td>\n",
              "      <td>0</td>\n",
              "      <td>0</td>\n",
              "      <td>9</td>\n",
              "      <td>-1</td>\n",
              "      <td>-1</td>\n",
              "      <td>-1</td>\n",
              "      <td>-1</td>\n",
              "      <td>-1</td>\n",
              "      <td>-1</td>\n",
              "      <td>-1</td>\n",
              "      <td>-1</td>\n",
              "      <td>-1</td>\n",
              "      <td>-1</td>\n",
              "      <td>-1</td>\n",
              "      <td>-1</td>\n",
              "      <td>-1</td>\n",
              "      <td>-1</td>\n",
              "      <td>-1</td>\n",
              "      <td>-1</td>\n",
              "      <td>-1</td>\n",
              "      <td>-1</td>\n",
              "      <td>-1</td>\n",
              "      <td>-1</td>\n",
              "      <td>0</td>\n",
              "      <td>0.410021</td>\n",
              "      <td>0</td>\n",
              "      <td>20454</td>\n",
              "      <td>-1</td>\n",
              "      <td>-1</td>\n",
              "      <td>1</td>\n",
              "      <td>2</td>\n",
              "      <td>0</td>\n",
              "      <td>292</td>\n",
              "      <td>1</td>\n",
              "      <td>0</td>\n",
              "      <td>0</td>\n",
              "      <td>0</td>\n",
              "      <td>0</td>\n",
              "      <td>1</td>\n",
              "    </tr>\n",
              "    <tr>\n",
              "      <th>4</th>\n",
              "      <td>2</td>\n",
              "      <td>0</td>\n",
              "      <td>0</td>\n",
              "      <td>0</td>\n",
              "      <td>0</td>\n",
              "      <td>0</td>\n",
              "      <td>0</td>\n",
              "      <td>0</td>\n",
              "      <td>0</td>\n",
              "      <td>0</td>\n",
              "      <td>0</td>\n",
              "      <td>0</td>\n",
              "      <td>0</td>\n",
              "      <td>0</td>\n",
              "      <td>0</td>\n",
              "      <td>0</td>\n",
              "      <td>0</td>\n",
              "      <td>1</td>\n",
              "      <td>19</td>\n",
              "      <td>2</td>\n",
              "      <td>0</td>\n",
              "      <td>0</td>\n",
              "      <td>0</td>\n",
              "      <td>0</td>\n",
              "      <td>0</td>\n",
              "      <td>0</td>\n",
              "      <td>0</td>\n",
              "      <td>0</td>\n",
              "      <td>0</td>\n",
              "      <td>0</td>\n",
              "      <td>0</td>\n",
              "      <td>0</td>\n",
              "      <td>0</td>\n",
              "      <td>0</td>\n",
              "      <td>0</td>\n",
              "      <td>0</td>\n",
              "      <td>5</td>\n",
              "      <td>19</td>\n",
              "      <td>0</td>\n",
              "      <td>0</td>\n",
              "      <td>...</td>\n",
              "      <td>-1</td>\n",
              "      <td>-1</td>\n",
              "      <td>-1</td>\n",
              "      <td>-1</td>\n",
              "      <td>-1</td>\n",
              "      <td>-1</td>\n",
              "      <td>-1</td>\n",
              "      <td>-1</td>\n",
              "      <td>-1</td>\n",
              "      <td>-1</td>\n",
              "      <td>-1</td>\n",
              "      <td>-1</td>\n",
              "      <td>-1</td>\n",
              "      <td>-1</td>\n",
              "      <td>-1</td>\n",
              "      <td>-1</td>\n",
              "      <td>-1</td>\n",
              "      <td>-1</td>\n",
              "      <td>-1</td>\n",
              "      <td>-1</td>\n",
              "      <td>-1</td>\n",
              "      <td>-1</td>\n",
              "      <td>-1</td>\n",
              "      <td>-1</td>\n",
              "      <td>0</td>\n",
              "      <td>0.410761</td>\n",
              "      <td>0</td>\n",
              "      <td>53831</td>\n",
              "      <td>6998</td>\n",
              "      <td>306</td>\n",
              "      <td>1</td>\n",
              "      <td>2</td>\n",
              "      <td>1</td>\n",
              "      <td>3597</td>\n",
              "      <td>0</td>\n",
              "      <td>1</td>\n",
              "      <td>0</td>\n",
              "      <td>0</td>\n",
              "      <td>0</td>\n",
              "      <td>0</td>\n",
              "    </tr>\n",
              "  </tbody>\n",
              "</table>\n",
              "<p>5 rows × 112 columns</p>\n",
              "</div>"
            ],
            "text/plain": [
              "   qty_dot_url  qty_hyphen_url  ...  url_shortened  phishing\n",
              "0            3               0  ...              0         1\n",
              "1            5               0  ...              0         1\n",
              "2            2               0  ...              0         0\n",
              "3            4               0  ...              0         1\n",
              "4            2               0  ...              0         0\n",
              "\n",
              "[5 rows x 112 columns]"
            ]
          },
          "metadata": {
            "tags": []
          },
          "execution_count": 2
        }
      ]
    },
    {
      "cell_type": "code",
      "metadata": {
        "colab": {
          "base_uri": "https://localhost:8080/",
          "height": 224
        },
        "id": "1PQ4dcaouS2L",
        "outputId": "01f55d90-68bb-4a28-becb-ed146196242e"
      },
      "source": [
        "y = full_df['phishing']\n",
        "\n",
        "features_table1 = ['qty_dot_directory', 'qty_hyphen_directory', 'qty_underline_directory', 'qty_slash_directory', 'qty_questionmark_directory', 'qty_equal_directory', 'qty_at_directory', 'qty_and_directory',\n",
        "                   'qty_exclamation_directory', 'qty_space_directory', 'qty_tilde_directory', 'qty_comma_directory', 'qty_plus_directory', 'qty_asterisk_directory', 'qty_hashtag_directory', 'qty_dollar_directory',\n",
        "                   'qty_percent_directory', 'directory_length'] \n",
        "\n",
        "X = full_df[features_table1]\n",
        "\n",
        "train_X, val_X, train_y, val_y = train_test_split(X, y, random_state=808)\n",
        "\n",
        "train_X.head()"
      ],
      "execution_count": 3,
      "outputs": [
        {
          "output_type": "execute_result",
          "data": {
            "text/html": [
              "<div>\n",
              "<style scoped>\n",
              "    .dataframe tbody tr th:only-of-type {\n",
              "        vertical-align: middle;\n",
              "    }\n",
              "\n",
              "    .dataframe tbody tr th {\n",
              "        vertical-align: top;\n",
              "    }\n",
              "\n",
              "    .dataframe thead th {\n",
              "        text-align: right;\n",
              "    }\n",
              "</style>\n",
              "<table border=\"1\" class=\"dataframe\">\n",
              "  <thead>\n",
              "    <tr style=\"text-align: right;\">\n",
              "      <th></th>\n",
              "      <th>qty_dot_directory</th>\n",
              "      <th>qty_hyphen_directory</th>\n",
              "      <th>qty_underline_directory</th>\n",
              "      <th>qty_slash_directory</th>\n",
              "      <th>qty_questionmark_directory</th>\n",
              "      <th>qty_equal_directory</th>\n",
              "      <th>qty_at_directory</th>\n",
              "      <th>qty_and_directory</th>\n",
              "      <th>qty_exclamation_directory</th>\n",
              "      <th>qty_space_directory</th>\n",
              "      <th>qty_tilde_directory</th>\n",
              "      <th>qty_comma_directory</th>\n",
              "      <th>qty_plus_directory</th>\n",
              "      <th>qty_asterisk_directory</th>\n",
              "      <th>qty_hashtag_directory</th>\n",
              "      <th>qty_dollar_directory</th>\n",
              "      <th>qty_percent_directory</th>\n",
              "      <th>directory_length</th>\n",
              "    </tr>\n",
              "  </thead>\n",
              "  <tbody>\n",
              "    <tr>\n",
              "      <th>5676</th>\n",
              "      <td>0</td>\n",
              "      <td>0</td>\n",
              "      <td>0</td>\n",
              "      <td>1</td>\n",
              "      <td>0</td>\n",
              "      <td>0</td>\n",
              "      <td>0</td>\n",
              "      <td>0</td>\n",
              "      <td>0</td>\n",
              "      <td>0</td>\n",
              "      <td>0</td>\n",
              "      <td>0</td>\n",
              "      <td>0</td>\n",
              "      <td>0</td>\n",
              "      <td>0</td>\n",
              "      <td>0</td>\n",
              "      <td>0</td>\n",
              "      <td>1</td>\n",
              "    </tr>\n",
              "    <tr>\n",
              "      <th>39002</th>\n",
              "      <td>-1</td>\n",
              "      <td>-1</td>\n",
              "      <td>-1</td>\n",
              "      <td>-1</td>\n",
              "      <td>-1</td>\n",
              "      <td>-1</td>\n",
              "      <td>-1</td>\n",
              "      <td>-1</td>\n",
              "      <td>-1</td>\n",
              "      <td>-1</td>\n",
              "      <td>-1</td>\n",
              "      <td>-1</td>\n",
              "      <td>-1</td>\n",
              "      <td>-1</td>\n",
              "      <td>-1</td>\n",
              "      <td>-1</td>\n",
              "      <td>-1</td>\n",
              "      <td>-1</td>\n",
              "    </tr>\n",
              "    <tr>\n",
              "      <th>1732</th>\n",
              "      <td>-1</td>\n",
              "      <td>-1</td>\n",
              "      <td>-1</td>\n",
              "      <td>-1</td>\n",
              "      <td>-1</td>\n",
              "      <td>-1</td>\n",
              "      <td>-1</td>\n",
              "      <td>-1</td>\n",
              "      <td>-1</td>\n",
              "      <td>-1</td>\n",
              "      <td>-1</td>\n",
              "      <td>-1</td>\n",
              "      <td>-1</td>\n",
              "      <td>-1</td>\n",
              "      <td>-1</td>\n",
              "      <td>-1</td>\n",
              "      <td>-1</td>\n",
              "      <td>-1</td>\n",
              "    </tr>\n",
              "    <tr>\n",
              "      <th>39668</th>\n",
              "      <td>-1</td>\n",
              "      <td>-1</td>\n",
              "      <td>-1</td>\n",
              "      <td>-1</td>\n",
              "      <td>-1</td>\n",
              "      <td>-1</td>\n",
              "      <td>-1</td>\n",
              "      <td>-1</td>\n",
              "      <td>-1</td>\n",
              "      <td>-1</td>\n",
              "      <td>-1</td>\n",
              "      <td>-1</td>\n",
              "      <td>-1</td>\n",
              "      <td>-1</td>\n",
              "      <td>-1</td>\n",
              "      <td>-1</td>\n",
              "      <td>-1</td>\n",
              "      <td>-1</td>\n",
              "    </tr>\n",
              "    <tr>\n",
              "      <th>82035</th>\n",
              "      <td>-1</td>\n",
              "      <td>-1</td>\n",
              "      <td>-1</td>\n",
              "      <td>-1</td>\n",
              "      <td>-1</td>\n",
              "      <td>-1</td>\n",
              "      <td>-1</td>\n",
              "      <td>-1</td>\n",
              "      <td>-1</td>\n",
              "      <td>-1</td>\n",
              "      <td>-1</td>\n",
              "      <td>-1</td>\n",
              "      <td>-1</td>\n",
              "      <td>-1</td>\n",
              "      <td>-1</td>\n",
              "      <td>-1</td>\n",
              "      <td>-1</td>\n",
              "      <td>-1</td>\n",
              "    </tr>\n",
              "  </tbody>\n",
              "</table>\n",
              "</div>"
            ],
            "text/plain": [
              "       qty_dot_directory  ...  directory_length\n",
              "5676                   0  ...                 1\n",
              "39002                 -1  ...                -1\n",
              "1732                  -1  ...                -1\n",
              "39668                 -1  ...                -1\n",
              "82035                 -1  ...                -1\n",
              "\n",
              "[5 rows x 18 columns]"
            ]
          },
          "metadata": {
            "tags": []
          },
          "execution_count": 3
        }
      ]
    },
    {
      "cell_type": "code",
      "metadata": {
        "colab": {
          "base_uri": "https://localhost:8080/"
        },
        "id": "EUauU02l2iFe",
        "outputId": "3b492824-91c5-46b4-a023-0e0c30bdb604"
      },
      "source": [
        "X.shape"
      ],
      "execution_count": 4,
      "outputs": [
        {
          "output_type": "execute_result",
          "data": {
            "text/plain": [
              "(88647, 18)"
            ]
          },
          "metadata": {
            "tags": []
          },
          "execution_count": 4
        }
      ]
    },
    {
      "cell_type": "code",
      "metadata": {
        "colab": {
          "base_uri": "https://localhost:8080/"
        },
        "id": "6JybKWkn1U8i",
        "outputId": "ebcaa121-0316-4e9d-c020-4aab8ab4d3a3"
      },
      "source": [
        "tf.keras.backend.clear_session()\n",
        "\n",
        "#neural net\n",
        "\n",
        "table3_nn = keras.Sequential([\n",
        "                          layers.InputLayer(input_shape=[18]),\n",
        "                          layers.Dense(units=64, activation='relu'),\n",
        "                          layers.Dropout(0.2),\n",
        "                          layers.Dense(units=64, activation='relu'),\n",
        "                          layers.Dropout(0.2),\n",
        "                          layers.Dense(units=50, activation='relu'),\n",
        "                          layers.Dropout(0.20),\n",
        "                          layers.Dense(units=32, activation='relu'),\n",
        "                          layers.Dropout(0.2),\n",
        "                          layers.Dense(units=32, activation='relu'),\n",
        "                          layers.Dropout(0.2),\n",
        "                          layers.Dense(units=16, activation='relu'),\n",
        "                          layers.Dropout(0.40),\n",
        "                          layers.Dense(units=16, activation='relu'),\n",
        "                          layers.Dropout(0.40),\n",
        "                          layers.Dense(units=111, activation='relu'),\n",
        "                          layers.Flatten(),\n",
        "                          layers.Dense(units=1, activation='sigmoid')\n",
        "])\n",
        "\n",
        "table3_nn.compile(\n",
        "    optimizer='adam',\n",
        "    loss='binary_crossentropy',\n",
        "    metrics=[tf.keras.metrics.BinaryAccuracy(threshold=0.5), \n",
        "             tf.keras.metrics.AUC(),\n",
        "             ]\n",
        ")\n",
        "\n",
        "earlystopping = callbacks.EarlyStopping(monitor = 'val_binary_accuracy', mode = 'max',\n",
        "                                       patience = 25, restore_best_weights = True)\n",
        "\n",
        "\n",
        "table3_nn.summary()"
      ],
      "execution_count": 5,
      "outputs": [
        {
          "output_type": "stream",
          "text": [
            "Model: \"sequential\"\n",
            "_________________________________________________________________\n",
            "Layer (type)                 Output Shape              Param #   \n",
            "=================================================================\n",
            "dense (Dense)                (None, 64)                1216      \n",
            "_________________________________________________________________\n",
            "dropout (Dropout)            (None, 64)                0         \n",
            "_________________________________________________________________\n",
            "dense_1 (Dense)              (None, 64)                4160      \n",
            "_________________________________________________________________\n",
            "dropout_1 (Dropout)          (None, 64)                0         \n",
            "_________________________________________________________________\n",
            "dense_2 (Dense)              (None, 50)                3250      \n",
            "_________________________________________________________________\n",
            "dropout_2 (Dropout)          (None, 50)                0         \n",
            "_________________________________________________________________\n",
            "dense_3 (Dense)              (None, 32)                1632      \n",
            "_________________________________________________________________\n",
            "dropout_3 (Dropout)          (None, 32)                0         \n",
            "_________________________________________________________________\n",
            "dense_4 (Dense)              (None, 32)                1056      \n",
            "_________________________________________________________________\n",
            "dropout_4 (Dropout)          (None, 32)                0         \n",
            "_________________________________________________________________\n",
            "dense_5 (Dense)              (None, 16)                528       \n",
            "_________________________________________________________________\n",
            "dropout_5 (Dropout)          (None, 16)                0         \n",
            "_________________________________________________________________\n",
            "dense_6 (Dense)              (None, 16)                272       \n",
            "_________________________________________________________________\n",
            "dropout_6 (Dropout)          (None, 16)                0         \n",
            "_________________________________________________________________\n",
            "dense_7 (Dense)              (None, 111)               1887      \n",
            "_________________________________________________________________\n",
            "flatten (Flatten)            (None, 111)               0         \n",
            "_________________________________________________________________\n",
            "dense_8 (Dense)              (None, 1)                 112       \n",
            "=================================================================\n",
            "Total params: 14,113\n",
            "Trainable params: 14,113\n",
            "Non-trainable params: 0\n",
            "_________________________________________________________________\n"
          ],
          "name": "stdout"
        }
      ]
    },
    {
      "cell_type": "code",
      "metadata": {
        "colab": {
          "base_uri": "https://localhost:8080/"
        },
        "id": "evPK4SLp1U6a",
        "outputId": "29b04464-5dc8-436a-8700-6db0c77706ff"
      },
      "source": [
        "history = table3_nn.fit(train_X, train_y, validation_split=0.30, batch_size= 15, epochs=500, callbacks = [earlystopping])"
      ],
      "execution_count": 6,
      "outputs": [
        {
          "output_type": "stream",
          "text": [
            "Epoch 1/500\n",
            "3103/3103 [==============================] - 11s 3ms/step - loss: 0.3780 - binary_accuracy: 0.8509 - auc: 0.9105 - val_loss: 0.3207 - val_binary_accuracy: 0.8784 - val_auc: 0.9510\n",
            "Epoch 2/500\n",
            "3103/3103 [==============================] - 9s 3ms/step - loss: 0.2724 - binary_accuracy: 0.8802 - auc: 0.9438 - val_loss: 0.3179 - val_binary_accuracy: 0.8798 - val_auc: 0.9509\n",
            "Epoch 3/500\n",
            "3103/3103 [==============================] - 9s 3ms/step - loss: 0.2668 - binary_accuracy: 0.8859 - auc: 0.9465 - val_loss: 0.2967 - val_binary_accuracy: 0.8869 - val_auc: 0.9510\n",
            "Epoch 4/500\n",
            "3103/3103 [==============================] - 9s 3ms/step - loss: 0.2648 - binary_accuracy: 0.8885 - auc: 0.9469 - val_loss: 0.2924 - val_binary_accuracy: 0.8896 - val_auc: 0.9513\n",
            "Epoch 5/500\n",
            "3103/3103 [==============================] - 9s 3ms/step - loss: 0.2625 - binary_accuracy: 0.8872 - auc: 0.9472 - val_loss: 0.2794 - val_binary_accuracy: 0.8940 - val_auc: 0.9515\n",
            "Epoch 6/500\n",
            "3103/3103 [==============================] - 9s 3ms/step - loss: 0.2632 - binary_accuracy: 0.8888 - auc: 0.9460 - val_loss: 0.2661 - val_binary_accuracy: 0.8929 - val_auc: 0.9518\n",
            "Epoch 7/500\n",
            "3103/3103 [==============================] - 10s 3ms/step - loss: 0.2595 - binary_accuracy: 0.8912 - auc: 0.9476 - val_loss: 0.2804 - val_binary_accuracy: 0.8900 - val_auc: 0.9476\n",
            "Epoch 8/500\n",
            "3103/3103 [==============================] - 10s 3ms/step - loss: 0.2659 - binary_accuracy: 0.8923 - auc: 0.9454 - val_loss: 0.2592 - val_binary_accuracy: 0.8962 - val_auc: 0.9524\n",
            "Epoch 9/500\n",
            "3103/3103 [==============================] - 10s 3ms/step - loss: 0.2574 - binary_accuracy: 0.8914 - auc: 0.9486 - val_loss: 0.2519 - val_binary_accuracy: 0.8957 - val_auc: 0.9526\n",
            "Epoch 10/500\n",
            "3103/3103 [==============================] - 10s 3ms/step - loss: 0.2583 - binary_accuracy: 0.8951 - auc: 0.9473 - val_loss: 0.2532 - val_binary_accuracy: 0.8953 - val_auc: 0.9526\n",
            "Epoch 11/500\n",
            "3103/3103 [==============================] - 10s 3ms/step - loss: 0.2607 - binary_accuracy: 0.8920 - auc: 0.9481 - val_loss: 0.2843 - val_binary_accuracy: 0.8867 - val_auc: 0.9526\n",
            "Epoch 12/500\n",
            "3103/3103 [==============================] - 10s 3ms/step - loss: 0.2629 - binary_accuracy: 0.8903 - auc: 0.9463 - val_loss: 0.2601 - val_binary_accuracy: 0.8929 - val_auc: 0.9524\n",
            "Epoch 13/500\n",
            "3103/3103 [==============================] - 10s 3ms/step - loss: 0.2620 - binary_accuracy: 0.8910 - auc: 0.9460 - val_loss: 0.2576 - val_binary_accuracy: 0.8971 - val_auc: 0.9518\n",
            "Epoch 14/500\n",
            "3103/3103 [==============================] - 10s 3ms/step - loss: 0.2593 - binary_accuracy: 0.8944 - auc: 0.9472 - val_loss: 0.2599 - val_binary_accuracy: 0.8958 - val_auc: 0.9531\n",
            "Epoch 15/500\n",
            "3103/3103 [==============================] - 10s 3ms/step - loss: 0.2610 - binary_accuracy: 0.8933 - auc: 0.9474 - val_loss: 0.2568 - val_binary_accuracy: 0.8954 - val_auc: 0.9528\n",
            "Epoch 16/500\n",
            "3103/3103 [==============================] - 10s 3ms/step - loss: 0.2598 - binary_accuracy: 0.8920 - auc: 0.9479 - val_loss: 0.2693 - val_binary_accuracy: 0.8964 - val_auc: 0.9527\n",
            "Epoch 17/500\n",
            "3103/3103 [==============================] - 10s 3ms/step - loss: 0.2548 - binary_accuracy: 0.8944 - auc: 0.9498 - val_loss: 0.2602 - val_binary_accuracy: 0.8963 - val_auc: 0.9527\n",
            "Epoch 18/500\n",
            "3103/3103 [==============================] - 10s 3ms/step - loss: 0.2558 - binary_accuracy: 0.8952 - auc: 0.9497 - val_loss: 0.2577 - val_binary_accuracy: 0.8970 - val_auc: 0.9535\n",
            "Epoch 19/500\n",
            "3103/3103 [==============================] - 10s 3ms/step - loss: 0.2589 - binary_accuracy: 0.8938 - auc: 0.9490 - val_loss: 0.2546 - val_binary_accuracy: 0.8969 - val_auc: 0.9516\n",
            "Epoch 20/500\n",
            "3103/3103 [==============================] - 10s 3ms/step - loss: 0.2621 - binary_accuracy: 0.8933 - auc: 0.9468 - val_loss: 0.2643 - val_binary_accuracy: 0.8972 - val_auc: 0.9530\n",
            "Epoch 21/500\n",
            "3103/3103 [==============================] - 10s 3ms/step - loss: 0.2574 - binary_accuracy: 0.8946 - auc: 0.9487 - val_loss: 0.2683 - val_binary_accuracy: 0.8963 - val_auc: 0.9526\n",
            "Epoch 22/500\n",
            "3103/3103 [==============================] - 10s 3ms/step - loss: 0.2585 - binary_accuracy: 0.8941 - auc: 0.9487 - val_loss: 0.2613 - val_binary_accuracy: 0.8972 - val_auc: 0.9522\n",
            "Epoch 23/500\n",
            "3103/3103 [==============================] - 10s 3ms/step - loss: 0.2553 - binary_accuracy: 0.8957 - auc: 0.9499 - val_loss: 0.2536 - val_binary_accuracy: 0.8972 - val_auc: 0.9530\n",
            "Epoch 24/500\n",
            "3103/3103 [==============================] - 10s 3ms/step - loss: 0.2600 - binary_accuracy: 0.8930 - auc: 0.9477 - val_loss: 0.2613 - val_binary_accuracy: 0.8969 - val_auc: 0.9522\n",
            "Epoch 25/500\n",
            "3103/3103 [==============================] - 10s 3ms/step - loss: 0.2553 - binary_accuracy: 0.8951 - auc: 0.9496 - val_loss: 0.2569 - val_binary_accuracy: 0.8970 - val_auc: 0.9534\n",
            "Epoch 26/500\n",
            "3103/3103 [==============================] - 10s 3ms/step - loss: 0.2552 - binary_accuracy: 0.8977 - auc: 0.9495 - val_loss: 0.2629 - val_binary_accuracy: 0.8947 - val_auc: 0.9517\n",
            "Epoch 27/500\n",
            "3103/3103 [==============================] - 10s 3ms/step - loss: 0.2580 - binary_accuracy: 0.8950 - auc: 0.9496 - val_loss: 0.2558 - val_binary_accuracy: 0.8975 - val_auc: 0.9532\n",
            "Epoch 28/500\n",
            "3103/3103 [==============================] - 10s 3ms/step - loss: 0.2575 - binary_accuracy: 0.8937 - auc: 0.9493 - val_loss: 0.2635 - val_binary_accuracy: 0.8966 - val_auc: 0.9517\n",
            "Epoch 29/500\n",
            "3103/3103 [==============================] - 10s 3ms/step - loss: 0.2613 - binary_accuracy: 0.8929 - auc: 0.9476 - val_loss: 0.2571 - val_binary_accuracy: 0.8976 - val_auc: 0.9536\n",
            "Epoch 30/500\n",
            "3103/3103 [==============================] - 10s 3ms/step - loss: 0.2577 - binary_accuracy: 0.8943 - auc: 0.9491 - val_loss: 0.2676 - val_binary_accuracy: 0.8954 - val_auc: 0.9520\n",
            "Epoch 31/500\n",
            "3103/3103 [==============================] - 10s 3ms/step - loss: 0.2626 - binary_accuracy: 0.8935 - auc: 0.9468 - val_loss: 0.2571 - val_binary_accuracy: 0.8971 - val_auc: 0.9533\n",
            "Epoch 32/500\n",
            "3103/3103 [==============================] - 10s 3ms/step - loss: 0.2566 - binary_accuracy: 0.8955 - auc: 0.9495 - val_loss: 0.2583 - val_binary_accuracy: 0.8975 - val_auc: 0.9528\n",
            "Epoch 33/500\n",
            "3103/3103 [==============================] - 10s 3ms/step - loss: 0.2582 - binary_accuracy: 0.8944 - auc: 0.9488 - val_loss: 0.2552 - val_binary_accuracy: 0.8968 - val_auc: 0.9530\n",
            "Epoch 34/500\n",
            "3103/3103 [==============================] - 10s 3ms/step - loss: 0.2589 - binary_accuracy: 0.8937 - auc: 0.9479 - val_loss: 0.2535 - val_binary_accuracy: 0.8976 - val_auc: 0.9536\n",
            "Epoch 35/500\n",
            "3103/3103 [==============================] - 10s 3ms/step - loss: 0.2542 - binary_accuracy: 0.8964 - auc: 0.9499 - val_loss: 0.2554 - val_binary_accuracy: 0.8975 - val_auc: 0.9538\n",
            "Epoch 36/500\n",
            "3103/3103 [==============================] - 10s 3ms/step - loss: 0.2533 - binary_accuracy: 0.8957 - auc: 0.9500 - val_loss: 0.2577 - val_binary_accuracy: 0.8929 - val_auc: 0.9526\n",
            "Epoch 37/500\n",
            "3103/3103 [==============================] - 10s 3ms/step - loss: 0.2555 - binary_accuracy: 0.8941 - auc: 0.9493 - val_loss: 0.2606 - val_binary_accuracy: 0.8968 - val_auc: 0.9526\n",
            "Epoch 38/500\n",
            "3103/3103 [==============================] - 10s 3ms/step - loss: 0.2606 - binary_accuracy: 0.8904 - auc: 0.9474 - val_loss: 0.2665 - val_binary_accuracy: 0.8977 - val_auc: 0.9529\n",
            "Epoch 39/500\n",
            "3103/3103 [==============================] - 10s 3ms/step - loss: 0.2553 - binary_accuracy: 0.8977 - auc: 0.9499 - val_loss: 0.2574 - val_binary_accuracy: 0.8981 - val_auc: 0.9534\n",
            "Epoch 40/500\n",
            "3103/3103 [==============================] - 10s 3ms/step - loss: 0.2559 - binary_accuracy: 0.8954 - auc: 0.9498 - val_loss: 0.2562 - val_binary_accuracy: 0.8985 - val_auc: 0.9536\n",
            "Epoch 41/500\n",
            "3103/3103 [==============================] - 10s 3ms/step - loss: 0.2547 - binary_accuracy: 0.8949 - auc: 0.9489 - val_loss: 0.2615 - val_binary_accuracy: 0.8974 - val_auc: 0.9540\n",
            "Epoch 42/500\n",
            "3103/3103 [==============================] - 10s 3ms/step - loss: 0.2569 - binary_accuracy: 0.8934 - auc: 0.9492 - val_loss: 0.2672 - val_binary_accuracy: 0.8965 - val_auc: 0.9526\n",
            "Epoch 43/500\n",
            "3103/3103 [==============================] - 10s 3ms/step - loss: 0.2610 - binary_accuracy: 0.8909 - auc: 0.9472 - val_loss: 0.2580 - val_binary_accuracy: 0.8974 - val_auc: 0.9532\n",
            "Epoch 44/500\n",
            "3103/3103 [==============================] - 10s 3ms/step - loss: 0.2541 - binary_accuracy: 0.8940 - auc: 0.9493 - val_loss: 0.2594 - val_binary_accuracy: 0.8944 - val_auc: 0.9519\n",
            "Epoch 45/500\n",
            "3103/3103 [==============================] - 10s 3ms/step - loss: 0.2566 - binary_accuracy: 0.8948 - auc: 0.9485 - val_loss: 0.2589 - val_binary_accuracy: 0.8969 - val_auc: 0.9526\n",
            "Epoch 46/500\n",
            "3103/3103 [==============================] - 10s 3ms/step - loss: 0.2559 - binary_accuracy: 0.8934 - auc: 0.9489 - val_loss: 0.2889 - val_binary_accuracy: 0.8954 - val_auc: 0.9525\n",
            "Epoch 47/500\n",
            "3103/3103 [==============================] - 10s 3ms/step - loss: 0.2577 - binary_accuracy: 0.8919 - auc: 0.9487 - val_loss: 0.2653 - val_binary_accuracy: 0.8962 - val_auc: 0.9530\n",
            "Epoch 48/500\n",
            "3103/3103 [==============================] - 10s 3ms/step - loss: 0.2576 - binary_accuracy: 0.8958 - auc: 0.9481 - val_loss: 0.2684 - val_binary_accuracy: 0.8979 - val_auc: 0.9522\n",
            "Epoch 49/500\n",
            "3103/3103 [==============================] - 10s 3ms/step - loss: 0.2598 - binary_accuracy: 0.8947 - auc: 0.9475 - val_loss: 0.2576 - val_binary_accuracy: 0.8980 - val_auc: 0.9537\n",
            "Epoch 50/500\n",
            "3103/3103 [==============================] - 10s 3ms/step - loss: 0.2590 - binary_accuracy: 0.8926 - auc: 0.9471 - val_loss: 0.2660 - val_binary_accuracy: 0.8945 - val_auc: 0.9467\n",
            "Epoch 51/500\n",
            "3103/3103 [==============================] - 10s 3ms/step - loss: 0.2713 - binary_accuracy: 0.8907 - auc: 0.9424 - val_loss: 0.2543 - val_binary_accuracy: 0.8970 - val_auc: 0.9528\n",
            "Epoch 52/500\n",
            "3103/3103 [==============================] - 10s 3ms/step - loss: 0.2595 - binary_accuracy: 0.8903 - auc: 0.9476 - val_loss: 0.2556 - val_binary_accuracy: 0.8973 - val_auc: 0.9532\n",
            "Epoch 53/500\n",
            "3103/3103 [==============================] - 10s 3ms/step - loss: 0.2556 - binary_accuracy: 0.8945 - auc: 0.9497 - val_loss: 0.2576 - val_binary_accuracy: 0.8977 - val_auc: 0.9537\n",
            "Epoch 54/500\n",
            "3103/3103 [==============================] - 10s 3ms/step - loss: 0.2547 - binary_accuracy: 0.8949 - auc: 0.9504 - val_loss: 0.2541 - val_binary_accuracy: 0.8977 - val_auc: 0.9534\n",
            "Epoch 55/500\n",
            "3103/3103 [==============================] - 10s 3ms/step - loss: 0.2612 - binary_accuracy: 0.8974 - auc: 0.9474 - val_loss: 0.2621 - val_binary_accuracy: 0.8966 - val_auc: 0.9512\n",
            "Epoch 56/500\n",
            "3103/3103 [==============================] - 10s 3ms/step - loss: 0.2589 - binary_accuracy: 0.8944 - auc: 0.9478 - val_loss: 0.2632 - val_binary_accuracy: 0.8968 - val_auc: 0.9536\n",
            "Epoch 57/500\n",
            "3103/3103 [==============================] - 10s 3ms/step - loss: 0.2573 - binary_accuracy: 0.8943 - auc: 0.9486 - val_loss: 0.2651 - val_binary_accuracy: 0.8963 - val_auc: 0.9503\n",
            "Epoch 58/500\n",
            "3103/3103 [==============================] - 10s 3ms/step - loss: 0.2610 - binary_accuracy: 0.8954 - auc: 0.9471 - val_loss: 0.2567 - val_binary_accuracy: 0.8972 - val_auc: 0.9521\n",
            "Epoch 59/500\n",
            "3103/3103 [==============================] - 10s 3ms/step - loss: 0.2570 - binary_accuracy: 0.8944 - auc: 0.9486 - val_loss: 0.2591 - val_binary_accuracy: 0.8967 - val_auc: 0.9503\n",
            "Epoch 60/500\n",
            "3103/3103 [==============================] - 10s 3ms/step - loss: 0.2610 - binary_accuracy: 0.8945 - auc: 0.9464 - val_loss: 0.2645 - val_binary_accuracy: 0.8936 - val_auc: 0.9499\n",
            "Epoch 61/500\n",
            "3103/3103 [==============================] - 10s 3ms/step - loss: 0.2666 - binary_accuracy: 0.8870 - auc: 0.9455 - val_loss: 0.2568 - val_binary_accuracy: 0.8966 - val_auc: 0.9520\n",
            "Epoch 62/500\n",
            "3103/3103 [==============================] - 10s 3ms/step - loss: 0.2646 - binary_accuracy: 0.8857 - auc: 0.9453 - val_loss: 0.2751 - val_binary_accuracy: 0.8940 - val_auc: 0.9431\n",
            "Epoch 63/500\n",
            "3103/3103 [==============================] - 10s 3ms/step - loss: 0.2729 - binary_accuracy: 0.8910 - auc: 0.9409 - val_loss: 0.2645 - val_binary_accuracy: 0.8980 - val_auc: 0.9515\n",
            "Epoch 64/500\n",
            "3103/3103 [==============================] - 10s 3ms/step - loss: 0.2619 - binary_accuracy: 0.8939 - auc: 0.9465 - val_loss: 0.2634 - val_binary_accuracy: 0.8973 - val_auc: 0.9499\n",
            "Epoch 65/500\n",
            "3103/3103 [==============================] - 10s 3ms/step - loss: 0.2633 - binary_accuracy: 0.8937 - auc: 0.9449 - val_loss: 0.2597 - val_binary_accuracy: 0.8974 - val_auc: 0.9498\n"
          ],
          "name": "stdout"
        }
      ]
    },
    {
      "cell_type": "code",
      "metadata": {
        "colab": {
          "base_uri": "https://localhost:8080/",
          "height": 297
        },
        "id": "QEylyqAB1U4T",
        "outputId": "652512c9-3845-43c7-e6f6-b0030eca855d"
      },
      "source": [
        "history_df = pd.DataFrame(history.history)\n",
        "\n",
        "history_df.describe()"
      ],
      "execution_count": 7,
      "outputs": [
        {
          "output_type": "execute_result",
          "data": {
            "text/html": [
              "<div>\n",
              "<style scoped>\n",
              "    .dataframe tbody tr th:only-of-type {\n",
              "        vertical-align: middle;\n",
              "    }\n",
              "\n",
              "    .dataframe tbody tr th {\n",
              "        vertical-align: top;\n",
              "    }\n",
              "\n",
              "    .dataframe thead th {\n",
              "        text-align: right;\n",
              "    }\n",
              "</style>\n",
              "<table border=\"1\" class=\"dataframe\">\n",
              "  <thead>\n",
              "    <tr style=\"text-align: right;\">\n",
              "      <th></th>\n",
              "      <th>loss</th>\n",
              "      <th>binary_accuracy</th>\n",
              "      <th>auc</th>\n",
              "      <th>val_loss</th>\n",
              "      <th>val_binary_accuracy</th>\n",
              "      <th>val_auc</th>\n",
              "    </tr>\n",
              "  </thead>\n",
              "  <tbody>\n",
              "    <tr>\n",
              "      <th>count</th>\n",
              "      <td>65.000000</td>\n",
              "      <td>65.000000</td>\n",
              "      <td>65.000000</td>\n",
              "      <td>65.000000</td>\n",
              "      <td>65.000000</td>\n",
              "      <td>65.000000</td>\n",
              "    </tr>\n",
              "    <tr>\n",
              "      <th>mean</th>\n",
              "      <td>0.260299</td>\n",
              "      <td>0.892813</td>\n",
              "      <td>0.947882</td>\n",
              "      <td>0.264488</td>\n",
              "      <td>0.895418</td>\n",
              "      <td>0.952075</td>\n",
              "    </tr>\n",
              "    <tr>\n",
              "      <th>std</th>\n",
              "      <td>0.007912</td>\n",
              "      <td>0.004368</td>\n",
              "      <td>0.002422</td>\n",
              "      <td>0.013505</td>\n",
              "      <td>0.003786</td>\n",
              "      <td>0.001770</td>\n",
              "    </tr>\n",
              "    <tr>\n",
              "      <th>min</th>\n",
              "      <td>0.255341</td>\n",
              "      <td>0.865317</td>\n",
              "      <td>0.931842</td>\n",
              "      <td>0.251933</td>\n",
              "      <td>0.878422</td>\n",
              "      <td>0.943117</td>\n",
              "    </tr>\n",
              "    <tr>\n",
              "      <th>25%</th>\n",
              "      <td>0.257222</td>\n",
              "      <td>0.893079</td>\n",
              "      <td>0.947430</td>\n",
              "      <td>0.257057</td>\n",
              "      <td>0.895368</td>\n",
              "      <td>0.951666</td>\n",
              "    </tr>\n",
              "    <tr>\n",
              "      <th>50%</th>\n",
              "      <td>0.258262</td>\n",
              "      <td>0.894046</td>\n",
              "      <td>0.948590</td>\n",
              "      <td>0.260146</td>\n",
              "      <td>0.896771</td>\n",
              "      <td>0.952584</td>\n",
              "    </tr>\n",
              "    <tr>\n",
              "      <th>75%</th>\n",
              "      <td>0.261121</td>\n",
              "      <td>0.894540</td>\n",
              "      <td>0.949095</td>\n",
              "      <td>0.265974</td>\n",
              "      <td>0.897323</td>\n",
              "      <td>0.953082</td>\n",
              "    </tr>\n",
              "    <tr>\n",
              "      <th>max</th>\n",
              "      <td>0.316993</td>\n",
              "      <td>0.895636</td>\n",
              "      <td>0.950044</td>\n",
              "      <td>0.320710</td>\n",
              "      <td>0.898526</td>\n",
              "      <td>0.953953</td>\n",
              "    </tr>\n",
              "  </tbody>\n",
              "</table>\n",
              "</div>"
            ],
            "text/plain": [
              "            loss  binary_accuracy  ...  val_binary_accuracy    val_auc\n",
              "count  65.000000        65.000000  ...            65.000000  65.000000\n",
              "mean    0.260299         0.892813  ...             0.895418   0.952075\n",
              "std     0.007912         0.004368  ...             0.003786   0.001770\n",
              "min     0.255341         0.865317  ...             0.878422   0.943117\n",
              "25%     0.257222         0.893079  ...             0.895368   0.951666\n",
              "50%     0.258262         0.894046  ...             0.896771   0.952584\n",
              "75%     0.261121         0.894540  ...             0.897323   0.953082\n",
              "max     0.316993         0.895636  ...             0.898526   0.953953\n",
              "\n",
              "[8 rows x 6 columns]"
            ]
          },
          "metadata": {
            "tags": []
          },
          "execution_count": 7
        }
      ]
    },
    {
      "cell_type": "code",
      "metadata": {
        "colab": {
          "base_uri": "https://localhost:8080/"
        },
        "id": "2rXapaDp1U2O",
        "outputId": "b336ffe7-45b0-4e25-cbf0-bdeeb7173c1f"
      },
      "source": [
        "train_acc = table3_nn.evaluate(train_X, train_y)\n",
        "test_acc = table3_nn.evaluate(val_X, val_y)"
      ],
      "execution_count": 8,
      "outputs": [
        {
          "output_type": "stream",
          "text": [
            "2078/2078 [==============================] - 3s 1ms/step - loss: 0.2545 - binary_accuracy: 0.8978 - auc: 0.9532\n",
            "693/693 [==============================] - 1s 1ms/step - loss: 0.2530 - binary_accuracy: 0.8990 - auc: 0.9535\n"
          ],
          "name": "stdout"
        }
      ]
    },
    {
      "cell_type": "code",
      "metadata": {
        "colab": {
          "base_uri": "https://localhost:8080/"
        },
        "id": "5ADQEBa41Uz5",
        "outputId": "3ef0a787-509a-4314-b47c-739e9bbdc667"
      },
      "source": [
        "dict(zip(table3_nn.metrics_names, test_acc))"
      ],
      "execution_count": 9,
      "outputs": [
        {
          "output_type": "execute_result",
          "data": {
            "text/plain": [
              "{'auc': 0.9535413384437561,\n",
              " 'binary_accuracy': 0.8990163207054138,\n",
              " 'loss': 0.25301629304885864}"
            ]
          },
          "metadata": {
            "tags": []
          },
          "execution_count": 9
        }
      ]
    },
    {
      "cell_type": "code",
      "metadata": {
        "colab": {
          "base_uri": "https://localhost:8080/",
          "height": 282
        },
        "id": "3UfuVOqb1xJ1",
        "outputId": "ac6f93e0-dd89-4b5a-aabe-225c908bdd4a"
      },
      "source": [
        "history_df.loc[:, ['loss', 'val_loss']].plot();\n",
        "print(\"Minimum validation loss (binary_crossentropy): {}\".format(history_df['val_loss'].min()))"
      ],
      "execution_count": 10,
      "outputs": [
        {
          "output_type": "stream",
          "text": [
            "Minimum validation loss (binary_crossentropy): 0.2519329786300659\n"
          ],
          "name": "stdout"
        },
        {
          "output_type": "display_data",
          "data": {
            "image/png": "[encoded data removed]",
            "text/plain": [
              "<Figure size 432x288 with 1 Axes>"
            ]
          },
          "metadata": {
            "tags": [],
            "needs_background": "light"
          }
        }
      ]
    },
    {
      "cell_type": "code",
      "metadata": {
        "colab": {
          "base_uri": "https://localhost:8080/",
          "height": 286
        },
        "id": "aT57qZ5W1xHc",
        "outputId": "33bd9ae8-73cb-4ebe-d1d4-41fb654ece92"
      },
      "source": [
        "history_df.loc[:, ['auc', 'val_auc']].plot();\n",
        "print(\"Maximum AUC: {}\".format(history_df['val_auc'].max()))"
      ],
      "execution_count": 11,
      "outputs": [
        {
          "output_type": "stream",
          "text": [
            "Maximum AUC: 0.9539531469345093\n"
          ],
          "name": "stdout"
        },
        {
          "output_type": "display_data",
          "data": {
            "image/png": "[encoded data removed]",
            "text/plain": [
              "<Figure size 432x288 with 1 Axes>"
            ]
          },
          "metadata": {
            "tags": [],
            "needs_background": "light"
          }
        }
      ]
    },
    {
      "cell_type": "code",
      "metadata": {
        "colab": {
          "base_uri": "https://localhost:8080/",
          "height": 285
        },
        "id": "kOu5es-F1xE-",
        "outputId": "5c0be5b8-13e0-466f-e9a3-bf2891d09ee1"
      },
      "source": [
        "history_df.loc[:, ['binary_accuracy', 'val_binary_accuracy']].plot();\n",
        "print(\"Maximum validation binary accuracy: {}\".format(history_df['val_binary_accuracy'].max()))"
      ],
      "execution_count": 12,
      "outputs": [
        {
          "output_type": "stream",
          "text": [
            "Maximum validation binary accuracy: 0.8985260128974915\n"
          ],
          "name": "stdout"
        },
        {
          "output_type": "display_data",
          "data": {
            "image/png": "[encoded data removed]",
            "text/plain": [
              "<Figure size 432x288 with 1 Axes>"
            ]
          },
          "metadata": {
            "tags": [],
            "needs_background": "light"
          }
        }
      ]
    },
    {
      "cell_type": "code",
      "metadata": {
        "colab": {
          "base_uri": "https://localhost:8080/"
        },
        "id": "0Z1xGJNl1xCc",
        "outputId": "4d44a6b8-fc22-4167-a0d2-cd402a80f41f"
      },
      "source": [
        "preds1 = table3_nn.predict(val_X)\n",
        "preds1"
      ],
      "execution_count": 13,
      "outputs": [
        {
          "output_type": "execute_result",
          "data": {
            "text/plain": [
              "array([[0.8906031 ],\n",
              "       [0.02051136],\n",
              "       [0.69917893],\n",
              "       ...,\n",
              "       [0.02051136],\n",
              "       [0.02051136],\n",
              "       [0.7520401 ]], dtype=float32)"
            ]
          },
          "metadata": {
            "tags": []
          },
          "execution_count": 13
        }
      ]
    },
    {
      "cell_type": "code",
      "metadata": {
        "colab": {
          "base_uri": "https://localhost:8080/"
        },
        "id": "VjJXhtRp1w-H",
        "outputId": "28a47a48-037a-4b73-cac8-c34b509b0ecc"
      },
      "source": [
        "len(preds1[preds1 < 0.5])"
      ],
      "execution_count": 14,
      "outputs": [
        {
          "output_type": "execute_result",
          "data": {
            "text/plain": [
              "14345"
            ]
          },
          "metadata": {
            "tags": []
          },
          "execution_count": 14
        }
      ]
    },
    {
      "cell_type": "code",
      "metadata": {
        "colab": {
          "base_uri": "https://localhost:8080/"
        },
        "id": "lH9o4roL1-mQ",
        "outputId": "411fc666-1d94-47b5-e041-b971bcd9cdae"
      },
      "source": [
        "len(preds1[preds1 >= 0.5])"
      ],
      "execution_count": 15,
      "outputs": [
        {
          "output_type": "execute_result",
          "data": {
            "text/plain": [
              "7817"
            ]
          },
          "metadata": {
            "tags": []
          },
          "execution_count": 15
        }
      ]
    },
    {
      "cell_type": "code",
      "metadata": {
        "colab": {
          "base_uri": "https://localhost:8080/"
        },
        "id": "JmjS9QFa2Amb",
        "outputId": "b8f7d386-cb41-4317-f1af-1081d3051fb6"
      },
      "source": [
        "len(val_y)"
      ],
      "execution_count": 16,
      "outputs": [
        {
          "output_type": "execute_result",
          "data": {
            "text/plain": [
              "22162"
            ]
          },
          "metadata": {
            "tags": []
          },
          "execution_count": 16
        }
      ]
    },
    {
      "cell_type": "code",
      "metadata": {
        "colab": {
          "base_uri": "https://localhost:8080/"
        },
        "id": "mG58ZxBDo6Vy",
        "outputId": "53c7faf1-2714-43f6-c574-bb1271c27680"
      },
      "source": [
        "pred_classes = np.argmax(preds1, axis=1)\n",
        "\n",
        "from sklearn.metrics import confusion_matrix\n",
        "cm = confusion_matrix(val_y, pred_classes)\n",
        "print(cm)"
      ],
      "execution_count": 17,
      "outputs": [
        {
          "output_type": "stream",
          "text": [
            "[[14519     0]\n",
            " [ 7643     0]]\n"
          ],
          "name": "stdout"
        }
      ]
    }
  ]
}