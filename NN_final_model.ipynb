{
 "cells": [
  {
   "cell_type": "markdown",
   "metadata": {
    "id": "SMsmB1OqoQO6"
   },
   "source": [
    "---\n",
    "\n",
    "# Keras Sequential Neural Network model to predict the probability of a phishing URL\n",
    "\n",
    "---\n",
    "\n",
    "### this notebook is of the final Keras model version that was decided on for this project\n",
    "### included are two different ways to build the same Keras model, along with predictions and cross validation results\n",
    "\n",
    "---"
   ]
  },
  {
   "cell_type": "code",
   "execution_count": 1,
   "metadata": {},
   "outputs": [],
   "source": [
    "# if you haven't used tensorflow before, uncomment below to install:\n",
    "\n",
    "# pip install tensorflow\n",
    "# pip install keras"
   ]
  },
  {
   "cell_type": "code",
   "execution_count": 2,
   "metadata": {
    "colab": {
     "base_uri": "https://localhost:8080/"
    },
    "id": "7UjcFFKd7XM2",
    "outputId": "b320499b-fb46-4568-e56f-0f05d9ff51de"
   },
   "outputs": [
    {
     "name": "stderr",
     "output_type": "stream",
     "text": [
      "C:\\Users\\jorda\\anaconda3\\lib\\site-packages\\tensorflow\\python\\framework\\dtypes.py:516: FutureWarning: Passing (type, 1) or '1type' as a synonym of type is deprecated; in a future version of numpy, it will be understood as (type, (1,)) / '(1,)type'.\n",
      "  _np_qint8 = np.dtype([(\"qint8\", np.int8, 1)])\n",
      "C:\\Users\\jorda\\anaconda3\\lib\\site-packages\\tensorflow\\python\\framework\\dtypes.py:517: FutureWarning: Passing (type, 1) or '1type' as a synonym of type is deprecated; in a future version of numpy, it will be understood as (type, (1,)) / '(1,)type'.\n",
      "  _np_quint8 = np.dtype([(\"quint8\", np.uint8, 1)])\n",
      "C:\\Users\\jorda\\anaconda3\\lib\\site-packages\\tensorflow\\python\\framework\\dtypes.py:518: FutureWarning: Passing (type, 1) or '1type' as a synonym of type is deprecated; in a future version of numpy, it will be understood as (type, (1,)) / '(1,)type'.\n",
      "  _np_qint16 = np.dtype([(\"qint16\", np.int16, 1)])\n",
      "C:\\Users\\jorda\\anaconda3\\lib\\site-packages\\tensorflow\\python\\framework\\dtypes.py:519: FutureWarning: Passing (type, 1) or '1type' as a synonym of type is deprecated; in a future version of numpy, it will be understood as (type, (1,)) / '(1,)type'.\n",
      "  _np_quint16 = np.dtype([(\"quint16\", np.uint16, 1)])\n",
      "C:\\Users\\jorda\\anaconda3\\lib\\site-packages\\tensorflow\\python\\framework\\dtypes.py:520: FutureWarning: Passing (type, 1) or '1type' as a synonym of type is deprecated; in a future version of numpy, it will be understood as (type, (1,)) / '(1,)type'.\n",
      "  _np_qint32 = np.dtype([(\"qint32\", np.int32, 1)])\n",
      "C:\\Users\\jorda\\anaconda3\\lib\\site-packages\\tensorflow\\python\\framework\\dtypes.py:525: FutureWarning: Passing (type, 1) or '1type' as a synonym of type is deprecated; in a future version of numpy, it will be understood as (type, (1,)) / '(1,)type'.\n",
      "  np_resource = np.dtype([(\"resource\", np.ubyte, 1)])\n",
      "C:\\Users\\jorda\\anaconda3\\lib\\site-packages\\tensorboard\\compat\\tensorflow_stub\\dtypes.py:541: FutureWarning: Passing (type, 1) or '1type' as a synonym of type is deprecated; in a future version of numpy, it will be understood as (type, (1,)) / '(1,)type'.\n",
      "  _np_qint8 = np.dtype([(\"qint8\", np.int8, 1)])\n",
      "C:\\Users\\jorda\\anaconda3\\lib\\site-packages\\tensorboard\\compat\\tensorflow_stub\\dtypes.py:542: FutureWarning: Passing (type, 1) or '1type' as a synonym of type is deprecated; in a future version of numpy, it will be understood as (type, (1,)) / '(1,)type'.\n",
      "  _np_quint8 = np.dtype([(\"quint8\", np.uint8, 1)])\n",
      "C:\\Users\\jorda\\anaconda3\\lib\\site-packages\\tensorboard\\compat\\tensorflow_stub\\dtypes.py:543: FutureWarning: Passing (type, 1) or '1type' as a synonym of type is deprecated; in a future version of numpy, it will be understood as (type, (1,)) / '(1,)type'.\n",
      "  _np_qint16 = np.dtype([(\"qint16\", np.int16, 1)])\n",
      "C:\\Users\\jorda\\anaconda3\\lib\\site-packages\\tensorboard\\compat\\tensorflow_stub\\dtypes.py:544: FutureWarning: Passing (type, 1) or '1type' as a synonym of type is deprecated; in a future version of numpy, it will be understood as (type, (1,)) / '(1,)type'.\n",
      "  _np_quint16 = np.dtype([(\"quint16\", np.uint16, 1)])\n",
      "C:\\Users\\jorda\\anaconda3\\lib\\site-packages\\tensorboard\\compat\\tensorflow_stub\\dtypes.py:545: FutureWarning: Passing (type, 1) or '1type' as a synonym of type is deprecated; in a future version of numpy, it will be understood as (type, (1,)) / '(1,)type'.\n",
      "  _np_qint32 = np.dtype([(\"qint32\", np.int32, 1)])\n",
      "C:\\Users\\jorda\\anaconda3\\lib\\site-packages\\tensorboard\\compat\\tensorflow_stub\\dtypes.py:550: FutureWarning: Passing (type, 1) or '1type' as a synonym of type is deprecated; in a future version of numpy, it will be understood as (type, (1,)) / '(1,)type'.\n",
      "  np_resource = np.dtype([(\"resource\", np.ubyte, 1)])\n"
     ]
    },
    {
     "name": "stdout",
     "output_type": "stream",
     "text": [
      "Done Loading\n"
     ]
    },
    {
     "name": "stderr",
     "output_type": "stream",
     "text": [
      "Using TensorFlow backend.\n"
     ]
    }
   ],
   "source": [
    "#load packages and libraries\n",
    "\n",
    "import pandas as pd\n",
    "import numpy as np\n",
    "import sklearn as sk\n",
    "import tensorflow as tf\n",
    "from sklearn.model_selection import train_test_split, StratifiedKFold, cross_val_score, cross_val_predict\n",
    "import matplotlib.pyplot as plt\n",
    "from tensorflow import keras\n",
    "from tensorflow.keras import *\n",
    "from keras.utils.np_utils import *\n",
    "from keras.wrappers.scikit_learn import KerasClassifier\n",
    "from sklearn.metrics import confusion_matrix, accuracy_score, f1_score, precision_score, recall_score\n",
    "import seaborn as sns\n",
    "\n",
    "\n",
    "print(\"Done Loading\")\n"
   ]
  },
  {
   "cell_type": "markdown",
   "metadata": {
    "id": "fZJiz6GaoQO9"
   },
   "source": [
    "## load data"
   ]
  },
  {
   "cell_type": "code",
   "execution_count": 3,
   "metadata": {
    "colab": {
     "base_uri": "https://localhost:8080/",
     "height": 253
    },
    "id": "_p0zv7mq7p3R",
    "outputId": "a43c42a0-1cf7-4406-e6ea-26ac2e736279"
   },
   "outputs": [
    {
     "data": {
      "text/html": [
       "<div>\n",
       "<style scoped>\n",
       "    .dataframe tbody tr th:only-of-type {\n",
       "        vertical-align: middle;\n",
       "    }\n",
       "\n",
       "    .dataframe tbody tr th {\n",
       "        vertical-align: top;\n",
       "    }\n",
       "\n",
       "    .dataframe thead th {\n",
       "        text-align: right;\n",
       "    }\n",
       "</style>\n",
       "<table border=\"1\" class=\"dataframe\">\n",
       "  <thead>\n",
       "    <tr style=\"text-align: right;\">\n",
       "      <th></th>\n",
       "      <th>qty_dot_url</th>\n",
       "      <th>qty_hyphen_url</th>\n",
       "      <th>qty_underline_url</th>\n",
       "      <th>qty_slash_url</th>\n",
       "      <th>qty_questionmark_url</th>\n",
       "      <th>qty_equal_url</th>\n",
       "      <th>qty_at_url</th>\n",
       "      <th>qty_and_url</th>\n",
       "      <th>qty_exclamation_url</th>\n",
       "      <th>qty_space_url</th>\n",
       "      <th>...</th>\n",
       "      <th>qty_ip_resolved</th>\n",
       "      <th>qty_nameservers</th>\n",
       "      <th>qty_mx_servers</th>\n",
       "      <th>ttl_hostname</th>\n",
       "      <th>tls_ssl_certificate</th>\n",
       "      <th>qty_redirects</th>\n",
       "      <th>url_google_index</th>\n",
       "      <th>domain_google_index</th>\n",
       "      <th>url_shortened</th>\n",
       "      <th>phishing</th>\n",
       "    </tr>\n",
       "  </thead>\n",
       "  <tbody>\n",
       "    <tr>\n",
       "      <th>0</th>\n",
       "      <td>3</td>\n",
       "      <td>0</td>\n",
       "      <td>0</td>\n",
       "      <td>1</td>\n",
       "      <td>0</td>\n",
       "      <td>0</td>\n",
       "      <td>0</td>\n",
       "      <td>0</td>\n",
       "      <td>0</td>\n",
       "      <td>0</td>\n",
       "      <td>...</td>\n",
       "      <td>1</td>\n",
       "      <td>2</td>\n",
       "      <td>0</td>\n",
       "      <td>892</td>\n",
       "      <td>0</td>\n",
       "      <td>0</td>\n",
       "      <td>0</td>\n",
       "      <td>0</td>\n",
       "      <td>0</td>\n",
       "      <td>1</td>\n",
       "    </tr>\n",
       "    <tr>\n",
       "      <th>1</th>\n",
       "      <td>5</td>\n",
       "      <td>0</td>\n",
       "      <td>1</td>\n",
       "      <td>3</td>\n",
       "      <td>0</td>\n",
       "      <td>3</td>\n",
       "      <td>0</td>\n",
       "      <td>2</td>\n",
       "      <td>0</td>\n",
       "      <td>0</td>\n",
       "      <td>...</td>\n",
       "      <td>1</td>\n",
       "      <td>2</td>\n",
       "      <td>1</td>\n",
       "      <td>9540</td>\n",
       "      <td>1</td>\n",
       "      <td>0</td>\n",
       "      <td>0</td>\n",
       "      <td>0</td>\n",
       "      <td>0</td>\n",
       "      <td>1</td>\n",
       "    </tr>\n",
       "    <tr>\n",
       "      <th>2</th>\n",
       "      <td>2</td>\n",
       "      <td>0</td>\n",
       "      <td>0</td>\n",
       "      <td>1</td>\n",
       "      <td>0</td>\n",
       "      <td>0</td>\n",
       "      <td>0</td>\n",
       "      <td>0</td>\n",
       "      <td>0</td>\n",
       "      <td>0</td>\n",
       "      <td>...</td>\n",
       "      <td>1</td>\n",
       "      <td>2</td>\n",
       "      <td>3</td>\n",
       "      <td>589</td>\n",
       "      <td>1</td>\n",
       "      <td>0</td>\n",
       "      <td>0</td>\n",
       "      <td>0</td>\n",
       "      <td>0</td>\n",
       "      <td>0</td>\n",
       "    </tr>\n",
       "    <tr>\n",
       "      <th>3</th>\n",
       "      <td>4</td>\n",
       "      <td>0</td>\n",
       "      <td>2</td>\n",
       "      <td>5</td>\n",
       "      <td>0</td>\n",
       "      <td>0</td>\n",
       "      <td>0</td>\n",
       "      <td>0</td>\n",
       "      <td>0</td>\n",
       "      <td>0</td>\n",
       "      <td>...</td>\n",
       "      <td>1</td>\n",
       "      <td>2</td>\n",
       "      <td>0</td>\n",
       "      <td>292</td>\n",
       "      <td>1</td>\n",
       "      <td>0</td>\n",
       "      <td>0</td>\n",
       "      <td>0</td>\n",
       "      <td>0</td>\n",
       "      <td>1</td>\n",
       "    </tr>\n",
       "    <tr>\n",
       "      <th>4</th>\n",
       "      <td>2</td>\n",
       "      <td>0</td>\n",
       "      <td>0</td>\n",
       "      <td>0</td>\n",
       "      <td>0</td>\n",
       "      <td>0</td>\n",
       "      <td>0</td>\n",
       "      <td>0</td>\n",
       "      <td>0</td>\n",
       "      <td>0</td>\n",
       "      <td>...</td>\n",
       "      <td>1</td>\n",
       "      <td>2</td>\n",
       "      <td>1</td>\n",
       "      <td>3597</td>\n",
       "      <td>0</td>\n",
       "      <td>1</td>\n",
       "      <td>0</td>\n",
       "      <td>0</td>\n",
       "      <td>0</td>\n",
       "      <td>0</td>\n",
       "    </tr>\n",
       "  </tbody>\n",
       "</table>\n",
       "<p>5 rows × 112 columns</p>\n",
       "</div>"
      ],
      "text/plain": [
       "   qty_dot_url  qty_hyphen_url  qty_underline_url  qty_slash_url  \\\n",
       "0            3               0                  0              1   \n",
       "1            5               0                  1              3   \n",
       "2            2               0                  0              1   \n",
       "3            4               0                  2              5   \n",
       "4            2               0                  0              0   \n",
       "\n",
       "   qty_questionmark_url  qty_equal_url  qty_at_url  qty_and_url  \\\n",
       "0                     0              0           0            0   \n",
       "1                     0              3           0            2   \n",
       "2                     0              0           0            0   \n",
       "3                     0              0           0            0   \n",
       "4                     0              0           0            0   \n",
       "\n",
       "   qty_exclamation_url  qty_space_url  ...  qty_ip_resolved  qty_nameservers  \\\n",
       "0                    0              0  ...                1                2   \n",
       "1                    0              0  ...                1                2   \n",
       "2                    0              0  ...                1                2   \n",
       "3                    0              0  ...                1                2   \n",
       "4                    0              0  ...                1                2   \n",
       "\n",
       "   qty_mx_servers  ttl_hostname  tls_ssl_certificate  qty_redirects  \\\n",
       "0               0           892                    0              0   \n",
       "1               1          9540                    1              0   \n",
       "2               3           589                    1              0   \n",
       "3               0           292                    1              0   \n",
       "4               1          3597                    0              1   \n",
       "\n",
       "   url_google_index  domain_google_index  url_shortened  phishing  \n",
       "0                 0                    0              0         1  \n",
       "1                 0                    0              0         1  \n",
       "2                 0                    0              0         0  \n",
       "3                 0                    0              0         1  \n",
       "4                 0                    0              0         0  \n",
       "\n",
       "[5 rows x 112 columns]"
      ]
     },
     "execution_count": 3,
     "metadata": {},
     "output_type": "execute_result"
    }
   ],
   "source": [
    "full_df = pd.read_csv(\"https://raw.githubusercontent.com/jwaldroop/phishing-url-project/main/dataset_full.csv\")\n",
    "\n",
    "full_df.head()"
   ]
  },
  {
   "cell_type": "markdown",
   "metadata": {
    "id": "pxhItR4mUlyi"
   },
   "source": [
    "---\n",
    "\n",
    "# unit testing to remove negative values (there cannot be a negative url length, etc.)\n",
    "\n",
    "---"
   ]
  },
  {
   "cell_type": "code",
   "execution_count": 4,
   "metadata": {
    "id": "1KXuFC-sUk-e"
   },
   "outputs": [],
   "source": [
    "# Noticed a discrepancy in the data, some values are recorded as -1 even though it makes not practical sense, i.e. you can't have a negative quantity of a character\n",
    "# This changes all -1 to 0\n",
    "full_df.dtypes == 'int64'\n",
    "\n",
    "def remove_negatives(full_df):\n",
    "    full_df[full_df == -1] = 0\n",
    "remove_negatives(full_df)"
   ]
  },
  {
   "cell_type": "code",
   "execution_count": 5,
   "metadata": {
    "id": "dYB4m2v1Uk7i"
   },
   "outputs": [],
   "source": [
    "# unit test \n",
    "is_it_working = []\n",
    "def data_cleaning_unit_test(column):\n",
    "    did_it_work =  {'Yes':0 , 'No':0}\n",
    "    for i in column:\n",
    "        if i >= 0:\n",
    "            did_it_work['Yes'] += 1\n",
    "        elif i <0:\n",
    "            did_it_work['No'] += 1\n",
    "    if did_it_work['No'] > 0:\n",
    "        print(column.name,'=', 'Not working')\n",
    "    else:\n",
    "        print(column.name,'=', 'It worked!')"
   ]
  },
  {
   "cell_type": "code",
   "execution_count": 6,
   "metadata": {
    "colab": {
     "base_uri": "https://localhost:8080/"
    },
    "id": "Gce-FFzDU9vL",
    "outputId": "b2dd8c84-660e-4cee-a0a2-5c8ea8b90586"
   },
   "outputs": [
    {
     "name": "stdout",
     "output_type": "stream",
     "text": [
      "qty_dot_url = It worked!\n",
      "qty_hyphen_url = It worked!\n",
      "qty_underline_url = It worked!\n",
      "qty_slash_url = It worked!\n",
      "qty_questionmark_url = It worked!\n",
      "qty_equal_url = It worked!\n",
      "qty_at_url = It worked!\n",
      "qty_and_url = It worked!\n",
      "qty_exclamation_url = It worked!\n",
      "qty_space_url = It worked!\n",
      "qty_tilde_url = It worked!\n",
      "qty_comma_url = It worked!\n",
      "qty_plus_url = It worked!\n",
      "qty_asterisk_url = It worked!\n",
      "qty_hashtag_url = It worked!\n",
      "qty_dollar_url = It worked!\n",
      "qty_percent_url = It worked!\n",
      "qty_tld_url = It worked!\n",
      "length_url = It worked!\n",
      "qty_dot_domain = It worked!\n",
      "qty_hyphen_domain = It worked!\n",
      "qty_underline_domain = It worked!\n",
      "qty_slash_domain = It worked!\n",
      "qty_questionmark_domain = It worked!\n",
      "qty_equal_domain = It worked!\n",
      "qty_at_domain = It worked!\n",
      "qty_and_domain = It worked!\n",
      "qty_exclamation_domain = It worked!\n",
      "qty_space_domain = It worked!\n",
      "qty_tilde_domain = It worked!\n",
      "qty_comma_domain = It worked!\n",
      "qty_plus_domain = It worked!\n",
      "qty_asterisk_domain = It worked!\n",
      "qty_hashtag_domain = It worked!\n",
      "qty_dollar_domain = It worked!\n",
      "qty_percent_domain = It worked!\n",
      "qty_vowels_domain = It worked!\n",
      "domain_length = It worked!\n",
      "domain_in_ip = It worked!\n",
      "server_client_domain = It worked!\n",
      "qty_dot_directory = It worked!\n",
      "qty_hyphen_directory = It worked!\n",
      "qty_underline_directory = It worked!\n",
      "qty_slash_directory = It worked!\n",
      "qty_questionmark_directory = It worked!\n",
      "qty_equal_directory = It worked!\n",
      "qty_at_directory = It worked!\n",
      "qty_and_directory = It worked!\n",
      "qty_exclamation_directory = It worked!\n",
      "qty_space_directory = It worked!\n",
      "qty_tilde_directory = It worked!\n",
      "qty_comma_directory = It worked!\n",
      "qty_plus_directory = It worked!\n",
      "qty_asterisk_directory = It worked!\n",
      "qty_hashtag_directory = It worked!\n",
      "qty_dollar_directory = It worked!\n",
      "qty_percent_directory = It worked!\n",
      "directory_length = It worked!\n",
      "qty_dot_file = It worked!\n",
      "qty_hyphen_file = It worked!\n",
      "qty_underline_file = It worked!\n",
      "qty_slash_file = It worked!\n",
      "qty_questionmark_file = It worked!\n",
      "qty_equal_file = It worked!\n",
      "qty_at_file = It worked!\n",
      "qty_and_file = It worked!\n",
      "qty_exclamation_file = It worked!\n",
      "qty_space_file = It worked!\n",
      "qty_tilde_file = It worked!\n",
      "qty_comma_file = It worked!\n",
      "qty_plus_file = It worked!\n",
      "qty_asterisk_file = It worked!\n",
      "qty_hashtag_file = It worked!\n",
      "qty_dollar_file = It worked!\n",
      "qty_percent_file = It worked!\n",
      "file_length = It worked!\n",
      "qty_dot_params = It worked!\n",
      "qty_hyphen_params = It worked!\n",
      "qty_underline_params = It worked!\n",
      "qty_slash_params = It worked!\n",
      "qty_questionmark_params = It worked!\n",
      "qty_equal_params = It worked!\n",
      "qty_at_params = It worked!\n",
      "qty_and_params = It worked!\n",
      "qty_exclamation_params = It worked!\n",
      "qty_space_params = It worked!\n",
      "qty_tilde_params = It worked!\n",
      "qty_comma_params = It worked!\n",
      "qty_plus_params = It worked!\n",
      "qty_asterisk_params = It worked!\n",
      "qty_hashtag_params = It worked!\n",
      "qty_dollar_params = It worked!\n",
      "qty_percent_params = It worked!\n",
      "params_length = It worked!\n",
      "tld_present_params = It worked!\n",
      "qty_params = It worked!\n",
      "email_in_url = It worked!\n",
      "time_response = It worked!\n",
      "domain_spf = It worked!\n",
      "asn_ip = It worked!\n",
      "time_domain_activation = It worked!\n",
      "time_domain_expiration = It worked!\n",
      "qty_ip_resolved = It worked!\n",
      "qty_nameservers = It worked!\n",
      "qty_mx_servers = It worked!\n",
      "ttl_hostname = It worked!\n",
      "tls_ssl_certificate = It worked!\n",
      "qty_redirects = It worked!\n",
      "url_google_index = It worked!\n",
      "domain_google_index = It worked!\n",
      "url_shortened = It worked!\n",
      "phishing = It worked!\n"
     ]
    }
   ],
   "source": [
    "for col in full_df.columns.tolist():\n",
    "    data_cleaning_unit_test(full_df[col])"
   ]
  },
  {
   "cell_type": "markdown",
   "metadata": {
    "id": "ZUuo04VLzBkB"
   },
   "source": [
    "---\n",
    "\n",
    "# Keras Sequential NN model on entire dataset\n",
    "\n",
    "---"
   ]
  },
  {
   "cell_type": "code",
   "execution_count": 7,
   "metadata": {
    "colab": {
     "base_uri": "https://localhost:8080/",
     "height": 253
    },
    "id": "Uyt5-sN-7p1H",
    "outputId": "84d0abc1-bab5-49ae-89de-0f68874238ef"
   },
   "outputs": [
    {
     "data": {
      "text/html": [
       "<div>\n",
       "<style scoped>\n",
       "    .dataframe tbody tr th:only-of-type {\n",
       "        vertical-align: middle;\n",
       "    }\n",
       "\n",
       "    .dataframe tbody tr th {\n",
       "        vertical-align: top;\n",
       "    }\n",
       "\n",
       "    .dataframe thead th {\n",
       "        text-align: right;\n",
       "    }\n",
       "</style>\n",
       "<table border=\"1\" class=\"dataframe\">\n",
       "  <thead>\n",
       "    <tr style=\"text-align: right;\">\n",
       "      <th></th>\n",
       "      <th>qty_dot_url</th>\n",
       "      <th>qty_hyphen_url</th>\n",
       "      <th>qty_underline_url</th>\n",
       "      <th>qty_slash_url</th>\n",
       "      <th>qty_questionmark_url</th>\n",
       "      <th>qty_equal_url</th>\n",
       "      <th>qty_at_url</th>\n",
       "      <th>qty_and_url</th>\n",
       "      <th>qty_exclamation_url</th>\n",
       "      <th>qty_space_url</th>\n",
       "      <th>...</th>\n",
       "      <th>time_domain_expiration</th>\n",
       "      <th>qty_ip_resolved</th>\n",
       "      <th>qty_nameservers</th>\n",
       "      <th>qty_mx_servers</th>\n",
       "      <th>ttl_hostname</th>\n",
       "      <th>tls_ssl_certificate</th>\n",
       "      <th>qty_redirects</th>\n",
       "      <th>url_google_index</th>\n",
       "      <th>domain_google_index</th>\n",
       "      <th>url_shortened</th>\n",
       "    </tr>\n",
       "  </thead>\n",
       "  <tbody>\n",
       "    <tr>\n",
       "      <th>5676</th>\n",
       "      <td>1</td>\n",
       "      <td>0</td>\n",
       "      <td>0</td>\n",
       "      <td>1</td>\n",
       "      <td>0</td>\n",
       "      <td>0</td>\n",
       "      <td>0</td>\n",
       "      <td>0</td>\n",
       "      <td>0</td>\n",
       "      <td>0</td>\n",
       "      <td>...</td>\n",
       "      <td>209</td>\n",
       "      <td>1</td>\n",
       "      <td>6</td>\n",
       "      <td>2</td>\n",
       "      <td>3011</td>\n",
       "      <td>1</td>\n",
       "      <td>0</td>\n",
       "      <td>0</td>\n",
       "      <td>0</td>\n",
       "      <td>0</td>\n",
       "    </tr>\n",
       "    <tr>\n",
       "      <th>39002</th>\n",
       "      <td>3</td>\n",
       "      <td>0</td>\n",
       "      <td>0</td>\n",
       "      <td>0</td>\n",
       "      <td>0</td>\n",
       "      <td>0</td>\n",
       "      <td>0</td>\n",
       "      <td>0</td>\n",
       "      <td>0</td>\n",
       "      <td>0</td>\n",
       "      <td>...</td>\n",
       "      <td>2625</td>\n",
       "      <td>4</td>\n",
       "      <td>4</td>\n",
       "      <td>2</td>\n",
       "      <td>247</td>\n",
       "      <td>1</td>\n",
       "      <td>1</td>\n",
       "      <td>0</td>\n",
       "      <td>0</td>\n",
       "      <td>0</td>\n",
       "    </tr>\n",
       "    <tr>\n",
       "      <th>1732</th>\n",
       "      <td>2</td>\n",
       "      <td>0</td>\n",
       "      <td>0</td>\n",
       "      <td>0</td>\n",
       "      <td>0</td>\n",
       "      <td>0</td>\n",
       "      <td>0</td>\n",
       "      <td>0</td>\n",
       "      <td>0</td>\n",
       "      <td>0</td>\n",
       "      <td>...</td>\n",
       "      <td>350</td>\n",
       "      <td>1</td>\n",
       "      <td>2</td>\n",
       "      <td>1</td>\n",
       "      <td>14399</td>\n",
       "      <td>0</td>\n",
       "      <td>0</td>\n",
       "      <td>0</td>\n",
       "      <td>0</td>\n",
       "      <td>0</td>\n",
       "    </tr>\n",
       "    <tr>\n",
       "      <th>39668</th>\n",
       "      <td>2</td>\n",
       "      <td>0</td>\n",
       "      <td>0</td>\n",
       "      <td>0</td>\n",
       "      <td>0</td>\n",
       "      <td>0</td>\n",
       "      <td>0</td>\n",
       "      <td>0</td>\n",
       "      <td>0</td>\n",
       "      <td>0</td>\n",
       "      <td>...</td>\n",
       "      <td>97</td>\n",
       "      <td>1</td>\n",
       "      <td>2</td>\n",
       "      <td>4</td>\n",
       "      <td>7199</td>\n",
       "      <td>0</td>\n",
       "      <td>1</td>\n",
       "      <td>0</td>\n",
       "      <td>0</td>\n",
       "      <td>0</td>\n",
       "    </tr>\n",
       "    <tr>\n",
       "      <th>82035</th>\n",
       "      <td>2</td>\n",
       "      <td>0</td>\n",
       "      <td>0</td>\n",
       "      <td>0</td>\n",
       "      <td>0</td>\n",
       "      <td>0</td>\n",
       "      <td>0</td>\n",
       "      <td>0</td>\n",
       "      <td>0</td>\n",
       "      <td>0</td>\n",
       "      <td>...</td>\n",
       "      <td>269</td>\n",
       "      <td>1</td>\n",
       "      <td>4</td>\n",
       "      <td>4</td>\n",
       "      <td>21598</td>\n",
       "      <td>0</td>\n",
       "      <td>0</td>\n",
       "      <td>0</td>\n",
       "      <td>0</td>\n",
       "      <td>0</td>\n",
       "    </tr>\n",
       "  </tbody>\n",
       "</table>\n",
       "<p>5 rows × 111 columns</p>\n",
       "</div>"
      ],
      "text/plain": [
       "       qty_dot_url  qty_hyphen_url  qty_underline_url  qty_slash_url  \\\n",
       "5676             1               0                  0              1   \n",
       "39002            3               0                  0              0   \n",
       "1732             2               0                  0              0   \n",
       "39668            2               0                  0              0   \n",
       "82035            2               0                  0              0   \n",
       "\n",
       "       qty_questionmark_url  qty_equal_url  qty_at_url  qty_and_url  \\\n",
       "5676                      0              0           0            0   \n",
       "39002                     0              0           0            0   \n",
       "1732                      0              0           0            0   \n",
       "39668                     0              0           0            0   \n",
       "82035                     0              0           0            0   \n",
       "\n",
       "       qty_exclamation_url  qty_space_url  ...  time_domain_expiration  \\\n",
       "5676                     0              0  ...                     209   \n",
       "39002                    0              0  ...                    2625   \n",
       "1732                     0              0  ...                     350   \n",
       "39668                    0              0  ...                      97   \n",
       "82035                    0              0  ...                     269   \n",
       "\n",
       "       qty_ip_resolved  qty_nameservers  qty_mx_servers  ttl_hostname  \\\n",
       "5676                 1                6               2          3011   \n",
       "39002                4                4               2           247   \n",
       "1732                 1                2               1         14399   \n",
       "39668                1                2               4          7199   \n",
       "82035                1                4               4         21598   \n",
       "\n",
       "       tls_ssl_certificate  qty_redirects  url_google_index  \\\n",
       "5676                     1              0                 0   \n",
       "39002                    1              1                 0   \n",
       "1732                     0              0                 0   \n",
       "39668                    0              1                 0   \n",
       "82035                    0              0                 0   \n",
       "\n",
       "       domain_google_index  url_shortened  \n",
       "5676                     0              0  \n",
       "39002                    0              0  \n",
       "1732                     0              0  \n",
       "39668                    0              0  \n",
       "82035                    0              0  \n",
       "\n",
       "[5 rows x 111 columns]"
      ]
     },
     "execution_count": 7,
     "metadata": {},
     "output_type": "execute_result"
    }
   ],
   "source": [
    "y = full_df.iloc[:,-1]\n",
    "\n",
    "X = full_df.iloc[:,0:111]\n",
    "\n",
    "train_X, val_X, train_y, val_y = train_test_split(X, y, test_size=0.25, random_state=808)\n",
    "\n",
    "train_X.head()"
   ]
  },
  {
   "cell_type": "code",
   "execution_count": 8,
   "metadata": {
    "colab": {
     "base_uri": "https://localhost:8080/"
    },
    "id": "8L1OV6fg7py7",
    "outputId": "c0b6f0bf-129f-49dc-d2e3-af42ab1a9986"
   },
   "outputs": [
    {
     "name": "stdout",
     "output_type": "stream",
     "text": [
      "WARNING:tensorflow:From C:\\Users\\jorda\\anaconda3\\lib\\site-packages\\tensorflow\\python\\ops\\init_ops.py:1251: calling VarianceScaling.__init__ (from tensorflow.python.ops.init_ops) with dtype is deprecated and will be removed in a future version.\n",
      "Instructions for updating:\n",
      "Call initializer instance with the dtype argument instead of passing it to the constructor\n",
      "WARNING:tensorflow:From C:\\Users\\jorda\\anaconda3\\lib\\site-packages\\tensorflow\\python\\ops\\nn_impl.py:180: add_dispatch_support.<locals>.wrapper (from tensorflow.python.ops.array_ops) is deprecated and will be removed in a future version.\n",
      "Instructions for updating:\n",
      "Use tf.where in 2.0, which has the same broadcast rule as np.where\n",
      "Model: \"sequential\"\n",
      "_________________________________________________________________\n",
      "Layer (type)                 Output Shape              Param #   \n",
      "=================================================================\n",
      "dense (Dense)                (None, 64)                7168      \n",
      "_________________________________________________________________\n",
      "batch_normalization (BatchNo (None, 64)                256       \n",
      "_________________________________________________________________\n",
      "dropout (Dropout)            (None, 64)                0         \n",
      "_________________________________________________________________\n",
      "dense_1 (Dense)              (None, 64)                4160      \n",
      "_________________________________________________________________\n",
      "batch_normalization_1 (Batch (None, 64)                256       \n",
      "_________________________________________________________________\n",
      "dropout_1 (Dropout)          (None, 64)                0         \n",
      "_________________________________________________________________\n",
      "dense_2 (Dense)              (None, 50)                3250      \n",
      "_________________________________________________________________\n",
      "batch_normalization_2 (Batch (None, 50)                200       \n",
      "_________________________________________________________________\n",
      "dropout_2 (Dropout)          (None, 50)                0         \n",
      "_________________________________________________________________\n",
      "dense_3 (Dense)              (None, 32)                1632      \n",
      "_________________________________________________________________\n",
      "batch_normalization_3 (Batch (None, 32)                128       \n",
      "_________________________________________________________________\n",
      "dropout_3 (Dropout)          (None, 32)                0         \n",
      "_________________________________________________________________\n",
      "dense_4 (Dense)              (None, 32)                1056      \n",
      "_________________________________________________________________\n",
      "batch_normalization_4 (Batch (None, 32)                128       \n",
      "_________________________________________________________________\n",
      "dropout_4 (Dropout)          (None, 32)                0         \n",
      "_________________________________________________________________\n",
      "dense_5 (Dense)              (None, 16)                528       \n",
      "_________________________________________________________________\n",
      "batch_normalization_5 (Batch (None, 16)                64        \n",
      "_________________________________________________________________\n",
      "dropout_5 (Dropout)          (None, 16)                0         \n",
      "_________________________________________________________________\n",
      "dense_6 (Dense)              (None, 16)                272       \n",
      "_________________________________________________________________\n",
      "batch_normalization_6 (Batch (None, 16)                64        \n",
      "_________________________________________________________________\n",
      "dropout_6 (Dropout)          (None, 16)                0         \n",
      "_________________________________________________________________\n",
      "dense_7 (Dense)              (None, 111)               1887      \n",
      "_________________________________________________________________\n",
      "batch_normalization_7 (Batch (None, 111)               444       \n",
      "_________________________________________________________________\n",
      "flatten (Flatten)            (None, 111)               0         \n",
      "_________________________________________________________________\n",
      "dense_8 (Dense)              (None, 1)                 112       \n",
      "=================================================================\n",
      "Total params: 21,605\n",
      "Trainable params: 20,835\n",
      "Non-trainable params: 770\n",
      "_________________________________________________________________\n"
     ]
    }
   ],
   "source": [
    "tf.keras.backend.clear_session() #clear tensorflow backend to help with memory leakage\n",
    "\n",
    "nn_mod_1 = keras.Sequential([\n",
    "                          layers.InputLayer(input_shape=[111]),                   # first layer - input - number of columns in X\n",
    "                          layers.Dense(units=64, activation='relu'),              # second layer - first dense layer - 64 output neurons w/ rectified linear unit activation\n",
    "                          layers.BatchNormalization(),                            # third layer - first batch normalization\n",
    "                          layers.Dropout(0.2),                                    # fourth layer - first dropout layer - drop 20% of neurons\n",
    "                          layers.Dense(units=64, activation='relu'),              # fifth layer - second dense layer - 64 output neurons w/ ReLU activation\n",
    "                          layers.BatchNormalization(),                            # sixth layer - second batch normalization\n",
    "                          layers.Dropout(0.2),                                    # seventh layer - second dropout layer - drop 20% of neurons \n",
    "                          layers.Dense(units=50, activation='relu'),              # eighth layer -  third dense layer - 50 output neurons w/ ReLU activation\n",
    "                          layers.BatchNormalization(),                            # ninth layer - third batch normalization\n",
    "                          layers.Dropout(0.20),                                   # tenth layer - third dropout layer - drop 20% of neurons\n",
    "                          layers.Dense(units=32, activation='relu'),              # eleventh layer - fourth dense layer - 32 output neurons w/ ReLU activation \n",
    "                          layers.BatchNormalization(),                            # twelfth layer - fourth batch normalization\n",
    "                          layers.Dropout(0.2),                                    # thirteenth layer - fourth dropout layer - drop 20% of neurons\n",
    "                          layers.Dense(units=32, activation='relu'),              # fourteenth layer - fifth dense layer - 32 output neurons w/ ReLU activation\n",
    "                          layers.BatchNormalization(),                            # fifteenth layer - fifth batch normalization\n",
    "                          layers.Dropout(0.2),                                    # sixteenth layer - fifth dropout layer - drop 20% of neurons\n",
    "                          layers.Dense(units=16, activation='relu'),              # seventeenth layer - sixth dense layer - 16 output neurons w/ ReLU activation\n",
    "                          layers.BatchNormalization(),                            # eighteenth layer - sixth batch normalization\n",
    "                          layers.Dropout(0.40),                                   # nineteenth layer - sixth dropout layer - drop 40% of neurons\n",
    "                          layers.Dense(units=16, activation='relu'),              # twentieth layer - seventh dense layer - 16 output neurons w/ ReLU activation\n",
    "                          layers.BatchNormalization(),                            # twenty-first layer - seventh batch normalization\n",
    "                          layers.Dropout(0.40),                                   # twenty-second layer - seventh dropout layer - drop 40% of neurons\n",
    "                          layers.Dense(units=111, activation='relu'),             # twenty-third layer - eighth dense layer - 111 output neurons w/ ReLU activation\n",
    "                          layers.BatchNormalization(),                            # twenty-fourth layer - eighth batch normalization\n",
    "                          layers.Flatten(),                                       # twenty-fifth layer - flatten - adds column to X for predictions to fit\n",
    "                          layers.Dense(units=1, activation='sigmoid')             # twenty-sixth layer - output layer - 1 output neuron w/ sigmoid activation (preds <> 0, 1)\n",
    "])\n",
    "\n",
    "nn_mod_1.compile(\n",
    "    optimizer='adam', #best optimizer for noise, easy computation\n",
    "    loss='binary_crossentropy', #crossentropy between preds and val_y; preds are between 0 & 1 so we use binary\n",
    "    metrics=[tf.keras.metrics.BinaryAccuracy(threshold=0.5), #binary accuracy between preds and val_y with 0.5 threshold\n",
    "             tf.keras.metrics.AUC(), # measuring AUC (obviously) through internal measures of TP, TN, FP, FN\n",
    "             ]\n",
    ")\n",
    "\n",
    "# early stopping callback will monitor the validation data's binary accuracy for it's maximum value\n",
    "# & 25 epochs after reaching the maximum value, the model will stop running and restore the best layer weights measured.\n",
    "# I don't actually want this to run for anywhere near 500 epochs but this gives it the flexibility to learn as long as needed\n",
    "\n",
    "earlystopping = callbacks.EarlyStopping(monitor = 'val_binary_accuracy', mode = 'max',\n",
    "                                       patience = 25, restore_best_weights = True)\n",
    "\n",
    "# this will output a table of the layers, each layer output shape, and the parameters measured by the model\n",
    "nn_mod_1.summary()"
   ]
  },
  {
   "cell_type": "markdown",
   "metadata": {},
   "source": [
    "### this fit method:\n",
    " - does not use the original validation split (25%) during model fitting to allow for more accurate evaluation and preditions later on\n",
    " - the 75% training split (train_X, train_y) is split 70/30 during model fitting and each epoch the 70/30 split is, well, shuffled \n",
    " - the epochs are set to 250 (250 iterations) but the early stopping callback should keep the epochs significantly less than that\n",
    " - the batch_size is how many rows are fed into the model at a time\n",
    " - there are 8 workers to *hopefully* help it run faster, in addition to the early stopping callback being applied"
   ]
  },
  {
   "cell_type": "code",
   "execution_count": 9,
   "metadata": {
    "colab": {
     "base_uri": "https://localhost:8080/"
    },
    "id": "umxFYgEP7pwr",
    "outputId": "0dddeca1-ba32-41d9-e67b-fb5578b662c0",
    "scrolled": true
   },
   "outputs": [],
   "source": [
    "history1 = nn_mod_1.fit(train_X, train_y, validation_split=0.30, shuffle=True, batch_size=1500, epochs=250, callbacks = [earlystopping], workers=8, verbose=0)\n",
    "# for a more detailed output, verbosity can be changed to verbose=1"
   ]
  },
  {
   "cell_type": "code",
   "execution_count": 10,
   "metadata": {
    "colab": {
     "base_uri": "https://localhost:8080/",
     "height": 277
    },
    "id": "muIvYULG7pum",
    "outputId": "4b190e22-1084-4dac-94c5-703f3cdc87bb"
   },
   "outputs": [
    {
     "data": {
      "text/html": [
       "<div>\n",
       "<style scoped>\n",
       "    .dataframe tbody tr th:only-of-type {\n",
       "        vertical-align: middle;\n",
       "    }\n",
       "\n",
       "    .dataframe tbody tr th {\n",
       "        vertical-align: top;\n",
       "    }\n",
       "\n",
       "    .dataframe thead th {\n",
       "        text-align: right;\n",
       "    }\n",
       "</style>\n",
       "<table border=\"1\" class=\"dataframe\">\n",
       "  <thead>\n",
       "    <tr style=\"text-align: right;\">\n",
       "      <th></th>\n",
       "      <th>loss</th>\n",
       "      <th>binary_accuracy</th>\n",
       "      <th>auc</th>\n",
       "      <th>val_loss</th>\n",
       "      <th>val_binary_accuracy</th>\n",
       "      <th>val_auc</th>\n",
       "    </tr>\n",
       "  </thead>\n",
       "  <tbody>\n",
       "    <tr>\n",
       "      <th>count</th>\n",
       "      <td>108.000000</td>\n",
       "      <td>108.000000</td>\n",
       "      <td>108.000000</td>\n",
       "      <td>108.000000</td>\n",
       "      <td>108.000000</td>\n",
       "      <td>108.000000</td>\n",
       "    </tr>\n",
       "    <tr>\n",
       "      <th>mean</th>\n",
       "      <td>0.308920</td>\n",
       "      <td>0.862551</td>\n",
       "      <td>0.919491</td>\n",
       "      <td>0.307714</td>\n",
       "      <td>0.864109</td>\n",
       "      <td>0.936570</td>\n",
       "    </tr>\n",
       "    <tr>\n",
       "      <th>std</th>\n",
       "      <td>0.111323</td>\n",
       "      <td>0.075011</td>\n",
       "      <td>0.078953</td>\n",
       "      <td>0.130594</td>\n",
       "      <td>0.079758</td>\n",
       "      <td>0.074731</td>\n",
       "    </tr>\n",
       "    <tr>\n",
       "      <th>min</th>\n",
       "      <td>0.212944</td>\n",
       "      <td>0.537377</td>\n",
       "      <td>0.531332</td>\n",
       "      <td>0.191180</td>\n",
       "      <td>0.647398</td>\n",
       "      <td>0.475400</td>\n",
       "    </tr>\n",
       "    <tr>\n",
       "      <th>25%</th>\n",
       "      <td>0.235900</td>\n",
       "      <td>0.852296</td>\n",
       "      <td>0.918490</td>\n",
       "      <td>0.217855</td>\n",
       "      <td>0.859433</td>\n",
       "      <td>0.946735</td>\n",
       "    </tr>\n",
       "    <tr>\n",
       "      <th>50%</th>\n",
       "      <td>0.260073</td>\n",
       "      <td>0.895314</td>\n",
       "      <td>0.952994</td>\n",
       "      <td>0.249255</td>\n",
       "      <td>0.896546</td>\n",
       "      <td>0.967756</td>\n",
       "    </tr>\n",
       "    <tr>\n",
       "      <th>75%</th>\n",
       "      <td>0.344599</td>\n",
       "      <td>0.905902</td>\n",
       "      <td>0.961400</td>\n",
       "      <td>0.337138</td>\n",
       "      <td>0.917214</td>\n",
       "      <td>0.973163</td>\n",
       "    </tr>\n",
       "    <tr>\n",
       "      <th>max</th>\n",
       "      <td>0.733289</td>\n",
       "      <td>0.917682</td>\n",
       "      <td>0.968222</td>\n",
       "      <td>0.737526</td>\n",
       "      <td>0.931014</td>\n",
       "      <td>0.977057</td>\n",
       "    </tr>\n",
       "  </tbody>\n",
       "</table>\n",
       "</div>"
      ],
      "text/plain": [
       "             loss  binary_accuracy         auc    val_loss  \\\n",
       "count  108.000000       108.000000  108.000000  108.000000   \n",
       "mean     0.308920         0.862551    0.919491    0.307714   \n",
       "std      0.111323         0.075011    0.078953    0.130594   \n",
       "min      0.212944         0.537377    0.531332    0.191180   \n",
       "25%      0.235900         0.852296    0.918490    0.217855   \n",
       "50%      0.260073         0.895314    0.952994    0.249255   \n",
       "75%      0.344599         0.905902    0.961400    0.337138   \n",
       "max      0.733289         0.917682    0.968222    0.737526   \n",
       "\n",
       "       val_binary_accuracy     val_auc  \n",
       "count           108.000000  108.000000  \n",
       "mean              0.864109    0.936570  \n",
       "std               0.079758    0.074731  \n",
       "min               0.647398    0.475400  \n",
       "25%               0.859433    0.946735  \n",
       "50%               0.896546    0.967756  \n",
       "75%               0.917214    0.973163  \n",
       "max               0.931014    0.977057  "
      ]
     },
     "execution_count": 10,
     "metadata": {},
     "output_type": "execute_result"
    }
   ],
   "source": [
    "#turn model fit metric measures into a pandas dataframe\n",
    "\n",
    "history_df1 = pd.DataFrame(history1.history)\n",
    "\n",
    "history_df1.describe()"
   ]
  },
  {
   "cell_type": "markdown",
   "metadata": {
    "id": "XPDWBW-zoQPA"
   },
   "source": [
    "## evaluating the model and getting the overall model metrics following model fitting"
   ]
  },
  {
   "cell_type": "code",
   "execution_count": 11,
   "metadata": {
    "colab": {
     "base_uri": "https://localhost:8080/"
    },
    "id": "QDRvjAls7psK",
    "outputId": "23ba4ee3-323f-4d37-c95e-88e6c4d04712"
   },
   "outputs": [
    {
     "name": "stdout",
     "output_type": "stream",
     "text": [
      "66485/66485 [==============================] - 10s 146us/sample - loss: 0.1947 - binary_accuracy: 0.9308 - auc: 0.9766\n",
      "22162/22162 [==============================] - 3s 143us/sample - loss: 0.1965 - binary_accuracy: 0.9296 - auc: 0.9766\n"
     ]
    }
   ],
   "source": [
    "#tf.keras function to evaluate the model & record best metrics\n",
    "\n",
    "train_acc = nn_mod_1.evaluate(train_X, train_y)  # evaluation w/ best measures of training data -- aka model fit\n",
    "test_acc = nn_mod_1.evaluate(val_X, val_y)       # evaluation w/ best measures of validation/testing data -- the model hasn't seen this data before so super important!"
   ]
  },
  {
   "cell_type": "code",
   "execution_count": 12,
   "metadata": {
    "colab": {
     "base_uri": "https://localhost:8080/"
    },
    "id": "ahig1f-Z7ppm",
    "outputId": "3e9c369b-1770-4002-f0df-fd8edc5d256f"
   },
   "outputs": [
    {
     "data": {
      "text/plain": [
       "{'loss': 0.19652771030228852, 'binary_accuracy': 0.9295641, 'auc': 0.9766177}"
      ]
     },
     "execution_count": 12,
     "metadata": {},
     "output_type": "execute_result"
    }
   ],
   "source": [
    "# display validation/testing evaluation metrics in a different way\n",
    "\n",
    "dict(zip(nn_mod_1.metrics_names, test_acc))"
   ]
  },
  {
   "cell_type": "markdown",
   "metadata": {
    "id": "V4V9I4_yoQPB"
   },
   "source": [
    "### graphs of the training vs. validation metrics across model fitting"
   ]
  },
  {
   "cell_type": "code",
   "execution_count": 13,
   "metadata": {
    "colab": {
     "base_uri": "https://localhost:8080/",
     "height": 281
    },
    "id": "2D__R-yv7plw",
    "outputId": "1a83c4e3-9c71-4496-e880-970996150806"
   },
   "outputs": [
    {
     "name": "stdout",
     "output_type": "stream",
     "text": [
      "Minimum validation loss (binary_crossentropy): 0.1911802718539684\n"
     ]
    },
    {
     "data": {
      "image/png": "[encoded data removed]",
      "text/plain": [
       "<Figure size 432x288 with 1 Axes>"
      ]
     },
     "metadata": {
      "needs_background": "light"
     },
     "output_type": "display_data"
    }
   ],
   "source": [
    "history_df1.loc[:, ['loss', 'val_loss']].plot();\n",
    "print(\"Minimum validation loss (binary_crossentropy): {}\".format(history_df1['val_loss'].min()))"
   ]
  },
  {
   "cell_type": "code",
   "execution_count": 14,
   "metadata": {
    "colab": {
     "base_uri": "https://localhost:8080/",
     "height": 281
    },
    "id": "fo_odY_Z-Fc-",
    "outputId": "151dfc5a-1714-4ece-d52f-ee7aab88d502"
   },
   "outputs": [
    {
     "name": "stdout",
     "output_type": "stream",
     "text": [
      "Maximum AUC: 0.977056622505188\n"
     ]
    },
    {
     "data": {
      "image/png": "[encoded data removed]",
      "text/plain": [
       "<Figure size 432x288 with 1 Axes>"
      ]
     },
     "metadata": {
      "needs_background": "light"
     },
     "output_type": "display_data"
    }
   ],
   "source": [
    "history_df1.loc[:, ['auc', 'val_auc']].plot();\n",
    "print(\"Maximum AUC: {}\".format(history_df1['val_auc'].max()))"
   ]
  },
  {
   "cell_type": "code",
   "execution_count": 15,
   "metadata": {
    "colab": {
     "base_uri": "https://localhost:8080/",
     "height": 281
    },
    "id": "sAvi3T0k-FaZ",
    "outputId": "28854671-7e9a-47dc-c7f1-ba7259c2ecba"
   },
   "outputs": [
    {
     "name": "stdout",
     "output_type": "stream",
     "text": [
      "Maximum validation binary accuracy: 0.9310137629508972\n"
     ]
    },
    {
     "data": {
      "image/png": "[encoded data removed]",
      "text/plain": [
       "<Figure size 432x288 with 1 Axes>"
      ]
     },
     "metadata": {
      "needs_background": "light"
     },
     "output_type": "display_data"
    }
   ],
   "source": [
    "history_df1.loc[:, ['binary_accuracy', 'val_binary_accuracy']].plot();\n",
    "print(\"Maximum validation binary accuracy: {}\".format(history_df1['val_binary_accuracy'].max()))"
   ]
  },
  {
   "cell_type": "markdown",
   "metadata": {
    "id": "cxyK2GDAoQPC"
   },
   "source": [
    "## making probablistic predictions"
   ]
  },
  {
   "cell_type": "code",
   "execution_count": 16,
   "metadata": {},
   "outputs": [
    {
     "data": {
      "text/plain": [
       "array([[0.9187473 ],\n",
       "       [0.00912759],\n",
       "       [0.5828626 ],\n",
       "       ...,\n",
       "       [0.04503793],\n",
       "       [0.01115325],\n",
       "       [0.914149  ]], dtype=float32)"
      ]
     },
     "execution_count": 16,
     "metadata": {},
     "output_type": "execute_result"
    }
   ],
   "source": [
    "preds = nn_mod_1.predict(val_X) # this is tf.keras function & could be called on the entire dataset but it's not fair to ask the model to predict on data already seen\n",
    "preds"
   ]
  },
  {
   "cell_type": "markdown",
   "metadata": {},
   "source": [
    "## making binary predictions"
   ]
  },
  {
   "cell_type": "code",
   "execution_count": 17,
   "metadata": {
    "colab": {
     "base_uri": "https://localhost:8080/"
    },
    "id": "imHHWk12-FYT",
    "outputId": "84c8eb19-a8fa-4bcd-f58e-fee4e2f70a27"
   },
   "outputs": [
    {
     "data": {
      "text/plain": [
       "array([[1],\n",
       "       [0],\n",
       "       [1],\n",
       "       ...,\n",
       "       [0],\n",
       "       [0],\n",
       "       [1]])"
      ]
     },
     "execution_count": 17,
     "metadata": {},
     "output_type": "execute_result"
    }
   ],
   "source": [
    "preds1 = (nn_mod_1.predict(val_X) > 0.5).astype('int32') # this is tf.keras function & could be called on the entire dataset but it's not fair to ask the model to predict on data already seen\n",
    "preds1"
   ]
  },
  {
   "cell_type": "code",
   "execution_count": 18,
   "metadata": {},
   "outputs": [
    {
     "name": "stdout",
     "output_type": "stream",
     "text": [
      "[[13432  1087]\n",
      " [  474  7169]]\n"
     ]
    }
   ],
   "source": [
    "#confusion matrix of the predictions & the actual values\n",
    "cm1 = confusion_matrix(val_y, preds1)\n",
    "print(cm1)"
   ]
  },
  {
   "cell_type": "code",
   "execution_count": 19,
   "metadata": {},
   "outputs": [
    {
     "data": {
      "image/png": "[encoded data removed]",
      "text/plain": [
       "<Figure size 432x288 with 2 Axes>"
      ]
     },
     "metadata": {
      "needs_background": "light"
     },
     "output_type": "display_data"
    }
   ],
   "source": [
    "sns.heatmap(cm1, annot=True, fmt='d', linewidths=0.5, xticklabels=True, yticklabels=True)\n",
    "plt.xlabel('Actual')\n",
    "plt.ylabel('Predicted')\n",
    "plt.show()"
   ]
  },
  {
   "cell_type": "code",
   "execution_count": 20,
   "metadata": {},
   "outputs": [
    {
     "name": "stdout",
     "output_type": "stream",
     "text": [
      "The accuracy score for the model is: 0.9295641187618446\n",
      "The F1 score for the model is: 0.9018177243851815\n",
      "The precision-recall score is: 0.87\n",
      "The recall score is: 0.938\n"
     ]
    }
   ],
   "source": [
    "acc1 = accuracy_score(val_y, preds1)\n",
    "f1s1 = f1_score(val_y, preds1)\n",
    "precis1 = precision_score(val_y, preds1, average='binary')\n",
    "rec1 = recall_score(val_y, preds1, average='binary')\n",
    "\n",
    "print('The accuracy score for the model is:', acc1)\n",
    "print('The F1 score for the model is:', f1s1)\n",
    "print('The precision-recall score is: {0:0.2f}'.format(precis1))\n",
    "print('The recall score is: %.3f' % rec1)"
   ]
  },
  {
   "cell_type": "markdown",
   "metadata": {
    "id": "Vi_xm1LgUlOg"
   },
   "source": [
    "---\n",
    "# NN in a more deployable format\n",
    "\n",
    "## this is the model format to be used in the .py file for deployment\n",
    "\n",
    "### this format also allows for cross-validation to validate the model's integrity/results\n",
    " - the cross-validation is the most time consuming portion of the notebook, fyi\n",
    "\n",
    "---"
   ]
  },
  {
   "cell_type": "code",
   "execution_count": 21,
   "metadata": {
    "id": "zJtoHaTV8Qcb"
   },
   "outputs": [],
   "source": [
    "tf.keras.backend.clear_session()\n",
    "\n",
    "earlystopping = callbacks.EarlyStopping(monitor = 'val_acc', mode = 'max', #this needs to be changed to 'val_accuracy' if running in a colab notebook (for some reason jupyter is different)\n",
    "                                         patience = 25, restore_best_weights = True)\n",
    "\n",
    "# building the model as a callable function for easier use with the sklearn wrapper\n",
    "\n",
    "def phish_nn():\n",
    "  model = keras.Sequential()\n",
    "  model.add(tf.keras.layers.InputLayer(input_shape=[111]))\n",
    "  model.add(tf.keras.layers.Dense(units=64, activation='relu'))\n",
    "  model.add(tf.keras.layers.BatchNormalization())\n",
    "  model.add(tf.keras.layers.Dropout(0.2))\n",
    "  model.add(tf.keras.layers.Dense(units=64, activation='relu'))\n",
    "  model.add(tf.keras.layers.BatchNormalization())\n",
    "  model.add(tf.keras.layers.Dropout(0.2))\n",
    "  model.add(tf.keras.layers.Dense(units=50, activation='relu'))\n",
    "  model.add(tf.keras.layers.BatchNormalization())\n",
    "  model.add(tf.keras.layers.Dropout(0.20))\n",
    "  model.add(tf.keras.layers.Dense(units=32, activation='relu'))\n",
    "  model.add(tf.keras.layers.BatchNormalization())\n",
    "  model.add(tf.keras.layers.Dropout(0.2))\n",
    "  model.add(tf.keras.layers.Dense(units=32, activation='relu'))\n",
    "  model.add(tf.keras.layers.BatchNormalization())\n",
    "  model.add(tf.keras.layers.Dropout(0.2))\n",
    "  model.add(tf.keras.layers.Dense(units=16, activation='relu'))\n",
    "  model.add(tf.keras.layers.BatchNormalization())\n",
    "  model.add(tf.keras.layers.Dropout(0.40))\n",
    "  model.add(tf.keras.layers.Dense(units=16, activation='relu'))\n",
    "  model.add(tf.keras.layers.BatchNormalization())\n",
    "  model.add(tf.keras.layers.Dropout(0.40))\n",
    "  model.add(tf.keras.layers.Dense(units=111, activation='relu'))\n",
    "  model.add(tf.keras.layers.BatchNormalization())\n",
    "  model.add(tf.keras.layers.Flatten())\n",
    "  model.add(tf.keras.layers.Dense(units=1, activation='sigmoid'))\n",
    "  model.compile(optimizer='adam', loss='binary_crossentropy', metrics=['accuracy']) #had to slightly alter these parameters per the limitations on metric measuring in the sklearn wrapper\n",
    "  model.fit(train_X, train_y, validation_split=0.30, batch_size= 1500, epochs=250, callbacks = [earlystopping], workers=8, verbose=0)\n",
    "  (model.predict(val_X) > 0.5).astype(\"int32\") #give the model the ability to predict as above\n",
    "  model.evaluate(val_X, val_y) #give the model the ability to evaluate like was done above\n",
    "  return model"
   ]
  },
  {
   "cell_type": "code",
   "execution_count": 22,
   "metadata": {
    "id": "dh4qppW9FZRj"
   },
   "outputs": [],
   "source": [
    "mod = KerasClassifier(build_fn=phish_nn,\n",
    "                        epochs=15,\n",
    "                        batch_size=1500, verbose=0)\n",
    "\n",
    "num_folds=5\n",
    "kfold=StratifiedKFold(n_splits=num_folds, shuffle=True)"
   ]
  },
  {
   "cell_type": "code",
   "execution_count": 23,
   "metadata": {
    "colab": {
     "base_uri": "https://localhost:8080/"
    },
    "id": "-jyuAHDIMTJh",
    "outputId": "a9e35e5e-3a1c-4462-8c9f-f2d53828fd38",
    "scrolled": true
   },
   "outputs": [
    {
     "name": "stdout",
     "output_type": "stream",
     "text": [
      "22162/22162 [==============================] - 4s 162us/sample - loss: 0.1959 - acc: 0.9277\n",
      "22162/22162 [==============================] - 3s 137us/sample - loss: 0.1973 - acc: 0.9242\n",
      "22162/22162 [==============================] - 3s 128us/sample - loss: 0.2010 - acc: 0.9255\n",
      "22162/22162 [==============================] - 3s 138us/sample - loss: 0.2001 - acc: 0.9264\n",
      "22162/22162 [==============================] - 3s 139us/sample - loss: 0.1886 - acc: 0.9292\n"
     ]
    }
   ],
   "source": [
    "cv_results=cross_val_score(mod,\n",
    "                           X, y,\n",
    "                           cv=kfold, verbose=0\n",
    "                           )"
   ]
  },
  {
   "cell_type": "code",
   "execution_count": 31,
   "metadata": {
    "colab": {
     "base_uri": "https://localhost:8080/"
    },
    "id": "Nph21h-MX-QH",
    "outputId": "d6712a67-00e5-4793-ac89-12d40cf18a16"
   },
   "outputs": [
    {
     "name": "stdout",
     "output_type": "stream",
     "text": [
      "The average cross-validation accuracy is:  0.9249\n"
     ]
    }
   ],
   "source": [
    "print('The average cross-validation accuracy is: ', round(cv_results.mean(), 4))"
   ]
  },
  {
   "cell_type": "code",
   "execution_count": 32,
   "metadata": {
    "colab": {
     "base_uri": "https://localhost:8080/"
    },
    "id": "9L6liyFVX-OA",
    "outputId": "5afb27d7-f454-475e-c667-e86d2d4198df"
   },
   "outputs": [
    {
     "name": "stdout",
     "output_type": "stream",
     "text": [
      "The standard deviation for the cross-validation accuracy measure is:  0.008\n"
     ]
    }
   ],
   "source": [
    "print('The standard deviation for the cross-validation accuracy measure is: ', round(cv_results.std(), 4))"
   ]
  },
  {
   "cell_type": "code",
   "execution_count": 26,
   "metadata": {
    "colab": {
     "base_uri": "https://localhost:8080/"
    },
    "id": "RNFGaP_0X-LI",
    "outputId": "bead75dd-a2e0-420f-fc0a-c56df244c6c0"
   },
   "outputs": [
    {
     "name": "stdout",
     "output_type": "stream",
     "text": [
      "The five cross-validation accuracy results are: \n",
      " [0.93226171 0.92622674 0.91133171 0.92148459 0.93321675]\n"
     ]
    }
   ],
   "source": [
    "print('The five cross-validation accuracy results are: \\n', cv_results)"
   ]
  },
  {
   "cell_type": "code",
   "execution_count": 27,
   "metadata": {
    "colab": {
     "base_uri": "https://localhost:8080/"
    },
    "id": "ixiNIoMRX-Ir",
    "outputId": "b7ae55ae-938b-4b2c-e479-6476c0c28e89",
    "scrolled": true
   },
   "outputs": [
    {
     "name": "stdout",
     "output_type": "stream",
     "text": [
      "22162/22162 [==============================] - 3s 144us/sample - loss: 0.1813 - acc: 0.9304\n",
      "22162/22162 [==============================] - 3s 140us/sample - loss: 0.1925 - acc: 0.9279\n",
      "22162/22162 [==============================] - 3s 133us/sample - loss: 0.2011 - acc: 0.9250\n",
      "22162/22162 [==============================] - 4s 172us/sample - loss: 0.1796 - acc: 0.9306\n",
      "22162/22162 [==============================] - 4s 161us/sample - loss: 0.2036 - acc: 0.9245\n"
     ]
    },
    {
     "data": {
      "text/plain": [
       "array([[1],\n",
       "       [1],\n",
       "       [0],\n",
       "       ...,\n",
       "       [1],\n",
       "       [0],\n",
       "       [0]], dtype=int64)"
      ]
     },
     "execution_count": 27,
     "metadata": {},
     "output_type": "execute_result"
    }
   ],
   "source": [
    "# making predictions based on a five fold cross-validation\n",
    "cv_preds = cross_val_predict(mod, X, y, cv=num_folds, verbose=0)\n",
    "cv_preds"
   ]
  },
  {
   "cell_type": "code",
   "execution_count": 28,
   "metadata": {
    "colab": {
     "base_uri": "https://localhost:8080/"
    },
    "id": "YhK6utE3IW9Z",
    "outputId": "10e6682e-26cb-461f-8cb1-a2c1a7aba096"
   },
   "outputs": [
    {
     "name": "stdout",
     "output_type": "stream",
     "text": [
      "[[53947  4053]\n",
      " [ 2497 28150]]\n"
     ]
    }
   ],
   "source": [
    "#confusion matrix of the cross validation results & the actual values\n",
    "cm = confusion_matrix(y, cv_preds)\n",
    "print(cm)"
   ]
  },
  {
   "cell_type": "code",
   "execution_count": 29,
   "metadata": {},
   "outputs": [
    {
     "data": {
      "image/png": "[encoded data removed]",
      "text/plain": [
       "<Figure size 432x288 with 2 Axes>"
      ]
     },
     "metadata": {
      "needs_background": "light"
     },
     "output_type": "display_data"
    }
   ],
   "source": [
    "sns.heatmap(cm, annot=True, fmt='d', linewidths=0.5, xticklabels=True, yticklabels=True)\n",
    "plt.xlabel('Actual')\n",
    "plt.ylabel('Predicted')\n",
    "plt.show()"
   ]
  },
  {
   "cell_type": "code",
   "execution_count": 30,
   "metadata": {},
   "outputs": [
    {
     "name": "stdout",
     "output_type": "stream",
     "text": [
      "The accuracy score for the model is: \n",
      " 0.9261114307308764\n",
      "The F1 score for the model is: \n",
      " 0.8957836117740652\n",
      "The precision-recall score is: 0.87\n",
      "The recall score is: 0.919\n"
     ]
    }
   ],
   "source": [
    "acc = accuracy_score(y, cv_preds)\n",
    "f1s = f1_score(y, cv_preds)\n",
    "precis = precision_score(y, cv_preds, average='binary')\n",
    "rec = recall_score(y, cv_preds, average='binary')\n",
    "\n",
    "print('The accuracy score for the model is: \\n', acc)\n",
    "print('The F1 score for the model is: \\n', f1s)\n",
    "print('The precision-recall score is: {0:0.2f}'.format(precis))\n",
    "print('The recall score is: %.3f' % rec)"
   ]
  }
 ],
 "metadata": {
  "kernelspec": {
   "display_name": "Python 3",
   "language": "python",
   "name": "python3"
  },
  "language_info": {
   "codemirror_mode": {
    "name": "ipython",
    "version": 3
   },
   "file_extension": ".py",
   "mimetype": "text/x-python",
   "name": "python",
   "nbconvert_exporter": "python",
   "pygments_lexer": "ipython3",
   "version": "3.7.6"
  }
 },
 "nbformat": 4,
 "nbformat_minor": 4
}
