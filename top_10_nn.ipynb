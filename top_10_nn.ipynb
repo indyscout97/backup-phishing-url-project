{
  "nbformat": 4,
  "nbformat_minor": 0,
  "metadata": {
    "colab": {
      "name": "top_10_nn.ipynb",
      "provenance": [],
      "collapsed_sections": []
    },
    "kernelspec": {
      "name": "python3",
      "display_name": "Python 3"
    }
  },
  "cells": [
    {
      "cell_type": "markdown",
      "metadata": {
        "id": "UL2R3T7WdCN0"
      },
      "source": [
        "# neural network on top 10 most important features per recursive feature elimination package"
      ]
    },
    {
      "cell_type": "code",
      "metadata": {
        "colab": {
          "base_uri": "https://localhost:8080/"
        },
        "id": "7UjcFFKd7XM2",
        "outputId": "1a3cef68-3f7b-4382-8adc-be7a84c671d4"
      },
      "source": [
        "from keras.models import model_from_json\n",
        "import pandas as pd\n",
        "import numpy as np\n",
        "from sklearn.model_selection import train_test_split\n",
        "import sklearn as sk\n",
        "import matplotlib.pyplot as plt\n",
        "from tensorflow import keras\n",
        "from tensorflow.keras import layers\n",
        "import tensorflow as tf\n",
        "from tensorflow.keras import *\n",
        "from keras import callbacks\n",
        "from keras.utils.np_utils import *\n",
        "\n",
        "print(\"Done Loading\")\n"
      ],
      "execution_count": null,
      "outputs": [
        {
          "output_type": "stream",
          "text": [
            "Done Loading\n"
          ],
          "name": "stdout"
        }
      ]
    },
    {
      "cell_type": "code",
      "metadata": {
        "colab": {
          "base_uri": "https://localhost:8080/",
          "height": 238
        },
        "id": "_p0zv7mq7p3R",
        "outputId": "40fb29a7-70c7-44a8-f5f1-a949521b1f90"
      },
      "source": [
        "full_df = pd.read_csv(\"https://raw.githubusercontent.com/jwaldroop/phishing-url-project/main/dataset_full.csv\")\n",
        "\n",
        "full_df.head()"
      ],
      "execution_count": null,
      "outputs": [
        {
          "output_type": "execute_result",
          "data": {
            "text/html": [
              "<div>\n",
              "<style scoped>\n",
              "    .dataframe tbody tr th:only-of-type {\n",
              "        vertical-align: middle;\n",
              "    }\n",
              "\n",
              "    .dataframe tbody tr th {\n",
              "        vertical-align: top;\n",
              "    }\n",
              "\n",
              "    .dataframe thead th {\n",
              "        text-align: right;\n",
              "    }\n",
              "</style>\n",
              "<table border=\"1\" class=\"dataframe\">\n",
              "  <thead>\n",
              "    <tr style=\"text-align: right;\">\n",
              "      <th></th>\n",
              "      <th>qty_dot_url</th>\n",
              "      <th>qty_hyphen_url</th>\n",
              "      <th>qty_underline_url</th>\n",
              "      <th>qty_slash_url</th>\n",
              "      <th>qty_questionmark_url</th>\n",
              "      <th>qty_equal_url</th>\n",
              "      <th>qty_at_url</th>\n",
              "      <th>qty_and_url</th>\n",
              "      <th>qty_exclamation_url</th>\n",
              "      <th>qty_space_url</th>\n",
              "      <th>qty_tilde_url</th>\n",
              "      <th>qty_comma_url</th>\n",
              "      <th>qty_plus_url</th>\n",
              "      <th>qty_asterisk_url</th>\n",
              "      <th>qty_hashtag_url</th>\n",
              "      <th>qty_dollar_url</th>\n",
              "      <th>qty_percent_url</th>\n",
              "      <th>qty_tld_url</th>\n",
              "      <th>length_url</th>\n",
              "      <th>qty_dot_domain</th>\n",
              "      <th>qty_hyphen_domain</th>\n",
              "      <th>qty_underline_domain</th>\n",
              "      <th>qty_slash_domain</th>\n",
              "      <th>qty_questionmark_domain</th>\n",
              "      <th>qty_equal_domain</th>\n",
              "      <th>qty_at_domain</th>\n",
              "      <th>qty_and_domain</th>\n",
              "      <th>qty_exclamation_domain</th>\n",
              "      <th>qty_space_domain</th>\n",
              "      <th>qty_tilde_domain</th>\n",
              "      <th>qty_comma_domain</th>\n",
              "      <th>qty_plus_domain</th>\n",
              "      <th>qty_asterisk_domain</th>\n",
              "      <th>qty_hashtag_domain</th>\n",
              "      <th>qty_dollar_domain</th>\n",
              "      <th>qty_percent_domain</th>\n",
              "      <th>qty_vowels_domain</th>\n",
              "      <th>domain_length</th>\n",
              "      <th>domain_in_ip</th>\n",
              "      <th>server_client_domain</th>\n",
              "      <th>...</th>\n",
              "      <th>qty_hashtag_file</th>\n",
              "      <th>qty_dollar_file</th>\n",
              "      <th>qty_percent_file</th>\n",
              "      <th>file_length</th>\n",
              "      <th>qty_dot_params</th>\n",
              "      <th>qty_hyphen_params</th>\n",
              "      <th>qty_underline_params</th>\n",
              "      <th>qty_slash_params</th>\n",
              "      <th>qty_questionmark_params</th>\n",
              "      <th>qty_equal_params</th>\n",
              "      <th>qty_at_params</th>\n",
              "      <th>qty_and_params</th>\n",
              "      <th>qty_exclamation_params</th>\n",
              "      <th>qty_space_params</th>\n",
              "      <th>qty_tilde_params</th>\n",
              "      <th>qty_comma_params</th>\n",
              "      <th>qty_plus_params</th>\n",
              "      <th>qty_asterisk_params</th>\n",
              "      <th>qty_hashtag_params</th>\n",
              "      <th>qty_dollar_params</th>\n",
              "      <th>qty_percent_params</th>\n",
              "      <th>params_length</th>\n",
              "      <th>tld_present_params</th>\n",
              "      <th>qty_params</th>\n",
              "      <th>email_in_url</th>\n",
              "      <th>time_response</th>\n",
              "      <th>domain_spf</th>\n",
              "      <th>asn_ip</th>\n",
              "      <th>time_domain_activation</th>\n",
              "      <th>time_domain_expiration</th>\n",
              "      <th>qty_ip_resolved</th>\n",
              "      <th>qty_nameservers</th>\n",
              "      <th>qty_mx_servers</th>\n",
              "      <th>ttl_hostname</th>\n",
              "      <th>tls_ssl_certificate</th>\n",
              "      <th>qty_redirects</th>\n",
              "      <th>url_google_index</th>\n",
              "      <th>domain_google_index</th>\n",
              "      <th>url_shortened</th>\n",
              "      <th>phishing</th>\n",
              "    </tr>\n",
              "  </thead>\n",
              "  <tbody>\n",
              "    <tr>\n",
              "      <th>0</th>\n",
              "      <td>3</td>\n",
              "      <td>0</td>\n",
              "      <td>0</td>\n",
              "      <td>1</td>\n",
              "      <td>0</td>\n",
              "      <td>0</td>\n",
              "      <td>0</td>\n",
              "      <td>0</td>\n",
              "      <td>0</td>\n",
              "      <td>0</td>\n",
              "      <td>0</td>\n",
              "      <td>0</td>\n",
              "      <td>0</td>\n",
              "      <td>0</td>\n",
              "      <td>0</td>\n",
              "      <td>0</td>\n",
              "      <td>0</td>\n",
              "      <td>1</td>\n",
              "      <td>25</td>\n",
              "      <td>2</td>\n",
              "      <td>0</td>\n",
              "      <td>0</td>\n",
              "      <td>0</td>\n",
              "      <td>0</td>\n",
              "      <td>0</td>\n",
              "      <td>0</td>\n",
              "      <td>0</td>\n",
              "      <td>0</td>\n",
              "      <td>0</td>\n",
              "      <td>0</td>\n",
              "      <td>0</td>\n",
              "      <td>0</td>\n",
              "      <td>0</td>\n",
              "      <td>0</td>\n",
              "      <td>0</td>\n",
              "      <td>0</td>\n",
              "      <td>4</td>\n",
              "      <td>17</td>\n",
              "      <td>0</td>\n",
              "      <td>0</td>\n",
              "      <td>...</td>\n",
              "      <td>0</td>\n",
              "      <td>0</td>\n",
              "      <td>0</td>\n",
              "      <td>7</td>\n",
              "      <td>-1</td>\n",
              "      <td>-1</td>\n",
              "      <td>-1</td>\n",
              "      <td>-1</td>\n",
              "      <td>-1</td>\n",
              "      <td>-1</td>\n",
              "      <td>-1</td>\n",
              "      <td>-1</td>\n",
              "      <td>-1</td>\n",
              "      <td>-1</td>\n",
              "      <td>-1</td>\n",
              "      <td>-1</td>\n",
              "      <td>-1</td>\n",
              "      <td>-1</td>\n",
              "      <td>-1</td>\n",
              "      <td>-1</td>\n",
              "      <td>-1</td>\n",
              "      <td>-1</td>\n",
              "      <td>-1</td>\n",
              "      <td>-1</td>\n",
              "      <td>0</td>\n",
              "      <td>0.207316</td>\n",
              "      <td>0</td>\n",
              "      <td>60781</td>\n",
              "      <td>-1</td>\n",
              "      <td>-1</td>\n",
              "      <td>1</td>\n",
              "      <td>2</td>\n",
              "      <td>0</td>\n",
              "      <td>892</td>\n",
              "      <td>0</td>\n",
              "      <td>0</td>\n",
              "      <td>0</td>\n",
              "      <td>0</td>\n",
              "      <td>0</td>\n",
              "      <td>1</td>\n",
              "    </tr>\n",
              "    <tr>\n",
              "      <th>1</th>\n",
              "      <td>5</td>\n",
              "      <td>0</td>\n",
              "      <td>1</td>\n",
              "      <td>3</td>\n",
              "      <td>0</td>\n",
              "      <td>3</td>\n",
              "      <td>0</td>\n",
              "      <td>2</td>\n",
              "      <td>0</td>\n",
              "      <td>0</td>\n",
              "      <td>0</td>\n",
              "      <td>0</td>\n",
              "      <td>0</td>\n",
              "      <td>0</td>\n",
              "      <td>0</td>\n",
              "      <td>0</td>\n",
              "      <td>0</td>\n",
              "      <td>3</td>\n",
              "      <td>223</td>\n",
              "      <td>2</td>\n",
              "      <td>0</td>\n",
              "      <td>0</td>\n",
              "      <td>0</td>\n",
              "      <td>0</td>\n",
              "      <td>0</td>\n",
              "      <td>0</td>\n",
              "      <td>0</td>\n",
              "      <td>0</td>\n",
              "      <td>0</td>\n",
              "      <td>0</td>\n",
              "      <td>0</td>\n",
              "      <td>0</td>\n",
              "      <td>0</td>\n",
              "      <td>0</td>\n",
              "      <td>0</td>\n",
              "      <td>0</td>\n",
              "      <td>5</td>\n",
              "      <td>16</td>\n",
              "      <td>0</td>\n",
              "      <td>0</td>\n",
              "      <td>...</td>\n",
              "      <td>0</td>\n",
              "      <td>0</td>\n",
              "      <td>0</td>\n",
              "      <td>9</td>\n",
              "      <td>0</td>\n",
              "      <td>0</td>\n",
              "      <td>1</td>\n",
              "      <td>0</td>\n",
              "      <td>0</td>\n",
              "      <td>3</td>\n",
              "      <td>0</td>\n",
              "      <td>2</td>\n",
              "      <td>0</td>\n",
              "      <td>0</td>\n",
              "      <td>0</td>\n",
              "      <td>0</td>\n",
              "      <td>0</td>\n",
              "      <td>0</td>\n",
              "      <td>0</td>\n",
              "      <td>0</td>\n",
              "      <td>0</td>\n",
              "      <td>165</td>\n",
              "      <td>0</td>\n",
              "      <td>3</td>\n",
              "      <td>0</td>\n",
              "      <td>0.499566</td>\n",
              "      <td>-1</td>\n",
              "      <td>36024</td>\n",
              "      <td>579</td>\n",
              "      <td>150</td>\n",
              "      <td>1</td>\n",
              "      <td>2</td>\n",
              "      <td>1</td>\n",
              "      <td>9540</td>\n",
              "      <td>1</td>\n",
              "      <td>0</td>\n",
              "      <td>0</td>\n",
              "      <td>0</td>\n",
              "      <td>0</td>\n",
              "      <td>1</td>\n",
              "    </tr>\n",
              "    <tr>\n",
              "      <th>2</th>\n",
              "      <td>2</td>\n",
              "      <td>0</td>\n",
              "      <td>0</td>\n",
              "      <td>1</td>\n",
              "      <td>0</td>\n",
              "      <td>0</td>\n",
              "      <td>0</td>\n",
              "      <td>0</td>\n",
              "      <td>0</td>\n",
              "      <td>0</td>\n",
              "      <td>0</td>\n",
              "      <td>0</td>\n",
              "      <td>0</td>\n",
              "      <td>0</td>\n",
              "      <td>0</td>\n",
              "      <td>0</td>\n",
              "      <td>0</td>\n",
              "      <td>1</td>\n",
              "      <td>15</td>\n",
              "      <td>2</td>\n",
              "      <td>0</td>\n",
              "      <td>0</td>\n",
              "      <td>0</td>\n",
              "      <td>0</td>\n",
              "      <td>0</td>\n",
              "      <td>0</td>\n",
              "      <td>0</td>\n",
              "      <td>0</td>\n",
              "      <td>0</td>\n",
              "      <td>0</td>\n",
              "      <td>0</td>\n",
              "      <td>0</td>\n",
              "      <td>0</td>\n",
              "      <td>0</td>\n",
              "      <td>0</td>\n",
              "      <td>0</td>\n",
              "      <td>3</td>\n",
              "      <td>14</td>\n",
              "      <td>0</td>\n",
              "      <td>0</td>\n",
              "      <td>...</td>\n",
              "      <td>0</td>\n",
              "      <td>0</td>\n",
              "      <td>0</td>\n",
              "      <td>0</td>\n",
              "      <td>-1</td>\n",
              "      <td>-1</td>\n",
              "      <td>-1</td>\n",
              "      <td>-1</td>\n",
              "      <td>-1</td>\n",
              "      <td>-1</td>\n",
              "      <td>-1</td>\n",
              "      <td>-1</td>\n",
              "      <td>-1</td>\n",
              "      <td>-1</td>\n",
              "      <td>-1</td>\n",
              "      <td>-1</td>\n",
              "      <td>-1</td>\n",
              "      <td>-1</td>\n",
              "      <td>-1</td>\n",
              "      <td>-1</td>\n",
              "      <td>-1</td>\n",
              "      <td>-1</td>\n",
              "      <td>-1</td>\n",
              "      <td>-1</td>\n",
              "      <td>0</td>\n",
              "      <td>0.935901</td>\n",
              "      <td>0</td>\n",
              "      <td>4766</td>\n",
              "      <td>-1</td>\n",
              "      <td>-1</td>\n",
              "      <td>1</td>\n",
              "      <td>2</td>\n",
              "      <td>3</td>\n",
              "      <td>589</td>\n",
              "      <td>1</td>\n",
              "      <td>0</td>\n",
              "      <td>0</td>\n",
              "      <td>0</td>\n",
              "      <td>0</td>\n",
              "      <td>0</td>\n",
              "    </tr>\n",
              "    <tr>\n",
              "      <th>3</th>\n",
              "      <td>4</td>\n",
              "      <td>0</td>\n",
              "      <td>2</td>\n",
              "      <td>5</td>\n",
              "      <td>0</td>\n",
              "      <td>0</td>\n",
              "      <td>0</td>\n",
              "      <td>0</td>\n",
              "      <td>0</td>\n",
              "      <td>0</td>\n",
              "      <td>0</td>\n",
              "      <td>0</td>\n",
              "      <td>0</td>\n",
              "      <td>0</td>\n",
              "      <td>0</td>\n",
              "      <td>0</td>\n",
              "      <td>0</td>\n",
              "      <td>1</td>\n",
              "      <td>81</td>\n",
              "      <td>2</td>\n",
              "      <td>0</td>\n",
              "      <td>0</td>\n",
              "      <td>0</td>\n",
              "      <td>0</td>\n",
              "      <td>0</td>\n",
              "      <td>0</td>\n",
              "      <td>0</td>\n",
              "      <td>0</td>\n",
              "      <td>0</td>\n",
              "      <td>0</td>\n",
              "      <td>0</td>\n",
              "      <td>0</td>\n",
              "      <td>0</td>\n",
              "      <td>0</td>\n",
              "      <td>0</td>\n",
              "      <td>0</td>\n",
              "      <td>7</td>\n",
              "      <td>19</td>\n",
              "      <td>0</td>\n",
              "      <td>0</td>\n",
              "      <td>...</td>\n",
              "      <td>0</td>\n",
              "      <td>0</td>\n",
              "      <td>0</td>\n",
              "      <td>9</td>\n",
              "      <td>-1</td>\n",
              "      <td>-1</td>\n",
              "      <td>-1</td>\n",
              "      <td>-1</td>\n",
              "      <td>-1</td>\n",
              "      <td>-1</td>\n",
              "      <td>-1</td>\n",
              "      <td>-1</td>\n",
              "      <td>-1</td>\n",
              "      <td>-1</td>\n",
              "      <td>-1</td>\n",
              "      <td>-1</td>\n",
              "      <td>-1</td>\n",
              "      <td>-1</td>\n",
              "      <td>-1</td>\n",
              "      <td>-1</td>\n",
              "      <td>-1</td>\n",
              "      <td>-1</td>\n",
              "      <td>-1</td>\n",
              "      <td>-1</td>\n",
              "      <td>0</td>\n",
              "      <td>0.410021</td>\n",
              "      <td>0</td>\n",
              "      <td>20454</td>\n",
              "      <td>-1</td>\n",
              "      <td>-1</td>\n",
              "      <td>1</td>\n",
              "      <td>2</td>\n",
              "      <td>0</td>\n",
              "      <td>292</td>\n",
              "      <td>1</td>\n",
              "      <td>0</td>\n",
              "      <td>0</td>\n",
              "      <td>0</td>\n",
              "      <td>0</td>\n",
              "      <td>1</td>\n",
              "    </tr>\n",
              "    <tr>\n",
              "      <th>4</th>\n",
              "      <td>2</td>\n",
              "      <td>0</td>\n",
              "      <td>0</td>\n",
              "      <td>0</td>\n",
              "      <td>0</td>\n",
              "      <td>0</td>\n",
              "      <td>0</td>\n",
              "      <td>0</td>\n",
              "      <td>0</td>\n",
              "      <td>0</td>\n",
              "      <td>0</td>\n",
              "      <td>0</td>\n",
              "      <td>0</td>\n",
              "      <td>0</td>\n",
              "      <td>0</td>\n",
              "      <td>0</td>\n",
              "      <td>0</td>\n",
              "      <td>1</td>\n",
              "      <td>19</td>\n",
              "      <td>2</td>\n",
              "      <td>0</td>\n",
              "      <td>0</td>\n",
              "      <td>0</td>\n",
              "      <td>0</td>\n",
              "      <td>0</td>\n",
              "      <td>0</td>\n",
              "      <td>0</td>\n",
              "      <td>0</td>\n",
              "      <td>0</td>\n",
              "      <td>0</td>\n",
              "      <td>0</td>\n",
              "      <td>0</td>\n",
              "      <td>0</td>\n",
              "      <td>0</td>\n",
              "      <td>0</td>\n",
              "      <td>0</td>\n",
              "      <td>5</td>\n",
              "      <td>19</td>\n",
              "      <td>0</td>\n",
              "      <td>0</td>\n",
              "      <td>...</td>\n",
              "      <td>-1</td>\n",
              "      <td>-1</td>\n",
              "      <td>-1</td>\n",
              "      <td>-1</td>\n",
              "      <td>-1</td>\n",
              "      <td>-1</td>\n",
              "      <td>-1</td>\n",
              "      <td>-1</td>\n",
              "      <td>-1</td>\n",
              "      <td>-1</td>\n",
              "      <td>-1</td>\n",
              "      <td>-1</td>\n",
              "      <td>-1</td>\n",
              "      <td>-1</td>\n",
              "      <td>-1</td>\n",
              "      <td>-1</td>\n",
              "      <td>-1</td>\n",
              "      <td>-1</td>\n",
              "      <td>-1</td>\n",
              "      <td>-1</td>\n",
              "      <td>-1</td>\n",
              "      <td>-1</td>\n",
              "      <td>-1</td>\n",
              "      <td>-1</td>\n",
              "      <td>0</td>\n",
              "      <td>0.410761</td>\n",
              "      <td>0</td>\n",
              "      <td>53831</td>\n",
              "      <td>6998</td>\n",
              "      <td>306</td>\n",
              "      <td>1</td>\n",
              "      <td>2</td>\n",
              "      <td>1</td>\n",
              "      <td>3597</td>\n",
              "      <td>0</td>\n",
              "      <td>1</td>\n",
              "      <td>0</td>\n",
              "      <td>0</td>\n",
              "      <td>0</td>\n",
              "      <td>0</td>\n",
              "    </tr>\n",
              "  </tbody>\n",
              "</table>\n",
              "<p>5 rows × 112 columns</p>\n",
              "</div>"
            ],
            "text/plain": [
              "   qty_dot_url  qty_hyphen_url  ...  url_shortened  phishing\n",
              "0            3               0  ...              0         1\n",
              "1            5               0  ...              0         1\n",
              "2            2               0  ...              0         0\n",
              "3            4               0  ...              0         1\n",
              "4            2               0  ...              0         0\n",
              "\n",
              "[5 rows x 112 columns]"
            ]
          },
          "metadata": {
            "tags": []
          },
          "execution_count": 2
        }
      ]
    },
    {
      "cell_type": "code",
      "metadata": {
        "colab": {
          "base_uri": "https://localhost:8080/"
        },
        "id": "S9kCXX7hrQ1x",
        "outputId": "35252763-60c8-45ed-d7c7-925b0d158342"
      },
      "source": [
        "len(full_df[full_df.phishing == 1])"
      ],
      "execution_count": null,
      "outputs": [
        {
          "output_type": "execute_result",
          "data": {
            "text/plain": [
              "30647"
            ]
          },
          "metadata": {
            "tags": []
          },
          "execution_count": 3
        }
      ]
    },
    {
      "cell_type": "code",
      "metadata": {
        "colab": {
          "base_uri": "https://localhost:8080/"
        },
        "id": "J2PSfxIrrngk",
        "outputId": "c57342aa-7ae4-4698-f59f-ca47931fdc37"
      },
      "source": [
        "len(full_df[full_df.phishing != 1])"
      ],
      "execution_count": null,
      "outputs": [
        {
          "output_type": "execute_result",
          "data": {
            "text/plain": [
              "58000"
            ]
          },
          "metadata": {
            "tags": []
          },
          "execution_count": 4
        }
      ]
    },
    {
      "cell_type": "markdown",
      "metadata": {
        "id": "ZUuo04VLzBkB"
      },
      "source": [
        "# neural network model on entire dataset"
      ]
    },
    {
      "cell_type": "code",
      "metadata": {
        "colab": {
          "base_uri": "https://localhost:8080/",
          "height": 191
        },
        "id": "Uyt5-sN-7p1H",
        "outputId": "5643223e-5b4f-4a38-8730-bc982eaec49a"
      },
      "source": [
        "y = full_df.iloc[:,-1]\n",
        "\n",
        "features = ['qty_slash_url', 'length_url', 'qty_hyphen_directory', 'qty_underline_directory', 'qty_slash_directory', 'directory_length', 'qty_hyphen_file', 'file_length', 'asn_ip', 'time_domain_activation']\n",
        "X = full_df[features]\n",
        "\n",
        "X = tf.keras.utils.normalize(X, axis=-1, order=2)\n",
        "\n",
        "train_X, val_X, train_y, val_y = train_test_split(X, y, test_size=0.25, random_state=808)\n",
        "\n",
        "train_X.head()"
      ],
      "execution_count": null,
      "outputs": [
        {
          "output_type": "execute_result",
          "data": {
            "text/html": [
              "<div>\n",
              "<style scoped>\n",
              "    .dataframe tbody tr th:only-of-type {\n",
              "        vertical-align: middle;\n",
              "    }\n",
              "\n",
              "    .dataframe tbody tr th {\n",
              "        vertical-align: top;\n",
              "    }\n",
              "\n",
              "    .dataframe thead th {\n",
              "        text-align: right;\n",
              "    }\n",
              "</style>\n",
              "<table border=\"1\" class=\"dataframe\">\n",
              "  <thead>\n",
              "    <tr style=\"text-align: right;\">\n",
              "      <th></th>\n",
              "      <th>qty_slash_url</th>\n",
              "      <th>length_url</th>\n",
              "      <th>qty_hyphen_directory</th>\n",
              "      <th>qty_underline_directory</th>\n",
              "      <th>qty_slash_directory</th>\n",
              "      <th>directory_length</th>\n",
              "      <th>qty_hyphen_file</th>\n",
              "      <th>file_length</th>\n",
              "      <th>asn_ip</th>\n",
              "      <th>time_domain_activation</th>\n",
              "    </tr>\n",
              "  </thead>\n",
              "  <tbody>\n",
              "    <tr>\n",
              "      <th>5676</th>\n",
              "      <td>0.000004</td>\n",
              "      <td>0.000042</td>\n",
              "      <td>0.000000</td>\n",
              "      <td>0.000000</td>\n",
              "      <td>0.000004</td>\n",
              "      <td>0.000004</td>\n",
              "      <td>0.000000</td>\n",
              "      <td>0.000000</td>\n",
              "      <td>1.000000</td>\n",
              "      <td>0.000591</td>\n",
              "    </tr>\n",
              "    <tr>\n",
              "      <th>39002</th>\n",
              "      <td>0.000000</td>\n",
              "      <td>0.004613</td>\n",
              "      <td>-0.000355</td>\n",
              "      <td>-0.000355</td>\n",
              "      <td>-0.000355</td>\n",
              "      <td>-0.000355</td>\n",
              "      <td>-0.000355</td>\n",
              "      <td>-0.000355</td>\n",
              "      <td>0.999989</td>\n",
              "      <td>-0.000355</td>\n",
              "    </tr>\n",
              "    <tr>\n",
              "      <th>1732</th>\n",
              "      <td>0.000000</td>\n",
              "      <td>0.000984</td>\n",
              "      <td>-0.000061</td>\n",
              "      <td>-0.000061</td>\n",
              "      <td>-0.000061</td>\n",
              "      <td>-0.000061</td>\n",
              "      <td>-0.000061</td>\n",
              "      <td>-0.000061</td>\n",
              "      <td>0.932855</td>\n",
              "      <td>0.360252</td>\n",
              "    </tr>\n",
              "    <tr>\n",
              "      <th>39668</th>\n",
              "      <td>0.000000</td>\n",
              "      <td>0.001769</td>\n",
              "      <td>-0.000068</td>\n",
              "      <td>-0.000068</td>\n",
              "      <td>-0.000068</td>\n",
              "      <td>-0.000068</td>\n",
              "      <td>-0.000068</td>\n",
              "      <td>-0.000068</td>\n",
              "      <td>0.956567</td>\n",
              "      <td>0.291508</td>\n",
              "    </tr>\n",
              "    <tr>\n",
              "      <th>82035</th>\n",
              "      <td>0.000000</td>\n",
              "      <td>0.000921</td>\n",
              "      <td>-0.000033</td>\n",
              "      <td>-0.000033</td>\n",
              "      <td>-0.000033</td>\n",
              "      <td>-0.000033</td>\n",
              "      <td>-0.000033</td>\n",
              "      <td>-0.000033</td>\n",
              "      <td>0.975658</td>\n",
              "      <td>0.219294</td>\n",
              "    </tr>\n",
              "  </tbody>\n",
              "</table>\n",
              "</div>"
            ],
            "text/plain": [
              "       qty_slash_url  length_url  ...    asn_ip  time_domain_activation\n",
              "5676        0.000004    0.000042  ...  1.000000                0.000591\n",
              "39002       0.000000    0.004613  ...  0.999989               -0.000355\n",
              "1732        0.000000    0.000984  ...  0.932855                0.360252\n",
              "39668       0.000000    0.001769  ...  0.956567                0.291508\n",
              "82035       0.000000    0.000921  ...  0.975658                0.219294\n",
              "\n",
              "[5 rows x 10 columns]"
            ]
          },
          "metadata": {
            "tags": []
          },
          "execution_count": 5
        }
      ]
    },
    {
      "cell_type": "code",
      "metadata": {
        "colab": {
          "base_uri": "https://localhost:8080/"
        },
        "id": "8L1OV6fg7py7",
        "outputId": "f5f53221-bc91-4af2-a5a8-c098e193416a"
      },
      "source": [
        "tf.keras.backend.clear_session()\n",
        "\n",
        "#neural net\n",
        "\n",
        "top_10_nn = keras.Sequential([\n",
        "                          layers.InputLayer(input_shape=[10]),\n",
        "                          layers.Dense(units=64, activation='relu'),\n",
        "                          layers.Dropout(0.2),\n",
        "                          layers.Dense(units=64, activation='relu'),\n",
        "                          layers.Dropout(0.2),\n",
        "                          layers.Dense(units=50, activation='relu'),\n",
        "                          layers.Dropout(0.20),\n",
        "                          layers.Dense(units=32, activation='relu'),\n",
        "                          layers.Dropout(0.2),\n",
        "                          layers.Dense(units=32, activation='relu'),\n",
        "                          layers.Dropout(0.2),\n",
        "                          layers.Dense(units=16, activation='relu'),\n",
        "                          layers.Dropout(0.40),\n",
        "                          layers.Dense(units=16, activation='relu'),\n",
        "                          layers.Dropout(0.40),\n",
        "                          layers.Dense(units=111, activation='relu'),\n",
        "                          layers.Flatten(),\n",
        "                          layers.Dense(units=1, activation='sigmoid')\n",
        "])\n",
        "\n",
        "top_10_nn.compile(\n",
        "    optimizer='adam',\n",
        "    loss='binary_crossentropy',\n",
        "    metrics=[tf.keras.metrics.BinaryAccuracy(threshold=0.5), \n",
        "             tf.keras.metrics.AUC(),\n",
        "             ]\n",
        ")\n",
        "\n",
        "earlystopping = callbacks.EarlyStopping(monitor = 'val_binary_accuracy', mode = 'max',\n",
        "                                       patience = 25, restore_best_weights = True)\n",
        "\n",
        "\n",
        "top_10_nn.summary()"
      ],
      "execution_count": null,
      "outputs": [
        {
          "output_type": "stream",
          "text": [
            "Model: \"sequential\"\n",
            "_________________________________________________________________\n",
            "Layer (type)                 Output Shape              Param #   \n",
            "=================================================================\n",
            "dense (Dense)                (None, 64)                704       \n",
            "_________________________________________________________________\n",
            "dropout (Dropout)            (None, 64)                0         \n",
            "_________________________________________________________________\n",
            "dense_1 (Dense)              (None, 64)                4160      \n",
            "_________________________________________________________________\n",
            "dropout_1 (Dropout)          (None, 64)                0         \n",
            "_________________________________________________________________\n",
            "dense_2 (Dense)              (None, 50)                3250      \n",
            "_________________________________________________________________\n",
            "dropout_2 (Dropout)          (None, 50)                0         \n",
            "_________________________________________________________________\n",
            "dense_3 (Dense)              (None, 32)                1632      \n",
            "_________________________________________________________________\n",
            "dropout_3 (Dropout)          (None, 32)                0         \n",
            "_________________________________________________________________\n",
            "dense_4 (Dense)              (None, 32)                1056      \n",
            "_________________________________________________________________\n",
            "dropout_4 (Dropout)          (None, 32)                0         \n",
            "_________________________________________________________________\n",
            "dense_5 (Dense)              (None, 16)                528       \n",
            "_________________________________________________________________\n",
            "dropout_5 (Dropout)          (None, 16)                0         \n",
            "_________________________________________________________________\n",
            "dense_6 (Dense)              (None, 16)                272       \n",
            "_________________________________________________________________\n",
            "dropout_6 (Dropout)          (None, 16)                0         \n",
            "_________________________________________________________________\n",
            "dense_7 (Dense)              (None, 111)               1887      \n",
            "_________________________________________________________________\n",
            "flatten (Flatten)            (None, 111)               0         \n",
            "_________________________________________________________________\n",
            "dense_8 (Dense)              (None, 1)                 112       \n",
            "=================================================================\n",
            "Total params: 13,601\n",
            "Trainable params: 13,601\n",
            "Non-trainable params: 0\n",
            "_________________________________________________________________\n"
          ],
          "name": "stdout"
        }
      ]
    },
    {
      "cell_type": "code",
      "metadata": {
        "colab": {
          "base_uri": "https://localhost:8080/"
        },
        "id": "umxFYgEP7pwr",
        "outputId": "32bcce4d-a439-43ef-81b0-39a9b42d11ca"
      },
      "source": [
        "history1 = top_10_nn.fit(train_X, train_y, validation_split=0.30, batch_size= 15, epochs=500, callbacks = [earlystopping])"
      ],
      "execution_count": null,
      "outputs": [
        {
          "output_type": "stream",
          "text": [
            "Epoch 1/500\n",
            "3103/3103 [==============================] - 11s 3ms/step - loss: 0.5886 - binary_accuracy: 0.6662 - auc: 0.6959 - val_loss: 0.5413 - val_binary_accuracy: 0.7167 - val_auc: 0.7562\n",
            "Epoch 2/500\n",
            "3103/3103 [==============================] - 10s 3ms/step - loss: 0.5328 - binary_accuracy: 0.7180 - auc: 0.7618 - val_loss: 0.4482 - val_binary_accuracy: 0.8173 - val_auc: 0.8967\n",
            "Epoch 3/500\n",
            "3103/3103 [==============================] - 10s 3ms/step - loss: 0.4313 - binary_accuracy: 0.8019 - auc: 0.8653 - val_loss: 0.3918 - val_binary_accuracy: 0.8531 - val_auc: 0.9247\n",
            "Epoch 4/500\n",
            "3103/3103 [==============================] - 10s 3ms/step - loss: 0.3769 - binary_accuracy: 0.8303 - auc: 0.9012 - val_loss: 0.4452 - val_binary_accuracy: 0.8631 - val_auc: 0.9361\n",
            "Epoch 5/500\n",
            "3103/3103 [==============================] - 10s 3ms/step - loss: 0.3843 - binary_accuracy: 0.8305 - auc: 0.8997 - val_loss: 0.3488 - val_binary_accuracy: 0.8663 - val_auc: 0.9394\n",
            "Epoch 6/500\n",
            "3103/3103 [==============================] - 9s 3ms/step - loss: 0.3662 - binary_accuracy: 0.8343 - auc: 0.9068 - val_loss: 0.3168 - val_binary_accuracy: 0.8596 - val_auc: 0.9393\n",
            "Epoch 7/500\n",
            "3103/3103 [==============================] - 9s 3ms/step - loss: 0.3600 - binary_accuracy: 0.8448 - auc: 0.9092 - val_loss: 0.3086 - val_binary_accuracy: 0.8746 - val_auc: 0.9450\n",
            "Epoch 8/500\n",
            "3103/3103 [==============================] - 10s 3ms/step - loss: 0.3642 - binary_accuracy: 0.8388 - auc: 0.9072 - val_loss: 0.3437 - val_binary_accuracy: 0.8811 - val_auc: 0.9382\n",
            "Epoch 9/500\n",
            "3103/3103 [==============================] - 10s 3ms/step - loss: 0.3633 - binary_accuracy: 0.8430 - auc: 0.9085 - val_loss: 0.3269 - val_binary_accuracy: 0.8824 - val_auc: 0.9482\n",
            "Epoch 10/500\n",
            "3103/3103 [==============================] - 9s 3ms/step - loss: 0.3558 - binary_accuracy: 0.8422 - auc: 0.9117 - val_loss: 0.4005 - val_binary_accuracy: 0.8849 - val_auc: 0.9396\n",
            "Epoch 11/500\n",
            "3103/3103 [==============================] - 9s 3ms/step - loss: 0.3567 - binary_accuracy: 0.8476 - auc: 0.9103 - val_loss: 0.3337 - val_binary_accuracy: 0.8747 - val_auc: 0.9474\n",
            "Epoch 12/500\n",
            "3103/3103 [==============================] - 9s 3ms/step - loss: 0.3642 - binary_accuracy: 0.8441 - auc: 0.9067 - val_loss: 0.3397 - val_binary_accuracy: 0.8850 - val_auc: 0.9494\n",
            "Epoch 13/500\n",
            "3103/3103 [==============================] - 9s 3ms/step - loss: 0.3497 - binary_accuracy: 0.8533 - auc: 0.9154 - val_loss: 0.3339 - val_binary_accuracy: 0.8684 - val_auc: 0.9425\n",
            "Epoch 14/500\n",
            "3103/3103 [==============================] - 9s 3ms/step - loss: 0.3430 - binary_accuracy: 0.8560 - auc: 0.9183 - val_loss: 0.3397 - val_binary_accuracy: 0.8926 - val_auc: 0.9525\n",
            "Epoch 15/500\n",
            "3103/3103 [==============================] - 10s 3ms/step - loss: 0.3416 - binary_accuracy: 0.8571 - auc: 0.9187 - val_loss: 0.3292 - val_binary_accuracy: 0.8994 - val_auc: 0.9538\n",
            "Epoch 16/500\n",
            "3103/3103 [==============================] - 10s 3ms/step - loss: 0.3293 - binary_accuracy: 0.8620 - auc: 0.9250 - val_loss: 0.3235 - val_binary_accuracy: 0.8974 - val_auc: 0.9512\n",
            "Epoch 17/500\n",
            "3103/3103 [==============================] - 10s 3ms/step - loss: 0.3317 - binary_accuracy: 0.8616 - auc: 0.9237 - val_loss: 0.2928 - val_binary_accuracy: 0.8993 - val_auc: 0.9544\n",
            "Epoch 18/500\n",
            "3103/3103 [==============================] - 10s 3ms/step - loss: 0.3230 - binary_accuracy: 0.8664 - auc: 0.9274 - val_loss: 0.3101 - val_binary_accuracy: 0.8906 - val_auc: 0.9533\n",
            "Epoch 19/500\n",
            "3103/3103 [==============================] - 9s 3ms/step - loss: 0.3292 - binary_accuracy: 0.8620 - auc: 0.9240 - val_loss: 0.2882 - val_binary_accuracy: 0.9103 - val_auc: 0.9501\n",
            "Epoch 20/500\n",
            "3103/3103 [==============================] - 9s 3ms/step - loss: 0.3238 - binary_accuracy: 0.8670 - auc: 0.9264 - val_loss: 0.3214 - val_binary_accuracy: 0.8811 - val_auc: 0.9513\n",
            "Epoch 21/500\n",
            "3103/3103 [==============================] - 10s 3ms/step - loss: 0.3201 - binary_accuracy: 0.8681 - auc: 0.9290 - val_loss: 0.3616 - val_binary_accuracy: 0.8987 - val_auc: 0.9519\n",
            "Epoch 22/500\n",
            "3103/3103 [==============================] - 9s 3ms/step - loss: 0.3181 - binary_accuracy: 0.8719 - auc: 0.9309 - val_loss: 0.2999 - val_binary_accuracy: 0.9092 - val_auc: 0.9531\n",
            "Epoch 23/500\n",
            "3103/3103 [==============================] - 9s 3ms/step - loss: 0.3203 - binary_accuracy: 0.8650 - auc: 0.9282 - val_loss: 0.2897 - val_binary_accuracy: 0.9093 - val_auc: 0.9523\n",
            "Epoch 24/500\n",
            "3103/3103 [==============================] - 10s 3ms/step - loss: 0.3165 - binary_accuracy: 0.8714 - auc: 0.9299 - val_loss: 0.3056 - val_binary_accuracy: 0.8886 - val_auc: 0.9528\n",
            "Epoch 25/500\n",
            "3103/3103 [==============================] - 9s 3ms/step - loss: 0.3089 - binary_accuracy: 0.8767 - auc: 0.9325 - val_loss: 0.2779 - val_binary_accuracy: 0.8960 - val_auc: 0.9503\n",
            "Epoch 26/500\n",
            "3103/3103 [==============================] - 9s 3ms/step - loss: 0.3233 - binary_accuracy: 0.8713 - auc: 0.9290 - val_loss: 0.3150 - val_binary_accuracy: 0.8961 - val_auc: 0.9516\n",
            "Epoch 27/500\n",
            "3103/3103 [==============================] - 9s 3ms/step - loss: 0.3082 - binary_accuracy: 0.8756 - auc: 0.9329 - val_loss: 0.3070 - val_binary_accuracy: 0.8961 - val_auc: 0.9523\n",
            "Epoch 28/500\n",
            "3103/3103 [==============================] - 10s 3ms/step - loss: 0.3052 - binary_accuracy: 0.8791 - auc: 0.9326 - val_loss: 0.4101 - val_binary_accuracy: 0.8071 - val_auc: 0.9519\n",
            "Epoch 29/500\n",
            "3103/3103 [==============================] - 10s 3ms/step - loss: 0.3189 - binary_accuracy: 0.8708 - auc: 0.9277 - val_loss: 0.2828 - val_binary_accuracy: 0.9050 - val_auc: 0.9539\n",
            "Epoch 30/500\n",
            "3103/3103 [==============================] - 10s 3ms/step - loss: 0.3012 - binary_accuracy: 0.8792 - auc: 0.9354 - val_loss: 0.2633 - val_binary_accuracy: 0.9114 - val_auc: 0.9574\n",
            "Epoch 31/500\n",
            "3103/3103 [==============================] - 10s 3ms/step - loss: 0.3060 - binary_accuracy: 0.8748 - auc: 0.9338 - val_loss: 0.2925 - val_binary_accuracy: 0.8722 - val_auc: 0.9521\n",
            "Epoch 32/500\n",
            "3103/3103 [==============================] - 10s 3ms/step - loss: 0.3167 - binary_accuracy: 0.8703 - auc: 0.9293 - val_loss: 0.2736 - val_binary_accuracy: 0.8804 - val_auc: 0.9524\n",
            "Epoch 33/500\n",
            "3103/3103 [==============================] - 10s 3ms/step - loss: 0.3094 - binary_accuracy: 0.8695 - auc: 0.9330 - val_loss: 0.2627 - val_binary_accuracy: 0.8932 - val_auc: 0.9571\n",
            "Epoch 34/500\n",
            "3103/3103 [==============================] - 10s 3ms/step - loss: 0.3128 - binary_accuracy: 0.8742 - auc: 0.9320 - val_loss: 0.2654 - val_binary_accuracy: 0.9036 - val_auc: 0.9606\n",
            "Epoch 35/500\n",
            "3103/3103 [==============================] - 9s 3ms/step - loss: 0.3035 - binary_accuracy: 0.8759 - auc: 0.9354 - val_loss: 0.2733 - val_binary_accuracy: 0.8947 - val_auc: 0.9573\n",
            "Epoch 36/500\n",
            "3103/3103 [==============================] - 10s 3ms/step - loss: 0.2963 - binary_accuracy: 0.8799 - auc: 0.9380 - val_loss: 0.2653 - val_binary_accuracy: 0.8998 - val_auc: 0.9586\n",
            "Epoch 37/500\n",
            "3103/3103 [==============================] - 10s 3ms/step - loss: 0.2946 - binary_accuracy: 0.8804 - auc: 0.9384 - val_loss: 0.4144 - val_binary_accuracy: 0.8053 - val_auc: 0.9553\n",
            "Epoch 38/500\n",
            "3103/3103 [==============================] - 10s 3ms/step - loss: 0.3038 - binary_accuracy: 0.8760 - auc: 0.9355 - val_loss: 0.2670 - val_binary_accuracy: 0.8982 - val_auc: 0.9598\n",
            "Epoch 39/500\n",
            "3103/3103 [==============================] - 9s 3ms/step - loss: 0.3040 - binary_accuracy: 0.8725 - auc: 0.9348 - val_loss: 0.2513 - val_binary_accuracy: 0.9079 - val_auc: 0.9601\n",
            "Epoch 40/500\n",
            "3103/3103 [==============================] - 9s 3ms/step - loss: 0.2974 - binary_accuracy: 0.8785 - auc: 0.9369 - val_loss: 0.2840 - val_binary_accuracy: 0.9049 - val_auc: 0.9598\n",
            "Epoch 41/500\n",
            "3103/3103 [==============================] - 10s 3ms/step - loss: 0.3046 - binary_accuracy: 0.8759 - auc: 0.9353 - val_loss: 0.3136 - val_binary_accuracy: 0.9037 - val_auc: 0.9571\n",
            "Epoch 42/500\n",
            "3103/3103 [==============================] - 10s 3ms/step - loss: 0.3058 - binary_accuracy: 0.8745 - auc: 0.9359 - val_loss: 0.2468 - val_binary_accuracy: 0.9014 - val_auc: 0.9587\n",
            "Epoch 43/500\n",
            "3103/3103 [==============================] - 10s 3ms/step - loss: 0.2910 - binary_accuracy: 0.8833 - auc: 0.9392 - val_loss: 0.2464 - val_binary_accuracy: 0.9079 - val_auc: 0.9591\n",
            "Epoch 44/500\n",
            "3103/3103 [==============================] - 10s 3ms/step - loss: 0.2910 - binary_accuracy: 0.8834 - auc: 0.9410 - val_loss: 0.2557 - val_binary_accuracy: 0.9106 - val_auc: 0.9625\n",
            "Epoch 45/500\n",
            "3103/3103 [==============================] - 10s 3ms/step - loss: 0.2939 - binary_accuracy: 0.8831 - auc: 0.9379 - val_loss: 0.3407 - val_binary_accuracy: 0.8251 - val_auc: 0.9555\n",
            "Epoch 46/500\n",
            "3103/3103 [==============================] - 10s 3ms/step - loss: 0.2857 - binary_accuracy: 0.8832 - auc: 0.9420 - val_loss: 0.2655 - val_binary_accuracy: 0.9007 - val_auc: 0.9600\n",
            "Epoch 47/500\n",
            "3103/3103 [==============================] - 12s 4ms/step - loss: 0.2826 - binary_accuracy: 0.8882 - auc: 0.9424 - val_loss: 0.2574 - val_binary_accuracy: 0.9088 - val_auc: 0.9578\n",
            "Epoch 48/500\n",
            "3103/3103 [==============================] - 10s 3ms/step - loss: 0.2991 - binary_accuracy: 0.8760 - auc: 0.9351 - val_loss: 0.2402 - val_binary_accuracy: 0.8999 - val_auc: 0.9613\n",
            "Epoch 49/500\n",
            "3103/3103 [==============================] - 10s 3ms/step - loss: 0.2931 - binary_accuracy: 0.8786 - auc: 0.9366 - val_loss: 0.2968 - val_binary_accuracy: 0.8868 - val_auc: 0.9616\n",
            "Epoch 50/500\n",
            "3103/3103 [==============================] - 10s 3ms/step - loss: 0.2859 - binary_accuracy: 0.8824 - auc: 0.9405 - val_loss: 0.2689 - val_binary_accuracy: 0.9086 - val_auc: 0.9608\n",
            "Epoch 51/500\n",
            "3103/3103 [==============================] - 10s 3ms/step - loss: 0.2835 - binary_accuracy: 0.8855 - auc: 0.9420 - val_loss: 0.2849 - val_binary_accuracy: 0.8809 - val_auc: 0.9596\n",
            "Epoch 52/500\n",
            "3103/3103 [==============================] - 10s 3ms/step - loss: 0.2771 - binary_accuracy: 0.8875 - auc: 0.9443 - val_loss: 0.2848 - val_binary_accuracy: 0.8904 - val_auc: 0.9575\n",
            "Epoch 53/500\n",
            "3103/3103 [==============================] - 10s 3ms/step - loss: 0.2953 - binary_accuracy: 0.8791 - auc: 0.9362 - val_loss: 0.2600 - val_binary_accuracy: 0.9076 - val_auc: 0.9477\n",
            "Epoch 54/500\n",
            "3103/3103 [==============================] - 10s 3ms/step - loss: 0.3074 - binary_accuracy: 0.8751 - auc: 0.9293 - val_loss: 0.3105 - val_binary_accuracy: 0.9055 - val_auc: 0.9590\n",
            "Epoch 55/500\n",
            "3103/3103 [==============================] - 10s 3ms/step - loss: 0.2854 - binary_accuracy: 0.8860 - auc: 0.9394 - val_loss: 0.2897 - val_binary_accuracy: 0.8727 - val_auc: 0.9522\n"
          ],
          "name": "stdout"
        }
      ]
    },
    {
      "cell_type": "code",
      "metadata": {
        "colab": {
          "base_uri": "https://localhost:8080/",
          "height": 277
        },
        "id": "muIvYULG7pum",
        "outputId": "14d99440-2b39-4ed3-b01b-972dfaa0aa07"
      },
      "source": [
        "history_df1 = pd.DataFrame(history1.history)\n",
        "\n",
        "history_df1.describe()"
      ],
      "execution_count": null,
      "outputs": [
        {
          "output_type": "execute_result",
          "data": {
            "text/html": [
              "<div>\n",
              "<style scoped>\n",
              "    .dataframe tbody tr th:only-of-type {\n",
              "        vertical-align: middle;\n",
              "    }\n",
              "\n",
              "    .dataframe tbody tr th {\n",
              "        vertical-align: top;\n",
              "    }\n",
              "\n",
              "    .dataframe thead th {\n",
              "        text-align: right;\n",
              "    }\n",
              "</style>\n",
              "<table border=\"1\" class=\"dataframe\">\n",
              "  <thead>\n",
              "    <tr style=\"text-align: right;\">\n",
              "      <th></th>\n",
              "      <th>loss</th>\n",
              "      <th>binary_accuracy</th>\n",
              "      <th>auc</th>\n",
              "      <th>val_loss</th>\n",
              "      <th>val_binary_accuracy</th>\n",
              "      <th>val_auc</th>\n",
              "    </tr>\n",
              "  </thead>\n",
              "  <tbody>\n",
              "    <tr>\n",
              "      <th>count</th>\n",
              "      <td>55.000000</td>\n",
              "      <td>55.000000</td>\n",
              "      <td>55.000000</td>\n",
              "      <td>55.000000</td>\n",
              "      <td>55.000000</td>\n",
              "      <td>55.000000</td>\n",
              "    </tr>\n",
              "    <tr>\n",
              "      <th>mean</th>\n",
              "      <td>0.327842</td>\n",
              "      <td>0.861537</td>\n",
              "      <td>0.921357</td>\n",
              "      <td>0.312877</td>\n",
              "      <td>0.883383</td>\n",
              "      <td>0.948000</td>\n",
              "    </tr>\n",
              "    <tr>\n",
              "      <th>std</th>\n",
              "      <td>0.050828</td>\n",
              "      <td>0.034707</td>\n",
              "      <td>0.034897</td>\n",
              "      <td>0.058290</td>\n",
              "      <td>0.034007</td>\n",
              "      <td>0.028391</td>\n",
              "    </tr>\n",
              "    <tr>\n",
              "      <th>min</th>\n",
              "      <td>0.279848</td>\n",
              "      <td>0.681278</td>\n",
              "      <td>0.726816</td>\n",
              "      <td>0.240178</td>\n",
              "      <td>0.716735</td>\n",
              "      <td>0.756242</td>\n",
              "    </tr>\n",
              "    <tr>\n",
              "      <th>25%</th>\n",
              "      <td>0.298626</td>\n",
              "      <td>0.856959</td>\n",
              "      <td>0.920186</td>\n",
              "      <td>0.271094</td>\n",
              "      <td>0.877544</td>\n",
              "      <td>0.949727</td>\n",
              "    </tr>\n",
              "    <tr>\n",
              "      <th>50%</th>\n",
              "      <td>0.310347</td>\n",
              "      <td>0.873096</td>\n",
              "      <td>0.931254</td>\n",
              "      <td>0.299880</td>\n",
              "      <td>0.894666</td>\n",
              "      <td>0.952754</td>\n",
              "    </tr>\n",
              "    <tr>\n",
              "      <th>75%</th>\n",
              "      <td>0.339360</td>\n",
              "      <td>0.879112</td>\n",
              "      <td>0.937117</td>\n",
              "      <td>0.333826</td>\n",
              "      <td>0.903665</td>\n",
              "      <td>0.958165</td>\n",
              "    </tr>\n",
              "    <tr>\n",
              "      <th>max</th>\n",
              "      <td>0.570114</td>\n",
              "      <td>0.887320</td>\n",
              "      <td>0.943678</td>\n",
              "      <td>0.541257</td>\n",
              "      <td>0.911411</td>\n",
              "      <td>0.962498</td>\n",
              "    </tr>\n",
              "  </tbody>\n",
              "</table>\n",
              "</div>"
            ],
            "text/plain": [
              "            loss  binary_accuracy  ...  val_binary_accuracy    val_auc\n",
              "count  55.000000        55.000000  ...            55.000000  55.000000\n",
              "mean    0.327842         0.861537  ...             0.883383   0.948000\n",
              "std     0.050828         0.034707  ...             0.034007   0.028391\n",
              "min     0.279848         0.681278  ...             0.716735   0.756242\n",
              "25%     0.298626         0.856959  ...             0.877544   0.949727\n",
              "50%     0.310347         0.873096  ...             0.894666   0.952754\n",
              "75%     0.339360         0.879112  ...             0.903665   0.958165\n",
              "max     0.570114         0.887320  ...             0.911411   0.962498\n",
              "\n",
              "[8 rows x 6 columns]"
            ]
          },
          "metadata": {
            "tags": []
          },
          "execution_count": 8
        }
      ]
    },
    {
      "cell_type": "code",
      "metadata": {
        "colab": {
          "base_uri": "https://localhost:8080/"
        },
        "id": "QDRvjAls7psK",
        "outputId": "e0b31dc1-eb37-45bb-812b-a54be31f3dc9"
      },
      "source": [
        "train_acc = top_10_nn.evaluate(train_X, train_y)\n",
        "test_acc = top_10_nn.evaluate(val_X, val_y)"
      ],
      "execution_count": null,
      "outputs": [
        {
          "output_type": "stream",
          "text": [
            "2078/2078 [==============================] - 3s 1ms/step - loss: 0.2639 - binary_accuracy: 0.9106 - auc: 0.9568\n",
            "693/693 [==============================] - 1s 1ms/step - loss: 0.2653 - binary_accuracy: 0.9092 - auc: 0.9558\n"
          ],
          "name": "stdout"
        }
      ]
    },
    {
      "cell_type": "code",
      "metadata": {
        "colab": {
          "base_uri": "https://localhost:8080/"
        },
        "id": "ahig1f-Z7ppm",
        "outputId": "48686c86-8c11-498d-8e30-849224794650"
      },
      "source": [
        "dict(zip(top_10_nn.metrics_names, test_acc))"
      ],
      "execution_count": null,
      "outputs": [
        {
          "output_type": "execute_result",
          "data": {
            "text/plain": [
              "{'auc': 0.9557706117630005,\n",
              " 'binary_accuracy': 0.9092139601707458,\n",
              " 'loss': 0.26526567339897156}"
            ]
          },
          "metadata": {
            "tags": []
          },
          "execution_count": 10
        }
      ]
    },
    {
      "cell_type": "code",
      "metadata": {
        "colab": {
          "base_uri": "https://localhost:8080/",
          "height": 281
        },
        "id": "2D__R-yv7plw",
        "outputId": "a567b6e3-3d8e-49eb-a61c-e2071552d604"
      },
      "source": [
        "history_df1.loc[:, ['loss', 'val_loss']].plot();\n",
        "print(\"Minimum validation loss (binary_crossentropy): {}\".format(history_df1['val_loss'].min()))"
      ],
      "execution_count": null,
      "outputs": [
        {
          "output_type": "stream",
          "text": [
            "Minimum validation loss (binary_crossentropy): 0.24017752707004547\n"
          ],
          "name": "stdout"
        },
        {
          "output_type": "display_data",
          "data": {
            "image/png": "[encoded data removed]",
            "text/plain": [
              "<Figure size 432x288 with 1 Axes>"
            ]
          },
          "metadata": {
            "tags": [],
            "needs_background": "light"
          }
        }
      ]
    },
    {
      "cell_type": "code",
      "metadata": {
        "colab": {
          "base_uri": "https://localhost:8080/",
          "height": 281
        },
        "id": "fo_odY_Z-Fc-",
        "outputId": "94f3dd2d-e504-4b9c-d1ff-10cd9d850e16"
      },
      "source": [
        "history_df1.loc[:, ['auc', 'val_auc']].plot();\n",
        "print(\"Maximum AUC: {}\".format(history_df1['val_auc'].max()))"
      ],
      "execution_count": null,
      "outputs": [
        {
          "output_type": "stream",
          "text": [
            "Maximum AUC: 0.9624983072280884\n"
          ],
          "name": "stdout"
        },
        {
          "output_type": "display_data",
          "data": {
            "image/png": "[encoded data removed]",
            "text/plain": [
              "<Figure size 432x288 with 1 Axes>"
            ]
          },
          "metadata": {
            "tags": [],
            "needs_background": "light"
          }
        }
      ]
    },
    {
      "cell_type": "code",
      "metadata": {
        "colab": {
          "base_uri": "https://localhost:8080/",
          "height": 281
        },
        "id": "sAvi3T0k-FaZ",
        "outputId": "d701b794-05d9-4859-ea89-0f5ef2efae84"
      },
      "source": [
        "history_df1.loc[:, ['binary_accuracy', 'val_binary_accuracy']].plot();\n",
        "print(\"Maximum validation binary accuracy: {}\".format(history_df1['val_binary_accuracy'].max()))"
      ],
      "execution_count": null,
      "outputs": [
        {
          "output_type": "stream",
          "text": [
            "Maximum validation binary accuracy: 0.9114108085632324\n"
          ],
          "name": "stdout"
        },
        {
          "output_type": "display_data",
          "data": {
            "image/png": "[encoded data removed]",
            "text/plain": [
              "<Figure size 432x288 with 1 Axes>"
            ]
          },
          "metadata": {
            "tags": [],
            "needs_background": "light"
          }
        }
      ]
    },
    {
      "cell_type": "code",
      "metadata": {
        "colab": {
          "base_uri": "https://localhost:8080/"
        },
        "id": "t1HNIr9wj5xY",
        "outputId": "ac6e6ce6-0068-497a-8b21-218f0a16fdf3"
      },
      "source": [
        "history_df1.binary_accuracy.max() - history_df1.val_binary_accuracy.max()"
      ],
      "execution_count": null,
      "outputs": [
        {
          "output_type": "execute_result",
          "data": {
            "text/plain": [
              "-0.024090468883514404"
            ]
          },
          "metadata": {
            "tags": []
          },
          "execution_count": 14
        }
      ]
    },
    {
      "cell_type": "code",
      "metadata": {
        "colab": {
          "base_uri": "https://localhost:8080/"
        },
        "id": "imHHWk12-FYT",
        "outputId": "ad1797d0-f1a0-4873-aee1-acb603778cb4"
      },
      "source": [
        "preds1 = top_10_nn.predict(val_X)\n",
        "preds1"
      ],
      "execution_count": null,
      "outputs": [
        {
          "output_type": "execute_result",
          "data": {
            "text/plain": [
              "array([[0.8907678 ],\n",
              "       [0.01719761],\n",
              "       [0.80778307],\n",
              "       ...,\n",
              "       [0.3034043 ],\n",
              "       [0.03777122],\n",
              "       [0.8793068 ]], dtype=float32)"
            ]
          },
          "metadata": {
            "tags": []
          },
          "execution_count": 16
        }
      ]
    },
    {
      "cell_type": "code",
      "metadata": {
        "colab": {
          "base_uri": "https://localhost:8080/"
        },
        "id": "aaqa0E8Q-FTq",
        "outputId": "1cffd02c-ae55-48ff-a0b5-d9a8f166a400"
      },
      "source": [
        "len(preds1[preds1 <= 0.5])"
      ],
      "execution_count": null,
      "outputs": [
        {
          "output_type": "execute_result",
          "data": {
            "text/plain": [
              "13591"
            ]
          },
          "metadata": {
            "tags": []
          },
          "execution_count": 17
        }
      ]
    },
    {
      "cell_type": "code",
      "metadata": {
        "colab": {
          "base_uri": "https://localhost:8080/"
        },
        "id": "Zg-XeIt--FPm",
        "outputId": "0b948bf4-49b3-482e-836c-21ed16ac3876"
      },
      "source": [
        "len(preds1[preds1 > 0.5])"
      ],
      "execution_count": null,
      "outputs": [
        {
          "output_type": "execute_result",
          "data": {
            "text/plain": [
              "8571"
            ]
          },
          "metadata": {
            "tags": []
          },
          "execution_count": 18
        }
      ]
    },
    {
      "cell_type": "code",
      "metadata": {
        "colab": {
          "base_uri": "https://localhost:8080/"
        },
        "id": "c2NKMevmOklU",
        "outputId": "ec1f9ad8-e583-476a-81b7-92a22b3f187d"
      },
      "source": [
        "len(val_y)"
      ],
      "execution_count": null,
      "outputs": [
        {
          "output_type": "execute_result",
          "data": {
            "text/plain": [
              "22162"
            ]
          },
          "metadata": {
            "tags": []
          },
          "execution_count": 19
        }
      ]
    },
    {
      "cell_type": "code",
      "metadata": {
        "colab": {
          "base_uri": "https://localhost:8080/",
          "height": 191
        },
        "id": "L4vca5K1lwb3",
        "outputId": "0d68939e-f791-47ee-f146-e478a91c5562"
      },
      "source": [
        "preds_df = pd.DataFrame(preds1, columns = ['preds'])\n",
        "\n",
        "preds_df.head()"
      ],
      "execution_count": null,
      "outputs": [
        {
          "output_type": "execute_result",
          "data": {
            "text/html": [
              "<div>\n",
              "<style scoped>\n",
              "    .dataframe tbody tr th:only-of-type {\n",
              "        vertical-align: middle;\n",
              "    }\n",
              "\n",
              "    .dataframe tbody tr th {\n",
              "        vertical-align: top;\n",
              "    }\n",
              "\n",
              "    .dataframe thead th {\n",
              "        text-align: right;\n",
              "    }\n",
              "</style>\n",
              "<table border=\"1\" class=\"dataframe\">\n",
              "  <thead>\n",
              "    <tr style=\"text-align: right;\">\n",
              "      <th></th>\n",
              "      <th>preds</th>\n",
              "    </tr>\n",
              "  </thead>\n",
              "  <tbody>\n",
              "    <tr>\n",
              "      <th>0</th>\n",
              "      <td>0.890768</td>\n",
              "    </tr>\n",
              "    <tr>\n",
              "      <th>1</th>\n",
              "      <td>0.017198</td>\n",
              "    </tr>\n",
              "    <tr>\n",
              "      <th>2</th>\n",
              "      <td>0.807783</td>\n",
              "    </tr>\n",
              "    <tr>\n",
              "      <th>3</th>\n",
              "      <td>0.059062</td>\n",
              "    </tr>\n",
              "    <tr>\n",
              "      <th>4</th>\n",
              "      <td>0.808833</td>\n",
              "    </tr>\n",
              "  </tbody>\n",
              "</table>\n",
              "</div>"
            ],
            "text/plain": [
              "      preds\n",
              "0  0.890768\n",
              "1  0.017198\n",
              "2  0.807783\n",
              "3  0.059062\n",
              "4  0.808833"
            ]
          },
          "metadata": {
            "tags": []
          },
          "execution_count": 20
        }
      ]
    },
    {
      "cell_type": "code",
      "metadata": {
        "colab": {
          "base_uri": "https://localhost:8080/",
          "height": 391
        },
        "id": "djCSxiA2lwZW",
        "outputId": "ec0e74a2-41ad-450f-ae2f-423d80bd4464"
      },
      "source": [
        "preds_df = pd.concat([preds_df, val_y.reset_index(drop=True), val_X.reset_index()], axis=1)\n",
        "\n",
        "preds_df"
      ],
      "execution_count": null,
      "outputs": [
        {
          "output_type": "execute_result",
          "data": {
            "text/html": [
              "<div>\n",
              "<style scoped>\n",
              "    .dataframe tbody tr th:only-of-type {\n",
              "        vertical-align: middle;\n",
              "    }\n",
              "\n",
              "    .dataframe tbody tr th {\n",
              "        vertical-align: top;\n",
              "    }\n",
              "\n",
              "    .dataframe thead th {\n",
              "        text-align: right;\n",
              "    }\n",
              "</style>\n",
              "<table border=\"1\" class=\"dataframe\">\n",
              "  <thead>\n",
              "    <tr style=\"text-align: right;\">\n",
              "      <th></th>\n",
              "      <th>preds</th>\n",
              "      <th>phishing</th>\n",
              "      <th>index</th>\n",
              "      <th>qty_slash_url</th>\n",
              "      <th>length_url</th>\n",
              "      <th>qty_hyphen_directory</th>\n",
              "      <th>qty_underline_directory</th>\n",
              "      <th>qty_slash_directory</th>\n",
              "      <th>directory_length</th>\n",
              "      <th>qty_hyphen_file</th>\n",
              "      <th>file_length</th>\n",
              "      <th>asn_ip</th>\n",
              "      <th>time_domain_activation</th>\n",
              "    </tr>\n",
              "  </thead>\n",
              "  <tbody>\n",
              "    <tr>\n",
              "      <th>0</th>\n",
              "      <td>0.890768</td>\n",
              "      <td>1</td>\n",
              "      <td>62575</td>\n",
              "      <td>0.002483</td>\n",
              "      <td>0.025323</td>\n",
              "      <td>0.000000</td>\n",
              "      <td>0.000000</td>\n",
              "      <td>0.002483</td>\n",
              "      <td>0.016882</td>\n",
              "      <td>0.000000</td>\n",
              "      <td>0.004965</td>\n",
              "      <td>-0.000497</td>\n",
              "      <td>0.999518</td>\n",
              "    </tr>\n",
              "    <tr>\n",
              "      <th>1</th>\n",
              "      <td>0.017198</td>\n",
              "      <td>0</td>\n",
              "      <td>38126</td>\n",
              "      <td>0.000000</td>\n",
              "      <td>0.001221</td>\n",
              "      <td>-0.000047</td>\n",
              "      <td>-0.000047</td>\n",
              "      <td>-0.000047</td>\n",
              "      <td>-0.000047</td>\n",
              "      <td>-0.000047</td>\n",
              "      <td>-0.000047</td>\n",
              "      <td>0.949305</td>\n",
              "      <td>0.314353</td>\n",
              "    </tr>\n",
              "    <tr>\n",
              "      <th>2</th>\n",
              "      <td>0.807783</td>\n",
              "      <td>0</td>\n",
              "      <td>1617</td>\n",
              "      <td>0.000069</td>\n",
              "      <td>0.002349</td>\n",
              "      <td>0.000069</td>\n",
              "      <td>0.000000</td>\n",
              "      <td>0.000069</td>\n",
              "      <td>0.001036</td>\n",
              "      <td>0.000069</td>\n",
              "      <td>0.000967</td>\n",
              "      <td>0.921329</td>\n",
              "      <td>0.388775</td>\n",
              "    </tr>\n",
              "    <tr>\n",
              "      <th>3</th>\n",
              "      <td>0.059062</td>\n",
              "      <td>0</td>\n",
              "      <td>8228</td>\n",
              "      <td>0.000000</td>\n",
              "      <td>0.000298</td>\n",
              "      <td>-0.000021</td>\n",
              "      <td>-0.000021</td>\n",
              "      <td>-0.000021</td>\n",
              "      <td>-0.000021</td>\n",
              "      <td>-0.000021</td>\n",
              "      <td>-0.000021</td>\n",
              "      <td>0.992151</td>\n",
              "      <td>0.125046</td>\n",
              "    </tr>\n",
              "    <tr>\n",
              "      <th>4</th>\n",
              "      <td>0.808833</td>\n",
              "      <td>1</td>\n",
              "      <td>55594</td>\n",
              "      <td>0.060550</td>\n",
              "      <td>0.847707</td>\n",
              "      <td>0.000000</td>\n",
              "      <td>0.030275</td>\n",
              "      <td>0.060550</td>\n",
              "      <td>0.423853</td>\n",
              "      <td>0.000000</td>\n",
              "      <td>0.302752</td>\n",
              "      <td>-0.030275</td>\n",
              "      <td>-0.030275</td>\n",
              "    </tr>\n",
              "    <tr>\n",
              "      <th>...</th>\n",
              "      <td>...</td>\n",
              "      <td>...</td>\n",
              "      <td>...</td>\n",
              "      <td>...</td>\n",
              "      <td>...</td>\n",
              "      <td>...</td>\n",
              "      <td>...</td>\n",
              "      <td>...</td>\n",
              "      <td>...</td>\n",
              "      <td>...</td>\n",
              "      <td>...</td>\n",
              "      <td>...</td>\n",
              "      <td>...</td>\n",
              "    </tr>\n",
              "    <tr>\n",
              "      <th>22157</th>\n",
              "      <td>0.002891</td>\n",
              "      <td>0</td>\n",
              "      <td>65294</td>\n",
              "      <td>0.000000</td>\n",
              "      <td>0.001558</td>\n",
              "      <td>-0.000092</td>\n",
              "      <td>-0.000092</td>\n",
              "      <td>-0.000092</td>\n",
              "      <td>-0.000092</td>\n",
              "      <td>-0.000092</td>\n",
              "      <td>-0.000092</td>\n",
              "      <td>0.720224</td>\n",
              "      <td>0.693739</td>\n",
              "    </tr>\n",
              "    <tr>\n",
              "      <th>22158</th>\n",
              "      <td>0.007090</td>\n",
              "      <td>0</td>\n",
              "      <td>10038</td>\n",
              "      <td>0.000000</td>\n",
              "      <td>0.001086</td>\n",
              "      <td>-0.000068</td>\n",
              "      <td>-0.000068</td>\n",
              "      <td>-0.000068</td>\n",
              "      <td>-0.000068</td>\n",
              "      <td>-0.000068</td>\n",
              "      <td>-0.000068</td>\n",
              "      <td>0.904747</td>\n",
              "      <td>0.425947</td>\n",
              "    </tr>\n",
              "    <tr>\n",
              "      <th>22159</th>\n",
              "      <td>0.303404</td>\n",
              "      <td>0</td>\n",
              "      <td>43642</td>\n",
              "      <td>0.000000</td>\n",
              "      <td>0.001711</td>\n",
              "      <td>-0.000074</td>\n",
              "      <td>-0.000074</td>\n",
              "      <td>-0.000074</td>\n",
              "      <td>-0.000074</td>\n",
              "      <td>-0.000074</td>\n",
              "      <td>-0.000074</td>\n",
              "      <td>0.999999</td>\n",
              "      <td>-0.000074</td>\n",
              "    </tr>\n",
              "    <tr>\n",
              "      <th>22160</th>\n",
              "      <td>0.037771</td>\n",
              "      <td>0</td>\n",
              "      <td>73632</td>\n",
              "      <td>0.000000</td>\n",
              "      <td>0.000730</td>\n",
              "      <td>-0.000028</td>\n",
              "      <td>-0.000028</td>\n",
              "      <td>-0.000028</td>\n",
              "      <td>-0.000028</td>\n",
              "      <td>-0.000028</td>\n",
              "      <td>-0.000028</td>\n",
              "      <td>0.980816</td>\n",
              "      <td>0.194933</td>\n",
              "    </tr>\n",
              "    <tr>\n",
              "      <th>22161</th>\n",
              "      <td>0.879307</td>\n",
              "      <td>1</td>\n",
              "      <td>25895</td>\n",
              "      <td>0.000043</td>\n",
              "      <td>0.000686</td>\n",
              "      <td>0.000000</td>\n",
              "      <td>0.000000</td>\n",
              "      <td>0.000043</td>\n",
              "      <td>0.000386</td>\n",
              "      <td>0.000000</td>\n",
              "      <td>0.000236</td>\n",
              "      <td>0.998568</td>\n",
              "      <td>0.053500</td>\n",
              "    </tr>\n",
              "  </tbody>\n",
              "</table>\n",
              "<p>22162 rows × 13 columns</p>\n",
              "</div>"
            ],
            "text/plain": [
              "          preds  phishing  index  ...  file_length    asn_ip  time_domain_activation\n",
              "0      0.890768         1  62575  ...     0.004965 -0.000497                0.999518\n",
              "1      0.017198         0  38126  ...    -0.000047  0.949305                0.314353\n",
              "2      0.807783         0   1617  ...     0.000967  0.921329                0.388775\n",
              "3      0.059062         0   8228  ...    -0.000021  0.992151                0.125046\n",
              "4      0.808833         1  55594  ...     0.302752 -0.030275               -0.030275\n",
              "...         ...       ...    ...  ...          ...       ...                     ...\n",
              "22157  0.002891         0  65294  ...    -0.000092  0.720224                0.693739\n",
              "22158  0.007090         0  10038  ...    -0.000068  0.904747                0.425947\n",
              "22159  0.303404         0  43642  ...    -0.000074  0.999999               -0.000074\n",
              "22160  0.037771         0  73632  ...    -0.000028  0.980816                0.194933\n",
              "22161  0.879307         1  25895  ...     0.000236  0.998568                0.053500\n",
              "\n",
              "[22162 rows x 13 columns]"
            ]
          },
          "metadata": {
            "tags": []
          },
          "execution_count": 21
        }
      ]
    },
    {
      "cell_type": "code",
      "metadata": {
        "colab": {
          "base_uri": "https://localhost:8080/"
        },
        "id": "qwM2bpcNlwXA",
        "outputId": "d6128ac9-70d4-4c79-c193-bba693a35f6f"
      },
      "source": [
        "pred_classes = np.argmax(preds1, axis=1)\n",
        "\n",
        "from sklearn.metrics import confusion_matrix\n",
        "cm = confusion_matrix(val_y, pred_classes)\n",
        "print(cm)"
      ],
      "execution_count": null,
      "outputs": [
        {
          "output_type": "stream",
          "text": [
            "[[14519     0]\n",
            " [ 7643     0]]\n"
          ],
          "name": "stdout"
        }
      ]
    }
  ]
}