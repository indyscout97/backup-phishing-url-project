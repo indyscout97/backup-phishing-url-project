{
  "nbformat": 4,
  "nbformat_minor": 0,
  "metadata": {
    "colab": {
      "name": "table6_nn.ipynb",
      "provenance": [],
      "collapsed_sections": []
    },
    "kernelspec": {
      "name": "python3",
      "display_name": "Python 3"
    },
    "language_info": {
      "name": "python"
    }
  },
  "cells": [
    {
      "cell_type": "markdown",
      "metadata": {
        "id": "AD-tbKBauWhl"
      },
      "source": [
        "# neural network on dataset attributes based on URL resolving data and external metrics (table 6)\n",
        "\n",
        "### (14 features)"
      ]
    },
    {
      "cell_type": "code",
      "metadata": {
        "colab": {
          "base_uri": "https://localhost:8080/"
        },
        "id": "nh56fGcS00aE",
        "outputId": "1b29f547-125e-427d-d1bb-2d355503542f"
      },
      "source": [
        "from keras.models import model_from_json\n",
        "import pandas as pd\n",
        "import numpy as np\n",
        "from sklearn.model_selection import train_test_split\n",
        "import sklearn as sk\n",
        "import matplotlib.pyplot as plt\n",
        "from tensorflow import keras\n",
        "from tensorflow.keras import layers\n",
        "import tensorflow as tf\n",
        "from tensorflow.keras import *\n",
        "from keras import callbacks\n",
        "from keras.utils.np_utils import *\n",
        "\n",
        "print(\"Done Loading\")\n"
      ],
      "execution_count": 1,
      "outputs": [
        {
          "output_type": "stream",
          "text": [
            "Done Loading\n"
          ],
          "name": "stdout"
        }
      ]
    },
    {
      "cell_type": "code",
      "metadata": {
        "colab": {
          "base_uri": "https://localhost:8080/",
          "height": 238
        },
        "id": "J4SOrq2500UM",
        "outputId": "f2be8314-a720-4bdc-aa8c-b9fbd3bc7d8c"
      },
      "source": [
        "full_df = pd.read_csv(\"https://raw.githubusercontent.com/jwaldroop/phishing-url-project/main/dataset_full.csv\")\n",
        "\n",
        "full_df.head()"
      ],
      "execution_count": 2,
      "outputs": [
        {
          "output_type": "execute_result",
          "data": {
            "text/html": [
              "<div>\n",
              "<style scoped>\n",
              "    .dataframe tbody tr th:only-of-type {\n",
              "        vertical-align: middle;\n",
              "    }\n",
              "\n",
              "    .dataframe tbody tr th {\n",
              "        vertical-align: top;\n",
              "    }\n",
              "\n",
              "    .dataframe thead th {\n",
              "        text-align: right;\n",
              "    }\n",
              "</style>\n",
              "<table border=\"1\" class=\"dataframe\">\n",
              "  <thead>\n",
              "    <tr style=\"text-align: right;\">\n",
              "      <th></th>\n",
              "      <th>qty_dot_url</th>\n",
              "      <th>qty_hyphen_url</th>\n",
              "      <th>qty_underline_url</th>\n",
              "      <th>qty_slash_url</th>\n",
              "      <th>qty_questionmark_url</th>\n",
              "      <th>qty_equal_url</th>\n",
              "      <th>qty_at_url</th>\n",
              "      <th>qty_and_url</th>\n",
              "      <th>qty_exclamation_url</th>\n",
              "      <th>qty_space_url</th>\n",
              "      <th>qty_tilde_url</th>\n",
              "      <th>qty_comma_url</th>\n",
              "      <th>qty_plus_url</th>\n",
              "      <th>qty_asterisk_url</th>\n",
              "      <th>qty_hashtag_url</th>\n",
              "      <th>qty_dollar_url</th>\n",
              "      <th>qty_percent_url</th>\n",
              "      <th>qty_tld_url</th>\n",
              "      <th>length_url</th>\n",
              "      <th>qty_dot_domain</th>\n",
              "      <th>qty_hyphen_domain</th>\n",
              "      <th>qty_underline_domain</th>\n",
              "      <th>qty_slash_domain</th>\n",
              "      <th>qty_questionmark_domain</th>\n",
              "      <th>qty_equal_domain</th>\n",
              "      <th>qty_at_domain</th>\n",
              "      <th>qty_and_domain</th>\n",
              "      <th>qty_exclamation_domain</th>\n",
              "      <th>qty_space_domain</th>\n",
              "      <th>qty_tilde_domain</th>\n",
              "      <th>qty_comma_domain</th>\n",
              "      <th>qty_plus_domain</th>\n",
              "      <th>qty_asterisk_domain</th>\n",
              "      <th>qty_hashtag_domain</th>\n",
              "      <th>qty_dollar_domain</th>\n",
              "      <th>qty_percent_domain</th>\n",
              "      <th>qty_vowels_domain</th>\n",
              "      <th>domain_length</th>\n",
              "      <th>domain_in_ip</th>\n",
              "      <th>server_client_domain</th>\n",
              "      <th>...</th>\n",
              "      <th>qty_hashtag_file</th>\n",
              "      <th>qty_dollar_file</th>\n",
              "      <th>qty_percent_file</th>\n",
              "      <th>file_length</th>\n",
              "      <th>qty_dot_params</th>\n",
              "      <th>qty_hyphen_params</th>\n",
              "      <th>qty_underline_params</th>\n",
              "      <th>qty_slash_params</th>\n",
              "      <th>qty_questionmark_params</th>\n",
              "      <th>qty_equal_params</th>\n",
              "      <th>qty_at_params</th>\n",
              "      <th>qty_and_params</th>\n",
              "      <th>qty_exclamation_params</th>\n",
              "      <th>qty_space_params</th>\n",
              "      <th>qty_tilde_params</th>\n",
              "      <th>qty_comma_params</th>\n",
              "      <th>qty_plus_params</th>\n",
              "      <th>qty_asterisk_params</th>\n",
              "      <th>qty_hashtag_params</th>\n",
              "      <th>qty_dollar_params</th>\n",
              "      <th>qty_percent_params</th>\n",
              "      <th>params_length</th>\n",
              "      <th>tld_present_params</th>\n",
              "      <th>qty_params</th>\n",
              "      <th>email_in_url</th>\n",
              "      <th>time_response</th>\n",
              "      <th>domain_spf</th>\n",
              "      <th>asn_ip</th>\n",
              "      <th>time_domain_activation</th>\n",
              "      <th>time_domain_expiration</th>\n",
              "      <th>qty_ip_resolved</th>\n",
              "      <th>qty_nameservers</th>\n",
              "      <th>qty_mx_servers</th>\n",
              "      <th>ttl_hostname</th>\n",
              "      <th>tls_ssl_certificate</th>\n",
              "      <th>qty_redirects</th>\n",
              "      <th>url_google_index</th>\n",
              "      <th>domain_google_index</th>\n",
              "      <th>url_shortened</th>\n",
              "      <th>phishing</th>\n",
              "    </tr>\n",
              "  </thead>\n",
              "  <tbody>\n",
              "    <tr>\n",
              "      <th>0</th>\n",
              "      <td>3</td>\n",
              "      <td>0</td>\n",
              "      <td>0</td>\n",
              "      <td>1</td>\n",
              "      <td>0</td>\n",
              "      <td>0</td>\n",
              "      <td>0</td>\n",
              "      <td>0</td>\n",
              "      <td>0</td>\n",
              "      <td>0</td>\n",
              "      <td>0</td>\n",
              "      <td>0</td>\n",
              "      <td>0</td>\n",
              "      <td>0</td>\n",
              "      <td>0</td>\n",
              "      <td>0</td>\n",
              "      <td>0</td>\n",
              "      <td>1</td>\n",
              "      <td>25</td>\n",
              "      <td>2</td>\n",
              "      <td>0</td>\n",
              "      <td>0</td>\n",
              "      <td>0</td>\n",
              "      <td>0</td>\n",
              "      <td>0</td>\n",
              "      <td>0</td>\n",
              "      <td>0</td>\n",
              "      <td>0</td>\n",
              "      <td>0</td>\n",
              "      <td>0</td>\n",
              "      <td>0</td>\n",
              "      <td>0</td>\n",
              "      <td>0</td>\n",
              "      <td>0</td>\n",
              "      <td>0</td>\n",
              "      <td>0</td>\n",
              "      <td>4</td>\n",
              "      <td>17</td>\n",
              "      <td>0</td>\n",
              "      <td>0</td>\n",
              "      <td>...</td>\n",
              "      <td>0</td>\n",
              "      <td>0</td>\n",
              "      <td>0</td>\n",
              "      <td>7</td>\n",
              "      <td>-1</td>\n",
              "      <td>-1</td>\n",
              "      <td>-1</td>\n",
              "      <td>-1</td>\n",
              "      <td>-1</td>\n",
              "      <td>-1</td>\n",
              "      <td>-1</td>\n",
              "      <td>-1</td>\n",
              "      <td>-1</td>\n",
              "      <td>-1</td>\n",
              "      <td>-1</td>\n",
              "      <td>-1</td>\n",
              "      <td>-1</td>\n",
              "      <td>-1</td>\n",
              "      <td>-1</td>\n",
              "      <td>-1</td>\n",
              "      <td>-1</td>\n",
              "      <td>-1</td>\n",
              "      <td>-1</td>\n",
              "      <td>-1</td>\n",
              "      <td>0</td>\n",
              "      <td>0.207316</td>\n",
              "      <td>0</td>\n",
              "      <td>60781</td>\n",
              "      <td>-1</td>\n",
              "      <td>-1</td>\n",
              "      <td>1</td>\n",
              "      <td>2</td>\n",
              "      <td>0</td>\n",
              "      <td>892</td>\n",
              "      <td>0</td>\n",
              "      <td>0</td>\n",
              "      <td>0</td>\n",
              "      <td>0</td>\n",
              "      <td>0</td>\n",
              "      <td>1</td>\n",
              "    </tr>\n",
              "    <tr>\n",
              "      <th>1</th>\n",
              "      <td>5</td>\n",
              "      <td>0</td>\n",
              "      <td>1</td>\n",
              "      <td>3</td>\n",
              "      <td>0</td>\n",
              "      <td>3</td>\n",
              "      <td>0</td>\n",
              "      <td>2</td>\n",
              "      <td>0</td>\n",
              "      <td>0</td>\n",
              "      <td>0</td>\n",
              "      <td>0</td>\n",
              "      <td>0</td>\n",
              "      <td>0</td>\n",
              "      <td>0</td>\n",
              "      <td>0</td>\n",
              "      <td>0</td>\n",
              "      <td>3</td>\n",
              "      <td>223</td>\n",
              "      <td>2</td>\n",
              "      <td>0</td>\n",
              "      <td>0</td>\n",
              "      <td>0</td>\n",
              "      <td>0</td>\n",
              "      <td>0</td>\n",
              "      <td>0</td>\n",
              "      <td>0</td>\n",
              "      <td>0</td>\n",
              "      <td>0</td>\n",
              "      <td>0</td>\n",
              "      <td>0</td>\n",
              "      <td>0</td>\n",
              "      <td>0</td>\n",
              "      <td>0</td>\n",
              "      <td>0</td>\n",
              "      <td>0</td>\n",
              "      <td>5</td>\n",
              "      <td>16</td>\n",
              "      <td>0</td>\n",
              "      <td>0</td>\n",
              "      <td>...</td>\n",
              "      <td>0</td>\n",
              "      <td>0</td>\n",
              "      <td>0</td>\n",
              "      <td>9</td>\n",
              "      <td>0</td>\n",
              "      <td>0</td>\n",
              "      <td>1</td>\n",
              "      <td>0</td>\n",
              "      <td>0</td>\n",
              "      <td>3</td>\n",
              "      <td>0</td>\n",
              "      <td>2</td>\n",
              "      <td>0</td>\n",
              "      <td>0</td>\n",
              "      <td>0</td>\n",
              "      <td>0</td>\n",
              "      <td>0</td>\n",
              "      <td>0</td>\n",
              "      <td>0</td>\n",
              "      <td>0</td>\n",
              "      <td>0</td>\n",
              "      <td>165</td>\n",
              "      <td>0</td>\n",
              "      <td>3</td>\n",
              "      <td>0</td>\n",
              "      <td>0.499566</td>\n",
              "      <td>-1</td>\n",
              "      <td>36024</td>\n",
              "      <td>579</td>\n",
              "      <td>150</td>\n",
              "      <td>1</td>\n",
              "      <td>2</td>\n",
              "      <td>1</td>\n",
              "      <td>9540</td>\n",
              "      <td>1</td>\n",
              "      <td>0</td>\n",
              "      <td>0</td>\n",
              "      <td>0</td>\n",
              "      <td>0</td>\n",
              "      <td>1</td>\n",
              "    </tr>\n",
              "    <tr>\n",
              "      <th>2</th>\n",
              "      <td>2</td>\n",
              "      <td>0</td>\n",
              "      <td>0</td>\n",
              "      <td>1</td>\n",
              "      <td>0</td>\n",
              "      <td>0</td>\n",
              "      <td>0</td>\n",
              "      <td>0</td>\n",
              "      <td>0</td>\n",
              "      <td>0</td>\n",
              "      <td>0</td>\n",
              "      <td>0</td>\n",
              "      <td>0</td>\n",
              "      <td>0</td>\n",
              "      <td>0</td>\n",
              "      <td>0</td>\n",
              "      <td>0</td>\n",
              "      <td>1</td>\n",
              "      <td>15</td>\n",
              "      <td>2</td>\n",
              "      <td>0</td>\n",
              "      <td>0</td>\n",
              "      <td>0</td>\n",
              "      <td>0</td>\n",
              "      <td>0</td>\n",
              "      <td>0</td>\n",
              "      <td>0</td>\n",
              "      <td>0</td>\n",
              "      <td>0</td>\n",
              "      <td>0</td>\n",
              "      <td>0</td>\n",
              "      <td>0</td>\n",
              "      <td>0</td>\n",
              "      <td>0</td>\n",
              "      <td>0</td>\n",
              "      <td>0</td>\n",
              "      <td>3</td>\n",
              "      <td>14</td>\n",
              "      <td>0</td>\n",
              "      <td>0</td>\n",
              "      <td>...</td>\n",
              "      <td>0</td>\n",
              "      <td>0</td>\n",
              "      <td>0</td>\n",
              "      <td>0</td>\n",
              "      <td>-1</td>\n",
              "      <td>-1</td>\n",
              "      <td>-1</td>\n",
              "      <td>-1</td>\n",
              "      <td>-1</td>\n",
              "      <td>-1</td>\n",
              "      <td>-1</td>\n",
              "      <td>-1</td>\n",
              "      <td>-1</td>\n",
              "      <td>-1</td>\n",
              "      <td>-1</td>\n",
              "      <td>-1</td>\n",
              "      <td>-1</td>\n",
              "      <td>-1</td>\n",
              "      <td>-1</td>\n",
              "      <td>-1</td>\n",
              "      <td>-1</td>\n",
              "      <td>-1</td>\n",
              "      <td>-1</td>\n",
              "      <td>-1</td>\n",
              "      <td>0</td>\n",
              "      <td>0.935901</td>\n",
              "      <td>0</td>\n",
              "      <td>4766</td>\n",
              "      <td>-1</td>\n",
              "      <td>-1</td>\n",
              "      <td>1</td>\n",
              "      <td>2</td>\n",
              "      <td>3</td>\n",
              "      <td>589</td>\n",
              "      <td>1</td>\n",
              "      <td>0</td>\n",
              "      <td>0</td>\n",
              "      <td>0</td>\n",
              "      <td>0</td>\n",
              "      <td>0</td>\n",
              "    </tr>\n",
              "    <tr>\n",
              "      <th>3</th>\n",
              "      <td>4</td>\n",
              "      <td>0</td>\n",
              "      <td>2</td>\n",
              "      <td>5</td>\n",
              "      <td>0</td>\n",
              "      <td>0</td>\n",
              "      <td>0</td>\n",
              "      <td>0</td>\n",
              "      <td>0</td>\n",
              "      <td>0</td>\n",
              "      <td>0</td>\n",
              "      <td>0</td>\n",
              "      <td>0</td>\n",
              "      <td>0</td>\n",
              "      <td>0</td>\n",
              "      <td>0</td>\n",
              "      <td>0</td>\n",
              "      <td>1</td>\n",
              "      <td>81</td>\n",
              "      <td>2</td>\n",
              "      <td>0</td>\n",
              "      <td>0</td>\n",
              "      <td>0</td>\n",
              "      <td>0</td>\n",
              "      <td>0</td>\n",
              "      <td>0</td>\n",
              "      <td>0</td>\n",
              "      <td>0</td>\n",
              "      <td>0</td>\n",
              "      <td>0</td>\n",
              "      <td>0</td>\n",
              "      <td>0</td>\n",
              "      <td>0</td>\n",
              "      <td>0</td>\n",
              "      <td>0</td>\n",
              "      <td>0</td>\n",
              "      <td>7</td>\n",
              "      <td>19</td>\n",
              "      <td>0</td>\n",
              "      <td>0</td>\n",
              "      <td>...</td>\n",
              "      <td>0</td>\n",
              "      <td>0</td>\n",
              "      <td>0</td>\n",
              "      <td>9</td>\n",
              "      <td>-1</td>\n",
              "      <td>-1</td>\n",
              "      <td>-1</td>\n",
              "      <td>-1</td>\n",
              "      <td>-1</td>\n",
              "      <td>-1</td>\n",
              "      <td>-1</td>\n",
              "      <td>-1</td>\n",
              "      <td>-1</td>\n",
              "      <td>-1</td>\n",
              "      <td>-1</td>\n",
              "      <td>-1</td>\n",
              "      <td>-1</td>\n",
              "      <td>-1</td>\n",
              "      <td>-1</td>\n",
              "      <td>-1</td>\n",
              "      <td>-1</td>\n",
              "      <td>-1</td>\n",
              "      <td>-1</td>\n",
              "      <td>-1</td>\n",
              "      <td>0</td>\n",
              "      <td>0.410021</td>\n",
              "      <td>0</td>\n",
              "      <td>20454</td>\n",
              "      <td>-1</td>\n",
              "      <td>-1</td>\n",
              "      <td>1</td>\n",
              "      <td>2</td>\n",
              "      <td>0</td>\n",
              "      <td>292</td>\n",
              "      <td>1</td>\n",
              "      <td>0</td>\n",
              "      <td>0</td>\n",
              "      <td>0</td>\n",
              "      <td>0</td>\n",
              "      <td>1</td>\n",
              "    </tr>\n",
              "    <tr>\n",
              "      <th>4</th>\n",
              "      <td>2</td>\n",
              "      <td>0</td>\n",
              "      <td>0</td>\n",
              "      <td>0</td>\n",
              "      <td>0</td>\n",
              "      <td>0</td>\n",
              "      <td>0</td>\n",
              "      <td>0</td>\n",
              "      <td>0</td>\n",
              "      <td>0</td>\n",
              "      <td>0</td>\n",
              "      <td>0</td>\n",
              "      <td>0</td>\n",
              "      <td>0</td>\n",
              "      <td>0</td>\n",
              "      <td>0</td>\n",
              "      <td>0</td>\n",
              "      <td>1</td>\n",
              "      <td>19</td>\n",
              "      <td>2</td>\n",
              "      <td>0</td>\n",
              "      <td>0</td>\n",
              "      <td>0</td>\n",
              "      <td>0</td>\n",
              "      <td>0</td>\n",
              "      <td>0</td>\n",
              "      <td>0</td>\n",
              "      <td>0</td>\n",
              "      <td>0</td>\n",
              "      <td>0</td>\n",
              "      <td>0</td>\n",
              "      <td>0</td>\n",
              "      <td>0</td>\n",
              "      <td>0</td>\n",
              "      <td>0</td>\n",
              "      <td>0</td>\n",
              "      <td>5</td>\n",
              "      <td>19</td>\n",
              "      <td>0</td>\n",
              "      <td>0</td>\n",
              "      <td>...</td>\n",
              "      <td>-1</td>\n",
              "      <td>-1</td>\n",
              "      <td>-1</td>\n",
              "      <td>-1</td>\n",
              "      <td>-1</td>\n",
              "      <td>-1</td>\n",
              "      <td>-1</td>\n",
              "      <td>-1</td>\n",
              "      <td>-1</td>\n",
              "      <td>-1</td>\n",
              "      <td>-1</td>\n",
              "      <td>-1</td>\n",
              "      <td>-1</td>\n",
              "      <td>-1</td>\n",
              "      <td>-1</td>\n",
              "      <td>-1</td>\n",
              "      <td>-1</td>\n",
              "      <td>-1</td>\n",
              "      <td>-1</td>\n",
              "      <td>-1</td>\n",
              "      <td>-1</td>\n",
              "      <td>-1</td>\n",
              "      <td>-1</td>\n",
              "      <td>-1</td>\n",
              "      <td>0</td>\n",
              "      <td>0.410761</td>\n",
              "      <td>0</td>\n",
              "      <td>53831</td>\n",
              "      <td>6998</td>\n",
              "      <td>306</td>\n",
              "      <td>1</td>\n",
              "      <td>2</td>\n",
              "      <td>1</td>\n",
              "      <td>3597</td>\n",
              "      <td>0</td>\n",
              "      <td>1</td>\n",
              "      <td>0</td>\n",
              "      <td>0</td>\n",
              "      <td>0</td>\n",
              "      <td>0</td>\n",
              "    </tr>\n",
              "  </tbody>\n",
              "</table>\n",
              "<p>5 rows × 112 columns</p>\n",
              "</div>"
            ],
            "text/plain": [
              "   qty_dot_url  qty_hyphen_url  ...  url_shortened  phishing\n",
              "0            3               0  ...              0         1\n",
              "1            5               0  ...              0         1\n",
              "2            2               0  ...              0         0\n",
              "3            4               0  ...              0         1\n",
              "4            2               0  ...              0         0\n",
              "\n",
              "[5 rows x 112 columns]"
            ]
          },
          "metadata": {
            "tags": []
          },
          "execution_count": 2
        }
      ]
    },
    {
      "cell_type": "code",
      "metadata": {
        "colab": {
          "base_uri": "https://localhost:8080/",
          "height": 191
        },
        "id": "1PQ4dcaouS2L",
        "outputId": "9dbecf55-8688-457d-e809-84adaf5c6739"
      },
      "source": [
        "y = full_df['phishing']\n",
        "\n",
        "features_table1 = ['time_response', 'domain_spf', 'asn_ip', 'time_domain_activation', 'time_domain_expiration', 'qty_ip_resolved', 'qty_nameservers', 'qty_mx_servers', 'ttl_hostname', 'tls_ssl_certificate',\n",
        "                   'qty_redirects', 'url_google_index', 'domain_google_index', 'url_shortened'] \n",
        "\n",
        "X = full_df[features_table1]\n",
        "\n",
        "train_X, val_X, train_y, val_y = train_test_split(X, y, random_state=808)\n",
        "\n",
        "train_X.head()"
      ],
      "execution_count": 3,
      "outputs": [
        {
          "output_type": "execute_result",
          "data": {
            "text/html": [
              "<div>\n",
              "<style scoped>\n",
              "    .dataframe tbody tr th:only-of-type {\n",
              "        vertical-align: middle;\n",
              "    }\n",
              "\n",
              "    .dataframe tbody tr th {\n",
              "        vertical-align: top;\n",
              "    }\n",
              "\n",
              "    .dataframe thead th {\n",
              "        text-align: right;\n",
              "    }\n",
              "</style>\n",
              "<table border=\"1\" class=\"dataframe\">\n",
              "  <thead>\n",
              "    <tr style=\"text-align: right;\">\n",
              "      <th></th>\n",
              "      <th>time_response</th>\n",
              "      <th>domain_spf</th>\n",
              "      <th>asn_ip</th>\n",
              "      <th>time_domain_activation</th>\n",
              "      <th>time_domain_expiration</th>\n",
              "      <th>qty_ip_resolved</th>\n",
              "      <th>qty_nameservers</th>\n",
              "      <th>qty_mx_servers</th>\n",
              "      <th>ttl_hostname</th>\n",
              "      <th>tls_ssl_certificate</th>\n",
              "      <th>qty_redirects</th>\n",
              "      <th>url_google_index</th>\n",
              "      <th>domain_google_index</th>\n",
              "      <th>url_shortened</th>\n",
              "    </tr>\n",
              "  </thead>\n",
              "  <tbody>\n",
              "    <tr>\n",
              "      <th>5676</th>\n",
              "      <td>8.696835</td>\n",
              "      <td>-1</td>\n",
              "      <td>262254</td>\n",
              "      <td>155</td>\n",
              "      <td>209</td>\n",
              "      <td>1</td>\n",
              "      <td>6</td>\n",
              "      <td>2</td>\n",
              "      <td>3011</td>\n",
              "      <td>1</td>\n",
              "      <td>0</td>\n",
              "      <td>0</td>\n",
              "      <td>0</td>\n",
              "      <td>0</td>\n",
              "    </tr>\n",
              "    <tr>\n",
              "      <th>39002</th>\n",
              "      <td>0.244978</td>\n",
              "      <td>0</td>\n",
              "      <td>2818</td>\n",
              "      <td>-1</td>\n",
              "      <td>2625</td>\n",
              "      <td>4</td>\n",
              "      <td>4</td>\n",
              "      <td>2</td>\n",
              "      <td>247</td>\n",
              "      <td>1</td>\n",
              "      <td>1</td>\n",
              "      <td>0</td>\n",
              "      <td>0</td>\n",
              "      <td>0</td>\n",
              "    </tr>\n",
              "    <tr>\n",
              "      <th>1732</th>\n",
              "      <td>0.430590</td>\n",
              "      <td>0</td>\n",
              "      <td>15169</td>\n",
              "      <td>5858</td>\n",
              "      <td>350</td>\n",
              "      <td>1</td>\n",
              "      <td>2</td>\n",
              "      <td>1</td>\n",
              "      <td>14399</td>\n",
              "      <td>0</td>\n",
              "      <td>0</td>\n",
              "      <td>0</td>\n",
              "      <td>0</td>\n",
              "      <td>0</td>\n",
              "    </tr>\n",
              "    <tr>\n",
              "      <th>39668</th>\n",
              "      <td>0.617731</td>\n",
              "      <td>0</td>\n",
              "      <td>14061</td>\n",
              "      <td>4285</td>\n",
              "      <td>97</td>\n",
              "      <td>1</td>\n",
              "      <td>2</td>\n",
              "      <td>4</td>\n",
              "      <td>7199</td>\n",
              "      <td>0</td>\n",
              "      <td>1</td>\n",
              "      <td>0</td>\n",
              "      <td>0</td>\n",
              "      <td>0</td>\n",
              "    </tr>\n",
              "    <tr>\n",
              "      <th>82035</th>\n",
              "      <td>0.149499</td>\n",
              "      <td>0</td>\n",
              "      <td>29671</td>\n",
              "      <td>6669</td>\n",
              "      <td>269</td>\n",
              "      <td>1</td>\n",
              "      <td>4</td>\n",
              "      <td>4</td>\n",
              "      <td>21598</td>\n",
              "      <td>0</td>\n",
              "      <td>0</td>\n",
              "      <td>0</td>\n",
              "      <td>0</td>\n",
              "      <td>0</td>\n",
              "    </tr>\n",
              "  </tbody>\n",
              "</table>\n",
              "</div>"
            ],
            "text/plain": [
              "       time_response  domain_spf  ...  domain_google_index  url_shortened\n",
              "5676        8.696835          -1  ...                    0              0\n",
              "39002       0.244978           0  ...                    0              0\n",
              "1732        0.430590           0  ...                    0              0\n",
              "39668       0.617731           0  ...                    0              0\n",
              "82035       0.149499           0  ...                    0              0\n",
              "\n",
              "[5 rows x 14 columns]"
            ]
          },
          "metadata": {
            "tags": []
          },
          "execution_count": 3
        }
      ]
    },
    {
      "cell_type": "code",
      "metadata": {
        "colab": {
          "base_uri": "https://localhost:8080/"
        },
        "id": "EUauU02l2iFe",
        "outputId": "6bc9dae6-faab-4379-af99-4d54650100ca"
      },
      "source": [
        "X.shape"
      ],
      "execution_count": 4,
      "outputs": [
        {
          "output_type": "execute_result",
          "data": {
            "text/plain": [
              "(88647, 14)"
            ]
          },
          "metadata": {
            "tags": []
          },
          "execution_count": 4
        }
      ]
    },
    {
      "cell_type": "code",
      "metadata": {
        "colab": {
          "base_uri": "https://localhost:8080/"
        },
        "id": "6JybKWkn1U8i",
        "outputId": "ea197c56-712a-4291-f93e-d3fb7b819793"
      },
      "source": [
        "tf.keras.backend.clear_session()\n",
        "\n",
        "#neural net\n",
        "\n",
        "table6_nn = keras.Sequential([\n",
        "                          layers.InputLayer(input_shape=[14]),\n",
        "                          layers.Dense(units=64, activation='relu'),\n",
        "                          layers.Dropout(0.2),\n",
        "                          layers.Dense(units=64, activation='relu'),\n",
        "                          layers.Dropout(0.2),\n",
        "                          layers.Dense(units=50, activation='relu'),\n",
        "                          layers.Dropout(0.20),\n",
        "                          layers.Dense(units=32, activation='relu'),\n",
        "                          layers.Dropout(0.2),\n",
        "                          layers.Dense(units=32, activation='relu'),\n",
        "                          layers.Dropout(0.2),\n",
        "                          layers.Dense(units=16, activation='relu'),\n",
        "                          layers.Dropout(0.40),\n",
        "                          layers.Dense(units=16, activation='relu'),\n",
        "                          layers.Dropout(0.40),\n",
        "                          layers.Dense(units=111, activation='relu'),\n",
        "                          layers.Flatten(),\n",
        "                          layers.Dense(units=1, activation='sigmoid')\n",
        "])\n",
        "\n",
        "table6_nn.compile(\n",
        "    optimizer='adam',\n",
        "    loss='binary_crossentropy',\n",
        "    metrics=[tf.keras.metrics.BinaryAccuracy(threshold=0.5), \n",
        "             tf.keras.metrics.AUC(),\n",
        "             ]\n",
        ")\n",
        "\n",
        "earlystopping = callbacks.EarlyStopping(monitor = 'val_binary_accuracy', mode = 'max',\n",
        "                                       patience = 25, restore_best_weights = True)\n",
        "\n",
        "\n",
        "table6_nn.summary()"
      ],
      "execution_count": 5,
      "outputs": [
        {
          "output_type": "stream",
          "text": [
            "Model: \"sequential\"\n",
            "_________________________________________________________________\n",
            "Layer (type)                 Output Shape              Param #   \n",
            "=================================================================\n",
            "dense (Dense)                (None, 64)                960       \n",
            "_________________________________________________________________\n",
            "dropout (Dropout)            (None, 64)                0         \n",
            "_________________________________________________________________\n",
            "dense_1 (Dense)              (None, 64)                4160      \n",
            "_________________________________________________________________\n",
            "dropout_1 (Dropout)          (None, 64)                0         \n",
            "_________________________________________________________________\n",
            "dense_2 (Dense)              (None, 50)                3250      \n",
            "_________________________________________________________________\n",
            "dropout_2 (Dropout)          (None, 50)                0         \n",
            "_________________________________________________________________\n",
            "dense_3 (Dense)              (None, 32)                1632      \n",
            "_________________________________________________________________\n",
            "dropout_3 (Dropout)          (None, 32)                0         \n",
            "_________________________________________________________________\n",
            "dense_4 (Dense)              (None, 32)                1056      \n",
            "_________________________________________________________________\n",
            "dropout_4 (Dropout)          (None, 32)                0         \n",
            "_________________________________________________________________\n",
            "dense_5 (Dense)              (None, 16)                528       \n",
            "_________________________________________________________________\n",
            "dropout_5 (Dropout)          (None, 16)                0         \n",
            "_________________________________________________________________\n",
            "dense_6 (Dense)              (None, 16)                272       \n",
            "_________________________________________________________________\n",
            "dropout_6 (Dropout)          (None, 16)                0         \n",
            "_________________________________________________________________\n",
            "dense_7 (Dense)              (None, 111)               1887      \n",
            "_________________________________________________________________\n",
            "flatten (Flatten)            (None, 111)               0         \n",
            "_________________________________________________________________\n",
            "dense_8 (Dense)              (None, 1)                 112       \n",
            "=================================================================\n",
            "Total params: 13,857\n",
            "Trainable params: 13,857\n",
            "Non-trainable params: 0\n",
            "_________________________________________________________________\n"
          ],
          "name": "stdout"
        }
      ]
    },
    {
      "cell_type": "code",
      "metadata": {
        "colab": {
          "base_uri": "https://localhost:8080/"
        },
        "id": "evPK4SLp1U6a",
        "outputId": "2578f4da-d27f-4414-b169-8451fc76c8f5"
      },
      "source": [
        "history = table6_nn.fit(train_X, train_y, validation_split=0.30, batch_size= 15, epochs=500, callbacks = [earlystopping])"
      ],
      "execution_count": 6,
      "outputs": [
        {
          "output_type": "stream",
          "text": [
            "Epoch 1/500\n",
            "3103/3103 [==============================] - 13s 4ms/step - loss: 13.9405 - binary_accuracy: 0.5876 - auc: 0.5003 - val_loss: 0.6371 - val_binary_accuracy: 0.6592 - val_auc: 0.6403\n",
            "Epoch 2/500\n",
            "3103/3103 [==============================] - 11s 4ms/step - loss: 0.6961 - binary_accuracy: 0.6449 - auc: 0.4982 - val_loss: 0.6417 - val_binary_accuracy: 0.6592 - val_auc: 0.5000\n",
            "Epoch 3/500\n",
            "3103/3103 [==============================] - 11s 4ms/step - loss: 0.6531 - binary_accuracy: 0.6475 - auc: 0.4988 - val_loss: 0.6418 - val_binary_accuracy: 0.6592 - val_auc: 0.5000\n",
            "Epoch 4/500\n",
            "3103/3103 [==============================] - 11s 4ms/step - loss: 0.6495 - binary_accuracy: 0.6505 - auc: 0.4952 - val_loss: 0.6417 - val_binary_accuracy: 0.6592 - val_auc: 0.5000\n",
            "Epoch 5/500\n",
            "3103/3103 [==============================] - 11s 4ms/step - loss: 0.6472 - binary_accuracy: 0.6532 - auc: 0.4996 - val_loss: 0.6417 - val_binary_accuracy: 0.6592 - val_auc: 0.5000\n",
            "Epoch 6/500\n",
            "3103/3103 [==============================] - 11s 4ms/step - loss: 0.6446 - binary_accuracy: 0.6549 - auc: 0.4977 - val_loss: 0.6429 - val_binary_accuracy: 0.6592 - val_auc: 0.5000\n",
            "Epoch 7/500\n",
            "3103/3103 [==============================] - 11s 3ms/step - loss: 0.6480 - binary_accuracy: 0.6536 - auc: 0.4994 - val_loss: 0.6420 - val_binary_accuracy: 0.6592 - val_auc: 0.5000\n",
            "Epoch 8/500\n",
            "3103/3103 [==============================] - 11s 3ms/step - loss: 0.6456 - binary_accuracy: 0.6535 - auc: 0.4941 - val_loss: 0.6431 - val_binary_accuracy: 0.6592 - val_auc: 0.5000\n",
            "Epoch 9/500\n",
            "3103/3103 [==============================] - 11s 3ms/step - loss: 0.6475 - binary_accuracy: 0.6537 - auc: 0.4922 - val_loss: 0.6419 - val_binary_accuracy: 0.6592 - val_auc: 0.5000\n",
            "Epoch 10/500\n",
            "3103/3103 [==============================] - 11s 3ms/step - loss: 0.6465 - binary_accuracy: 0.6525 - auc: 0.4948 - val_loss: 0.6416 - val_binary_accuracy: 0.6592 - val_auc: 0.5000\n",
            "Epoch 11/500\n",
            "3103/3103 [==============================] - 11s 3ms/step - loss: 0.6473 - binary_accuracy: 0.6514 - auc: 0.4944 - val_loss: 0.6416 - val_binary_accuracy: 0.6592 - val_auc: 0.5000\n",
            "Epoch 12/500\n",
            "3103/3103 [==============================] - 11s 4ms/step - loss: 0.6463 - binary_accuracy: 0.6534 - auc: 0.4962 - val_loss: 0.6423 - val_binary_accuracy: 0.6592 - val_auc: 0.5000\n",
            "Epoch 13/500\n",
            "3103/3103 [==============================] - 11s 4ms/step - loss: 0.6453 - binary_accuracy: 0.6539 - auc: 0.4923 - val_loss: 0.6424 - val_binary_accuracy: 0.6592 - val_auc: 0.5000\n",
            "Epoch 14/500\n",
            "3103/3103 [==============================] - 11s 4ms/step - loss: 0.6445 - binary_accuracy: 0.6551 - auc: 0.4976 - val_loss: 0.6416 - val_binary_accuracy: 0.6592 - val_auc: 0.5000\n",
            "Epoch 15/500\n",
            "3103/3103 [==============================] - 11s 4ms/step - loss: 0.6453 - binary_accuracy: 0.6537 - auc: 0.4943 - val_loss: 0.6430 - val_binary_accuracy: 0.6592 - val_auc: 0.5000\n",
            "Epoch 16/500\n",
            "3103/3103 [==============================] - 11s 4ms/step - loss: 0.6450 - binary_accuracy: 0.6544 - auc: 0.5038 - val_loss: 0.6416 - val_binary_accuracy: 0.6592 - val_auc: 0.5000\n",
            "Epoch 17/500\n",
            "3103/3103 [==============================] - 11s 4ms/step - loss: 0.6466 - binary_accuracy: 0.6516 - auc: 0.4940 - val_loss: 0.6421 - val_binary_accuracy: 0.6592 - val_auc: 0.5000\n",
            "Epoch 18/500\n",
            "3103/3103 [==============================] - 11s 3ms/step - loss: 0.6621 - binary_accuracy: 0.6504 - auc: 0.4963 - val_loss: 0.6416 - val_binary_accuracy: 0.6592 - val_auc: 0.5000\n",
            "Epoch 19/500\n",
            "3103/3103 [==============================] - 12s 4ms/step - loss: 0.6469 - binary_accuracy: 0.6512 - auc: 0.4930 - val_loss: 0.6418 - val_binary_accuracy: 0.6592 - val_auc: 0.5000\n",
            "Epoch 20/500\n",
            "3103/3103 [==============================] - 12s 4ms/step - loss: 0.6481 - binary_accuracy: 0.6490 - auc: 0.5013 - val_loss: 0.6418 - val_binary_accuracy: 0.6592 - val_auc: 0.5000\n",
            "Epoch 21/500\n",
            "3103/3103 [==============================] - 11s 4ms/step - loss: 0.6483 - binary_accuracy: 0.6489 - auc: 0.4950 - val_loss: 0.6416 - val_binary_accuracy: 0.6592 - val_auc: 0.5000\n",
            "Epoch 22/500\n",
            "3103/3103 [==============================] - 11s 4ms/step - loss: 0.6483 - binary_accuracy: 0.6490 - auc: 0.4920 - val_loss: 0.6420 - val_binary_accuracy: 0.6592 - val_auc: 0.5000\n",
            "Epoch 23/500\n",
            "3103/3103 [==============================] - 11s 4ms/step - loss: 0.6512 - binary_accuracy: 0.6465 - auc: 0.4980 - val_loss: 0.6417 - val_binary_accuracy: 0.6592 - val_auc: 0.5000\n",
            "Epoch 24/500\n",
            "3103/3103 [==============================] - 11s 4ms/step - loss: 0.6466 - binary_accuracy: 0.6515 - auc: 0.4979 - val_loss: 0.6417 - val_binary_accuracy: 0.6592 - val_auc: 0.5000\n",
            "Epoch 25/500\n",
            "3103/3103 [==============================] - 11s 4ms/step - loss: 0.6480 - binary_accuracy: 0.6493 - auc: 0.4963 - val_loss: 0.6416 - val_binary_accuracy: 0.6592 - val_auc: 0.5000\n",
            "Epoch 26/500\n",
            "3103/3103 [==============================] - 11s 4ms/step - loss: 0.6455 - binary_accuracy: 0.6532 - auc: 0.4989 - val_loss: 0.6416 - val_binary_accuracy: 0.6592 - val_auc: 0.5000\n"
          ],
          "name": "stdout"
        }
      ]
    },
    {
      "cell_type": "code",
      "metadata": {
        "colab": {
          "base_uri": "https://localhost:8080/",
          "height": 277
        },
        "id": "QEylyqAB1U4T",
        "outputId": "4681496f-272d-4bed-e96e-ff967b32e83f"
      },
      "source": [
        "history_df = pd.DataFrame(history.history)\n",
        "\n",
        "history_df.describe()"
      ],
      "execution_count": 7,
      "outputs": [
        {
          "output_type": "execute_result",
          "data": {
            "text/html": [
              "<div>\n",
              "<style scoped>\n",
              "    .dataframe tbody tr th:only-of-type {\n",
              "        vertical-align: middle;\n",
              "    }\n",
              "\n",
              "    .dataframe tbody tr th {\n",
              "        vertical-align: top;\n",
              "    }\n",
              "\n",
              "    .dataframe thead th {\n",
              "        text-align: right;\n",
              "    }\n",
              "</style>\n",
              "<table border=\"1\" class=\"dataframe\">\n",
              "  <thead>\n",
              "    <tr style=\"text-align: right;\">\n",
              "      <th></th>\n",
              "      <th>loss</th>\n",
              "      <th>binary_accuracy</th>\n",
              "      <th>auc</th>\n",
              "      <th>val_loss</th>\n",
              "      <th>val_binary_accuracy</th>\n",
              "      <th>val_auc</th>\n",
              "    </tr>\n",
              "  </thead>\n",
              "  <tbody>\n",
              "    <tr>\n",
              "      <th>count</th>\n",
              "      <td>26.000000</td>\n",
              "      <td>26.000000</td>\n",
              "      <td>26.000000</td>\n",
              "      <td>26.000000</td>\n",
              "      <td>26.00000</td>\n",
              "      <td>26.000000</td>\n",
              "    </tr>\n",
              "    <tr>\n",
              "      <th>mean</th>\n",
              "      <td>0.764908</td>\n",
              "      <td>0.650173</td>\n",
              "      <td>0.498699</td>\n",
              "      <td>0.641754</td>\n",
              "      <td>0.65918</td>\n",
              "      <td>0.505397</td>\n",
              "    </tr>\n",
              "    <tr>\n",
              "      <th>std</th>\n",
              "      <td>0.591543</td>\n",
              "      <td>0.007351</td>\n",
              "      <td>0.002368</td>\n",
              "      <td>0.001047</td>\n",
              "      <td>0.00000</td>\n",
              "      <td>0.027521</td>\n",
              "    </tr>\n",
              "    <tr>\n",
              "      <th>min</th>\n",
              "      <td>0.646418</td>\n",
              "      <td>0.614259</td>\n",
              "      <td>0.494103</td>\n",
              "      <td>0.637129</td>\n",
              "      <td>0.65918</td>\n",
              "      <td>0.500000</td>\n",
              "    </tr>\n",
              "    <tr>\n",
              "      <th>25%</th>\n",
              "      <td>0.646515</td>\n",
              "      <td>0.651754</td>\n",
              "      <td>0.497170</td>\n",
              "      <td>0.641610</td>\n",
              "      <td>0.65918</td>\n",
              "      <td>0.500000</td>\n",
              "    </tr>\n",
              "    <tr>\n",
              "      <th>50%</th>\n",
              "      <td>0.646874</td>\n",
              "      <td>0.651776</td>\n",
              "      <td>0.498650</td>\n",
              "      <td>0.641741</td>\n",
              "      <td>0.65918</td>\n",
              "      <td>0.500000</td>\n",
              "    </tr>\n",
              "    <tr>\n",
              "      <th>75%</th>\n",
              "      <td>0.648149</td>\n",
              "      <td>0.651776</td>\n",
              "      <td>0.500396</td>\n",
              "      <td>0.642016</td>\n",
              "      <td>0.65918</td>\n",
              "      <td>0.500000</td>\n",
              "    </tr>\n",
              "    <tr>\n",
              "      <th>max</th>\n",
              "      <td>3.665030</td>\n",
              "      <td>0.651819</td>\n",
              "      <td>0.504317</td>\n",
              "      <td>0.643122</td>\n",
              "      <td>0.65918</td>\n",
              "      <td>0.640329</td>\n",
              "    </tr>\n",
              "  </tbody>\n",
              "</table>\n",
              "</div>"
            ],
            "text/plain": [
              "            loss  binary_accuracy  ...  val_binary_accuracy    val_auc\n",
              "count  26.000000        26.000000  ...             26.00000  26.000000\n",
              "mean    0.764908         0.650173  ...              0.65918   0.505397\n",
              "std     0.591543         0.007351  ...              0.00000   0.027521\n",
              "min     0.646418         0.614259  ...              0.65918   0.500000\n",
              "25%     0.646515         0.651754  ...              0.65918   0.500000\n",
              "50%     0.646874         0.651776  ...              0.65918   0.500000\n",
              "75%     0.648149         0.651776  ...              0.65918   0.500000\n",
              "max     3.665030         0.651819  ...              0.65918   0.640329\n",
              "\n",
              "[8 rows x 6 columns]"
            ]
          },
          "metadata": {
            "tags": []
          },
          "execution_count": 7
        }
      ]
    },
    {
      "cell_type": "code",
      "metadata": {
        "colab": {
          "base_uri": "https://localhost:8080/"
        },
        "id": "2rXapaDp1U2O",
        "outputId": "d16cd9eb-67f4-4336-f08c-e3739b292c8f"
      },
      "source": [
        "train_acc = table6_nn.evaluate(train_X, train_y)\n",
        "test_acc = table6_nn.evaluate(val_X, val_y)"
      ],
      "execution_count": 8,
      "outputs": [
        {
          "output_type": "stream",
          "text": [
            "2078/2078 [==============================] - 3s 2ms/step - loss: 0.6405 - binary_accuracy: 0.6540 - auc: 0.6425\n",
            "693/693 [==============================] - 1s 1ms/step - loss: 0.6397 - binary_accuracy: 0.6551 - auc: 0.6433\n"
          ],
          "name": "stdout"
        }
      ]
    },
    {
      "cell_type": "code",
      "metadata": {
        "colab": {
          "base_uri": "https://localhost:8080/"
        },
        "id": "5ADQEBa41Uz5",
        "outputId": "5e3d369e-2640-40ae-d92f-1453caaeaf72"
      },
      "source": [
        "dict(zip(table6_nn.metrics_names, test_acc))"
      ],
      "execution_count": 9,
      "outputs": [
        {
          "output_type": "execute_result",
          "data": {
            "text/plain": [
              "{'auc': 0.6432780623435974,\n",
              " 'binary_accuracy': 0.6551303863525391,\n",
              " 'loss': 0.639666736125946}"
            ]
          },
          "metadata": {
            "tags": []
          },
          "execution_count": 9
        }
      ]
    },
    {
      "cell_type": "code",
      "metadata": {
        "colab": {
          "base_uri": "https://localhost:8080/",
          "height": 281
        },
        "id": "3UfuVOqb1xJ1",
        "outputId": "7422ff87-0284-405f-a7f2-7901376eab6a"
      },
      "source": [
        "history_df.loc[:, ['loss', 'val_loss']].plot();\n",
        "print(\"Minimum validation loss (binary_crossentropy): {}\".format(history_df['val_loss'].min()))"
      ],
      "execution_count": 10,
      "outputs": [
        {
          "output_type": "stream",
          "text": [
            "Minimum validation loss (binary_crossentropy): 0.6371294856071472\n"
          ],
          "name": "stdout"
        },
        {
          "output_type": "display_data",
          "data": {
            "image/png": "[encoded data removed]",
            "text/plain": [
              "<Figure size 432x288 with 1 Axes>"
            ]
          },
          "metadata": {
            "tags": [],
            "needs_background": "light"
          }
        }
      ]
    },
    {
      "cell_type": "code",
      "metadata": {
        "colab": {
          "base_uri": "https://localhost:8080/",
          "height": 281
        },
        "id": "aT57qZ5W1xHc",
        "outputId": "0d544595-d78c-4738-f48f-a73b971b011c"
      },
      "source": [
        "history_df.loc[:, ['auc', 'val_auc']].plot();\n",
        "print(\"Maximum AUC: {}\".format(history_df['val_auc'].max()))"
      ],
      "execution_count": 11,
      "outputs": [
        {
          "output_type": "stream",
          "text": [
            "Maximum AUC: 0.6403294801712036\n"
          ],
          "name": "stdout"
        },
        {
          "output_type": "display_data",
          "data": {
            "image/png": "[encoded data removed]",
            "text/plain": [
              "<Figure size 432x288 with 1 Axes>"
            ]
          },
          "metadata": {
            "tags": [],
            "needs_background": "light"
          }
        }
      ]
    },
    {
      "cell_type": "code",
      "metadata": {
        "colab": {
          "base_uri": "https://localhost:8080/",
          "height": 281
        },
        "id": "kOu5es-F1xE-",
        "outputId": "27395247-568d-4713-800e-cc3ed6487cce"
      },
      "source": [
        "history_df.loc[:, ['binary_accuracy', 'val_binary_accuracy']].plot();\n",
        "print(\"Maximum validation binary accuracy: {}\".format(history_df['val_binary_accuracy'].max()))"
      ],
      "execution_count": 12,
      "outputs": [
        {
          "output_type": "stream",
          "text": [
            "Maximum validation binary accuracy: 0.6591798067092896\n"
          ],
          "name": "stdout"
        },
        {
          "output_type": "display_data",
          "data": {
            "image/png": "[encoded data removed]",
            "text/plain": [
              "<Figure size 432x288 with 1 Axes>"
            ]
          },
          "metadata": {
            "tags": [],
            "needs_background": "light"
          }
        }
      ]
    },
    {
      "cell_type": "code",
      "metadata": {
        "colab": {
          "base_uri": "https://localhost:8080/"
        },
        "id": "0Z1xGJNl1xCc",
        "outputId": "f75f8c13-6e0e-42c2-b948-c96ae2f43c0a"
      },
      "source": [
        "preds1 = table6_nn.predict(val_X)\n",
        "preds1"
      ],
      "execution_count": 13,
      "outputs": [
        {
          "output_type": "execute_result",
          "data": {
            "text/plain": [
              "array([[0.34713972],\n",
              "       [0.3243292 ],\n",
              "       [0.3382523 ],\n",
              "       ...,\n",
              "       [0.34713972],\n",
              "       [0.32368147],\n",
              "       [0.3333861 ]], dtype=float32)"
            ]
          },
          "metadata": {
            "tags": []
          },
          "execution_count": 13
        }
      ]
    },
    {
      "cell_type": "code",
      "metadata": {
        "colab": {
          "base_uri": "https://localhost:8080/"
        },
        "id": "VjJXhtRp1w-H",
        "outputId": "b5cbd503-1241-4bf3-da40-2270d3d6ec75"
      },
      "source": [
        "len(preds1[preds1 < 0.5])"
      ],
      "execution_count": 14,
      "outputs": [
        {
          "output_type": "execute_result",
          "data": {
            "text/plain": [
              "22162"
            ]
          },
          "metadata": {
            "tags": []
          },
          "execution_count": 14
        }
      ]
    },
    {
      "cell_type": "code",
      "metadata": {
        "colab": {
          "base_uri": "https://localhost:8080/"
        },
        "id": "lH9o4roL1-mQ",
        "outputId": "0f5b40f3-8fb7-4432-bbf9-7005fb181afe"
      },
      "source": [
        "len(preds1[preds1 >= 0.5])"
      ],
      "execution_count": 15,
      "outputs": [
        {
          "output_type": "execute_result",
          "data": {
            "text/plain": [
              "0"
            ]
          },
          "metadata": {
            "tags": []
          },
          "execution_count": 15
        }
      ]
    },
    {
      "cell_type": "code",
      "metadata": {
        "colab": {
          "base_uri": "https://localhost:8080/"
        },
        "id": "JmjS9QFa2Amb",
        "outputId": "98f037e6-0fca-4cdf-f67d-08ca90c51531"
      },
      "source": [
        "len(val_y)"
      ],
      "execution_count": 16,
      "outputs": [
        {
          "output_type": "execute_result",
          "data": {
            "text/plain": [
              "22162"
            ]
          },
          "metadata": {
            "tags": []
          },
          "execution_count": 16
        }
      ]
    },
    {
      "cell_type": "code",
      "metadata": {
        "colab": {
          "base_uri": "https://localhost:8080/"
        },
        "id": "ayXwQRKIpXyR",
        "outputId": "7e8f16d6-9eeb-4307-dfe2-59c4facc395c"
      },
      "source": [
        "pred_classes = np.argmax(preds1, axis=1)\n",
        "\n",
        "from sklearn.metrics import confusion_matrix\n",
        "cm = confusion_matrix(val_y, pred_classes)\n",
        "print(cm)"
      ],
      "execution_count": 17,
      "outputs": [
        {
          "output_type": "stream",
          "text": [
            "[[14519     0]\n",
            " [ 7643     0]]\n"
          ],
          "name": "stdout"
        }
      ]
    }
  ]
}