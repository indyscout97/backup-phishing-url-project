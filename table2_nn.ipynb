{
  "nbformat": 4,
  "nbformat_minor": 0,
  "metadata": {
    "colab": {
      "name": "table2_nn.ipynb",
      "provenance": [],
      "collapsed_sections": []
    },
    "kernelspec": {
      "name": "python3",
      "display_name": "Python 3"
    },
    "language_info": {
      "name": "python"
    }
  },
  "cells": [
    {
      "cell_type": "markdown",
      "metadata": {
        "id": "AD-tbKBauWhl"
      },
      "source": [
        "# neural network on dataset attributes based on domain URL (table 2)\n",
        "\n",
        "### (21 features)"
      ]
    },
    {
      "cell_type": "code",
      "metadata": {
        "colab": {
          "base_uri": "https://localhost:8080/"
        },
        "id": "nh56fGcS00aE",
        "outputId": "6a5e0140-3ef1-4e0b-fa68-be90c5bad9d7"
      },
      "source": [
        "from keras.models import model_from_json\n",
        "import pandas as pd\n",
        "import numpy as np\n",
        "from sklearn.model_selection import train_test_split\n",
        "import sklearn as sk\n",
        "import matplotlib.pyplot as plt\n",
        "from tensorflow import keras\n",
        "from tensorflow.keras import layers\n",
        "import tensorflow as tf\n",
        "from tensorflow.keras import *\n",
        "from keras import callbacks\n",
        "from keras.utils.np_utils import *\n",
        "\n",
        "print(\"Done Loading\")\n"
      ],
      "execution_count": 1,
      "outputs": [
        {
          "output_type": "stream",
          "text": [
            "Done Loading\n"
          ],
          "name": "stdout"
        }
      ]
    },
    {
      "cell_type": "code",
      "metadata": {
        "colab": {
          "base_uri": "https://localhost:8080/",
          "height": 253
        },
        "id": "J4SOrq2500UM",
        "outputId": "ab2d49e0-c429-4a9b-fe37-404427e8b0db"
      },
      "source": [
        "full_df = pd.read_csv(\"https://raw.githubusercontent.com/jwaldroop/phishing-url-project/main/dataset_full.csv\")\n",
        "\n",
        "full_df.head()"
      ],
      "execution_count": 2,
      "outputs": [
        {
          "output_type": "execute_result",
          "data": {
            "text/html": [
              "<div>\n",
              "<style scoped>\n",
              "    .dataframe tbody tr th:only-of-type {\n",
              "        vertical-align: middle;\n",
              "    }\n",
              "\n",
              "    .dataframe tbody tr th {\n",
              "        vertical-align: top;\n",
              "    }\n",
              "\n",
              "    .dataframe thead th {\n",
              "        text-align: right;\n",
              "    }\n",
              "</style>\n",
              "<table border=\"1\" class=\"dataframe\">\n",
              "  <thead>\n",
              "    <tr style=\"text-align: right;\">\n",
              "      <th></th>\n",
              "      <th>qty_dot_url</th>\n",
              "      <th>qty_hyphen_url</th>\n",
              "      <th>qty_underline_url</th>\n",
              "      <th>qty_slash_url</th>\n",
              "      <th>qty_questionmark_url</th>\n",
              "      <th>qty_equal_url</th>\n",
              "      <th>qty_at_url</th>\n",
              "      <th>qty_and_url</th>\n",
              "      <th>qty_exclamation_url</th>\n",
              "      <th>qty_space_url</th>\n",
              "      <th>qty_tilde_url</th>\n",
              "      <th>qty_comma_url</th>\n",
              "      <th>qty_plus_url</th>\n",
              "      <th>qty_asterisk_url</th>\n",
              "      <th>qty_hashtag_url</th>\n",
              "      <th>qty_dollar_url</th>\n",
              "      <th>qty_percent_url</th>\n",
              "      <th>qty_tld_url</th>\n",
              "      <th>length_url</th>\n",
              "      <th>qty_dot_domain</th>\n",
              "      <th>qty_hyphen_domain</th>\n",
              "      <th>qty_underline_domain</th>\n",
              "      <th>qty_slash_domain</th>\n",
              "      <th>qty_questionmark_domain</th>\n",
              "      <th>qty_equal_domain</th>\n",
              "      <th>qty_at_domain</th>\n",
              "      <th>qty_and_domain</th>\n",
              "      <th>qty_exclamation_domain</th>\n",
              "      <th>qty_space_domain</th>\n",
              "      <th>qty_tilde_domain</th>\n",
              "      <th>qty_comma_domain</th>\n",
              "      <th>qty_plus_domain</th>\n",
              "      <th>qty_asterisk_domain</th>\n",
              "      <th>qty_hashtag_domain</th>\n",
              "      <th>qty_dollar_domain</th>\n",
              "      <th>qty_percent_domain</th>\n",
              "      <th>qty_vowels_domain</th>\n",
              "      <th>domain_length</th>\n",
              "      <th>domain_in_ip</th>\n",
              "      <th>server_client_domain</th>\n",
              "      <th>...</th>\n",
              "      <th>qty_hashtag_file</th>\n",
              "      <th>qty_dollar_file</th>\n",
              "      <th>qty_percent_file</th>\n",
              "      <th>file_length</th>\n",
              "      <th>qty_dot_params</th>\n",
              "      <th>qty_hyphen_params</th>\n",
              "      <th>qty_underline_params</th>\n",
              "      <th>qty_slash_params</th>\n",
              "      <th>qty_questionmark_params</th>\n",
              "      <th>qty_equal_params</th>\n",
              "      <th>qty_at_params</th>\n",
              "      <th>qty_and_params</th>\n",
              "      <th>qty_exclamation_params</th>\n",
              "      <th>qty_space_params</th>\n",
              "      <th>qty_tilde_params</th>\n",
              "      <th>qty_comma_params</th>\n",
              "      <th>qty_plus_params</th>\n",
              "      <th>qty_asterisk_params</th>\n",
              "      <th>qty_hashtag_params</th>\n",
              "      <th>qty_dollar_params</th>\n",
              "      <th>qty_percent_params</th>\n",
              "      <th>params_length</th>\n",
              "      <th>tld_present_params</th>\n",
              "      <th>qty_params</th>\n",
              "      <th>email_in_url</th>\n",
              "      <th>time_response</th>\n",
              "      <th>domain_spf</th>\n",
              "      <th>asn_ip</th>\n",
              "      <th>time_domain_activation</th>\n",
              "      <th>time_domain_expiration</th>\n",
              "      <th>qty_ip_resolved</th>\n",
              "      <th>qty_nameservers</th>\n",
              "      <th>qty_mx_servers</th>\n",
              "      <th>ttl_hostname</th>\n",
              "      <th>tls_ssl_certificate</th>\n",
              "      <th>qty_redirects</th>\n",
              "      <th>url_google_index</th>\n",
              "      <th>domain_google_index</th>\n",
              "      <th>url_shortened</th>\n",
              "      <th>phishing</th>\n",
              "    </tr>\n",
              "  </thead>\n",
              "  <tbody>\n",
              "    <tr>\n",
              "      <th>0</th>\n",
              "      <td>3</td>\n",
              "      <td>0</td>\n",
              "      <td>0</td>\n",
              "      <td>1</td>\n",
              "      <td>0</td>\n",
              "      <td>0</td>\n",
              "      <td>0</td>\n",
              "      <td>0</td>\n",
              "      <td>0</td>\n",
              "      <td>0</td>\n",
              "      <td>0</td>\n",
              "      <td>0</td>\n",
              "      <td>0</td>\n",
              "      <td>0</td>\n",
              "      <td>0</td>\n",
              "      <td>0</td>\n",
              "      <td>0</td>\n",
              "      <td>1</td>\n",
              "      <td>25</td>\n",
              "      <td>2</td>\n",
              "      <td>0</td>\n",
              "      <td>0</td>\n",
              "      <td>0</td>\n",
              "      <td>0</td>\n",
              "      <td>0</td>\n",
              "      <td>0</td>\n",
              "      <td>0</td>\n",
              "      <td>0</td>\n",
              "      <td>0</td>\n",
              "      <td>0</td>\n",
              "      <td>0</td>\n",
              "      <td>0</td>\n",
              "      <td>0</td>\n",
              "      <td>0</td>\n",
              "      <td>0</td>\n",
              "      <td>0</td>\n",
              "      <td>4</td>\n",
              "      <td>17</td>\n",
              "      <td>0</td>\n",
              "      <td>0</td>\n",
              "      <td>...</td>\n",
              "      <td>0</td>\n",
              "      <td>0</td>\n",
              "      <td>0</td>\n",
              "      <td>7</td>\n",
              "      <td>-1</td>\n",
              "      <td>-1</td>\n",
              "      <td>-1</td>\n",
              "      <td>-1</td>\n",
              "      <td>-1</td>\n",
              "      <td>-1</td>\n",
              "      <td>-1</td>\n",
              "      <td>-1</td>\n",
              "      <td>-1</td>\n",
              "      <td>-1</td>\n",
              "      <td>-1</td>\n",
              "      <td>-1</td>\n",
              "      <td>-1</td>\n",
              "      <td>-1</td>\n",
              "      <td>-1</td>\n",
              "      <td>-1</td>\n",
              "      <td>-1</td>\n",
              "      <td>-1</td>\n",
              "      <td>-1</td>\n",
              "      <td>-1</td>\n",
              "      <td>0</td>\n",
              "      <td>0.207316</td>\n",
              "      <td>0</td>\n",
              "      <td>60781</td>\n",
              "      <td>-1</td>\n",
              "      <td>-1</td>\n",
              "      <td>1</td>\n",
              "      <td>2</td>\n",
              "      <td>0</td>\n",
              "      <td>892</td>\n",
              "      <td>0</td>\n",
              "      <td>0</td>\n",
              "      <td>0</td>\n",
              "      <td>0</td>\n",
              "      <td>0</td>\n",
              "      <td>1</td>\n",
              "    </tr>\n",
              "    <tr>\n",
              "      <th>1</th>\n",
              "      <td>5</td>\n",
              "      <td>0</td>\n",
              "      <td>1</td>\n",
              "      <td>3</td>\n",
              "      <td>0</td>\n",
              "      <td>3</td>\n",
              "      <td>0</td>\n",
              "      <td>2</td>\n",
              "      <td>0</td>\n",
              "      <td>0</td>\n",
              "      <td>0</td>\n",
              "      <td>0</td>\n",
              "      <td>0</td>\n",
              "      <td>0</td>\n",
              "      <td>0</td>\n",
              "      <td>0</td>\n",
              "      <td>0</td>\n",
              "      <td>3</td>\n",
              "      <td>223</td>\n",
              "      <td>2</td>\n",
              "      <td>0</td>\n",
              "      <td>0</td>\n",
              "      <td>0</td>\n",
              "      <td>0</td>\n",
              "      <td>0</td>\n",
              "      <td>0</td>\n",
              "      <td>0</td>\n",
              "      <td>0</td>\n",
              "      <td>0</td>\n",
              "      <td>0</td>\n",
              "      <td>0</td>\n",
              "      <td>0</td>\n",
              "      <td>0</td>\n",
              "      <td>0</td>\n",
              "      <td>0</td>\n",
              "      <td>0</td>\n",
              "      <td>5</td>\n",
              "      <td>16</td>\n",
              "      <td>0</td>\n",
              "      <td>0</td>\n",
              "      <td>...</td>\n",
              "      <td>0</td>\n",
              "      <td>0</td>\n",
              "      <td>0</td>\n",
              "      <td>9</td>\n",
              "      <td>0</td>\n",
              "      <td>0</td>\n",
              "      <td>1</td>\n",
              "      <td>0</td>\n",
              "      <td>0</td>\n",
              "      <td>3</td>\n",
              "      <td>0</td>\n",
              "      <td>2</td>\n",
              "      <td>0</td>\n",
              "      <td>0</td>\n",
              "      <td>0</td>\n",
              "      <td>0</td>\n",
              "      <td>0</td>\n",
              "      <td>0</td>\n",
              "      <td>0</td>\n",
              "      <td>0</td>\n",
              "      <td>0</td>\n",
              "      <td>165</td>\n",
              "      <td>0</td>\n",
              "      <td>3</td>\n",
              "      <td>0</td>\n",
              "      <td>0.499566</td>\n",
              "      <td>-1</td>\n",
              "      <td>36024</td>\n",
              "      <td>579</td>\n",
              "      <td>150</td>\n",
              "      <td>1</td>\n",
              "      <td>2</td>\n",
              "      <td>1</td>\n",
              "      <td>9540</td>\n",
              "      <td>1</td>\n",
              "      <td>0</td>\n",
              "      <td>0</td>\n",
              "      <td>0</td>\n",
              "      <td>0</td>\n",
              "      <td>1</td>\n",
              "    </tr>\n",
              "    <tr>\n",
              "      <th>2</th>\n",
              "      <td>2</td>\n",
              "      <td>0</td>\n",
              "      <td>0</td>\n",
              "      <td>1</td>\n",
              "      <td>0</td>\n",
              "      <td>0</td>\n",
              "      <td>0</td>\n",
              "      <td>0</td>\n",
              "      <td>0</td>\n",
              "      <td>0</td>\n",
              "      <td>0</td>\n",
              "      <td>0</td>\n",
              "      <td>0</td>\n",
              "      <td>0</td>\n",
              "      <td>0</td>\n",
              "      <td>0</td>\n",
              "      <td>0</td>\n",
              "      <td>1</td>\n",
              "      <td>15</td>\n",
              "      <td>2</td>\n",
              "      <td>0</td>\n",
              "      <td>0</td>\n",
              "      <td>0</td>\n",
              "      <td>0</td>\n",
              "      <td>0</td>\n",
              "      <td>0</td>\n",
              "      <td>0</td>\n",
              "      <td>0</td>\n",
              "      <td>0</td>\n",
              "      <td>0</td>\n",
              "      <td>0</td>\n",
              "      <td>0</td>\n",
              "      <td>0</td>\n",
              "      <td>0</td>\n",
              "      <td>0</td>\n",
              "      <td>0</td>\n",
              "      <td>3</td>\n",
              "      <td>14</td>\n",
              "      <td>0</td>\n",
              "      <td>0</td>\n",
              "      <td>...</td>\n",
              "      <td>0</td>\n",
              "      <td>0</td>\n",
              "      <td>0</td>\n",
              "      <td>0</td>\n",
              "      <td>-1</td>\n",
              "      <td>-1</td>\n",
              "      <td>-1</td>\n",
              "      <td>-1</td>\n",
              "      <td>-1</td>\n",
              "      <td>-1</td>\n",
              "      <td>-1</td>\n",
              "      <td>-1</td>\n",
              "      <td>-1</td>\n",
              "      <td>-1</td>\n",
              "      <td>-1</td>\n",
              "      <td>-1</td>\n",
              "      <td>-1</td>\n",
              "      <td>-1</td>\n",
              "      <td>-1</td>\n",
              "      <td>-1</td>\n",
              "      <td>-1</td>\n",
              "      <td>-1</td>\n",
              "      <td>-1</td>\n",
              "      <td>-1</td>\n",
              "      <td>0</td>\n",
              "      <td>0.935901</td>\n",
              "      <td>0</td>\n",
              "      <td>4766</td>\n",
              "      <td>-1</td>\n",
              "      <td>-1</td>\n",
              "      <td>1</td>\n",
              "      <td>2</td>\n",
              "      <td>3</td>\n",
              "      <td>589</td>\n",
              "      <td>1</td>\n",
              "      <td>0</td>\n",
              "      <td>0</td>\n",
              "      <td>0</td>\n",
              "      <td>0</td>\n",
              "      <td>0</td>\n",
              "    </tr>\n",
              "    <tr>\n",
              "      <th>3</th>\n",
              "      <td>4</td>\n",
              "      <td>0</td>\n",
              "      <td>2</td>\n",
              "      <td>5</td>\n",
              "      <td>0</td>\n",
              "      <td>0</td>\n",
              "      <td>0</td>\n",
              "      <td>0</td>\n",
              "      <td>0</td>\n",
              "      <td>0</td>\n",
              "      <td>0</td>\n",
              "      <td>0</td>\n",
              "      <td>0</td>\n",
              "      <td>0</td>\n",
              "      <td>0</td>\n",
              "      <td>0</td>\n",
              "      <td>0</td>\n",
              "      <td>1</td>\n",
              "      <td>81</td>\n",
              "      <td>2</td>\n",
              "      <td>0</td>\n",
              "      <td>0</td>\n",
              "      <td>0</td>\n",
              "      <td>0</td>\n",
              "      <td>0</td>\n",
              "      <td>0</td>\n",
              "      <td>0</td>\n",
              "      <td>0</td>\n",
              "      <td>0</td>\n",
              "      <td>0</td>\n",
              "      <td>0</td>\n",
              "      <td>0</td>\n",
              "      <td>0</td>\n",
              "      <td>0</td>\n",
              "      <td>0</td>\n",
              "      <td>0</td>\n",
              "      <td>7</td>\n",
              "      <td>19</td>\n",
              "      <td>0</td>\n",
              "      <td>0</td>\n",
              "      <td>...</td>\n",
              "      <td>0</td>\n",
              "      <td>0</td>\n",
              "      <td>0</td>\n",
              "      <td>9</td>\n",
              "      <td>-1</td>\n",
              "      <td>-1</td>\n",
              "      <td>-1</td>\n",
              "      <td>-1</td>\n",
              "      <td>-1</td>\n",
              "      <td>-1</td>\n",
              "      <td>-1</td>\n",
              "      <td>-1</td>\n",
              "      <td>-1</td>\n",
              "      <td>-1</td>\n",
              "      <td>-1</td>\n",
              "      <td>-1</td>\n",
              "      <td>-1</td>\n",
              "      <td>-1</td>\n",
              "      <td>-1</td>\n",
              "      <td>-1</td>\n",
              "      <td>-1</td>\n",
              "      <td>-1</td>\n",
              "      <td>-1</td>\n",
              "      <td>-1</td>\n",
              "      <td>0</td>\n",
              "      <td>0.410021</td>\n",
              "      <td>0</td>\n",
              "      <td>20454</td>\n",
              "      <td>-1</td>\n",
              "      <td>-1</td>\n",
              "      <td>1</td>\n",
              "      <td>2</td>\n",
              "      <td>0</td>\n",
              "      <td>292</td>\n",
              "      <td>1</td>\n",
              "      <td>0</td>\n",
              "      <td>0</td>\n",
              "      <td>0</td>\n",
              "      <td>0</td>\n",
              "      <td>1</td>\n",
              "    </tr>\n",
              "    <tr>\n",
              "      <th>4</th>\n",
              "      <td>2</td>\n",
              "      <td>0</td>\n",
              "      <td>0</td>\n",
              "      <td>0</td>\n",
              "      <td>0</td>\n",
              "      <td>0</td>\n",
              "      <td>0</td>\n",
              "      <td>0</td>\n",
              "      <td>0</td>\n",
              "      <td>0</td>\n",
              "      <td>0</td>\n",
              "      <td>0</td>\n",
              "      <td>0</td>\n",
              "      <td>0</td>\n",
              "      <td>0</td>\n",
              "      <td>0</td>\n",
              "      <td>0</td>\n",
              "      <td>1</td>\n",
              "      <td>19</td>\n",
              "      <td>2</td>\n",
              "      <td>0</td>\n",
              "      <td>0</td>\n",
              "      <td>0</td>\n",
              "      <td>0</td>\n",
              "      <td>0</td>\n",
              "      <td>0</td>\n",
              "      <td>0</td>\n",
              "      <td>0</td>\n",
              "      <td>0</td>\n",
              "      <td>0</td>\n",
              "      <td>0</td>\n",
              "      <td>0</td>\n",
              "      <td>0</td>\n",
              "      <td>0</td>\n",
              "      <td>0</td>\n",
              "      <td>0</td>\n",
              "      <td>5</td>\n",
              "      <td>19</td>\n",
              "      <td>0</td>\n",
              "      <td>0</td>\n",
              "      <td>...</td>\n",
              "      <td>-1</td>\n",
              "      <td>-1</td>\n",
              "      <td>-1</td>\n",
              "      <td>-1</td>\n",
              "      <td>-1</td>\n",
              "      <td>-1</td>\n",
              "      <td>-1</td>\n",
              "      <td>-1</td>\n",
              "      <td>-1</td>\n",
              "      <td>-1</td>\n",
              "      <td>-1</td>\n",
              "      <td>-1</td>\n",
              "      <td>-1</td>\n",
              "      <td>-1</td>\n",
              "      <td>-1</td>\n",
              "      <td>-1</td>\n",
              "      <td>-1</td>\n",
              "      <td>-1</td>\n",
              "      <td>-1</td>\n",
              "      <td>-1</td>\n",
              "      <td>-1</td>\n",
              "      <td>-1</td>\n",
              "      <td>-1</td>\n",
              "      <td>-1</td>\n",
              "      <td>0</td>\n",
              "      <td>0.410761</td>\n",
              "      <td>0</td>\n",
              "      <td>53831</td>\n",
              "      <td>6998</td>\n",
              "      <td>306</td>\n",
              "      <td>1</td>\n",
              "      <td>2</td>\n",
              "      <td>1</td>\n",
              "      <td>3597</td>\n",
              "      <td>0</td>\n",
              "      <td>1</td>\n",
              "      <td>0</td>\n",
              "      <td>0</td>\n",
              "      <td>0</td>\n",
              "      <td>0</td>\n",
              "    </tr>\n",
              "  </tbody>\n",
              "</table>\n",
              "<p>5 rows × 112 columns</p>\n",
              "</div>"
            ],
            "text/plain": [
              "   qty_dot_url  qty_hyphen_url  ...  url_shortened  phishing\n",
              "0            3               0  ...              0         1\n",
              "1            5               0  ...              0         1\n",
              "2            2               0  ...              0         0\n",
              "3            4               0  ...              0         1\n",
              "4            2               0  ...              0         0\n",
              "\n",
              "[5 rows x 112 columns]"
            ]
          },
          "metadata": {
            "tags": []
          },
          "execution_count": 2
        }
      ]
    },
    {
      "cell_type": "code",
      "metadata": {
        "colab": {
          "base_uri": "https://localhost:8080/",
          "height": 224
        },
        "id": "1PQ4dcaouS2L",
        "outputId": "17fd1753-1a99-450a-85db-c68099f0915b"
      },
      "source": [
        "y = full_df['phishing']\n",
        "\n",
        "features_table1 = ['qty_dot_domain', 'qty_hyphen_domain', 'qty_underline_domain', 'qty_slash_domain', 'qty_questionmark_domain', 'qty_equal_domain', 'qty_at_domain', 'qty_and_domain',\n",
        "                   'qty_exclamation_domain', 'qty_space_domain', 'qty_tilde_domain', 'qty_comma_domain', 'qty_plus_domain', 'qty_asterisk_domain', 'qty_hashtag_domain', 'qty_dollar_domain',\n",
        "                   'qty_percent_domain', 'qty_vowels_domain', 'domain_length', 'domain_in_ip', 'server_client_domain'] \n",
        "\n",
        "X = full_df[features_table1]\n",
        "\n",
        "train_X, val_X, train_y, val_y = train_test_split(X, y, random_state=808)\n",
        "\n",
        "train_X.head()"
      ],
      "execution_count": 3,
      "outputs": [
        {
          "output_type": "execute_result",
          "data": {
            "text/html": [
              "<div>\n",
              "<style scoped>\n",
              "    .dataframe tbody tr th:only-of-type {\n",
              "        vertical-align: middle;\n",
              "    }\n",
              "\n",
              "    .dataframe tbody tr th {\n",
              "        vertical-align: top;\n",
              "    }\n",
              "\n",
              "    .dataframe thead th {\n",
              "        text-align: right;\n",
              "    }\n",
              "</style>\n",
              "<table border=\"1\" class=\"dataframe\">\n",
              "  <thead>\n",
              "    <tr style=\"text-align: right;\">\n",
              "      <th></th>\n",
              "      <th>qty_dot_domain</th>\n",
              "      <th>qty_hyphen_domain</th>\n",
              "      <th>qty_underline_domain</th>\n",
              "      <th>qty_slash_domain</th>\n",
              "      <th>qty_questionmark_domain</th>\n",
              "      <th>qty_equal_domain</th>\n",
              "      <th>qty_at_domain</th>\n",
              "      <th>qty_and_domain</th>\n",
              "      <th>qty_exclamation_domain</th>\n",
              "      <th>qty_space_domain</th>\n",
              "      <th>qty_tilde_domain</th>\n",
              "      <th>qty_comma_domain</th>\n",
              "      <th>qty_plus_domain</th>\n",
              "      <th>qty_asterisk_domain</th>\n",
              "      <th>qty_hashtag_domain</th>\n",
              "      <th>qty_dollar_domain</th>\n",
              "      <th>qty_percent_domain</th>\n",
              "      <th>qty_vowels_domain</th>\n",
              "      <th>domain_length</th>\n",
              "      <th>domain_in_ip</th>\n",
              "      <th>server_client_domain</th>\n",
              "    </tr>\n",
              "  </thead>\n",
              "  <tbody>\n",
              "    <tr>\n",
              "      <th>5676</th>\n",
              "      <td>1</td>\n",
              "      <td>0</td>\n",
              "      <td>0</td>\n",
              "      <td>0</td>\n",
              "      <td>0</td>\n",
              "      <td>0</td>\n",
              "      <td>0</td>\n",
              "      <td>0</td>\n",
              "      <td>0</td>\n",
              "      <td>0</td>\n",
              "      <td>0</td>\n",
              "      <td>0</td>\n",
              "      <td>0</td>\n",
              "      <td>0</td>\n",
              "      <td>0</td>\n",
              "      <td>0</td>\n",
              "      <td>0</td>\n",
              "      <td>2</td>\n",
              "      <td>10</td>\n",
              "      <td>0</td>\n",
              "      <td>0</td>\n",
              "    </tr>\n",
              "    <tr>\n",
              "      <th>39002</th>\n",
              "      <td>3</td>\n",
              "      <td>0</td>\n",
              "      <td>0</td>\n",
              "      <td>0</td>\n",
              "      <td>0</td>\n",
              "      <td>0</td>\n",
              "      <td>0</td>\n",
              "      <td>0</td>\n",
              "      <td>0</td>\n",
              "      <td>0</td>\n",
              "      <td>0</td>\n",
              "      <td>0</td>\n",
              "      <td>0</td>\n",
              "      <td>0</td>\n",
              "      <td>0</td>\n",
              "      <td>0</td>\n",
              "      <td>0</td>\n",
              "      <td>2</td>\n",
              "      <td>13</td>\n",
              "      <td>0</td>\n",
              "      <td>0</td>\n",
              "    </tr>\n",
              "    <tr>\n",
              "      <th>1732</th>\n",
              "      <td>2</td>\n",
              "      <td>0</td>\n",
              "      <td>0</td>\n",
              "      <td>0</td>\n",
              "      <td>0</td>\n",
              "      <td>0</td>\n",
              "      <td>0</td>\n",
              "      <td>0</td>\n",
              "      <td>0</td>\n",
              "      <td>0</td>\n",
              "      <td>0</td>\n",
              "      <td>0</td>\n",
              "      <td>0</td>\n",
              "      <td>0</td>\n",
              "      <td>0</td>\n",
              "      <td>0</td>\n",
              "      <td>0</td>\n",
              "      <td>5</td>\n",
              "      <td>16</td>\n",
              "      <td>0</td>\n",
              "      <td>0</td>\n",
              "    </tr>\n",
              "    <tr>\n",
              "      <th>39668</th>\n",
              "      <td>2</td>\n",
              "      <td>0</td>\n",
              "      <td>0</td>\n",
              "      <td>0</td>\n",
              "      <td>0</td>\n",
              "      <td>0</td>\n",
              "      <td>0</td>\n",
              "      <td>0</td>\n",
              "      <td>0</td>\n",
              "      <td>0</td>\n",
              "      <td>0</td>\n",
              "      <td>0</td>\n",
              "      <td>0</td>\n",
              "      <td>0</td>\n",
              "      <td>0</td>\n",
              "      <td>0</td>\n",
              "      <td>0</td>\n",
              "      <td>9</td>\n",
              "      <td>26</td>\n",
              "      <td>0</td>\n",
              "      <td>0</td>\n",
              "    </tr>\n",
              "    <tr>\n",
              "      <th>82035</th>\n",
              "      <td>2</td>\n",
              "      <td>0</td>\n",
              "      <td>0</td>\n",
              "      <td>0</td>\n",
              "      <td>0</td>\n",
              "      <td>0</td>\n",
              "      <td>0</td>\n",
              "      <td>0</td>\n",
              "      <td>0</td>\n",
              "      <td>0</td>\n",
              "      <td>0</td>\n",
              "      <td>0</td>\n",
              "      <td>0</td>\n",
              "      <td>0</td>\n",
              "      <td>0</td>\n",
              "      <td>0</td>\n",
              "      <td>0</td>\n",
              "      <td>7</td>\n",
              "      <td>28</td>\n",
              "      <td>0</td>\n",
              "      <td>0</td>\n",
              "    </tr>\n",
              "  </tbody>\n",
              "</table>\n",
              "</div>"
            ],
            "text/plain": [
              "       qty_dot_domain  qty_hyphen_domain  ...  domain_in_ip  server_client_domain\n",
              "5676                1                  0  ...             0                     0\n",
              "39002               3                  0  ...             0                     0\n",
              "1732                2                  0  ...             0                     0\n",
              "39668               2                  0  ...             0                     0\n",
              "82035               2                  0  ...             0                     0\n",
              "\n",
              "[5 rows x 21 columns]"
            ]
          },
          "metadata": {
            "tags": []
          },
          "execution_count": 3
        }
      ]
    },
    {
      "cell_type": "code",
      "metadata": {
        "colab": {
          "base_uri": "https://localhost:8080/"
        },
        "id": "EUauU02l2iFe",
        "outputId": "b0896eec-ed0a-4ef6-93dc-e181558b5fcf"
      },
      "source": [
        "X.shape"
      ],
      "execution_count": 4,
      "outputs": [
        {
          "output_type": "execute_result",
          "data": {
            "text/plain": [
              "(88647, 21)"
            ]
          },
          "metadata": {
            "tags": []
          },
          "execution_count": 4
        }
      ]
    },
    {
      "cell_type": "code",
      "metadata": {
        "colab": {
          "base_uri": "https://localhost:8080/"
        },
        "id": "6JybKWkn1U8i",
        "outputId": "db4971f3-644d-4299-ef61-82776ac97717"
      },
      "source": [
        "tf.keras.backend.clear_session()\n",
        "\n",
        "#neural net\n",
        "\n",
        "table2_nn = keras.Sequential([\n",
        "                          layers.InputLayer(input_shape=[21]),\n",
        "                          layers.Dense(units=64, activation='relu'),\n",
        "                          layers.Dropout(0.2),\n",
        "                          layers.Dense(units=64, activation='relu'),\n",
        "                          layers.Dropout(0.2),\n",
        "                          layers.Dense(units=50, activation='relu'),\n",
        "                          layers.Dropout(0.20),\n",
        "                          layers.Dense(units=32, activation='relu'),\n",
        "                          layers.Dropout(0.2),\n",
        "                          layers.Dense(units=32, activation='relu'),\n",
        "                          layers.Dropout(0.2),\n",
        "                          layers.Dense(units=16, activation='relu'),\n",
        "                          layers.Dropout(0.40),\n",
        "                          layers.Dense(units=16, activation='relu'),\n",
        "                          layers.Dropout(0.40),\n",
        "                          layers.Dense(units=21, activation='relu'),\n",
        "                          layers.Flatten(),\n",
        "                          layers.Dense(units=1, activation='sigmoid')\n",
        "])\n",
        "\n",
        "table2_nn.compile(\n",
        "    optimizer='adam',\n",
        "    loss='binary_crossentropy',\n",
        "    metrics=[tf.keras.metrics.BinaryAccuracy(), \n",
        "             tf.keras.metrics.AUC(),\n",
        "             ]\n",
        ")\n",
        "\n",
        "earlystopping = callbacks.EarlyStopping(monitor = 'val_binary_accuracy', mode = 'max',\n",
        "                                       patience = 25, restore_best_weights = True)\n",
        "\n",
        "\n",
        "table2_nn.summary()"
      ],
      "execution_count": 5,
      "outputs": [
        {
          "output_type": "stream",
          "text": [
            "Model: \"sequential\"\n",
            "_________________________________________________________________\n",
            "Layer (type)                 Output Shape              Param #   \n",
            "=================================================================\n",
            "dense (Dense)                (None, 64)                1408      \n",
            "_________________________________________________________________\n",
            "dropout (Dropout)            (None, 64)                0         \n",
            "_________________________________________________________________\n",
            "dense_1 (Dense)              (None, 64)                4160      \n",
            "_________________________________________________________________\n",
            "dropout_1 (Dropout)          (None, 64)                0         \n",
            "_________________________________________________________________\n",
            "dense_2 (Dense)              (None, 50)                3250      \n",
            "_________________________________________________________________\n",
            "dropout_2 (Dropout)          (None, 50)                0         \n",
            "_________________________________________________________________\n",
            "dense_3 (Dense)              (None, 32)                1632      \n",
            "_________________________________________________________________\n",
            "dropout_3 (Dropout)          (None, 32)                0         \n",
            "_________________________________________________________________\n",
            "dense_4 (Dense)              (None, 32)                1056      \n",
            "_________________________________________________________________\n",
            "dropout_4 (Dropout)          (None, 32)                0         \n",
            "_________________________________________________________________\n",
            "dense_5 (Dense)              (None, 16)                528       \n",
            "_________________________________________________________________\n",
            "dropout_5 (Dropout)          (None, 16)                0         \n",
            "_________________________________________________________________\n",
            "dense_6 (Dense)              (None, 16)                272       \n",
            "_________________________________________________________________\n",
            "dropout_6 (Dropout)          (None, 16)                0         \n",
            "_________________________________________________________________\n",
            "dense_7 (Dense)              (None, 21)                357       \n",
            "_________________________________________________________________\n",
            "flatten (Flatten)            (None, 21)                0         \n",
            "_________________________________________________________________\n",
            "dense_8 (Dense)              (None, 1)                 22        \n",
            "=================================================================\n",
            "Total params: 12,685\n",
            "Trainable params: 12,685\n",
            "Non-trainable params: 0\n",
            "_________________________________________________________________\n"
          ],
          "name": "stdout"
        }
      ]
    },
    {
      "cell_type": "code",
      "metadata": {
        "colab": {
          "base_uri": "https://localhost:8080/"
        },
        "id": "evPK4SLp1U6a",
        "outputId": "cac1f41c-e7ca-405d-bfdd-81a59f8bd3a5"
      },
      "source": [
        "history = table2_nn.fit(train_X, train_y, validation_split=0.30, batch_size= 15, epochs=500, callbacks = [earlystopping])"
      ],
      "execution_count": 6,
      "outputs": [
        {
          "output_type": "stream",
          "text": [
            "Epoch 1/500\n",
            "3103/3103 [==============================] - 9s 3ms/step - loss: 0.6511 - binary_accuracy: 0.6466 - auc: 0.5472 - val_loss: 0.6040 - val_binary_accuracy: 0.6592 - val_auc: 0.7198\n",
            "Epoch 2/500\n",
            "3103/3103 [==============================] - 7s 2ms/step - loss: 0.5955 - binary_accuracy: 0.6638 - auc: 0.7037 - val_loss: 0.5761 - val_binary_accuracy: 0.7157 - val_auc: 0.7307\n",
            "Epoch 3/500\n",
            "3103/3103 [==============================] - 8s 2ms/step - loss: 0.5730 - binary_accuracy: 0.7155 - auc: 0.7225 - val_loss: 0.5526 - val_binary_accuracy: 0.7374 - val_auc: 0.7510\n",
            "Epoch 4/500\n",
            "3103/3103 [==============================] - 7s 2ms/step - loss: 0.5665 - binary_accuracy: 0.7245 - auc: 0.7265 - val_loss: 0.5522 - val_binary_accuracy: 0.7279 - val_auc: 0.7442\n",
            "Epoch 5/500\n",
            "3103/3103 [==============================] - 8s 2ms/step - loss: 0.5670 - binary_accuracy: 0.7241 - auc: 0.7227 - val_loss: 0.5520 - val_binary_accuracy: 0.7310 - val_auc: 0.7472\n",
            "Epoch 6/500\n",
            "3103/3103 [==============================] - 8s 2ms/step - loss: 0.5649 - binary_accuracy: 0.7245 - auc: 0.7255 - val_loss: 0.5467 - val_binary_accuracy: 0.7417 - val_auc: 0.7595\n",
            "Epoch 7/500\n",
            "3103/3103 [==============================] - 8s 2ms/step - loss: 0.5610 - binary_accuracy: 0.7267 - auc: 0.7362 - val_loss: 0.5476 - val_binary_accuracy: 0.7404 - val_auc: 0.7482\n",
            "Epoch 8/500\n",
            "3103/3103 [==============================] - 8s 2ms/step - loss: 0.5584 - binary_accuracy: 0.7289 - auc: 0.7345 - val_loss: 0.5426 - val_binary_accuracy: 0.7436 - val_auc: 0.7567\n",
            "Epoch 9/500\n",
            "3103/3103 [==============================] - 8s 2ms/step - loss: 0.5586 - binary_accuracy: 0.7270 - auc: 0.7375 - val_loss: 0.5667 - val_binary_accuracy: 0.7136 - val_auc: 0.7512\n",
            "Epoch 10/500\n",
            "3103/3103 [==============================] - 8s 2ms/step - loss: 0.5602 - binary_accuracy: 0.7275 - auc: 0.7318 - val_loss: 0.5547 - val_binary_accuracy: 0.7348 - val_auc: 0.7474\n",
            "Epoch 11/500\n",
            "3103/3103 [==============================] - 8s 2ms/step - loss: 0.5620 - binary_accuracy: 0.7270 - auc: 0.7354 - val_loss: 0.5430 - val_binary_accuracy: 0.7434 - val_auc: 0.7553\n",
            "Epoch 12/500\n",
            "3103/3103 [==============================] - 8s 3ms/step - loss: 0.5580 - binary_accuracy: 0.7286 - auc: 0.7382 - val_loss: 0.5690 - val_binary_accuracy: 0.7345 - val_auc: 0.7121\n",
            "Epoch 13/500\n",
            "3103/3103 [==============================] - 8s 2ms/step - loss: 0.5629 - binary_accuracy: 0.7261 - auc: 0.7316 - val_loss: 0.5420 - val_binary_accuracy: 0.7392 - val_auc: 0.7634\n",
            "Epoch 14/500\n",
            "3103/3103 [==============================] - 8s 2ms/step - loss: 0.5539 - binary_accuracy: 0.7340 - auc: 0.7417 - val_loss: 0.5513 - val_binary_accuracy: 0.7423 - val_auc: 0.7448\n",
            "Epoch 15/500\n",
            "3103/3103 [==============================] - 8s 2ms/step - loss: 0.5582 - binary_accuracy: 0.7291 - auc: 0.7413 - val_loss: 0.5454 - val_binary_accuracy: 0.7387 - val_auc: 0.7549\n",
            "Epoch 16/500\n",
            "3103/3103 [==============================] - 8s 2ms/step - loss: 0.5530 - binary_accuracy: 0.7363 - auc: 0.7436 - val_loss: 0.5531 - val_binary_accuracy: 0.7352 - val_auc: 0.7540\n",
            "Epoch 17/500\n",
            "3103/3103 [==============================] - 8s 2ms/step - loss: 0.5534 - binary_accuracy: 0.7359 - auc: 0.7411 - val_loss: 0.5571 - val_binary_accuracy: 0.7352 - val_auc: 0.7522\n",
            "Epoch 18/500\n",
            "3103/3103 [==============================] - 8s 2ms/step - loss: 0.5589 - binary_accuracy: 0.7319 - auc: 0.7361 - val_loss: 0.5446 - val_binary_accuracy: 0.7404 - val_auc: 0.7555\n",
            "Epoch 19/500\n",
            "3103/3103 [==============================] - 8s 2ms/step - loss: 0.5544 - binary_accuracy: 0.7355 - auc: 0.7402 - val_loss: 0.5485 - val_binary_accuracy: 0.7351 - val_auc: 0.7524\n",
            "Epoch 20/500\n",
            "3103/3103 [==============================] - 8s 2ms/step - loss: 0.5565 - binary_accuracy: 0.7325 - auc: 0.7381 - val_loss: 0.5446 - val_binary_accuracy: 0.7439 - val_auc: 0.7582\n",
            "Epoch 21/500\n",
            "3103/3103 [==============================] - 8s 2ms/step - loss: 0.5536 - binary_accuracy: 0.7357 - auc: 0.7435 - val_loss: 0.5432 - val_binary_accuracy: 0.7439 - val_auc: 0.7610\n",
            "Epoch 22/500\n",
            "3103/3103 [==============================] - 8s 2ms/step - loss: 0.5548 - binary_accuracy: 0.7313 - auc: 0.7459 - val_loss: 0.5561 - val_binary_accuracy: 0.7214 - val_auc: 0.7501\n",
            "Epoch 23/500\n",
            "3103/3103 [==============================] - 8s 2ms/step - loss: 0.5498 - binary_accuracy: 0.7371 - auc: 0.7494 - val_loss: 0.5491 - val_binary_accuracy: 0.7421 - val_auc: 0.7582\n",
            "Epoch 24/500\n",
            "3103/3103 [==============================] - 8s 2ms/step - loss: 0.5568 - binary_accuracy: 0.7313 - auc: 0.7398 - val_loss: 0.5488 - val_binary_accuracy: 0.7355 - val_auc: 0.7576\n",
            "Epoch 25/500\n",
            "3103/3103 [==============================] - 8s 2ms/step - loss: 0.5537 - binary_accuracy: 0.7346 - auc: 0.7422 - val_loss: 0.5497 - val_binary_accuracy: 0.7342 - val_auc: 0.7522\n",
            "Epoch 26/500\n",
            "3103/3103 [==============================] - 8s 2ms/step - loss: 0.5525 - binary_accuracy: 0.7357 - auc: 0.7411 - val_loss: 0.5610 - val_binary_accuracy: 0.7303 - val_auc: 0.7487\n",
            "Epoch 27/500\n",
            "3103/3103 [==============================] - 8s 2ms/step - loss: 0.5545 - binary_accuracy: 0.7347 - auc: 0.7403 - val_loss: 0.5593 - val_binary_accuracy: 0.7456 - val_auc: 0.7399\n",
            "Epoch 28/500\n",
            "3103/3103 [==============================] - 8s 2ms/step - loss: 0.5525 - binary_accuracy: 0.7330 - auc: 0.7419 - val_loss: 0.5488 - val_binary_accuracy: 0.7426 - val_auc: 0.7569\n",
            "Epoch 29/500\n",
            "3103/3103 [==============================] - 8s 2ms/step - loss: 0.5519 - binary_accuracy: 0.7357 - auc: 0.7428 - val_loss: 0.5577 - val_binary_accuracy: 0.7382 - val_auc: 0.7530\n",
            "Epoch 30/500\n",
            "3103/3103 [==============================] - 8s 2ms/step - loss: 0.5543 - binary_accuracy: 0.7310 - auc: 0.7411 - val_loss: 0.5505 - val_binary_accuracy: 0.7445 - val_auc: 0.7583\n",
            "Epoch 31/500\n",
            "3103/3103 [==============================] - 8s 2ms/step - loss: 0.5508 - binary_accuracy: 0.7374 - auc: 0.7438 - val_loss: 0.5499 - val_binary_accuracy: 0.7294 - val_auc: 0.7568\n",
            "Epoch 32/500\n",
            "3103/3103 [==============================] - 8s 2ms/step - loss: 0.5532 - binary_accuracy: 0.7338 - auc: 0.7453 - val_loss: 0.5457 - val_binary_accuracy: 0.7430 - val_auc: 0.7587\n",
            "Epoch 33/500\n",
            "3103/3103 [==============================] - 8s 2ms/step - loss: 0.5538 - binary_accuracy: 0.7348 - auc: 0.7426 - val_loss: 0.5560 - val_binary_accuracy: 0.7361 - val_auc: 0.7587\n",
            "Epoch 34/500\n",
            "3103/3103 [==============================] - 8s 2ms/step - loss: 0.5527 - binary_accuracy: 0.7324 - auc: 0.7442 - val_loss: 0.5426 - val_binary_accuracy: 0.7433 - val_auc: 0.7560\n",
            "Epoch 35/500\n",
            "3103/3103 [==============================] - 7s 2ms/step - loss: 0.5552 - binary_accuracy: 0.7303 - auc: 0.7415 - val_loss: 0.5459 - val_binary_accuracy: 0.7434 - val_auc: 0.7632\n",
            "Epoch 36/500\n",
            "3103/3103 [==============================] - 8s 2ms/step - loss: 0.5500 - binary_accuracy: 0.7406 - auc: 0.7463 - val_loss: 0.5550 - val_binary_accuracy: 0.7426 - val_auc: 0.7665\n",
            "Epoch 37/500\n",
            "3103/3103 [==============================] - 8s 2ms/step - loss: 0.5544 - binary_accuracy: 0.7336 - auc: 0.7443 - val_loss: 0.5432 - val_binary_accuracy: 0.7372 - val_auc: 0.7661\n",
            "Epoch 38/500\n",
            "3103/3103 [==============================] - 8s 2ms/step - loss: 0.5523 - binary_accuracy: 0.7322 - auc: 0.7488 - val_loss: 0.5444 - val_binary_accuracy: 0.7306 - val_auc: 0.7599\n",
            "Epoch 39/500\n",
            "3103/3103 [==============================] - 8s 2ms/step - loss: 0.5547 - binary_accuracy: 0.7289 - auc: 0.7437 - val_loss: 0.5405 - val_binary_accuracy: 0.7380 - val_auc: 0.7678\n",
            "Epoch 40/500\n",
            "3103/3103 [==============================] - 8s 2ms/step - loss: 0.5513 - binary_accuracy: 0.7352 - auc: 0.7502 - val_loss: 0.5398 - val_binary_accuracy: 0.7449 - val_auc: 0.7659\n",
            "Epoch 41/500\n",
            "3103/3103 [==============================] - 8s 2ms/step - loss: 0.5488 - binary_accuracy: 0.7363 - auc: 0.7508 - val_loss: 0.5450 - val_binary_accuracy: 0.7378 - val_auc: 0.7631\n",
            "Epoch 42/500\n",
            "3103/3103 [==============================] - 8s 2ms/step - loss: 0.5460 - binary_accuracy: 0.7363 - auc: 0.7513 - val_loss: 0.5400 - val_binary_accuracy: 0.7438 - val_auc: 0.7658\n",
            "Epoch 43/500\n",
            "3103/3103 [==============================] - 8s 2ms/step - loss: 0.5526 - binary_accuracy: 0.7315 - auc: 0.7495 - val_loss: 0.5372 - val_binary_accuracy: 0.7449 - val_auc: 0.7655\n",
            "Epoch 44/500\n",
            "3103/3103 [==============================] - 8s 2ms/step - loss: 0.5508 - binary_accuracy: 0.7356 - auc: 0.7500 - val_loss: 0.6007 - val_binary_accuracy: 0.6540 - val_auc: 0.7332\n",
            "Epoch 45/500\n",
            "3103/3103 [==============================] - 8s 2ms/step - loss: 0.5555 - binary_accuracy: 0.7310 - auc: 0.7443 - val_loss: 0.5627 - val_binary_accuracy: 0.7024 - val_auc: 0.7530\n",
            "Epoch 46/500\n",
            "3103/3103 [==============================] - 8s 2ms/step - loss: 0.5554 - binary_accuracy: 0.7302 - auc: 0.7435 - val_loss: 0.5491 - val_binary_accuracy: 0.7445 - val_auc: 0.7609\n",
            "Epoch 47/500\n",
            "3103/3103 [==============================] - 8s 2ms/step - loss: 0.5507 - binary_accuracy: 0.7384 - auc: 0.7471 - val_loss: 0.5446 - val_binary_accuracy: 0.7441 - val_auc: 0.7580\n",
            "Epoch 48/500\n",
            "3103/3103 [==============================] - 8s 2ms/step - loss: 0.5556 - binary_accuracy: 0.7332 - auc: 0.7417 - val_loss: 0.5497 - val_binary_accuracy: 0.7335 - val_auc: 0.7579\n",
            "Epoch 49/500\n",
            "3103/3103 [==============================] - 8s 2ms/step - loss: 0.5569 - binary_accuracy: 0.7303 - auc: 0.7415 - val_loss: 0.5396 - val_binary_accuracy: 0.7450 - val_auc: 0.7619\n",
            "Epoch 50/500\n",
            "3103/3103 [==============================] - 8s 2ms/step - loss: 0.5482 - binary_accuracy: 0.7373 - auc: 0.7501 - val_loss: 0.5397 - val_binary_accuracy: 0.7416 - val_auc: 0.7666\n",
            "Epoch 51/500\n",
            "3103/3103 [==============================] - 8s 2ms/step - loss: 0.5474 - binary_accuracy: 0.7402 - auc: 0.7497 - val_loss: 0.5629 - val_binary_accuracy: 0.7235 - val_auc: 0.7485\n",
            "Epoch 52/500\n",
            "3103/3103 [==============================] - 8s 2ms/step - loss: 0.5542 - binary_accuracy: 0.7321 - auc: 0.7422 - val_loss: 0.5390 - val_binary_accuracy: 0.7445 - val_auc: 0.7606\n"
          ],
          "name": "stdout"
        }
      ]
    },
    {
      "cell_type": "code",
      "metadata": {
        "colab": {
          "base_uri": "https://localhost:8080/",
          "height": 297
        },
        "id": "QEylyqAB1U4T",
        "outputId": "782bf09f-213b-42ee-ce06-869eeaeb3388"
      },
      "source": [
        "history_df = pd.DataFrame(history.history)\n",
        "\n",
        "history_df.describe()"
      ],
      "execution_count": 7,
      "outputs": [
        {
          "output_type": "execute_result",
          "data": {
            "text/html": [
              "<div>\n",
              "<style scoped>\n",
              "    .dataframe tbody tr th:only-of-type {\n",
              "        vertical-align: middle;\n",
              "    }\n",
              "\n",
              "    .dataframe tbody tr th {\n",
              "        vertical-align: top;\n",
              "    }\n",
              "\n",
              "    .dataframe thead th {\n",
              "        text-align: right;\n",
              "    }\n",
              "</style>\n",
              "<table border=\"1\" class=\"dataframe\">\n",
              "  <thead>\n",
              "    <tr style=\"text-align: right;\">\n",
              "      <th></th>\n",
              "      <th>loss</th>\n",
              "      <th>binary_accuracy</th>\n",
              "      <th>auc</th>\n",
              "      <th>val_loss</th>\n",
              "      <th>val_binary_accuracy</th>\n",
              "      <th>val_auc</th>\n",
              "    </tr>\n",
              "  </thead>\n",
              "  <tbody>\n",
              "    <tr>\n",
              "      <th>count</th>\n",
              "      <td>52.000000</td>\n",
              "      <td>52.000000</td>\n",
              "      <td>52.000000</td>\n",
              "      <td>52.000000</td>\n",
              "      <td>52.000000</td>\n",
              "      <td>52.000000</td>\n",
              "    </tr>\n",
              "    <tr>\n",
              "      <th>mean</th>\n",
              "      <td>0.557406</td>\n",
              "      <td>0.729895</td>\n",
              "      <td>0.738304</td>\n",
              "      <td>0.551755</td>\n",
              "      <td>0.733838</td>\n",
              "      <td>0.754030</td>\n",
              "    </tr>\n",
              "    <tr>\n",
              "      <th>std</th>\n",
              "      <td>0.012594</td>\n",
              "      <td>0.013516</td>\n",
              "      <td>0.019417</td>\n",
              "      <td>0.013114</td>\n",
              "      <td>0.017912</td>\n",
              "      <td>0.011084</td>\n",
              "    </tr>\n",
              "    <tr>\n",
              "      <th>min</th>\n",
              "      <td>0.549369</td>\n",
              "      <td>0.650788</td>\n",
              "      <td>0.611312</td>\n",
              "      <td>0.537232</td>\n",
              "      <td>0.654016</td>\n",
              "      <td>0.712146</td>\n",
              "    </tr>\n",
              "    <tr>\n",
              "      <th>25%</th>\n",
              "      <td>0.552291</td>\n",
              "      <td>0.730753</td>\n",
              "      <td>0.738299</td>\n",
              "      <td>0.544087</td>\n",
              "      <td>0.734019</td>\n",
              "      <td>0.750817</td>\n",
              "    </tr>\n",
              "    <tr>\n",
              "      <th>50%</th>\n",
              "      <td>0.554233</td>\n",
              "      <td>0.733320</td>\n",
              "      <td>0.742264</td>\n",
              "      <td>0.548957</td>\n",
              "      <td>0.738469</td>\n",
              "      <td>0.756708</td>\n",
              "    </tr>\n",
              "    <tr>\n",
              "      <th>75%</th>\n",
              "      <td>0.557389</td>\n",
              "      <td>0.734728</td>\n",
              "      <td>0.745461</td>\n",
              "      <td>0.555234</td>\n",
              "      <td>0.743370</td>\n",
              "      <td>0.760678</td>\n",
              "    </tr>\n",
              "    <tr>\n",
              "      <th>max</th>\n",
              "      <td>0.633790</td>\n",
              "      <td>0.737339</td>\n",
              "      <td>0.750192</td>\n",
              "      <td>0.604022</td>\n",
              "      <td>0.745563</td>\n",
              "      <td>0.767809</td>\n",
              "    </tr>\n",
              "  </tbody>\n",
              "</table>\n",
              "</div>"
            ],
            "text/plain": [
              "            loss  binary_accuracy  ...  val_binary_accuracy    val_auc\n",
              "count  52.000000        52.000000  ...            52.000000  52.000000\n",
              "mean    0.557406         0.729895  ...             0.733838   0.754030\n",
              "std     0.012594         0.013516  ...             0.017912   0.011084\n",
              "min     0.549369         0.650788  ...             0.654016   0.712146\n",
              "25%     0.552291         0.730753  ...             0.734019   0.750817\n",
              "50%     0.554233         0.733320  ...             0.738469   0.756708\n",
              "75%     0.557389         0.734728  ...             0.743370   0.760678\n",
              "max     0.633790         0.737339  ...             0.745563   0.767809\n",
              "\n",
              "[8 rows x 6 columns]"
            ]
          },
          "metadata": {
            "tags": []
          },
          "execution_count": 7
        }
      ]
    },
    {
      "cell_type": "code",
      "metadata": {
        "colab": {
          "base_uri": "https://localhost:8080/"
        },
        "id": "2rXapaDp1U2O",
        "outputId": "bf92048a-2e98-4bb9-c0a3-8e996525d51b"
      },
      "source": [
        "train_acc = table2_nn.evaluate(train_X, train_y)\n",
        "test_acc = table2_nn.evaluate(val_X, val_y)"
      ],
      "execution_count": 8,
      "outputs": [
        {
          "output_type": "stream",
          "text": [
            "2078/2078 [==============================] - 3s 1ms/step - loss: 0.5599 - binary_accuracy: 0.7465 - auc: 0.7394\n",
            "693/693 [==============================] - 1s 1ms/step - loss: 0.5608 - binary_accuracy: 0.7437 - auc: 0.7376\n"
          ],
          "name": "stdout"
        }
      ]
    },
    {
      "cell_type": "code",
      "metadata": {
        "colab": {
          "base_uri": "https://localhost:8080/"
        },
        "id": "5ADQEBa41Uz5",
        "outputId": "ed3078ae-3934-4a4e-8a89-2df5bd7f4364"
      },
      "source": [
        "dict(zip(table2_nn.metrics_names, test_acc))"
      ],
      "execution_count": 9,
      "outputs": [
        {
          "output_type": "execute_result",
          "data": {
            "text/plain": [
              "{'auc': 0.7376329302787781,\n",
              " 'binary_accuracy': 0.7437054514884949,\n",
              " 'loss': 0.560825526714325}"
            ]
          },
          "metadata": {
            "tags": []
          },
          "execution_count": 9
        }
      ]
    },
    {
      "cell_type": "code",
      "metadata": {
        "colab": {
          "base_uri": "https://localhost:8080/",
          "height": 282
        },
        "id": "3UfuVOqb1xJ1",
        "outputId": "9ffa0a5d-2eb2-4601-fa74-2cbc3366325f"
      },
      "source": [
        "history_df.loc[:, ['loss', 'val_loss']].plot();\n",
        "print(\"Minimum validation loss (binary_crossentropy): {}\".format(history_df['val_loss'].min()))"
      ],
      "execution_count": 10,
      "outputs": [
        {
          "output_type": "stream",
          "text": [
            "Minimum validation loss (binary_crossentropy): 0.5372323989868164\n"
          ],
          "name": "stdout"
        },
        {
          "output_type": "display_data",
          "data": {
            "image/png": "[encoded data removed]",
            "text/plain": [
              "<Figure size 432x288 with 1 Axes>"
            ]
          },
          "metadata": {
            "tags": [],
            "needs_background": "light"
          }
        }
      ]
    },
    {
      "cell_type": "code",
      "metadata": {
        "colab": {
          "base_uri": "https://localhost:8080/",
          "height": 282
        },
        "id": "aT57qZ5W1xHc",
        "outputId": "f94f757d-d205-465a-9dbd-012ed3da16e5"
      },
      "source": [
        "history_df.loc[:, ['auc', 'val_auc']].plot();\n",
        "print(\"Maximum AUC: {}\".format(history_df['val_auc'].max()))"
      ],
      "execution_count": 11,
      "outputs": [
        {
          "output_type": "stream",
          "text": [
            "Maximum AUC: 0.7678091526031494\n"
          ],
          "name": "stdout"
        },
        {
          "output_type": "display_data",
          "data": {
            "image/png": "[encoded data removed]",
            "text/plain": [
              "<Figure size 432x288 with 1 Axes>"
            ]
          },
          "metadata": {
            "tags": [],
            "needs_background": "light"
          }
        }
      ]
    },
    {
      "cell_type": "code",
      "metadata": {
        "colab": {
          "base_uri": "https://localhost:8080/",
          "height": 282
        },
        "id": "kOu5es-F1xE-",
        "outputId": "d4d75903-7000-4063-8322-3d17722d4bad"
      },
      "source": [
        "history_df.loc[:, ['binary_accuracy', 'val_binary_accuracy']].plot();\n",
        "print(\"Maximum validation binary accuracy: {}\".format(history_df['val_binary_accuracy'].max()))"
      ],
      "execution_count": 12,
      "outputs": [
        {
          "output_type": "stream",
          "text": [
            "Maximum validation binary accuracy: 0.7455630302429199\n"
          ],
          "name": "stdout"
        },
        {
          "output_type": "display_data",
          "data": {
            "image/png": "[encoded data removed]",
            "text/plain": [
              "<Figure size 432x288 with 1 Axes>"
            ]
          },
          "metadata": {
            "tags": [],
            "needs_background": "light"
          }
        }
      ]
    },
    {
      "cell_type": "code",
      "metadata": {
        "colab": {
          "base_uri": "https://localhost:8080/"
        },
        "id": "0Z1xGJNl1xCc",
        "outputId": "65115e75-9551-48c3-f0d1-dc24575a7cb5"
      },
      "source": [
        "preds1 = table2_nn.predict(val_X)\n",
        "preds1"
      ],
      "execution_count": 13,
      "outputs": [
        {
          "output_type": "execute_result",
          "data": {
            "text/plain": [
              "array([[0.27440238],\n",
              "       [0.2677017 ],\n",
              "       [0.26639366],\n",
              "       ...,\n",
              "       [0.2654546 ],\n",
              "       [0.37746143],\n",
              "       [0.2675304 ]], dtype=float32)"
            ]
          },
          "metadata": {
            "tags": []
          },
          "execution_count": 13
        }
      ]
    },
    {
      "cell_type": "code",
      "metadata": {
        "colab": {
          "base_uri": "https://localhost:8080/"
        },
        "id": "VjJXhtRp1w-H",
        "outputId": "1d1b13e1-3d72-4d58-af42-b5c51e098a5d"
      },
      "source": [
        "len(preds1[preds1 < 0.5])"
      ],
      "execution_count": 14,
      "outputs": [
        {
          "output_type": "execute_result",
          "data": {
            "text/plain": [
              "14969"
            ]
          },
          "metadata": {
            "tags": []
          },
          "execution_count": 14
        }
      ]
    },
    {
      "cell_type": "code",
      "metadata": {
        "colab": {
          "base_uri": "https://localhost:8080/"
        },
        "id": "lH9o4roL1-mQ",
        "outputId": "33f01bc0-0aa3-4341-d9f9-1a0d215458b5"
      },
      "source": [
        "len(preds1[preds1 >= 0.5])"
      ],
      "execution_count": 15,
      "outputs": [
        {
          "output_type": "execute_result",
          "data": {
            "text/plain": [
              "7193"
            ]
          },
          "metadata": {
            "tags": []
          },
          "execution_count": 15
        }
      ]
    },
    {
      "cell_type": "code",
      "metadata": {
        "colab": {
          "base_uri": "https://localhost:8080/"
        },
        "id": "JmjS9QFa2Amb",
        "outputId": "7c582ee0-0609-46b6-99d8-2aa0a15f8abe"
      },
      "source": [
        "len(val_y)"
      ],
      "execution_count": 16,
      "outputs": [
        {
          "output_type": "execute_result",
          "data": {
            "text/plain": [
              "22162"
            ]
          },
          "metadata": {
            "tags": []
          },
          "execution_count": 16
        }
      ]
    }
  ]
}