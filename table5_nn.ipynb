{
  "nbformat": 4,
  "nbformat_minor": 0,
  "metadata": {
    "colab": {
      "name": "table5_nn.ipynb",
      "provenance": [],
      "collapsed_sections": []
    },
    "kernelspec": {
      "name": "python3",
      "display_name": "Python 3"
    },
    "language_info": {
      "name": "python"
    }
  },
  "cells": [
    {
      "cell_type": "markdown",
      "metadata": {
        "id": "AD-tbKBauWhl"
      },
      "source": [
        "# neural network on dataset attributes based on URL parameters (table 5)\n",
        "\n",
        "### (20 features)"
      ]
    },
    {
      "cell_type": "code",
      "metadata": {
        "colab": {
          "base_uri": "https://localhost:8080/"
        },
        "id": "nh56fGcS00aE",
        "outputId": "c93b1ea4-8ab3-477e-a9ce-cb5afc3e56df"
      },
      "source": [
        "from keras.models import model_from_json\n",
        "import pandas as pd\n",
        "import numpy as np\n",
        "from sklearn.model_selection import train_test_split\n",
        "import sklearn as sk\n",
        "import matplotlib.pyplot as plt\n",
        "from tensorflow import keras\n",
        "from tensorflow.keras import layers\n",
        "import tensorflow as tf\n",
        "from tensorflow.keras import *\n",
        "from keras import callbacks\n",
        "from keras.utils.np_utils import *\n",
        "\n",
        "print(\"Done Loading\")\n"
      ],
      "execution_count": 1,
      "outputs": [
        {
          "output_type": "stream",
          "text": [
            "Done Loading\n"
          ],
          "name": "stdout"
        }
      ]
    },
    {
      "cell_type": "code",
      "metadata": {
        "colab": {
          "base_uri": "https://localhost:8080/",
          "height": 238
        },
        "id": "J4SOrq2500UM",
        "outputId": "8e3fe4fe-7167-4612-e337-cb3ecda30706"
      },
      "source": [
        "full_df = pd.read_csv(\"https://raw.githubusercontent.com/jwaldroop/phishing-url-project/main/dataset_full.csv\")\n",
        "\n",
        "full_df.head()"
      ],
      "execution_count": 2,
      "outputs": [
        {
          "output_type": "execute_result",
          "data": {
            "text/html": [
              "<div>\n",
              "<style scoped>\n",
              "    .dataframe tbody tr th:only-of-type {\n",
              "        vertical-align: middle;\n",
              "    }\n",
              "\n",
              "    .dataframe tbody tr th {\n",
              "        vertical-align: top;\n",
              "    }\n",
              "\n",
              "    .dataframe thead th {\n",
              "        text-align: right;\n",
              "    }\n",
              "</style>\n",
              "<table border=\"1\" class=\"dataframe\">\n",
              "  <thead>\n",
              "    <tr style=\"text-align: right;\">\n",
              "      <th></th>\n",
              "      <th>qty_dot_url</th>\n",
              "      <th>qty_hyphen_url</th>\n",
              "      <th>qty_underline_url</th>\n",
              "      <th>qty_slash_url</th>\n",
              "      <th>qty_questionmark_url</th>\n",
              "      <th>qty_equal_url</th>\n",
              "      <th>qty_at_url</th>\n",
              "      <th>qty_and_url</th>\n",
              "      <th>qty_exclamation_url</th>\n",
              "      <th>qty_space_url</th>\n",
              "      <th>qty_tilde_url</th>\n",
              "      <th>qty_comma_url</th>\n",
              "      <th>qty_plus_url</th>\n",
              "      <th>qty_asterisk_url</th>\n",
              "      <th>qty_hashtag_url</th>\n",
              "      <th>qty_dollar_url</th>\n",
              "      <th>qty_percent_url</th>\n",
              "      <th>qty_tld_url</th>\n",
              "      <th>length_url</th>\n",
              "      <th>qty_dot_domain</th>\n",
              "      <th>qty_hyphen_domain</th>\n",
              "      <th>qty_underline_domain</th>\n",
              "      <th>qty_slash_domain</th>\n",
              "      <th>qty_questionmark_domain</th>\n",
              "      <th>qty_equal_domain</th>\n",
              "      <th>qty_at_domain</th>\n",
              "      <th>qty_and_domain</th>\n",
              "      <th>qty_exclamation_domain</th>\n",
              "      <th>qty_space_domain</th>\n",
              "      <th>qty_tilde_domain</th>\n",
              "      <th>qty_comma_domain</th>\n",
              "      <th>qty_plus_domain</th>\n",
              "      <th>qty_asterisk_domain</th>\n",
              "      <th>qty_hashtag_domain</th>\n",
              "      <th>qty_dollar_domain</th>\n",
              "      <th>qty_percent_domain</th>\n",
              "      <th>qty_vowels_domain</th>\n",
              "      <th>domain_length</th>\n",
              "      <th>domain_in_ip</th>\n",
              "      <th>server_client_domain</th>\n",
              "      <th>...</th>\n",
              "      <th>qty_hashtag_file</th>\n",
              "      <th>qty_dollar_file</th>\n",
              "      <th>qty_percent_file</th>\n",
              "      <th>file_length</th>\n",
              "      <th>qty_dot_params</th>\n",
              "      <th>qty_hyphen_params</th>\n",
              "      <th>qty_underline_params</th>\n",
              "      <th>qty_slash_params</th>\n",
              "      <th>qty_questionmark_params</th>\n",
              "      <th>qty_equal_params</th>\n",
              "      <th>qty_at_params</th>\n",
              "      <th>qty_and_params</th>\n",
              "      <th>qty_exclamation_params</th>\n",
              "      <th>qty_space_params</th>\n",
              "      <th>qty_tilde_params</th>\n",
              "      <th>qty_comma_params</th>\n",
              "      <th>qty_plus_params</th>\n",
              "      <th>qty_asterisk_params</th>\n",
              "      <th>qty_hashtag_params</th>\n",
              "      <th>qty_dollar_params</th>\n",
              "      <th>qty_percent_params</th>\n",
              "      <th>params_length</th>\n",
              "      <th>tld_present_params</th>\n",
              "      <th>qty_params</th>\n",
              "      <th>email_in_url</th>\n",
              "      <th>time_response</th>\n",
              "      <th>domain_spf</th>\n",
              "      <th>asn_ip</th>\n",
              "      <th>time_domain_activation</th>\n",
              "      <th>time_domain_expiration</th>\n",
              "      <th>qty_ip_resolved</th>\n",
              "      <th>qty_nameservers</th>\n",
              "      <th>qty_mx_servers</th>\n",
              "      <th>ttl_hostname</th>\n",
              "      <th>tls_ssl_certificate</th>\n",
              "      <th>qty_redirects</th>\n",
              "      <th>url_google_index</th>\n",
              "      <th>domain_google_index</th>\n",
              "      <th>url_shortened</th>\n",
              "      <th>phishing</th>\n",
              "    </tr>\n",
              "  </thead>\n",
              "  <tbody>\n",
              "    <tr>\n",
              "      <th>0</th>\n",
              "      <td>3</td>\n",
              "      <td>0</td>\n",
              "      <td>0</td>\n",
              "      <td>1</td>\n",
              "      <td>0</td>\n",
              "      <td>0</td>\n",
              "      <td>0</td>\n",
              "      <td>0</td>\n",
              "      <td>0</td>\n",
              "      <td>0</td>\n",
              "      <td>0</td>\n",
              "      <td>0</td>\n",
              "      <td>0</td>\n",
              "      <td>0</td>\n",
              "      <td>0</td>\n",
              "      <td>0</td>\n",
              "      <td>0</td>\n",
              "      <td>1</td>\n",
              "      <td>25</td>\n",
              "      <td>2</td>\n",
              "      <td>0</td>\n",
              "      <td>0</td>\n",
              "      <td>0</td>\n",
              "      <td>0</td>\n",
              "      <td>0</td>\n",
              "      <td>0</td>\n",
              "      <td>0</td>\n",
              "      <td>0</td>\n",
              "      <td>0</td>\n",
              "      <td>0</td>\n",
              "      <td>0</td>\n",
              "      <td>0</td>\n",
              "      <td>0</td>\n",
              "      <td>0</td>\n",
              "      <td>0</td>\n",
              "      <td>0</td>\n",
              "      <td>4</td>\n",
              "      <td>17</td>\n",
              "      <td>0</td>\n",
              "      <td>0</td>\n",
              "      <td>...</td>\n",
              "      <td>0</td>\n",
              "      <td>0</td>\n",
              "      <td>0</td>\n",
              "      <td>7</td>\n",
              "      <td>-1</td>\n",
              "      <td>-1</td>\n",
              "      <td>-1</td>\n",
              "      <td>-1</td>\n",
              "      <td>-1</td>\n",
              "      <td>-1</td>\n",
              "      <td>-1</td>\n",
              "      <td>-1</td>\n",
              "      <td>-1</td>\n",
              "      <td>-1</td>\n",
              "      <td>-1</td>\n",
              "      <td>-1</td>\n",
              "      <td>-1</td>\n",
              "      <td>-1</td>\n",
              "      <td>-1</td>\n",
              "      <td>-1</td>\n",
              "      <td>-1</td>\n",
              "      <td>-1</td>\n",
              "      <td>-1</td>\n",
              "      <td>-1</td>\n",
              "      <td>0</td>\n",
              "      <td>0.207316</td>\n",
              "      <td>0</td>\n",
              "      <td>60781</td>\n",
              "      <td>-1</td>\n",
              "      <td>-1</td>\n",
              "      <td>1</td>\n",
              "      <td>2</td>\n",
              "      <td>0</td>\n",
              "      <td>892</td>\n",
              "      <td>0</td>\n",
              "      <td>0</td>\n",
              "      <td>0</td>\n",
              "      <td>0</td>\n",
              "      <td>0</td>\n",
              "      <td>1</td>\n",
              "    </tr>\n",
              "    <tr>\n",
              "      <th>1</th>\n",
              "      <td>5</td>\n",
              "      <td>0</td>\n",
              "      <td>1</td>\n",
              "      <td>3</td>\n",
              "      <td>0</td>\n",
              "      <td>3</td>\n",
              "      <td>0</td>\n",
              "      <td>2</td>\n",
              "      <td>0</td>\n",
              "      <td>0</td>\n",
              "      <td>0</td>\n",
              "      <td>0</td>\n",
              "      <td>0</td>\n",
              "      <td>0</td>\n",
              "      <td>0</td>\n",
              "      <td>0</td>\n",
              "      <td>0</td>\n",
              "      <td>3</td>\n",
              "      <td>223</td>\n",
              "      <td>2</td>\n",
              "      <td>0</td>\n",
              "      <td>0</td>\n",
              "      <td>0</td>\n",
              "      <td>0</td>\n",
              "      <td>0</td>\n",
              "      <td>0</td>\n",
              "      <td>0</td>\n",
              "      <td>0</td>\n",
              "      <td>0</td>\n",
              "      <td>0</td>\n",
              "      <td>0</td>\n",
              "      <td>0</td>\n",
              "      <td>0</td>\n",
              "      <td>0</td>\n",
              "      <td>0</td>\n",
              "      <td>0</td>\n",
              "      <td>5</td>\n",
              "      <td>16</td>\n",
              "      <td>0</td>\n",
              "      <td>0</td>\n",
              "      <td>...</td>\n",
              "      <td>0</td>\n",
              "      <td>0</td>\n",
              "      <td>0</td>\n",
              "      <td>9</td>\n",
              "      <td>0</td>\n",
              "      <td>0</td>\n",
              "      <td>1</td>\n",
              "      <td>0</td>\n",
              "      <td>0</td>\n",
              "      <td>3</td>\n",
              "      <td>0</td>\n",
              "      <td>2</td>\n",
              "      <td>0</td>\n",
              "      <td>0</td>\n",
              "      <td>0</td>\n",
              "      <td>0</td>\n",
              "      <td>0</td>\n",
              "      <td>0</td>\n",
              "      <td>0</td>\n",
              "      <td>0</td>\n",
              "      <td>0</td>\n",
              "      <td>165</td>\n",
              "      <td>0</td>\n",
              "      <td>3</td>\n",
              "      <td>0</td>\n",
              "      <td>0.499566</td>\n",
              "      <td>-1</td>\n",
              "      <td>36024</td>\n",
              "      <td>579</td>\n",
              "      <td>150</td>\n",
              "      <td>1</td>\n",
              "      <td>2</td>\n",
              "      <td>1</td>\n",
              "      <td>9540</td>\n",
              "      <td>1</td>\n",
              "      <td>0</td>\n",
              "      <td>0</td>\n",
              "      <td>0</td>\n",
              "      <td>0</td>\n",
              "      <td>1</td>\n",
              "    </tr>\n",
              "    <tr>\n",
              "      <th>2</th>\n",
              "      <td>2</td>\n",
              "      <td>0</td>\n",
              "      <td>0</td>\n",
              "      <td>1</td>\n",
              "      <td>0</td>\n",
              "      <td>0</td>\n",
              "      <td>0</td>\n",
              "      <td>0</td>\n",
              "      <td>0</td>\n",
              "      <td>0</td>\n",
              "      <td>0</td>\n",
              "      <td>0</td>\n",
              "      <td>0</td>\n",
              "      <td>0</td>\n",
              "      <td>0</td>\n",
              "      <td>0</td>\n",
              "      <td>0</td>\n",
              "      <td>1</td>\n",
              "      <td>15</td>\n",
              "      <td>2</td>\n",
              "      <td>0</td>\n",
              "      <td>0</td>\n",
              "      <td>0</td>\n",
              "      <td>0</td>\n",
              "      <td>0</td>\n",
              "      <td>0</td>\n",
              "      <td>0</td>\n",
              "      <td>0</td>\n",
              "      <td>0</td>\n",
              "      <td>0</td>\n",
              "      <td>0</td>\n",
              "      <td>0</td>\n",
              "      <td>0</td>\n",
              "      <td>0</td>\n",
              "      <td>0</td>\n",
              "      <td>0</td>\n",
              "      <td>3</td>\n",
              "      <td>14</td>\n",
              "      <td>0</td>\n",
              "      <td>0</td>\n",
              "      <td>...</td>\n",
              "      <td>0</td>\n",
              "      <td>0</td>\n",
              "      <td>0</td>\n",
              "      <td>0</td>\n",
              "      <td>-1</td>\n",
              "      <td>-1</td>\n",
              "      <td>-1</td>\n",
              "      <td>-1</td>\n",
              "      <td>-1</td>\n",
              "      <td>-1</td>\n",
              "      <td>-1</td>\n",
              "      <td>-1</td>\n",
              "      <td>-1</td>\n",
              "      <td>-1</td>\n",
              "      <td>-1</td>\n",
              "      <td>-1</td>\n",
              "      <td>-1</td>\n",
              "      <td>-1</td>\n",
              "      <td>-1</td>\n",
              "      <td>-1</td>\n",
              "      <td>-1</td>\n",
              "      <td>-1</td>\n",
              "      <td>-1</td>\n",
              "      <td>-1</td>\n",
              "      <td>0</td>\n",
              "      <td>0.935901</td>\n",
              "      <td>0</td>\n",
              "      <td>4766</td>\n",
              "      <td>-1</td>\n",
              "      <td>-1</td>\n",
              "      <td>1</td>\n",
              "      <td>2</td>\n",
              "      <td>3</td>\n",
              "      <td>589</td>\n",
              "      <td>1</td>\n",
              "      <td>0</td>\n",
              "      <td>0</td>\n",
              "      <td>0</td>\n",
              "      <td>0</td>\n",
              "      <td>0</td>\n",
              "    </tr>\n",
              "    <tr>\n",
              "      <th>3</th>\n",
              "      <td>4</td>\n",
              "      <td>0</td>\n",
              "      <td>2</td>\n",
              "      <td>5</td>\n",
              "      <td>0</td>\n",
              "      <td>0</td>\n",
              "      <td>0</td>\n",
              "      <td>0</td>\n",
              "      <td>0</td>\n",
              "      <td>0</td>\n",
              "      <td>0</td>\n",
              "      <td>0</td>\n",
              "      <td>0</td>\n",
              "      <td>0</td>\n",
              "      <td>0</td>\n",
              "      <td>0</td>\n",
              "      <td>0</td>\n",
              "      <td>1</td>\n",
              "      <td>81</td>\n",
              "      <td>2</td>\n",
              "      <td>0</td>\n",
              "      <td>0</td>\n",
              "      <td>0</td>\n",
              "      <td>0</td>\n",
              "      <td>0</td>\n",
              "      <td>0</td>\n",
              "      <td>0</td>\n",
              "      <td>0</td>\n",
              "      <td>0</td>\n",
              "      <td>0</td>\n",
              "      <td>0</td>\n",
              "      <td>0</td>\n",
              "      <td>0</td>\n",
              "      <td>0</td>\n",
              "      <td>0</td>\n",
              "      <td>0</td>\n",
              "      <td>7</td>\n",
              "      <td>19</td>\n",
              "      <td>0</td>\n",
              "      <td>0</td>\n",
              "      <td>...</td>\n",
              "      <td>0</td>\n",
              "      <td>0</td>\n",
              "      <td>0</td>\n",
              "      <td>9</td>\n",
              "      <td>-1</td>\n",
              "      <td>-1</td>\n",
              "      <td>-1</td>\n",
              "      <td>-1</td>\n",
              "      <td>-1</td>\n",
              "      <td>-1</td>\n",
              "      <td>-1</td>\n",
              "      <td>-1</td>\n",
              "      <td>-1</td>\n",
              "      <td>-1</td>\n",
              "      <td>-1</td>\n",
              "      <td>-1</td>\n",
              "      <td>-1</td>\n",
              "      <td>-1</td>\n",
              "      <td>-1</td>\n",
              "      <td>-1</td>\n",
              "      <td>-1</td>\n",
              "      <td>-1</td>\n",
              "      <td>-1</td>\n",
              "      <td>-1</td>\n",
              "      <td>0</td>\n",
              "      <td>0.410021</td>\n",
              "      <td>0</td>\n",
              "      <td>20454</td>\n",
              "      <td>-1</td>\n",
              "      <td>-1</td>\n",
              "      <td>1</td>\n",
              "      <td>2</td>\n",
              "      <td>0</td>\n",
              "      <td>292</td>\n",
              "      <td>1</td>\n",
              "      <td>0</td>\n",
              "      <td>0</td>\n",
              "      <td>0</td>\n",
              "      <td>0</td>\n",
              "      <td>1</td>\n",
              "    </tr>\n",
              "    <tr>\n",
              "      <th>4</th>\n",
              "      <td>2</td>\n",
              "      <td>0</td>\n",
              "      <td>0</td>\n",
              "      <td>0</td>\n",
              "      <td>0</td>\n",
              "      <td>0</td>\n",
              "      <td>0</td>\n",
              "      <td>0</td>\n",
              "      <td>0</td>\n",
              "      <td>0</td>\n",
              "      <td>0</td>\n",
              "      <td>0</td>\n",
              "      <td>0</td>\n",
              "      <td>0</td>\n",
              "      <td>0</td>\n",
              "      <td>0</td>\n",
              "      <td>0</td>\n",
              "      <td>1</td>\n",
              "      <td>19</td>\n",
              "      <td>2</td>\n",
              "      <td>0</td>\n",
              "      <td>0</td>\n",
              "      <td>0</td>\n",
              "      <td>0</td>\n",
              "      <td>0</td>\n",
              "      <td>0</td>\n",
              "      <td>0</td>\n",
              "      <td>0</td>\n",
              "      <td>0</td>\n",
              "      <td>0</td>\n",
              "      <td>0</td>\n",
              "      <td>0</td>\n",
              "      <td>0</td>\n",
              "      <td>0</td>\n",
              "      <td>0</td>\n",
              "      <td>0</td>\n",
              "      <td>5</td>\n",
              "      <td>19</td>\n",
              "      <td>0</td>\n",
              "      <td>0</td>\n",
              "      <td>...</td>\n",
              "      <td>-1</td>\n",
              "      <td>-1</td>\n",
              "      <td>-1</td>\n",
              "      <td>-1</td>\n",
              "      <td>-1</td>\n",
              "      <td>-1</td>\n",
              "      <td>-1</td>\n",
              "      <td>-1</td>\n",
              "      <td>-1</td>\n",
              "      <td>-1</td>\n",
              "      <td>-1</td>\n",
              "      <td>-1</td>\n",
              "      <td>-1</td>\n",
              "      <td>-1</td>\n",
              "      <td>-1</td>\n",
              "      <td>-1</td>\n",
              "      <td>-1</td>\n",
              "      <td>-1</td>\n",
              "      <td>-1</td>\n",
              "      <td>-1</td>\n",
              "      <td>-1</td>\n",
              "      <td>-1</td>\n",
              "      <td>-1</td>\n",
              "      <td>-1</td>\n",
              "      <td>0</td>\n",
              "      <td>0.410761</td>\n",
              "      <td>0</td>\n",
              "      <td>53831</td>\n",
              "      <td>6998</td>\n",
              "      <td>306</td>\n",
              "      <td>1</td>\n",
              "      <td>2</td>\n",
              "      <td>1</td>\n",
              "      <td>3597</td>\n",
              "      <td>0</td>\n",
              "      <td>1</td>\n",
              "      <td>0</td>\n",
              "      <td>0</td>\n",
              "      <td>0</td>\n",
              "      <td>0</td>\n",
              "    </tr>\n",
              "  </tbody>\n",
              "</table>\n",
              "<p>5 rows × 112 columns</p>\n",
              "</div>"
            ],
            "text/plain": [
              "   qty_dot_url  qty_hyphen_url  ...  url_shortened  phishing\n",
              "0            3               0  ...              0         1\n",
              "1            5               0  ...              0         1\n",
              "2            2               0  ...              0         0\n",
              "3            4               0  ...              0         1\n",
              "4            2               0  ...              0         0\n",
              "\n",
              "[5 rows x 112 columns]"
            ]
          },
          "metadata": {
            "tags": []
          },
          "execution_count": 2
        }
      ]
    },
    {
      "cell_type": "code",
      "metadata": {
        "colab": {
          "base_uri": "https://localhost:8080/",
          "height": 211
        },
        "id": "1PQ4dcaouS2L",
        "outputId": "a3f5c728-c3d0-40ef-c28f-2c796a2c1e67"
      },
      "source": [
        "y = full_df['phishing']\n",
        "\n",
        "features_table1 = ['qty_dot_params', 'qty_hyphen_params', 'qty_underline_params', 'qty_slash_params', 'qty_questionmark_params', 'qty_equal_params', 'qty_at_params', 'qty_and_params',\n",
        "                   'qty_exclamation_params', 'qty_space_params', 'qty_tilde_params', 'qty_comma_params', 'qty_plus_params', 'qty_asterisk_params', 'qty_hashtag_params', 'qty_dollar_params',\n",
        "                   'qty_percent_params', 'params_length', 'tld_present_params', 'qty_params'] \n",
        "\n",
        "X = full_df[features_table1]\n",
        "\n",
        "train_X, val_X, train_y, val_y = train_test_split(X, y, random_state=808)\n",
        "\n",
        "train_X.head()"
      ],
      "execution_count": 3,
      "outputs": [
        {
          "output_type": "execute_result",
          "data": {
            "text/html": [
              "<div>\n",
              "<style scoped>\n",
              "    .dataframe tbody tr th:only-of-type {\n",
              "        vertical-align: middle;\n",
              "    }\n",
              "\n",
              "    .dataframe tbody tr th {\n",
              "        vertical-align: top;\n",
              "    }\n",
              "\n",
              "    .dataframe thead th {\n",
              "        text-align: right;\n",
              "    }\n",
              "</style>\n",
              "<table border=\"1\" class=\"dataframe\">\n",
              "  <thead>\n",
              "    <tr style=\"text-align: right;\">\n",
              "      <th></th>\n",
              "      <th>qty_dot_params</th>\n",
              "      <th>qty_hyphen_params</th>\n",
              "      <th>qty_underline_params</th>\n",
              "      <th>qty_slash_params</th>\n",
              "      <th>qty_questionmark_params</th>\n",
              "      <th>qty_equal_params</th>\n",
              "      <th>qty_at_params</th>\n",
              "      <th>qty_and_params</th>\n",
              "      <th>qty_exclamation_params</th>\n",
              "      <th>qty_space_params</th>\n",
              "      <th>qty_tilde_params</th>\n",
              "      <th>qty_comma_params</th>\n",
              "      <th>qty_plus_params</th>\n",
              "      <th>qty_asterisk_params</th>\n",
              "      <th>qty_hashtag_params</th>\n",
              "      <th>qty_dollar_params</th>\n",
              "      <th>qty_percent_params</th>\n",
              "      <th>params_length</th>\n",
              "      <th>tld_present_params</th>\n",
              "      <th>qty_params</th>\n",
              "    </tr>\n",
              "  </thead>\n",
              "  <tbody>\n",
              "    <tr>\n",
              "      <th>5676</th>\n",
              "      <td>-1</td>\n",
              "      <td>-1</td>\n",
              "      <td>-1</td>\n",
              "      <td>-1</td>\n",
              "      <td>-1</td>\n",
              "      <td>-1</td>\n",
              "      <td>-1</td>\n",
              "      <td>-1</td>\n",
              "      <td>-1</td>\n",
              "      <td>-1</td>\n",
              "      <td>-1</td>\n",
              "      <td>-1</td>\n",
              "      <td>-1</td>\n",
              "      <td>-1</td>\n",
              "      <td>-1</td>\n",
              "      <td>-1</td>\n",
              "      <td>-1</td>\n",
              "      <td>-1</td>\n",
              "      <td>-1</td>\n",
              "      <td>-1</td>\n",
              "    </tr>\n",
              "    <tr>\n",
              "      <th>39002</th>\n",
              "      <td>-1</td>\n",
              "      <td>-1</td>\n",
              "      <td>-1</td>\n",
              "      <td>-1</td>\n",
              "      <td>-1</td>\n",
              "      <td>-1</td>\n",
              "      <td>-1</td>\n",
              "      <td>-1</td>\n",
              "      <td>-1</td>\n",
              "      <td>-1</td>\n",
              "      <td>-1</td>\n",
              "      <td>-1</td>\n",
              "      <td>-1</td>\n",
              "      <td>-1</td>\n",
              "      <td>-1</td>\n",
              "      <td>-1</td>\n",
              "      <td>-1</td>\n",
              "      <td>-1</td>\n",
              "      <td>-1</td>\n",
              "      <td>-1</td>\n",
              "    </tr>\n",
              "    <tr>\n",
              "      <th>1732</th>\n",
              "      <td>-1</td>\n",
              "      <td>-1</td>\n",
              "      <td>-1</td>\n",
              "      <td>-1</td>\n",
              "      <td>-1</td>\n",
              "      <td>-1</td>\n",
              "      <td>-1</td>\n",
              "      <td>-1</td>\n",
              "      <td>-1</td>\n",
              "      <td>-1</td>\n",
              "      <td>-1</td>\n",
              "      <td>-1</td>\n",
              "      <td>-1</td>\n",
              "      <td>-1</td>\n",
              "      <td>-1</td>\n",
              "      <td>-1</td>\n",
              "      <td>-1</td>\n",
              "      <td>-1</td>\n",
              "      <td>-1</td>\n",
              "      <td>-1</td>\n",
              "    </tr>\n",
              "    <tr>\n",
              "      <th>39668</th>\n",
              "      <td>-1</td>\n",
              "      <td>-1</td>\n",
              "      <td>-1</td>\n",
              "      <td>-1</td>\n",
              "      <td>-1</td>\n",
              "      <td>-1</td>\n",
              "      <td>-1</td>\n",
              "      <td>-1</td>\n",
              "      <td>-1</td>\n",
              "      <td>-1</td>\n",
              "      <td>-1</td>\n",
              "      <td>-1</td>\n",
              "      <td>-1</td>\n",
              "      <td>-1</td>\n",
              "      <td>-1</td>\n",
              "      <td>-1</td>\n",
              "      <td>-1</td>\n",
              "      <td>-1</td>\n",
              "      <td>-1</td>\n",
              "      <td>-1</td>\n",
              "    </tr>\n",
              "    <tr>\n",
              "      <th>82035</th>\n",
              "      <td>-1</td>\n",
              "      <td>-1</td>\n",
              "      <td>-1</td>\n",
              "      <td>-1</td>\n",
              "      <td>-1</td>\n",
              "      <td>-1</td>\n",
              "      <td>-1</td>\n",
              "      <td>-1</td>\n",
              "      <td>-1</td>\n",
              "      <td>-1</td>\n",
              "      <td>-1</td>\n",
              "      <td>-1</td>\n",
              "      <td>-1</td>\n",
              "      <td>-1</td>\n",
              "      <td>-1</td>\n",
              "      <td>-1</td>\n",
              "      <td>-1</td>\n",
              "      <td>-1</td>\n",
              "      <td>-1</td>\n",
              "      <td>-1</td>\n",
              "    </tr>\n",
              "  </tbody>\n",
              "</table>\n",
              "</div>"
            ],
            "text/plain": [
              "       qty_dot_params  qty_hyphen_params  ...  tld_present_params  qty_params\n",
              "5676               -1                 -1  ...                  -1          -1\n",
              "39002              -1                 -1  ...                  -1          -1\n",
              "1732               -1                 -1  ...                  -1          -1\n",
              "39668              -1                 -1  ...                  -1          -1\n",
              "82035              -1                 -1  ...                  -1          -1\n",
              "\n",
              "[5 rows x 20 columns]"
            ]
          },
          "metadata": {
            "tags": []
          },
          "execution_count": 3
        }
      ]
    },
    {
      "cell_type": "code",
      "metadata": {
        "colab": {
          "base_uri": "https://localhost:8080/"
        },
        "id": "EUauU02l2iFe",
        "outputId": "7488f67d-5fbd-4e75-bdd1-f91a913ef05e"
      },
      "source": [
        "X.shape"
      ],
      "execution_count": 4,
      "outputs": [
        {
          "output_type": "execute_result",
          "data": {
            "text/plain": [
              "(88647, 20)"
            ]
          },
          "metadata": {
            "tags": []
          },
          "execution_count": 4
        }
      ]
    },
    {
      "cell_type": "code",
      "metadata": {
        "colab": {
          "base_uri": "https://localhost:8080/"
        },
        "id": "6JybKWkn1U8i",
        "outputId": "062a7dd6-6ba9-4054-a661-47dc8f8e143c"
      },
      "source": [
        "tf.keras.backend.clear_session()\n",
        "\n",
        "#neural net\n",
        "\n",
        "table5_nn = keras.Sequential([\n",
        "                          layers.InputLayer(input_shape=[20]),\n",
        "                          layers.Dense(units=64, activation='relu'),\n",
        "                          layers.Dropout(0.2),\n",
        "                          layers.Dense(units=64, activation='relu'),\n",
        "                          layers.Dropout(0.2),\n",
        "                          layers.Dense(units=50, activation='relu'),\n",
        "                          layers.Dropout(0.20),\n",
        "                          layers.Dense(units=32, activation='relu'),\n",
        "                          layers.Dropout(0.2),\n",
        "                          layers.Dense(units=32, activation='relu'),\n",
        "                          layers.Dropout(0.2),\n",
        "                          layers.Dense(units=16, activation='relu'),\n",
        "                          layers.Dropout(0.40),\n",
        "                          layers.Dense(units=16, activation='relu'),\n",
        "                          layers.Dropout(0.40),\n",
        "                          layers.Dense(units=111, activation='relu'),\n",
        "                          layers.Flatten(),\n",
        "                          layers.Dense(units=1, activation='sigmoid')\n",
        "])\n",
        "\n",
        "table5_nn.compile(\n",
        "    optimizer='adam',\n",
        "    loss='binary_crossentropy',\n",
        "    metrics=[tf.keras.metrics.BinaryAccuracy(threshold=0.5), \n",
        "             tf.keras.metrics.AUC(),\n",
        "             ]\n",
        ")\n",
        "\n",
        "earlystopping = callbacks.EarlyStopping(monitor = 'val_binary_accuracy', mode = 'max',\n",
        "                                       patience = 25, restore_best_weights = True)\n",
        "\n",
        "\n",
        "table5_nn.summary()"
      ],
      "execution_count": 5,
      "outputs": [
        {
          "output_type": "stream",
          "text": [
            "Model: \"sequential\"\n",
            "_________________________________________________________________\n",
            "Layer (type)                 Output Shape              Param #   \n",
            "=================================================================\n",
            "dense (Dense)                (None, 64)                1344      \n",
            "_________________________________________________________________\n",
            "dropout (Dropout)            (None, 64)                0         \n",
            "_________________________________________________________________\n",
            "dense_1 (Dense)              (None, 64)                4160      \n",
            "_________________________________________________________________\n",
            "dropout_1 (Dropout)          (None, 64)                0         \n",
            "_________________________________________________________________\n",
            "dense_2 (Dense)              (None, 50)                3250      \n",
            "_________________________________________________________________\n",
            "dropout_2 (Dropout)          (None, 50)                0         \n",
            "_________________________________________________________________\n",
            "dense_3 (Dense)              (None, 32)                1632      \n",
            "_________________________________________________________________\n",
            "dropout_3 (Dropout)          (None, 32)                0         \n",
            "_________________________________________________________________\n",
            "dense_4 (Dense)              (None, 32)                1056      \n",
            "_________________________________________________________________\n",
            "dropout_4 (Dropout)          (None, 32)                0         \n",
            "_________________________________________________________________\n",
            "dense_5 (Dense)              (None, 16)                528       \n",
            "_________________________________________________________________\n",
            "dropout_5 (Dropout)          (None, 16)                0         \n",
            "_________________________________________________________________\n",
            "dense_6 (Dense)              (None, 16)                272       \n",
            "_________________________________________________________________\n",
            "dropout_6 (Dropout)          (None, 16)                0         \n",
            "_________________________________________________________________\n",
            "dense_7 (Dense)              (None, 111)               1887      \n",
            "_________________________________________________________________\n",
            "flatten (Flatten)            (None, 111)               0         \n",
            "_________________________________________________________________\n",
            "dense_8 (Dense)              (None, 1)                 112       \n",
            "=================================================================\n",
            "Total params: 14,241\n",
            "Trainable params: 14,241\n",
            "Non-trainable params: 0\n",
            "_________________________________________________________________\n"
          ],
          "name": "stdout"
        }
      ]
    },
    {
      "cell_type": "code",
      "metadata": {
        "colab": {
          "base_uri": "https://localhost:8080/"
        },
        "id": "evPK4SLp1U6a",
        "outputId": "c057cc4e-59b6-4453-9611-fcce57502928"
      },
      "source": [
        "history = table5_nn.fit(train_X, train_y, validation_split=0.30, batch_size= 15, epochs=500, callbacks = [earlystopping])"
      ],
      "execution_count": 6,
      "outputs": [
        {
          "output_type": "stream",
          "text": [
            "Epoch 1/500\n",
            "3103/3103 [==============================] - 11s 3ms/step - loss: 0.6026 - binary_accuracy: 0.7085 - auc: 0.5975 - val_loss: 0.5813 - val_binary_accuracy: 0.7260 - val_auc: 0.6030\n",
            "Epoch 2/500\n",
            "3103/3103 [==============================] - 9s 3ms/step - loss: 0.5832 - binary_accuracy: 0.7178 - auc: 0.6013 - val_loss: 0.5744 - val_binary_accuracy: 0.7260 - val_auc: 0.6039\n",
            "Epoch 3/500\n",
            "3103/3103 [==============================] - 9s 3ms/step - loss: 0.5760 - binary_accuracy: 0.7229 - auc: 0.6048 - val_loss: 0.5732 - val_binary_accuracy: 0.7257 - val_auc: 0.6040\n",
            "Epoch 4/500\n",
            "3103/3103 [==============================] - 9s 3ms/step - loss: 0.5803 - binary_accuracy: 0.7187 - auc: 0.5989 - val_loss: 0.5705 - val_binary_accuracy: 0.7262 - val_auc: 0.6039\n",
            "Epoch 5/500\n",
            "3103/3103 [==============================] - 9s 3ms/step - loss: 0.5751 - binary_accuracy: 0.7219 - auc: 0.6046 - val_loss: 0.5713 - val_binary_accuracy: 0.7259 - val_auc: 0.6041\n",
            "Epoch 6/500\n",
            "3103/3103 [==============================] - 9s 3ms/step - loss: 0.5778 - binary_accuracy: 0.7204 - auc: 0.6008 - val_loss: 0.5749 - val_binary_accuracy: 0.7259 - val_auc: 0.6041\n",
            "Epoch 7/500\n",
            "3103/3103 [==============================] - 9s 3ms/step - loss: 0.5725 - binary_accuracy: 0.7250 - auc: 0.6030 - val_loss: 0.5739 - val_binary_accuracy: 0.7259 - val_auc: 0.6041\n",
            "Epoch 8/500\n",
            "3103/3103 [==============================] - 9s 3ms/step - loss: 0.5773 - binary_accuracy: 0.7193 - auc: 0.6039 - val_loss: 0.5779 - val_binary_accuracy: 0.7263 - val_auc: 0.6042\n",
            "Epoch 9/500\n",
            "3103/3103 [==============================] - 9s 3ms/step - loss: 0.5752 - binary_accuracy: 0.7223 - auc: 0.6046 - val_loss: 0.5766 - val_binary_accuracy: 0.7259 - val_auc: 0.6041\n",
            "Epoch 10/500\n",
            "3103/3103 [==============================] - 9s 3ms/step - loss: 0.5798 - binary_accuracy: 0.7176 - auc: 0.5974 - val_loss: 0.5752 - val_binary_accuracy: 0.7253 - val_auc: 0.6016\n",
            "Epoch 11/500\n",
            "3103/3103 [==============================] - 9s 3ms/step - loss: 0.5774 - binary_accuracy: 0.7199 - auc: 0.5984 - val_loss: 0.5712 - val_binary_accuracy: 0.7260 - val_auc: 0.6041\n",
            "Epoch 12/500\n",
            "3103/3103 [==============================] - 10s 3ms/step - loss: 0.5788 - binary_accuracy: 0.7186 - auc: 0.6036 - val_loss: 0.5692 - val_binary_accuracy: 0.7260 - val_auc: 0.6039\n",
            "Epoch 13/500\n",
            "3103/3103 [==============================] - 9s 3ms/step - loss: 0.5770 - binary_accuracy: 0.7207 - auc: 0.6022 - val_loss: 0.5841 - val_binary_accuracy: 0.7261 - val_auc: 0.6035\n",
            "Epoch 14/500\n",
            "3103/3103 [==============================] - 9s 3ms/step - loss: 0.5754 - binary_accuracy: 0.7230 - auc: 0.6023 - val_loss: 0.5721 - val_binary_accuracy: 0.7261 - val_auc: 0.6042\n",
            "Epoch 15/500\n",
            "3103/3103 [==============================] - 10s 3ms/step - loss: 0.5754 - binary_accuracy: 0.7226 - auc: 0.6009 - val_loss: 0.5753 - val_binary_accuracy: 0.7260 - val_auc: 0.6039\n",
            "Epoch 16/500\n",
            "3103/3103 [==============================] - 10s 3ms/step - loss: 0.5758 - binary_accuracy: 0.7192 - auc: 0.5981 - val_loss: 0.5768 - val_binary_accuracy: 0.7204 - val_auc: 0.5925\n",
            "Epoch 17/500\n",
            "3103/3103 [==============================] - 10s 3ms/step - loss: 0.5783 - binary_accuracy: 0.7226 - auc: 0.5978 - val_loss: 0.5720 - val_binary_accuracy: 0.7263 - val_auc: 0.6040\n",
            "Epoch 18/500\n",
            "3103/3103 [==============================] - 9s 3ms/step - loss: 0.5757 - binary_accuracy: 0.7209 - auc: 0.6004 - val_loss: 0.5768 - val_binary_accuracy: 0.7260 - val_auc: 0.6038\n",
            "Epoch 19/500\n",
            "3103/3103 [==============================] - 10s 3ms/step - loss: 0.5756 - binary_accuracy: 0.7196 - auc: 0.6064 - val_loss: 0.5707 - val_binary_accuracy: 0.7260 - val_auc: 0.6040\n",
            "Epoch 20/500\n",
            "3103/3103 [==============================] - 9s 3ms/step - loss: 0.5808 - binary_accuracy: 0.7156 - auc: 0.6018 - val_loss: 0.5695 - val_binary_accuracy: 0.7256 - val_auc: 0.6031\n",
            "Epoch 21/500\n",
            "3103/3103 [==============================] - 9s 3ms/step - loss: 0.5770 - binary_accuracy: 0.7198 - auc: 0.6011 - val_loss: 0.5710 - val_binary_accuracy: 0.7260 - val_auc: 0.6041\n",
            "Epoch 22/500\n",
            "3103/3103 [==============================] - 9s 3ms/step - loss: 0.5778 - binary_accuracy: 0.7210 - auc: 0.6006 - val_loss: 0.5725 - val_binary_accuracy: 0.7261 - val_auc: 0.6036\n",
            "Epoch 23/500\n",
            "3103/3103 [==============================] - 9s 3ms/step - loss: 0.5757 - binary_accuracy: 0.7224 - auc: 0.5998 - val_loss: 0.5781 - val_binary_accuracy: 0.7259 - val_auc: 0.6027\n",
            "Epoch 24/500\n",
            "3103/3103 [==============================] - 9s 3ms/step - loss: 0.5772 - binary_accuracy: 0.7184 - auc: 0.6078 - val_loss: 0.5749 - val_binary_accuracy: 0.7262 - val_auc: 0.6042\n",
            "Epoch 25/500\n",
            "3103/3103 [==============================] - 9s 3ms/step - loss: 0.5710 - binary_accuracy: 0.7265 - auc: 0.6011 - val_loss: 0.5702 - val_binary_accuracy: 0.7259 - val_auc: 0.6036\n",
            "Epoch 26/500\n",
            "3103/3103 [==============================] - 9s 3ms/step - loss: 0.5767 - binary_accuracy: 0.7211 - auc: 0.6013 - val_loss: 0.5744 - val_binary_accuracy: 0.7261 - val_auc: 0.6041\n",
            "Epoch 27/500\n",
            "3103/3103 [==============================] - 10s 3ms/step - loss: 0.5735 - binary_accuracy: 0.7242 - auc: 0.6024 - val_loss: 0.5720 - val_binary_accuracy: 0.7252 - val_auc: 0.6024\n",
            "Epoch 28/500\n",
            "3103/3103 [==============================] - 9s 3ms/step - loss: 0.5766 - binary_accuracy: 0.7198 - auc: 0.6000 - val_loss: 0.5740 - val_binary_accuracy: 0.7258 - val_auc: 0.6034\n",
            "Epoch 29/500\n",
            "3103/3103 [==============================] - 9s 3ms/step - loss: 0.5729 - binary_accuracy: 0.7222 - auc: 0.6086 - val_loss: 0.5732 - val_binary_accuracy: 0.7263 - val_auc: 0.6040\n",
            "Epoch 30/500\n",
            "3103/3103 [==============================] - 9s 3ms/step - loss: 0.5752 - binary_accuracy: 0.7225 - auc: 0.6023 - val_loss: 0.5707 - val_binary_accuracy: 0.7251 - val_auc: 0.6021\n",
            "Epoch 31/500\n",
            "3103/3103 [==============================] - 9s 3ms/step - loss: 0.5757 - binary_accuracy: 0.7220 - auc: 0.6021 - val_loss: 0.5704 - val_binary_accuracy: 0.7255 - val_auc: 0.6026\n",
            "Epoch 32/500\n",
            "3103/3103 [==============================] - 10s 3ms/step - loss: 0.5726 - binary_accuracy: 0.7235 - auc: 0.6002 - val_loss: 0.5758 - val_binary_accuracy: 0.7261 - val_auc: 0.6039\n",
            "Epoch 33/500\n",
            "3103/3103 [==============================] - 9s 3ms/step - loss: 0.5748 - binary_accuracy: 0.7220 - auc: 0.5972 - val_loss: 0.5692 - val_binary_accuracy: 0.7259 - val_auc: 0.6040\n"
          ],
          "name": "stdout"
        }
      ]
    },
    {
      "cell_type": "code",
      "metadata": {
        "colab": {
          "base_uri": "https://localhost:8080/",
          "height": 277
        },
        "id": "QEylyqAB1U4T",
        "outputId": "41634cce-9f3e-4c9a-f70c-773a70beb09c"
      },
      "source": [
        "history_df = pd.DataFrame(history.history)\n",
        "\n",
        "history_df.describe()"
      ],
      "execution_count": 7,
      "outputs": [
        {
          "output_type": "execute_result",
          "data": {
            "text/html": [
              "<div>\n",
              "<style scoped>\n",
              "    .dataframe tbody tr th:only-of-type {\n",
              "        vertical-align: middle;\n",
              "    }\n",
              "\n",
              "    .dataframe tbody tr th {\n",
              "        vertical-align: top;\n",
              "    }\n",
              "\n",
              "    .dataframe thead th {\n",
              "        text-align: right;\n",
              "    }\n",
              "</style>\n",
              "<table border=\"1\" class=\"dataframe\">\n",
              "  <thead>\n",
              "    <tr style=\"text-align: right;\">\n",
              "      <th></th>\n",
              "      <th>loss</th>\n",
              "      <th>binary_accuracy</th>\n",
              "      <th>auc</th>\n",
              "      <th>val_loss</th>\n",
              "      <th>val_binary_accuracy</th>\n",
              "      <th>val_auc</th>\n",
              "    </tr>\n",
              "  </thead>\n",
              "  <tbody>\n",
              "    <tr>\n",
              "      <th>count</th>\n",
              "      <td>33.000000</td>\n",
              "      <td>33.000000</td>\n",
              "      <td>33.000000</td>\n",
              "      <td>33.000000</td>\n",
              "      <td>33.000000</td>\n",
              "      <td>33.000000</td>\n",
              "    </tr>\n",
              "    <tr>\n",
              "      <th>mean</th>\n",
              "      <td>0.576515</td>\n",
              "      <td>0.720969</td>\n",
              "      <td>0.603995</td>\n",
              "      <td>0.573739</td>\n",
              "      <td>0.725738</td>\n",
              "      <td>0.603285</td>\n",
              "    </tr>\n",
              "    <tr>\n",
              "      <th>std</th>\n",
              "      <td>0.002987</td>\n",
              "      <td>0.001208</td>\n",
              "      <td>0.002012</td>\n",
              "      <td>0.003467</td>\n",
              "      <td>0.001001</td>\n",
              "      <td>0.002047</td>\n",
              "    </tr>\n",
              "    <tr>\n",
              "      <th>min</th>\n",
              "      <td>0.574497</td>\n",
              "      <td>0.714691</td>\n",
              "      <td>0.599421</td>\n",
              "      <td>0.569197</td>\n",
              "      <td>0.720395</td>\n",
              "      <td>0.592495</td>\n",
              "    </tr>\n",
              "    <tr>\n",
              "      <th>25%</th>\n",
              "      <td>0.575406</td>\n",
              "      <td>0.721051</td>\n",
              "      <td>0.602567</td>\n",
              "      <td>0.570966</td>\n",
              "      <td>0.725860</td>\n",
              "      <td>0.603430</td>\n",
              "    </tr>\n",
              "    <tr>\n",
              "      <th>50%</th>\n",
              "      <td>0.575963</td>\n",
              "      <td>0.721223</td>\n",
              "      <td>0.604172</td>\n",
              "      <td>0.573222</td>\n",
              "      <td>0.725960</td>\n",
              "      <td>0.603901</td>\n",
              "    </tr>\n",
              "    <tr>\n",
              "      <th>75%</th>\n",
              "      <td>0.576398</td>\n",
              "      <td>0.721395</td>\n",
              "      <td>0.605684</td>\n",
              "      <td>0.575340</td>\n",
              "      <td>0.726060</td>\n",
              "      <td>0.604055</td>\n",
              "    </tr>\n",
              "    <tr>\n",
              "      <th>max</th>\n",
              "      <td>0.591935</td>\n",
              "      <td>0.721825</td>\n",
              "      <td>0.608409</td>\n",
              "      <td>0.584090</td>\n",
              "      <td>0.726261</td>\n",
              "      <td>0.604168</td>\n",
              "    </tr>\n",
              "  </tbody>\n",
              "</table>\n",
              "</div>"
            ],
            "text/plain": [
              "            loss  binary_accuracy  ...  val_binary_accuracy    val_auc\n",
              "count  33.000000        33.000000  ...            33.000000  33.000000\n",
              "mean    0.576515         0.720969  ...             0.725738   0.603285\n",
              "std     0.002987         0.001208  ...             0.001001   0.002047\n",
              "min     0.574497         0.714691  ...             0.720395   0.592495\n",
              "25%     0.575406         0.721051  ...             0.725860   0.603430\n",
              "50%     0.575963         0.721223  ...             0.725960   0.603901\n",
              "75%     0.576398         0.721395  ...             0.726060   0.604055\n",
              "max     0.591935         0.721825  ...             0.726261   0.604168\n",
              "\n",
              "[8 rows x 6 columns]"
            ]
          },
          "metadata": {
            "tags": []
          },
          "execution_count": 7
        }
      ]
    },
    {
      "cell_type": "code",
      "metadata": {
        "colab": {
          "base_uri": "https://localhost:8080/"
        },
        "id": "2rXapaDp1U2O",
        "outputId": "92bf2e6b-f17b-4008-fc9d-e1a1e2782d82"
      },
      "source": [
        "train_acc = table5_nn.evaluate(train_X, train_y)\n",
        "test_acc = table5_nn.evaluate(val_X, val_y)"
      ],
      "execution_count": 8,
      "outputs": [
        {
          "output_type": "stream",
          "text": [
            "2078/2078 [==============================] - 3s 1ms/step - loss: 0.5806 - binary_accuracy: 0.7232 - auc: 0.6051\n",
            "693/693 [==============================] - 1s 1ms/step - loss: 0.5793 - binary_accuracy: 0.7247 - auc: 0.6067\n"
          ],
          "name": "stdout"
        }
      ]
    },
    {
      "cell_type": "code",
      "metadata": {
        "colab": {
          "base_uri": "https://localhost:8080/"
        },
        "id": "5ADQEBa41Uz5",
        "outputId": "5dd4999a-717f-4393-bc34-af59a8c53747"
      },
      "source": [
        "dict(zip(table5_nn.metrics_names, test_acc))"
      ],
      "execution_count": 9,
      "outputs": [
        {
          "output_type": "execute_result",
          "data": {
            "text/plain": [
              "{'auc': 0.6067444682121277,\n",
              " 'binary_accuracy': 0.7246638536453247,\n",
              " 'loss': 0.5793137550354004}"
            ]
          },
          "metadata": {
            "tags": []
          },
          "execution_count": 9
        }
      ]
    },
    {
      "cell_type": "code",
      "metadata": {
        "colab": {
          "base_uri": "https://localhost:8080/",
          "height": 281
        },
        "id": "3UfuVOqb1xJ1",
        "outputId": "70587b92-9072-44d8-c1f9-228dd6ab1bc0"
      },
      "source": [
        "history_df.loc[:, ['loss', 'val_loss']].plot();\n",
        "print(\"Minimum validation loss (binary_crossentropy): {}\".format(history_df['val_loss'].min()))"
      ],
      "execution_count": 10,
      "outputs": [
        {
          "output_type": "stream",
          "text": [
            "Minimum validation loss (binary_crossentropy): 0.5691965222358704\n"
          ],
          "name": "stdout"
        },
        {
          "output_type": "display_data",
          "data": {
            "image/png": "[encoded data removed]",
            "text/plain": [
              "<Figure size 432x288 with 1 Axes>"
            ]
          },
          "metadata": {
            "tags": [],
            "needs_background": "light"
          }
        }
      ]
    },
    {
      "cell_type": "code",
      "metadata": {
        "colab": {
          "base_uri": "https://localhost:8080/",
          "height": 281
        },
        "id": "aT57qZ5W1xHc",
        "outputId": "ab76967b-d502-431d-c275-befaa5e546bf"
      },
      "source": [
        "history_df.loc[:, ['auc', 'val_auc']].plot();\n",
        "print(\"Maximum AUC: {}\".format(history_df['val_auc'].max()))"
      ],
      "execution_count": 11,
      "outputs": [
        {
          "output_type": "stream",
          "text": [
            "Maximum AUC: 0.6041678190231323\n"
          ],
          "name": "stdout"
        },
        {
          "output_type": "display_data",
          "data": {
            "image/png": "[encoded data removed]",
            "text/plain": [
              "<Figure size 432x288 with 1 Axes>"
            ]
          },
          "metadata": {
            "tags": [],
            "needs_background": "light"
          }
        }
      ]
    },
    {
      "cell_type": "code",
      "metadata": {
        "colab": {
          "base_uri": "https://localhost:8080/",
          "height": 281
        },
        "id": "kOu5es-F1xE-",
        "outputId": "17af5e07-168b-4c36-f223-e8a647e8a3d8"
      },
      "source": [
        "history_df.loc[:, ['binary_accuracy', 'val_binary_accuracy']].plot();\n",
        "print(\"Maximum validation binary accuracy: {}\".format(history_df['val_binary_accuracy'].max()))"
      ],
      "execution_count": 12,
      "outputs": [
        {
          "output_type": "stream",
          "text": [
            "Maximum validation binary accuracy: 0.7262609004974365\n"
          ],
          "name": "stdout"
        },
        {
          "output_type": "display_data",
          "data": {
            "image/png": "[encoded data removed]",
            "text/plain": [
              "<Figure size 432x288 with 1 Axes>"
            ]
          },
          "metadata": {
            "tags": [],
            "needs_background": "light"
          }
        }
      ]
    },
    {
      "cell_type": "code",
      "metadata": {
        "colab": {
          "base_uri": "https://localhost:8080/"
        },
        "id": "0Z1xGJNl1xCc",
        "outputId": "a7305469-9ae2-475c-eb61-1199cfa72efb"
      },
      "source": [
        "preds1 = table5_nn.predict(val_X)\n",
        "preds1"
      ],
      "execution_count": 13,
      "outputs": [
        {
          "output_type": "execute_result",
          "data": {
            "text/plain": [
              "array([[0.27476954],\n",
              "       [0.27476954],\n",
              "       [0.27476954],\n",
              "       ...,\n",
              "       [0.27476954],\n",
              "       [0.27476954],\n",
              "       [0.27476954]], dtype=float32)"
            ]
          },
          "metadata": {
            "tags": []
          },
          "execution_count": 13
        }
      ]
    },
    {
      "cell_type": "code",
      "metadata": {
        "colab": {
          "base_uri": "https://localhost:8080/"
        },
        "id": "VjJXhtRp1w-H",
        "outputId": "83059b12-b63e-47a6-cb7b-c494b36ca94d"
      },
      "source": [
        "len(preds1[preds1 < 0.5])"
      ],
      "execution_count": 14,
      "outputs": [
        {
          "output_type": "execute_result",
          "data": {
            "text/plain": [
              "20327"
            ]
          },
          "metadata": {
            "tags": []
          },
          "execution_count": 14
        }
      ]
    },
    {
      "cell_type": "code",
      "metadata": {
        "colab": {
          "base_uri": "https://localhost:8080/"
        },
        "id": "lH9o4roL1-mQ",
        "outputId": "f74e7166-9de3-49fb-9204-cc99b7697f89"
      },
      "source": [
        "len(preds1[preds1 >= 0.5])"
      ],
      "execution_count": 15,
      "outputs": [
        {
          "output_type": "execute_result",
          "data": {
            "text/plain": [
              "1835"
            ]
          },
          "metadata": {
            "tags": []
          },
          "execution_count": 15
        }
      ]
    },
    {
      "cell_type": "code",
      "metadata": {
        "colab": {
          "base_uri": "https://localhost:8080/"
        },
        "id": "JmjS9QFa2Amb",
        "outputId": "a8cfa219-f7bd-4254-ef48-cba0e6a34610"
      },
      "source": [
        "len(val_y)"
      ],
      "execution_count": 16,
      "outputs": [
        {
          "output_type": "execute_result",
          "data": {
            "text/plain": [
              "22162"
            ]
          },
          "metadata": {
            "tags": []
          },
          "execution_count": 16
        }
      ]
    },
    {
      "cell_type": "code",
      "metadata": {
        "colab": {
          "base_uri": "https://localhost:8080/"
        },
        "id": "-N8dbO1dpUt8",
        "outputId": "36bddb29-ea82-422c-d0fd-861bb68b9fba"
      },
      "source": [
        "pred_classes = np.argmax(preds1, axis=1)\n",
        "\n",
        "from sklearn.metrics import confusion_matrix\n",
        "cm = confusion_matrix(val_y, pred_classes)\n",
        "print(cm)"
      ],
      "execution_count": 17,
      "outputs": [
        {
          "output_type": "stream",
          "text": [
            "[[14519     0]\n",
            " [ 7643     0]]\n"
          ],
          "name": "stdout"
        }
      ]
    }
  ]
}