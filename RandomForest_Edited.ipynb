{
 "cells": [
  {
   "cell_type": "code",
   "execution_count": 1,
   "metadata": {},
   "outputs": [
    {
     "data": {
      "text/plain": [
       "'C:\\\\Users\\\\Indyscout\\\\Documents\\\\Masters_Program\\\\SECURITY2.0\\\\CYBRProejct'"
      ]
     },
     "execution_count": 1,
     "metadata": {},
     "output_type": "execute_result"
    }
   ],
   "source": [
    "import pandas as pd\n",
    "import sklearn\n",
    "import numpy as np\n",
    "import math\n",
    "import os\n",
    "\n",
    "os.getcwd()"
   ]
  },
  {
   "cell_type": "code",
   "execution_count": 2,
   "metadata": {
    "scrolled": true
   },
   "outputs": [
    {
     "data": {
      "text/html": [
       "<div>\n",
       "<style scoped>\n",
       "    .dataframe tbody tr th:only-of-type {\n",
       "        vertical-align: middle;\n",
       "    }\n",
       "\n",
       "    .dataframe tbody tr th {\n",
       "        vertical-align: top;\n",
       "    }\n",
       "\n",
       "    .dataframe thead th {\n",
       "        text-align: right;\n",
       "    }\n",
       "</style>\n",
       "<table border=\"1\" class=\"dataframe\">\n",
       "  <thead>\n",
       "    <tr style=\"text-align: right;\">\n",
       "      <th></th>\n",
       "      <th>qty_dot_url</th>\n",
       "      <th>qty_hyphen_url</th>\n",
       "      <th>qty_underline_url</th>\n",
       "      <th>qty_slash_url</th>\n",
       "      <th>qty_questionmark_url</th>\n",
       "      <th>qty_equal_url</th>\n",
       "      <th>qty_at_url</th>\n",
       "      <th>qty_and_url</th>\n",
       "      <th>qty_exclamation_url</th>\n",
       "      <th>qty_space_url</th>\n",
       "      <th>...</th>\n",
       "      <th>qty_ip_resolved</th>\n",
       "      <th>qty_nameservers</th>\n",
       "      <th>qty_mx_servers</th>\n",
       "      <th>ttl_hostname</th>\n",
       "      <th>tls_ssl_certificate</th>\n",
       "      <th>qty_redirects</th>\n",
       "      <th>url_google_index</th>\n",
       "      <th>domain_google_index</th>\n",
       "      <th>url_shortened</th>\n",
       "      <th>phishing</th>\n",
       "    </tr>\n",
       "  </thead>\n",
       "  <tbody>\n",
       "    <tr>\n",
       "      <th>0</th>\n",
       "      <td>3</td>\n",
       "      <td>0</td>\n",
       "      <td>0</td>\n",
       "      <td>1</td>\n",
       "      <td>0</td>\n",
       "      <td>0</td>\n",
       "      <td>0</td>\n",
       "      <td>0</td>\n",
       "      <td>0</td>\n",
       "      <td>0</td>\n",
       "      <td>...</td>\n",
       "      <td>1</td>\n",
       "      <td>2</td>\n",
       "      <td>0</td>\n",
       "      <td>892</td>\n",
       "      <td>0</td>\n",
       "      <td>0</td>\n",
       "      <td>0</td>\n",
       "      <td>0</td>\n",
       "      <td>0</td>\n",
       "      <td>1</td>\n",
       "    </tr>\n",
       "    <tr>\n",
       "      <th>1</th>\n",
       "      <td>5</td>\n",
       "      <td>0</td>\n",
       "      <td>1</td>\n",
       "      <td>3</td>\n",
       "      <td>0</td>\n",
       "      <td>3</td>\n",
       "      <td>0</td>\n",
       "      <td>2</td>\n",
       "      <td>0</td>\n",
       "      <td>0</td>\n",
       "      <td>...</td>\n",
       "      <td>1</td>\n",
       "      <td>2</td>\n",
       "      <td>1</td>\n",
       "      <td>9540</td>\n",
       "      <td>1</td>\n",
       "      <td>0</td>\n",
       "      <td>0</td>\n",
       "      <td>0</td>\n",
       "      <td>0</td>\n",
       "      <td>1</td>\n",
       "    </tr>\n",
       "    <tr>\n",
       "      <th>2</th>\n",
       "      <td>2</td>\n",
       "      <td>0</td>\n",
       "      <td>0</td>\n",
       "      <td>1</td>\n",
       "      <td>0</td>\n",
       "      <td>0</td>\n",
       "      <td>0</td>\n",
       "      <td>0</td>\n",
       "      <td>0</td>\n",
       "      <td>0</td>\n",
       "      <td>...</td>\n",
       "      <td>1</td>\n",
       "      <td>2</td>\n",
       "      <td>3</td>\n",
       "      <td>589</td>\n",
       "      <td>1</td>\n",
       "      <td>0</td>\n",
       "      <td>0</td>\n",
       "      <td>0</td>\n",
       "      <td>0</td>\n",
       "      <td>0</td>\n",
       "    </tr>\n",
       "    <tr>\n",
       "      <th>3</th>\n",
       "      <td>4</td>\n",
       "      <td>0</td>\n",
       "      <td>2</td>\n",
       "      <td>5</td>\n",
       "      <td>0</td>\n",
       "      <td>0</td>\n",
       "      <td>0</td>\n",
       "      <td>0</td>\n",
       "      <td>0</td>\n",
       "      <td>0</td>\n",
       "      <td>...</td>\n",
       "      <td>1</td>\n",
       "      <td>2</td>\n",
       "      <td>0</td>\n",
       "      <td>292</td>\n",
       "      <td>1</td>\n",
       "      <td>0</td>\n",
       "      <td>0</td>\n",
       "      <td>0</td>\n",
       "      <td>0</td>\n",
       "      <td>1</td>\n",
       "    </tr>\n",
       "    <tr>\n",
       "      <th>4</th>\n",
       "      <td>2</td>\n",
       "      <td>0</td>\n",
       "      <td>0</td>\n",
       "      <td>0</td>\n",
       "      <td>0</td>\n",
       "      <td>0</td>\n",
       "      <td>0</td>\n",
       "      <td>0</td>\n",
       "      <td>0</td>\n",
       "      <td>0</td>\n",
       "      <td>...</td>\n",
       "      <td>1</td>\n",
       "      <td>2</td>\n",
       "      <td>1</td>\n",
       "      <td>3597</td>\n",
       "      <td>0</td>\n",
       "      <td>1</td>\n",
       "      <td>0</td>\n",
       "      <td>0</td>\n",
       "      <td>0</td>\n",
       "      <td>0</td>\n",
       "    </tr>\n",
       "  </tbody>\n",
       "</table>\n",
       "<p>5 rows × 112 columns</p>\n",
       "</div>"
      ],
      "text/plain": [
       "   qty_dot_url  qty_hyphen_url  qty_underline_url  qty_slash_url  \\\n",
       "0            3               0                  0              1   \n",
       "1            5               0                  1              3   \n",
       "2            2               0                  0              1   \n",
       "3            4               0                  2              5   \n",
       "4            2               0                  0              0   \n",
       "\n",
       "   qty_questionmark_url  qty_equal_url  qty_at_url  qty_and_url  \\\n",
       "0                     0              0           0            0   \n",
       "1                     0              3           0            2   \n",
       "2                     0              0           0            0   \n",
       "3                     0              0           0            0   \n",
       "4                     0              0           0            0   \n",
       "\n",
       "   qty_exclamation_url  qty_space_url  ...  qty_ip_resolved  qty_nameservers  \\\n",
       "0                    0              0  ...                1                2   \n",
       "1                    0              0  ...                1                2   \n",
       "2                    0              0  ...                1                2   \n",
       "3                    0              0  ...                1                2   \n",
       "4                    0              0  ...                1                2   \n",
       "\n",
       "   qty_mx_servers  ttl_hostname  tls_ssl_certificate  qty_redirects  \\\n",
       "0               0           892                    0              0   \n",
       "1               1          9540                    1              0   \n",
       "2               3           589                    1              0   \n",
       "3               0           292                    1              0   \n",
       "4               1          3597                    0              1   \n",
       "\n",
       "   url_google_index  domain_google_index  url_shortened  phishing  \n",
       "0                 0                    0              0         1  \n",
       "1                 0                    0              0         1  \n",
       "2                 0                    0              0         0  \n",
       "3                 0                    0              0         1  \n",
       "4                 0                    0              0         0  \n",
       "\n",
       "[5 rows x 112 columns]"
      ]
     },
     "execution_count": 2,
     "metadata": {},
     "output_type": "execute_result"
    }
   ],
   "source": [
    "dataRaw = pd.read_csv('https://raw.githubusercontent.com/jwaldroop/phishing-url-project/main/dataset_full.csv')\n",
    "dataRaw.head()"
   ]
  },
  {
   "cell_type": "code",
   "execution_count": 3,
   "metadata": {},
   "outputs": [
    {
     "data": {
      "text/plain": [
       "(88647, 112)"
      ]
     },
     "execution_count": 3,
     "metadata": {},
     "output_type": "execute_result"
    }
   ],
   "source": [
    "dataRaw.shape"
   ]
  },
  {
   "cell_type": "code",
   "execution_count": 4,
   "metadata": {},
   "outputs": [
    {
     "data": {
      "text/html": [
       "<div>\n",
       "<style scoped>\n",
       "    .dataframe tbody tr th:only-of-type {\n",
       "        vertical-align: middle;\n",
       "    }\n",
       "\n",
       "    .dataframe tbody tr th {\n",
       "        vertical-align: top;\n",
       "    }\n",
       "\n",
       "    .dataframe thead th {\n",
       "        text-align: right;\n",
       "    }\n",
       "</style>\n",
       "<table border=\"1\" class=\"dataframe\">\n",
       "  <thead>\n",
       "    <tr style=\"text-align: right;\">\n",
       "      <th></th>\n",
       "      <th>qty_dot_url</th>\n",
       "      <th>qty_hyphen_url</th>\n",
       "      <th>qty_underline_url</th>\n",
       "      <th>qty_slash_url</th>\n",
       "      <th>qty_questionmark_url</th>\n",
       "      <th>qty_equal_url</th>\n",
       "      <th>qty_at_url</th>\n",
       "      <th>qty_and_url</th>\n",
       "      <th>qty_exclamation_url</th>\n",
       "      <th>qty_space_url</th>\n",
       "      <th>...</th>\n",
       "      <th>qty_ip_resolved</th>\n",
       "      <th>qty_nameservers</th>\n",
       "      <th>qty_mx_servers</th>\n",
       "      <th>ttl_hostname</th>\n",
       "      <th>tls_ssl_certificate</th>\n",
       "      <th>qty_redirects</th>\n",
       "      <th>url_google_index</th>\n",
       "      <th>domain_google_index</th>\n",
       "      <th>url_shortened</th>\n",
       "      <th>phishing</th>\n",
       "    </tr>\n",
       "  </thead>\n",
       "  <tbody>\n",
       "    <tr>\n",
       "      <th>count</th>\n",
       "      <td>88647.000000</td>\n",
       "      <td>88647.000000</td>\n",
       "      <td>88647.000000</td>\n",
       "      <td>88647.000000</td>\n",
       "      <td>88647.000000</td>\n",
       "      <td>88647.000000</td>\n",
       "      <td>88647.000000</td>\n",
       "      <td>88647.000000</td>\n",
       "      <td>88647.000000</td>\n",
       "      <td>88647.000000</td>\n",
       "      <td>...</td>\n",
       "      <td>88647.000000</td>\n",
       "      <td>88647.000000</td>\n",
       "      <td>88647.000000</td>\n",
       "      <td>88647.000000</td>\n",
       "      <td>88647.000000</td>\n",
       "      <td>88647.000000</td>\n",
       "      <td>88647.00000</td>\n",
       "      <td>88647.000000</td>\n",
       "      <td>88647.000000</td>\n",
       "      <td>88647.000000</td>\n",
       "    </tr>\n",
       "    <tr>\n",
       "      <th>mean</th>\n",
       "      <td>2.191343</td>\n",
       "      <td>0.328810</td>\n",
       "      <td>0.113879</td>\n",
       "      <td>1.281781</td>\n",
       "      <td>0.009329</td>\n",
       "      <td>0.205861</td>\n",
       "      <td>0.022133</td>\n",
       "      <td>0.140885</td>\n",
       "      <td>0.002944</td>\n",
       "      <td>0.001015</td>\n",
       "      <td>...</td>\n",
       "      <td>1.136564</td>\n",
       "      <td>2.772412</td>\n",
       "      <td>1.742428</td>\n",
       "      <td>6159.877514</td>\n",
       "      <td>0.506447</td>\n",
       "      <td>0.343903</td>\n",
       "      <td>0.00141</td>\n",
       "      <td>0.002019</td>\n",
       "      <td>0.005482</td>\n",
       "      <td>0.345720</td>\n",
       "    </tr>\n",
       "    <tr>\n",
       "      <th>std</th>\n",
       "      <td>1.235636</td>\n",
       "      <td>1.119286</td>\n",
       "      <td>0.657767</td>\n",
       "      <td>1.893929</td>\n",
       "      <td>0.112568</td>\n",
       "      <td>0.954272</td>\n",
       "      <td>0.279652</td>\n",
       "      <td>0.924864</td>\n",
       "      <td>0.087341</td>\n",
       "      <td>0.072653</td>\n",
       "      <td>...</td>\n",
       "      <td>0.895146</td>\n",
       "      <td>1.322999</td>\n",
       "      <td>1.706705</td>\n",
       "      <td>11465.583810</td>\n",
       "      <td>0.499961</td>\n",
       "      <td>0.783892</td>\n",
       "      <td>0.05864</td>\n",
       "      <td>0.063250</td>\n",
       "      <td>0.073841</td>\n",
       "      <td>0.475605</td>\n",
       "    </tr>\n",
       "    <tr>\n",
       "      <th>min</th>\n",
       "      <td>1.000000</td>\n",
       "      <td>0.000000</td>\n",
       "      <td>0.000000</td>\n",
       "      <td>0.000000</td>\n",
       "      <td>0.000000</td>\n",
       "      <td>0.000000</td>\n",
       "      <td>0.000000</td>\n",
       "      <td>0.000000</td>\n",
       "      <td>0.000000</td>\n",
       "      <td>0.000000</td>\n",
       "      <td>...</td>\n",
       "      <td>-1.000000</td>\n",
       "      <td>0.000000</td>\n",
       "      <td>0.000000</td>\n",
       "      <td>-1.000000</td>\n",
       "      <td>0.000000</td>\n",
       "      <td>-1.000000</td>\n",
       "      <td>-1.00000</td>\n",
       "      <td>-1.000000</td>\n",
       "      <td>0.000000</td>\n",
       "      <td>0.000000</td>\n",
       "    </tr>\n",
       "    <tr>\n",
       "      <th>25%</th>\n",
       "      <td>2.000000</td>\n",
       "      <td>0.000000</td>\n",
       "      <td>0.000000</td>\n",
       "      <td>0.000000</td>\n",
       "      <td>0.000000</td>\n",
       "      <td>0.000000</td>\n",
       "      <td>0.000000</td>\n",
       "      <td>0.000000</td>\n",
       "      <td>0.000000</td>\n",
       "      <td>0.000000</td>\n",
       "      <td>...</td>\n",
       "      <td>1.000000</td>\n",
       "      <td>2.000000</td>\n",
       "      <td>1.000000</td>\n",
       "      <td>292.000000</td>\n",
       "      <td>0.000000</td>\n",
       "      <td>0.000000</td>\n",
       "      <td>0.00000</td>\n",
       "      <td>0.000000</td>\n",
       "      <td>0.000000</td>\n",
       "      <td>0.000000</td>\n",
       "    </tr>\n",
       "    <tr>\n",
       "      <th>50%</th>\n",
       "      <td>2.000000</td>\n",
       "      <td>0.000000</td>\n",
       "      <td>0.000000</td>\n",
       "      <td>0.000000</td>\n",
       "      <td>0.000000</td>\n",
       "      <td>0.000000</td>\n",
       "      <td>0.000000</td>\n",
       "      <td>0.000000</td>\n",
       "      <td>0.000000</td>\n",
       "      <td>0.000000</td>\n",
       "      <td>...</td>\n",
       "      <td>1.000000</td>\n",
       "      <td>2.000000</td>\n",
       "      <td>1.000000</td>\n",
       "      <td>2029.000000</td>\n",
       "      <td>1.000000</td>\n",
       "      <td>0.000000</td>\n",
       "      <td>0.00000</td>\n",
       "      <td>0.000000</td>\n",
       "      <td>0.000000</td>\n",
       "      <td>0.000000</td>\n",
       "    </tr>\n",
       "    <tr>\n",
       "      <th>75%</th>\n",
       "      <td>2.000000</td>\n",
       "      <td>0.000000</td>\n",
       "      <td>0.000000</td>\n",
       "      <td>2.000000</td>\n",
       "      <td>0.000000</td>\n",
       "      <td>0.000000</td>\n",
       "      <td>0.000000</td>\n",
       "      <td>0.000000</td>\n",
       "      <td>0.000000</td>\n",
       "      <td>0.000000</td>\n",
       "      <td>...</td>\n",
       "      <td>1.000000</td>\n",
       "      <td>4.000000</td>\n",
       "      <td>2.000000</td>\n",
       "      <td>10798.000000</td>\n",
       "      <td>1.000000</td>\n",
       "      <td>1.000000</td>\n",
       "      <td>0.00000</td>\n",
       "      <td>0.000000</td>\n",
       "      <td>0.000000</td>\n",
       "      <td>1.000000</td>\n",
       "    </tr>\n",
       "    <tr>\n",
       "      <th>max</th>\n",
       "      <td>24.000000</td>\n",
       "      <td>35.000000</td>\n",
       "      <td>21.000000</td>\n",
       "      <td>44.000000</td>\n",
       "      <td>9.000000</td>\n",
       "      <td>23.000000</td>\n",
       "      <td>43.000000</td>\n",
       "      <td>26.000000</td>\n",
       "      <td>10.000000</td>\n",
       "      <td>9.000000</td>\n",
       "      <td>...</td>\n",
       "      <td>24.000000</td>\n",
       "      <td>20.000000</td>\n",
       "      <td>20.000000</td>\n",
       "      <td>604800.000000</td>\n",
       "      <td>1.000000</td>\n",
       "      <td>17.000000</td>\n",
       "      <td>1.00000</td>\n",
       "      <td>1.000000</td>\n",
       "      <td>1.000000</td>\n",
       "      <td>1.000000</td>\n",
       "    </tr>\n",
       "  </tbody>\n",
       "</table>\n",
       "<p>8 rows × 112 columns</p>\n",
       "</div>"
      ],
      "text/plain": [
       "        qty_dot_url  qty_hyphen_url  qty_underline_url  qty_slash_url  \\\n",
       "count  88647.000000    88647.000000       88647.000000   88647.000000   \n",
       "mean       2.191343        0.328810           0.113879       1.281781   \n",
       "std        1.235636        1.119286           0.657767       1.893929   \n",
       "min        1.000000        0.000000           0.000000       0.000000   \n",
       "25%        2.000000        0.000000           0.000000       0.000000   \n",
       "50%        2.000000        0.000000           0.000000       0.000000   \n",
       "75%        2.000000        0.000000           0.000000       2.000000   \n",
       "max       24.000000       35.000000          21.000000      44.000000   \n",
       "\n",
       "       qty_questionmark_url  qty_equal_url    qty_at_url   qty_and_url  \\\n",
       "count          88647.000000   88647.000000  88647.000000  88647.000000   \n",
       "mean               0.009329       0.205861      0.022133      0.140885   \n",
       "std                0.112568       0.954272      0.279652      0.924864   \n",
       "min                0.000000       0.000000      0.000000      0.000000   \n",
       "25%                0.000000       0.000000      0.000000      0.000000   \n",
       "50%                0.000000       0.000000      0.000000      0.000000   \n",
       "75%                0.000000       0.000000      0.000000      0.000000   \n",
       "max                9.000000      23.000000     43.000000     26.000000   \n",
       "\n",
       "       qty_exclamation_url  qty_space_url  ...  qty_ip_resolved  \\\n",
       "count         88647.000000   88647.000000  ...     88647.000000   \n",
       "mean              0.002944       0.001015  ...         1.136564   \n",
       "std               0.087341       0.072653  ...         0.895146   \n",
       "min               0.000000       0.000000  ...        -1.000000   \n",
       "25%               0.000000       0.000000  ...         1.000000   \n",
       "50%               0.000000       0.000000  ...         1.000000   \n",
       "75%               0.000000       0.000000  ...         1.000000   \n",
       "max              10.000000       9.000000  ...        24.000000   \n",
       "\n",
       "       qty_nameservers  qty_mx_servers   ttl_hostname  tls_ssl_certificate  \\\n",
       "count     88647.000000    88647.000000   88647.000000         88647.000000   \n",
       "mean          2.772412        1.742428    6159.877514             0.506447   \n",
       "std           1.322999        1.706705   11465.583810             0.499961   \n",
       "min           0.000000        0.000000      -1.000000             0.000000   \n",
       "25%           2.000000        1.000000     292.000000             0.000000   \n",
       "50%           2.000000        1.000000    2029.000000             1.000000   \n",
       "75%           4.000000        2.000000   10798.000000             1.000000   \n",
       "max          20.000000       20.000000  604800.000000             1.000000   \n",
       "\n",
       "       qty_redirects  url_google_index  domain_google_index  url_shortened  \\\n",
       "count   88647.000000       88647.00000         88647.000000   88647.000000   \n",
       "mean        0.343903           0.00141             0.002019       0.005482   \n",
       "std         0.783892           0.05864             0.063250       0.073841   \n",
       "min        -1.000000          -1.00000            -1.000000       0.000000   \n",
       "25%         0.000000           0.00000             0.000000       0.000000   \n",
       "50%         0.000000           0.00000             0.000000       0.000000   \n",
       "75%         1.000000           0.00000             0.000000       0.000000   \n",
       "max        17.000000           1.00000             1.000000       1.000000   \n",
       "\n",
       "           phishing  \n",
       "count  88647.000000  \n",
       "mean       0.345720  \n",
       "std        0.475605  \n",
       "min        0.000000  \n",
       "25%        0.000000  \n",
       "50%        0.000000  \n",
       "75%        1.000000  \n",
       "max        1.000000  \n",
       "\n",
       "[8 rows x 112 columns]"
      ]
     },
     "execution_count": 4,
     "metadata": {},
     "output_type": "execute_result"
    }
   ],
   "source": [
    "dataRaw.describe()"
   ]
  },
  {
   "cell_type": "code",
   "execution_count": 5,
   "metadata": {},
   "outputs": [
    {
     "data": {
      "text/html": [
       "<div>\n",
       "<style scoped>\n",
       "    .dataframe tbody tr th:only-of-type {\n",
       "        vertical-align: middle;\n",
       "    }\n",
       "\n",
       "    .dataframe tbody tr th {\n",
       "        vertical-align: top;\n",
       "    }\n",
       "\n",
       "    .dataframe thead th {\n",
       "        text-align: right;\n",
       "    }\n",
       "</style>\n",
       "<table border=\"1\" class=\"dataframe\">\n",
       "  <thead>\n",
       "    <tr style=\"text-align: right;\">\n",
       "      <th></th>\n",
       "      <th>qty_dot_url</th>\n",
       "      <th>qty_hyphen_url</th>\n",
       "      <th>qty_underline_url</th>\n",
       "      <th>qty_slash_url</th>\n",
       "      <th>qty_questionmark_url</th>\n",
       "      <th>qty_equal_url</th>\n",
       "      <th>qty_at_url</th>\n",
       "      <th>qty_and_url</th>\n",
       "      <th>qty_exclamation_url</th>\n",
       "      <th>qty_space_url</th>\n",
       "      <th>...</th>\n",
       "      <th>time_domain_expiration</th>\n",
       "      <th>qty_ip_resolved</th>\n",
       "      <th>qty_nameservers</th>\n",
       "      <th>qty_mx_servers</th>\n",
       "      <th>ttl_hostname</th>\n",
       "      <th>tls_ssl_certificate</th>\n",
       "      <th>qty_redirects</th>\n",
       "      <th>url_google_index</th>\n",
       "      <th>domain_google_index</th>\n",
       "      <th>url_shortened</th>\n",
       "    </tr>\n",
       "  </thead>\n",
       "  <tbody>\n",
       "    <tr>\n",
       "      <th>0</th>\n",
       "      <td>3</td>\n",
       "      <td>0</td>\n",
       "      <td>0</td>\n",
       "      <td>1</td>\n",
       "      <td>0</td>\n",
       "      <td>0</td>\n",
       "      <td>0</td>\n",
       "      <td>0</td>\n",
       "      <td>0</td>\n",
       "      <td>0</td>\n",
       "      <td>...</td>\n",
       "      <td>-1</td>\n",
       "      <td>1</td>\n",
       "      <td>2</td>\n",
       "      <td>0</td>\n",
       "      <td>892</td>\n",
       "      <td>0</td>\n",
       "      <td>0</td>\n",
       "      <td>0</td>\n",
       "      <td>0</td>\n",
       "      <td>0</td>\n",
       "    </tr>\n",
       "    <tr>\n",
       "      <th>1</th>\n",
       "      <td>5</td>\n",
       "      <td>0</td>\n",
       "      <td>1</td>\n",
       "      <td>3</td>\n",
       "      <td>0</td>\n",
       "      <td>3</td>\n",
       "      <td>0</td>\n",
       "      <td>2</td>\n",
       "      <td>0</td>\n",
       "      <td>0</td>\n",
       "      <td>...</td>\n",
       "      <td>150</td>\n",
       "      <td>1</td>\n",
       "      <td>2</td>\n",
       "      <td>1</td>\n",
       "      <td>9540</td>\n",
       "      <td>1</td>\n",
       "      <td>0</td>\n",
       "      <td>0</td>\n",
       "      <td>0</td>\n",
       "      <td>0</td>\n",
       "    </tr>\n",
       "    <tr>\n",
       "      <th>2</th>\n",
       "      <td>2</td>\n",
       "      <td>0</td>\n",
       "      <td>0</td>\n",
       "      <td>1</td>\n",
       "      <td>0</td>\n",
       "      <td>0</td>\n",
       "      <td>0</td>\n",
       "      <td>0</td>\n",
       "      <td>0</td>\n",
       "      <td>0</td>\n",
       "      <td>...</td>\n",
       "      <td>-1</td>\n",
       "      <td>1</td>\n",
       "      <td>2</td>\n",
       "      <td>3</td>\n",
       "      <td>589</td>\n",
       "      <td>1</td>\n",
       "      <td>0</td>\n",
       "      <td>0</td>\n",
       "      <td>0</td>\n",
       "      <td>0</td>\n",
       "    </tr>\n",
       "    <tr>\n",
       "      <th>3</th>\n",
       "      <td>4</td>\n",
       "      <td>0</td>\n",
       "      <td>2</td>\n",
       "      <td>5</td>\n",
       "      <td>0</td>\n",
       "      <td>0</td>\n",
       "      <td>0</td>\n",
       "      <td>0</td>\n",
       "      <td>0</td>\n",
       "      <td>0</td>\n",
       "      <td>...</td>\n",
       "      <td>-1</td>\n",
       "      <td>1</td>\n",
       "      <td>2</td>\n",
       "      <td>0</td>\n",
       "      <td>292</td>\n",
       "      <td>1</td>\n",
       "      <td>0</td>\n",
       "      <td>0</td>\n",
       "      <td>0</td>\n",
       "      <td>0</td>\n",
       "    </tr>\n",
       "    <tr>\n",
       "      <th>4</th>\n",
       "      <td>2</td>\n",
       "      <td>0</td>\n",
       "      <td>0</td>\n",
       "      <td>0</td>\n",
       "      <td>0</td>\n",
       "      <td>0</td>\n",
       "      <td>0</td>\n",
       "      <td>0</td>\n",
       "      <td>0</td>\n",
       "      <td>0</td>\n",
       "      <td>...</td>\n",
       "      <td>306</td>\n",
       "      <td>1</td>\n",
       "      <td>2</td>\n",
       "      <td>1</td>\n",
       "      <td>3597</td>\n",
       "      <td>0</td>\n",
       "      <td>1</td>\n",
       "      <td>0</td>\n",
       "      <td>0</td>\n",
       "      <td>0</td>\n",
       "    </tr>\n",
       "  </tbody>\n",
       "</table>\n",
       "<p>5 rows × 111 columns</p>\n",
       "</div>"
      ],
      "text/plain": [
       "   qty_dot_url  qty_hyphen_url  qty_underline_url  qty_slash_url  \\\n",
       "0            3               0                  0              1   \n",
       "1            5               0                  1              3   \n",
       "2            2               0                  0              1   \n",
       "3            4               0                  2              5   \n",
       "4            2               0                  0              0   \n",
       "\n",
       "   qty_questionmark_url  qty_equal_url  qty_at_url  qty_and_url  \\\n",
       "0                     0              0           0            0   \n",
       "1                     0              3           0            2   \n",
       "2                     0              0           0            0   \n",
       "3                     0              0           0            0   \n",
       "4                     0              0           0            0   \n",
       "\n",
       "   qty_exclamation_url  qty_space_url  ...  time_domain_expiration  \\\n",
       "0                    0              0  ...                      -1   \n",
       "1                    0              0  ...                     150   \n",
       "2                    0              0  ...                      -1   \n",
       "3                    0              0  ...                      -1   \n",
       "4                    0              0  ...                     306   \n",
       "\n",
       "   qty_ip_resolved  qty_nameservers  qty_mx_servers  ttl_hostname  \\\n",
       "0                1                2               0           892   \n",
       "1                1                2               1          9540   \n",
       "2                1                2               3           589   \n",
       "3                1                2               0           292   \n",
       "4                1                2               1          3597   \n",
       "\n",
       "   tls_ssl_certificate  qty_redirects  url_google_index  domain_google_index  \\\n",
       "0                    0              0                 0                    0   \n",
       "1                    1              0                 0                    0   \n",
       "2                    1              0                 0                    0   \n",
       "3                    1              0                 0                    0   \n",
       "4                    0              1                 0                    0   \n",
       "\n",
       "   url_shortened  \n",
       "0              0  \n",
       "1              0  \n",
       "2              0  \n",
       "3              0  \n",
       "4              0  \n",
       "\n",
       "[5 rows x 111 columns]"
      ]
     },
     "execution_count": 5,
     "metadata": {},
     "output_type": "execute_result"
    }
   ],
   "source": [
    "Features = dataRaw.iloc[:,:-1] # target is in last column\n",
    "X = Features\n",
    "y = dataRaw['phishing']\n",
    "X.head()"
   ]
  },
  {
   "cell_type": "code",
   "execution_count": 6,
   "metadata": {},
   "outputs": [],
   "source": [
    "# I'll start by plotting correlations for features\n",
    "import matplotlib.pyplot as plt\n",
    "import seaborn as sns\n",
    "\n",
    "#plt.figure(figsize=(50,50))\n",
    "#sns.heatmap(X.corr())\n",
    "#plt.show() #it looks like a window lmao; instant regret"
   ]
  },
  {
   "cell_type": "markdown",
   "metadata": {},
   "source": [
    "#### Preliminary Random Forest Model"
   ]
  },
  {
   "cell_type": "code",
   "execution_count": 7,
   "metadata": {},
   "outputs": [],
   "source": [
    "from sklearn.metrics import mean_absolute_error\n",
    "from sklearn.model_selection import train_test_split\n",
    "from sklearn.ensemble import RandomForestClassifier\n",
    "from sklearn.metrics import mean_squared_error\n",
    "\n",
    "# Split into train and test data\n",
    "\n",
    "train_X, val_X, train_y, val_y = train_test_split(X, y, random_state=426)"
   ]
  },
  {
   "cell_type": "code",
   "execution_count": 8,
   "metadata": {},
   "outputs": [
    {
     "name": "stderr",
     "output_type": "stream",
     "text": [
      "[Parallel(n_jobs=-1)]: Using backend ThreadingBackend with 8 concurrent workers.\n",
      "[Parallel(n_jobs=-1)]: Done  34 tasks      | elapsed:    0.4s\n",
      "[Parallel(n_jobs=-1)]: Done 184 tasks      | elapsed:    2.3s\n",
      "[Parallel(n_jobs=-1)]: Done 200 out of 200 | elapsed:    2.5s finished\n"
     ]
    },
    {
     "data": {
      "text/plain": [
       "RandomForestClassifier(bootstrap=True, ccp_alpha=0.0, class_weight=None,\n",
       "                       criterion='gini', max_depth=15, max_features='auto',\n",
       "                       max_leaf_nodes=None, max_samples=None,\n",
       "                       min_impurity_decrease=0.0, min_impurity_split=None,\n",
       "                       min_samples_leaf=1, min_samples_split=2,\n",
       "                       min_weight_fraction_leaf=0.0, n_estimators=200,\n",
       "                       n_jobs=-1, oob_score=False, random_state=426,\n",
       "                       verbose=True, warm_start=False)"
      ]
     },
     "execution_count": 8,
     "metadata": {},
     "output_type": "execute_result"
    }
   ],
   "source": [
    "# making model\n",
    "model_1 = RandomForestClassifier(n_jobs = -1, verbose = True, n_estimators = 200 , random_state = 426, max_depth = 15)\n",
    "model_1.fit(train_X,train_y)"
   ]
  },
  {
   "cell_type": "code",
   "execution_count": 9,
   "metadata": {
    "scrolled": true
   },
   "outputs": [
    {
     "name": "stderr",
     "output_type": "stream",
     "text": [
      "[Parallel(n_jobs=8)]: Using backend ThreadingBackend with 8 concurrent workers.\n",
      "[Parallel(n_jobs=8)]: Done  34 tasks      | elapsed:    0.0s\n",
      "[Parallel(n_jobs=8)]: Done 184 tasks      | elapsed:    0.0s\n",
      "[Parallel(n_jobs=8)]: Done 200 out of 200 | elapsed:    0.0s finished\n",
      "[Parallel(n_jobs=8)]: Using backend ThreadingBackend with 8 concurrent workers.\n",
      "[Parallel(n_jobs=8)]: Done  34 tasks      | elapsed:    0.0s\n",
      "[Parallel(n_jobs=8)]: Done 184 tasks      | elapsed:    0.0s\n",
      "[Parallel(n_jobs=8)]: Done 200 out of 200 | elapsed:    0.0s finished\n"
     ]
    }
   ],
   "source": [
    "# Saving some validation predicitons and probabilites\n",
    "val_preds = model_1.predict(val_X)\n",
    "# predict probabilities\n",
    "probs = model_1.predict_proba(val_X)\n",
    "# keep probabilities for the positive outcome only\n",
    "probs_1 = probs[:, 1]\n"
   ]
  },
  {
   "cell_type": "code",
   "execution_count": 10,
   "metadata": {},
   "outputs": [
    {
     "name": "stdout",
     "output_type": "stream",
     "text": [
      "Mean Accuracy on Test Data: 0.964759498240231\n",
      "F1 Score: 0.9493219129193433\n",
      "Average Precision: 0.9888433343683303\n"
     ]
    },
    {
     "name": "stderr",
     "output_type": "stream",
     "text": [
      "[Parallel(n_jobs=8)]: Using backend ThreadingBackend with 8 concurrent workers.\n",
      "[Parallel(n_jobs=8)]: Done  34 tasks      | elapsed:    0.0s\n",
      "[Parallel(n_jobs=8)]: Done 184 tasks      | elapsed:    0.0s\n",
      "[Parallel(n_jobs=8)]: Done 200 out of 200 | elapsed:    0.0s finished\n"
     ]
    }
   ],
   "source": [
    "# Scoring model: Accuracy, F1 Score, Average Precision\n",
    "from sklearn.metrics import f1_score\n",
    "from sklearn.metrics import average_precision_score\n",
    "from sklearn.metrics import accuracy_score\n",
    "\n",
    "\n",
    "print(\"Mean Accuracy on Test Data:\",model_1.score(val_X,val_y))\n",
    "print(\"F1 Score:\",f1_score(val_y,val_preds))\n",
    "print(\"Average Precision:\", average_precision_score(val_y, probs_1)) # second input must be y probability estimates of the positive class"
   ]
  },
  {
   "cell_type": "code",
   "execution_count": 11,
   "metadata": {},
   "outputs": [
    {
     "name": "stdout",
     "output_type": "stream",
     "text": [
      "RandomForest: ROC AUC=0.994\n"
     ]
    }
   ],
   "source": [
    "# Going to plot the ROC \n",
    "from sklearn.metrics import roc_curve\n",
    "from sklearn.metrics import roc_auc_score\n",
    "\n",
    "# AUC\n",
    "auc = roc_auc_score(val_y, probs_1)\n",
    "print('RandomForest: ROC AUC=%.3f' % (auc))\n",
    "\n",
    "# calculating roc curve\n",
    "fpr, tpr, thresholds = roc_curve(val_y, probs_1)"
   ]
  },
  {
   "cell_type": "code",
   "execution_count": 12,
   "metadata": {},
   "outputs": [
    {
     "data": {
      "image/png": "[encoded data removed]",
      "text/plain": [
       "<Figure size 432x288 with 1 Axes>"
      ]
     },
     "metadata": {
      "needs_background": "light"
     },
     "output_type": "display_data"
    }
   ],
   "source": [
    "# plotting the curve\n",
    "plt.plot(fpr, tpr, marker='.', label='RandomForest')\n",
    "# axis labels\n",
    "plt.xlabel('False Positive Rate')\n",
    "plt.ylabel('True Positive Rate')\n",
    "# show the legend\n",
    "plt.legend()\n",
    "plt.show()"
   ]
  },
  {
   "cell_type": "code",
   "execution_count": 13,
   "metadata": {},
   "outputs": [
    {
     "data": {
      "text/plain": [
       "Text(0.5, 1.0, 'Precision-Recall curve of Model 1: AUC=0.989')"
      ]
     },
     "execution_count": 13,
     "metadata": {},
     "output_type": "execute_result"
    },
    {
     "data": {
      "image/png": "[encoded data removed]",
      "text/plain": [
       "<Figure size 432x288 with 1 Axes>"
      ]
     },
     "metadata": {
      "needs_background": "light"
     },
     "output_type": "display_data"
    }
   ],
   "source": [
    "# Precision recall curve\n",
    "from sklearn.metrics import plot_precision_recall_curve\n",
    "from sklearn.metrics import precision_recall_curve\n",
    "\n",
    "# Calculating values\n",
    "precision, recall, thresholds = precision_recall_curve(val_y, probs_1)\n",
    "test_average_precision = average_precision_score(val_y, probs_1)\n",
    "\n",
    "plt.step(recall, precision, color='b', alpha=0.2, where='post')\n",
    "plt.fill_between(recall, precision, step='post', alpha=0.2, color='b')\n",
    "plt.xlabel('Recall')\n",
    "plt.ylabel('Precision')\n",
    "plt.ylim([0.0, 1.05])\n",
    "plt.xlim([0.0, 1.0])\n",
    "str_average_precision = \"{0:.3f}\".format(test_average_precision)\n",
    "plt.title('Precision-Recall curve of {}: AUC={}'.format(\"Model 1\", str_average_precision))"
   ]
  },
  {
   "cell_type": "code",
   "execution_count": 14,
   "metadata": {},
   "outputs": [
    {
     "name": "stderr",
     "output_type": "stream",
     "text": [
      "[Parallel(n_jobs=8)]: Using backend ThreadingBackend with 8 concurrent workers.\n",
      "[Parallel(n_jobs=8)]: Done  34 tasks      | elapsed:    0.0s\n",
      "[Parallel(n_jobs=8)]: Done 184 tasks      | elapsed:    0.0s\n",
      "[Parallel(n_jobs=8)]: Done 200 out of 200 | elapsed:    0.0s finished\n"
     ]
    },
    {
     "data": {
      "text/plain": [
       "<sklearn.metrics._plot.precision_recall_curve.PrecisionRecallDisplay at 0x279778d7408>"
      ]
     },
     "execution_count": 14,
     "metadata": {},
     "output_type": "execute_result"
    },
    {
     "data": {
      "image/png": "[encoded data removed]",
      "text/plain": [
       "<Figure size 432x288 with 1 Axes>"
      ]
     },
     "metadata": {
      "needs_background": "light"
     },
     "output_type": "display_data"
    }
   ],
   "source": [
    "plot_precision_recall_curve(model_1,val_X,val_y)"
   ]
  },
  {
   "cell_type": "markdown",
   "metadata": {},
   "source": [
    "#### ToDo List:\n",
    "- check for over and under fitting\n",
    "- get new data from phishtank, copy the scraping algorithm, and feed the new phishing sites into the current models to see how it works out\n",
    "- maybe look into cross validation\n",
    "- is there target leak? Does the model have access to something that is too telling?\n",
    "- which features are contributing the most to the model?\n",
    "- https://scikit-learn.org/stable/modules/generated/sklearn.feature_selection.RFE.html\n",
    "- Going to try and make models for each of the different feature tables specified in the original journal\n",
    "- Need to add confusion matrix to each of the models"
   ]
  },
  {
   "cell_type": "markdown",
   "metadata": {},
   "source": [
    "#### Table 1 RF Model"
   ]
  },
  {
   "cell_type": "code",
   "execution_count": 15,
   "metadata": {},
   "outputs": [],
   "source": [
    "# Making RF for table 1, first I need to subset the table 1 features; Table 1 is the URL table, no external services\n",
    "Features_table1 = ['qty_dot_url', 'qty_hyphen_url', 'qty_underline_url', 'qty_slash_url', 'qty_questionmark_url', 'qty_equal_url',\n",
    "                         'qty_at_url', 'qty_and_url', 'qty_exclamation_url', 'qty_space_url', 'qty_tilde_url', 'qty_comma_url',\n",
    "                         'qty_plus_url', 'qty_asterisk_url', 'qty_hashtag_url', 'qty_dollar_url', 'qty_percent_url', 'qty_tld_url',\n",
    "                         'length_url', 'email_in_url']\n",
    "# X and y\n",
    "X = dataRaw[Features_table1]\n",
    "y= dataRaw['phishing']"
   ]
  },
  {
   "cell_type": "code",
   "execution_count": 16,
   "metadata": {},
   "outputs": [],
   "source": [
    "# Split into train and test data\n",
    "\n",
    "train_X, val_X, train_y, val_y = train_test_split(X, y, random_state=426)"
   ]
  },
  {
   "cell_type": "code",
   "execution_count": 17,
   "metadata": {},
   "outputs": [
    {
     "data": {
      "text/plain": [
       "RandomForestClassifier(bootstrap=True, ccp_alpha=0.0, class_weight=None,\n",
       "                       criterion='gini', max_depth=15, max_features='auto',\n",
       "                       max_leaf_nodes=None, max_samples=None,\n",
       "                       min_impurity_decrease=0.0, min_impurity_split=None,\n",
       "                       min_samples_leaf=1, min_samples_split=2,\n",
       "                       min_weight_fraction_leaf=0.0, n_estimators=200,\n",
       "                       n_jobs=-1, oob_score=False, random_state=426,\n",
       "                       verbose=False, warm_start=False)"
      ]
     },
     "execution_count": 17,
     "metadata": {},
     "output_type": "execute_result"
    }
   ],
   "source": [
    "# making model\n",
    "model_2 = RandomForestClassifier(n_jobs = -1, verbose = False, n_estimators = 200 , random_state = 426, max_depth = 15)\n",
    "model_2.fit(train_X,train_y)"
   ]
  },
  {
   "cell_type": "code",
   "execution_count": 18,
   "metadata": {},
   "outputs": [],
   "source": [
    "# Saving some validation predicitons and probabilites\n",
    "val_preds_table1 = model_2.predict(val_X)\n",
    "# predict probabilities\n",
    "probs_table1 = model_2.predict_proba(val_X)\n",
    "# keep probabilities for the positive outcome only\n",
    "probs_table1 = probs_table1[:, 1]"
   ]
  },
  {
   "cell_type": "code",
   "execution_count": 19,
   "metadata": {},
   "outputs": [
    {
     "name": "stdout",
     "output_type": "stream",
     "text": [
      "Mean Accuracy on Table 1 Test Data: 0.907318834040249\n",
      "Table 1 F1 Score: 0.871625\n",
      "Table 1 Average Precision: 0.9438487794253738\n"
     ]
    }
   ],
   "source": [
    "print(\"Mean Accuracy on Table 1 Test Data:\",model_2.score(val_X,val_y))\n",
    "print(\"Table 1 F1 Score:\",f1_score(val_y,val_preds_table1))\n",
    "print(\"Table 1 Average Precision:\", average_precision_score(val_y, probs_table1)) # second input must be y probability estimates of the positive class"
   ]
  },
  {
   "cell_type": "markdown",
   "metadata": {},
   "source": [
    "#### Table 2 RF Model"
   ]
  },
  {
   "cell_type": "code",
   "execution_count": 20,
   "metadata": {},
   "outputs": [],
   "source": [
    "# Making RF for table 2, first I need to subset the table 2 features; Table 2 is features specific to the 'domain' section of the URL\n",
    "Features_table2 = ['qty_dot_domain', 'qty_hyphen_domain', 'qty_underline_domain', 'qty_slash_domain', 'qty_questionmark_domain', 'qty_equal_domain', \n",
    "                   'qty_at_domain', 'qty_and_domain', 'qty_exclamation_domain', 'qty_space_domain', 'qty_tilde_domain', 'qty_comma_domain', \n",
    "                   'qty_plus_domain', 'qty_asterisk_domain', 'qty_hashtag_domain', 'qty_dollar_domain', 'qty_percent_domain', 'qty_vowels_domain', \n",
    "                   'domain_length', 'domain_in_ip', 'server_client_domain']\n",
    "# X and y\n",
    "X = dataRaw[Features_table2]\n",
    "y= dataRaw['phishing']"
   ]
  },
  {
   "cell_type": "code",
   "execution_count": 21,
   "metadata": {},
   "outputs": [],
   "source": [
    "# Split into train and test data\n",
    "\n",
    "train_X, val_X, train_y, val_y = train_test_split(X, y, random_state=426)"
   ]
  },
  {
   "cell_type": "code",
   "execution_count": 22,
   "metadata": {},
   "outputs": [
    {
     "data": {
      "text/plain": [
       "RandomForestClassifier(bootstrap=True, ccp_alpha=0.0, class_weight=None,\n",
       "                       criterion='gini', max_depth=15, max_features='auto',\n",
       "                       max_leaf_nodes=None, max_samples=None,\n",
       "                       min_impurity_decrease=0.0, min_impurity_split=None,\n",
       "                       min_samples_leaf=1, min_samples_split=2,\n",
       "                       min_weight_fraction_leaf=0.0, n_estimators=200,\n",
       "                       n_jobs=-1, oob_score=False, random_state=426,\n",
       "                       verbose=False, warm_start=False)"
      ]
     },
     "execution_count": 22,
     "metadata": {},
     "output_type": "execute_result"
    }
   ],
   "source": [
    "# making model\n",
    "model_3 = RandomForestClassifier(n_jobs = -1, verbose = False, n_estimators = 200 , random_state = 426, max_depth = 15)\n",
    "model_3.fit(train_X,train_y)"
   ]
  },
  {
   "cell_type": "code",
   "execution_count": 23,
   "metadata": {},
   "outputs": [],
   "source": [
    "# Saving some validation predicitons and probabilites\n",
    "val_preds_table2 = model_3.predict(val_X)\n",
    "# predict probabilities\n",
    "probs_table2 = model_3.predict_proba(val_X)\n",
    "# keep probabilities for the positive outcome only\n",
    "probs_table2 = probs_table2[:, 1]"
   ]
  },
  {
   "cell_type": "code",
   "execution_count": 24,
   "metadata": {},
   "outputs": [
    {
     "name": "stdout",
     "output_type": "stream",
     "text": [
      "Mean Accuracy on Table 2 Test Data: 0.7569713924736035\n",
      "Table 2 F1 Score: 0.871625\n",
      "Table 2 Average Precision: 0.68337414669185\n"
     ]
    }
   ],
   "source": [
    "print(\"Mean Accuracy on Table 2 Test Data:\",model_3.score(val_X,val_y))\n",
    "print(\"Table 2 F1 Score:\",f1_score(val_y,val_preds_table1))\n",
    "print(\"Table 2 Average Precision:\", average_precision_score(val_y, probs_table2)) # second input must be y probability estimates of the positive class"
   ]
  },
  {
   "cell_type": "markdown",
   "metadata": {},
   "source": [
    "#### Table 3 RF Model"
   ]
  },
  {
   "cell_type": "code",
   "execution_count": 25,
   "metadata": {},
   "outputs": [],
   "source": [
    "# Making RF for table 3, first I need to subset the table 3 features; Table 3 is features specific to the 'directory' section of the URL\n",
    "Features_table3 =['qty_dot_directory', 'qty_hyphen_directory', 'qty_underline_directory', 'qty_slash_directory', 'qty_questionmark_directory', 'qty_equal_directory', \n",
    "                  'qty_at_directory', 'qty_and_directory', 'qty_exclamation_directory', 'qty_space_directory', 'qty_tilde_directory', 'qty_comma_directory', \n",
    "                  'qty_plus_directory', 'qty_asterisk_directory', 'qty_hashtag_directory', 'qty_dollar_directory', 'qty_percent_directory', 'directory_length']\n",
    "\n",
    "# X and y\n",
    "X = dataRaw[Features_table3]\n",
    "y= dataRaw['phishing']"
   ]
  },
  {
   "cell_type": "code",
   "execution_count": 26,
   "metadata": {},
   "outputs": [],
   "source": [
    "# Split into train and test data\n",
    "\n",
    "train_X, val_X, train_y, val_y = train_test_split(X, y, random_state=426)"
   ]
  },
  {
   "cell_type": "code",
   "execution_count": 27,
   "metadata": {},
   "outputs": [
    {
     "data": {
      "text/plain": [
       "RandomForestClassifier(bootstrap=True, ccp_alpha=0.0, class_weight=None,\n",
       "                       criterion='gini', max_depth=15, max_features='auto',\n",
       "                       max_leaf_nodes=None, max_samples=None,\n",
       "                       min_impurity_decrease=0.0, min_impurity_split=None,\n",
       "                       min_samples_leaf=1, min_samples_split=2,\n",
       "                       min_weight_fraction_leaf=0.0, n_estimators=200,\n",
       "                       n_jobs=-1, oob_score=False, random_state=426,\n",
       "                       verbose=False, warm_start=False)"
      ]
     },
     "execution_count": 27,
     "metadata": {},
     "output_type": "execute_result"
    }
   ],
   "source": [
    "# making model\n",
    "model_4 = RandomForestClassifier(n_jobs = -1, verbose = False, n_estimators = 200 , random_state = 426, max_depth = 15)\n",
    "model_4.fit(train_X,train_y)"
   ]
  },
  {
   "cell_type": "code",
   "execution_count": 28,
   "metadata": {},
   "outputs": [],
   "source": [
    "# Saving some validation predicitons and probabilites\n",
    "val_preds_table3 = model_4.predict(val_X)\n",
    "# predict probabilities\n",
    "probs_table3 = model_4.predict_proba(val_X)\n",
    "# keep probabilities for the positive outcome only\n",
    "probs_table3 = probs_table3[:, 1]"
   ]
  },
  {
   "cell_type": "code",
   "execution_count": 29,
   "metadata": {},
   "outputs": [
    {
     "name": "stdout",
     "output_type": "stream",
     "text": [
      "Mean Accuracy on Table 3 Test Data: 0.9039797852179406\n",
      "Table 3 F1 Score: 0.8612415232133541\n",
      "Table 3 Average Precision: 0.9211080293986422\n"
     ]
    }
   ],
   "source": [
    "print(\"Mean Accuracy on Table 3 Test Data:\",model_4.score(val_X,val_y))\n",
    "print(\"Table 3 F1 Score:\",f1_score(val_y,val_preds_table3))\n",
    "print(\"Table 3 Average Precision:\", average_precision_score(val_y, probs_table3)) # second input must be y probability estimates of the positive class"
   ]
  },
  {
   "cell_type": "markdown",
   "metadata": {},
   "source": [
    "#### Table 4 RF Model"
   ]
  },
  {
   "cell_type": "code",
   "execution_count": 30,
   "metadata": {},
   "outputs": [],
   "source": [
    "# Making RF for table 4, first I need to subset the table 4 features; Table 4 is features specific to the 'URL File Name' section of the URL\n",
    "Features_table4 = ['qty_dot_file', 'qty_hyphen_file', 'qty_underline_file', 'qty_slash_file', 'qty_questionmark_file', 'qty_equal_file', \n",
    "                   'qty_at_file', 'qty_and_file', 'qty_exclamation_file', 'qty_space_file', 'qty_tilde_file', 'qty_comma_file', 'qty_plus_file', \n",
    "                   'qty_asterisk_file', 'qty_hashtag_file', 'qty_dollar_file', 'qty_percent_file', 'file_length']\n",
    "\n",
    "# X and y\n",
    "X = dataRaw[Features_table4]\n",
    "y= dataRaw['phishing']"
   ]
  },
  {
   "cell_type": "code",
   "execution_count": 31,
   "metadata": {},
   "outputs": [],
   "source": [
    "# Split into train and test data\n",
    "\n",
    "train_X, val_X, train_y, val_y = train_test_split(X, y, random_state=426)"
   ]
  },
  {
   "cell_type": "code",
   "execution_count": 32,
   "metadata": {},
   "outputs": [
    {
     "data": {
      "text/plain": [
       "RandomForestClassifier(bootstrap=True, ccp_alpha=0.0, class_weight=None,\n",
       "                       criterion='gini', max_depth=15, max_features='auto',\n",
       "                       max_leaf_nodes=None, max_samples=None,\n",
       "                       min_impurity_decrease=0.0, min_impurity_split=None,\n",
       "                       min_samples_leaf=1, min_samples_split=2,\n",
       "                       min_weight_fraction_leaf=0.0, n_estimators=200,\n",
       "                       n_jobs=-1, oob_score=False, random_state=426,\n",
       "                       verbose=False, warm_start=False)"
      ]
     },
     "execution_count": 32,
     "metadata": {},
     "output_type": "execute_result"
    }
   ],
   "source": [
    "# making model\n",
    "model_5 = RandomForestClassifier(n_jobs = -1, verbose = False, n_estimators = 200 , random_state = 426, max_depth = 15)\n",
    "model_5.fit(train_X,train_y)"
   ]
  },
  {
   "cell_type": "code",
   "execution_count": 33,
   "metadata": {},
   "outputs": [],
   "source": [
    "# Saving some validation predicitons and probabilites\n",
    "val_preds_table4 = model_5.predict(val_X)\n",
    "# predict probabilities\n",
    "probs_table4 = model_5.predict_proba(val_X)\n",
    "# keep probabilities for the positive outcome only\n",
    "probs_table4 = probs_table4[:, 1]"
   ]
  },
  {
   "cell_type": "code",
   "execution_count": 34,
   "metadata": {},
   "outputs": [
    {
     "name": "stdout",
     "output_type": "stream",
     "text": [
      "Mean Accuracy on Table 4 Test Data: 0.8672502481725476\n",
      "Table 4 F1 Score: 0.8338979223125564\n",
      "Table 4 Average Precision: 0.8359945562945534\n"
     ]
    }
   ],
   "source": [
    "print(\"Mean Accuracy on Table 4 Test Data:\",model_5.score(val_X,val_y))\n",
    "print(\"Table 4 F1 Score:\",f1_score(val_y,val_preds_table4))\n",
    "print(\"Table 4 Average Precision:\", average_precision_score(val_y, probs_table4)) # second input must be y probability estimates of the positive class"
   ]
  },
  {
   "cell_type": "markdown",
   "metadata": {},
   "source": [
    "#### Table 5 RF Model"
   ]
  },
  {
   "cell_type": "code",
   "execution_count": 35,
   "metadata": {},
   "outputs": [],
   "source": [
    "# Making RF for table 4, first I need to subset the table 4 features; Table 4 is features specific to the 'URL Parameters' section of the URL\n",
    "Features_table5 = ['qty_dot_params', 'qty_hyphen_params', 'qty_underline_params', 'qty_slash_params', 'qty_questionmark_params', 'qty_equal_params', 'qty_at_params', 'qty_and_params', 'qty_exclamation_params', 'qty_space_params', 'qty_tilde_params', 'qty_comma_params', 'qty_plus_params', 'qty_asterisk_params', 'qty_hashtag_params', 'qty_dollar_params', 'qty_percent_params', 'params_length', 'tld_present_params', 'qty_params']\n",
    "\n",
    "# X and y\n",
    "X = dataRaw[Features_table5]\n",
    "y= dataRaw['phishing']"
   ]
  },
  {
   "cell_type": "code",
   "execution_count": 36,
   "metadata": {},
   "outputs": [],
   "source": [
    "# Split into train and test data\n",
    "\n",
    "train_X, val_X, train_y, val_y = train_test_split(X, y, random_state=426)"
   ]
  },
  {
   "cell_type": "code",
   "execution_count": 37,
   "metadata": {},
   "outputs": [
    {
     "data": {
      "text/plain": [
       "RandomForestClassifier(bootstrap=True, ccp_alpha=0.0, class_weight=None,\n",
       "                       criterion='gini', max_depth=15, max_features='auto',\n",
       "                       max_leaf_nodes=None, max_samples=None,\n",
       "                       min_impurity_decrease=0.0, min_impurity_split=None,\n",
       "                       min_samples_leaf=1, min_samples_split=2,\n",
       "                       min_weight_fraction_leaf=0.0, n_estimators=200,\n",
       "                       n_jobs=-1, oob_score=False, random_state=426,\n",
       "                       verbose=False, warm_start=False)"
      ]
     },
     "execution_count": 37,
     "metadata": {},
     "output_type": "execute_result"
    }
   ],
   "source": [
    "# making model\n",
    "model_6 = RandomForestClassifier(n_jobs = -1, verbose = False, n_estimators = 200 , random_state = 426, max_depth = 15)\n",
    "model_6.fit(train_X,train_y)"
   ]
  },
  {
   "cell_type": "code",
   "execution_count": 38,
   "metadata": {},
   "outputs": [],
   "source": [
    "# Saving some validation predicitons and probabilites\n",
    "val_preds_table5 = model_6.predict(val_X)\n",
    "# predict probabilities\n",
    "probs_table5 = model_6.predict_proba(val_X)\n",
    "# keep probabilities for the positive outcome only\n",
    "probs_table5 = probs_table5[:, 1]"
   ]
  },
  {
   "cell_type": "code",
   "execution_count": 39,
   "metadata": {},
   "outputs": [
    {
     "name": "stdout",
     "output_type": "stream",
     "text": [
      "Mean Accuracy on Table 5 Test Data: 0.7243479830340221\n",
      "Table 5 F1 Score: 0.3507280263577426\n",
      "Table 5 Average Precision: 0.486514980057776\n"
     ]
    }
   ],
   "source": [
    "print(\"Mean Accuracy on Table 5 Test Data:\",model_6.score(val_X,val_y))\n",
    "print(\"Table 5 F1 Score:\",f1_score(val_y,val_preds_table5))\n",
    "print(\"Table 5 Average Precision:\", average_precision_score(val_y, probs_table5)) # second input must be y probability estimates of the positive class"
   ]
  },
  {
   "cell_type": "markdown",
   "metadata": {},
   "source": [
    "#### Table 6 RF Model"
   ]
  },
  {
   "cell_type": "code",
   "execution_count": 40,
   "metadata": {},
   "outputs": [],
   "source": [
    "# Making RF for table 6, first I need to subset the table 6 features; Table 6 is features specific to 'resolving URL and external services' \n",
    "Features_table6 = ['time_response', 'domain_spf', 'asn_ip', 'time_domain_activation', 'time_domain_expiration', 'qty_ip_resolved', \n",
    "                   'qty_nameservers', 'qty_mx_servers', 'ttl_hostname', 'tls_ssl_certificate', 'qty_redirects', 'url_google_index', \n",
    "                   'domain_google_index', 'domain_google_index', 'url_shortened']\n",
    "# X and y\n",
    "X = dataRaw[Features_table6]\n",
    "y= dataRaw['phishing']"
   ]
  },
  {
   "cell_type": "code",
   "execution_count": 41,
   "metadata": {},
   "outputs": [],
   "source": [
    "# Split into train and test data\n",
    "\n",
    "train_X, val_X, train_y, val_y = train_test_split(X, y, random_state=426)"
   ]
  },
  {
   "cell_type": "code",
   "execution_count": 42,
   "metadata": {},
   "outputs": [
    {
     "data": {
      "text/plain": [
       "RandomForestClassifier(bootstrap=True, ccp_alpha=0.0, class_weight=None,\n",
       "                       criterion='gini', max_depth=15, max_features='auto',\n",
       "                       max_leaf_nodes=None, max_samples=None,\n",
       "                       min_impurity_decrease=0.0, min_impurity_split=None,\n",
       "                       min_samples_leaf=1, min_samples_split=2,\n",
       "                       min_weight_fraction_leaf=0.0, n_estimators=200,\n",
       "                       n_jobs=-1, oob_score=False, random_state=426,\n",
       "                       verbose=False, warm_start=False)"
      ]
     },
     "execution_count": 42,
     "metadata": {},
     "output_type": "execute_result"
    }
   ],
   "source": [
    "# making model\n",
    "model_7 = RandomForestClassifier(n_jobs = -1, verbose = False, n_estimators = 200 , random_state = 426, max_depth = 15)\n",
    "model_7.fit(train_X,train_y)"
   ]
  },
  {
   "cell_type": "code",
   "execution_count": 43,
   "metadata": {},
   "outputs": [],
   "source": [
    "# Saving some validation predicitons and probabilites\n",
    "val_preds_table6 = model_7.predict(val_X)\n",
    "# predict probabilities\n",
    "probs_table6 = model_7.predict_proba(val_X)\n",
    "# keep probabilities for the positive outcome only\n",
    "probs_table6 = probs_table6[:, 1]"
   ]
  },
  {
   "cell_type": "code",
   "execution_count": 44,
   "metadata": {},
   "outputs": [
    {
     "name": "stdout",
     "output_type": "stream",
     "text": [
      "Mean Accuracy on Table 6 Test Data: 0.8829528020936739\n",
      "Table 6 F1 Score: 0.871625\n",
      "Table 6 Average Precision: 0.9211080293986422\n"
     ]
    }
   ],
   "source": [
    "print(\"Mean Accuracy on Table 6 Test Data:\",model_7.score(val_X,val_y))\n",
    "print(\"Table 6 F1 Score:\",f1_score(val_y,val_preds_table1))\n",
    "print(\"Table 6 Average Precision:\", average_precision_score(val_y, probs_table3)) # second input must be y probability estimates of the positive class"
   ]
  },
  {
   "cell_type": "markdown",
   "metadata": {},
   "source": [
    "#### Rank of Feature Importance by Table"
   ]
  },
  {
   "cell_type": "markdown",
   "metadata": {},
   "source": [
    "From Best to Worst:\n",
    "- All Tables (Full Dataset)\n",
    "- Table 1\n",
    "- Table 3\n",
    "- Table 6\n",
    "- Table 4\n",
    "- Table 2\n",
    "- Table 5"
   ]
  },
  {
   "cell_type": "markdown",
   "metadata": {},
   "source": [
    "#### Final Model: Full Dataset using RFE feature selection"
   ]
  },
  {
   "cell_type": "code",
   "execution_count": 45,
   "metadata": {},
   "outputs": [
    {
     "data": {
      "text/plain": [
       "(88647, 111)"
      ]
     },
     "execution_count": 45,
     "metadata": {},
     "output_type": "execute_result"
    }
   ],
   "source": [
    "Features = dataRaw.iloc[:,:-1] # target is in last column\n",
    "X = Features\n",
    "y = dataRaw['phishing']\n",
    "X.shape"
   ]
  },
  {
   "cell_type": "code",
   "execution_count": 46,
   "metadata": {},
   "outputs": [],
   "source": [
    "# Split into train and test data\n",
    "\n",
    "train_X, val_X, train_y, val_y = train_test_split(X, y, random_state=426)"
   ]
  },
  {
   "cell_type": "code",
   "execution_count": 47,
   "metadata": {},
   "outputs": [
    {
     "data": {
      "text/plain": [
       "RandomForestClassifier(bootstrap=True, ccp_alpha=0.0, class_weight=None,\n",
       "                       criterion='gini', max_depth=15, max_features='auto',\n",
       "                       max_leaf_nodes=None, max_samples=None,\n",
       "                       min_impurity_decrease=0.0, min_impurity_split=None,\n",
       "                       min_samples_leaf=1, min_samples_split=2,\n",
       "                       min_weight_fraction_leaf=0.0, n_estimators=200,\n",
       "                       n_jobs=-1, oob_score=False, random_state=426,\n",
       "                       verbose=False, warm_start=False)"
      ]
     },
     "execution_count": 47,
     "metadata": {},
     "output_type": "execute_result"
    }
   ],
   "source": [
    "# making model on full dataset to use RFE selector on\n",
    "\n",
    "model_full = RandomForestClassifier(n_jobs = -1, verbose = False, n_estimators = 200 , random_state = 426, max_depth = 15)\n",
    "model_full.fit(train_X,train_y)"
   ]
  },
  {
   "cell_type": "code",
   "execution_count": 48,
   "metadata": {},
   "outputs": [],
   "source": [
    "# Going to use recursive feature elimination from sklearn to get top 50 features\n",
    "from sklearn.feature_selection import RFE\n",
    "\n",
    "selector = RFE(model_full, n_features_to_select= 50, step=1)\n",
    "selector = selector.fit(X, y)\n"
   ]
  },
  {
   "cell_type": "code",
   "execution_count": 49,
   "metadata": {},
   "outputs": [],
   "source": [
    "# This should return a boolean which I can use to index the feature set\n",
    "selector_index = selector.get_support()"
   ]
  },
  {
   "cell_type": "code",
   "execution_count": 50,
   "metadata": {},
   "outputs": [
    {
     "data": {
      "text/plain": [
       "Index(['qty_dot_url', 'qty_hyphen_url', 'qty_slash_url', 'length_url',\n",
       "       'qty_dot_domain', 'qty_vowels_domain', 'domain_length',\n",
       "       'qty_dot_directory', 'qty_hyphen_directory', 'qty_underline_directory',\n",
       "       'qty_slash_directory', 'qty_at_directory', 'qty_and_directory',\n",
       "       'qty_space_directory', 'qty_tilde_directory', 'qty_comma_directory',\n",
       "       'qty_plus_directory', 'qty_asterisk_directory', 'qty_hashtag_directory',\n",
       "       'qty_dollar_directory', 'directory_length', 'qty_dot_file',\n",
       "       'qty_hyphen_file', 'qty_underline_file', 'qty_slash_file',\n",
       "       'qty_questionmark_file', 'qty_equal_file', 'qty_at_file',\n",
       "       'qty_and_file', 'qty_exclamation_file', 'qty_space_file',\n",
       "       'qty_tilde_file', 'qty_comma_file', 'qty_plus_file',\n",
       "       'qty_asterisk_file', 'qty_hashtag_file', 'qty_dollar_file',\n",
       "       'qty_percent_file', 'file_length', 'params_length', 'time_response',\n",
       "       'asn_ip', 'time_domain_activation', 'time_domain_expiration',\n",
       "       'qty_ip_resolved', 'qty_nameservers', 'qty_mx_servers', 'ttl_hostname',\n",
       "       'tls_ssl_certificate', 'qty_redirects'],\n",
       "      dtype='object')"
      ]
     },
     "execution_count": 50,
     "metadata": {},
     "output_type": "execute_result"
    }
   ],
   "source": [
    "# indexing features based on the RFE selector\n",
    "\n",
    "final_Features = Features.iloc[:,selector_index]\n",
    "\n",
    "# what are the features?\n",
    "final_Features.columns"
   ]
  },
  {
   "cell_type": "code",
   "execution_count": 51,
   "metadata": {},
   "outputs": [],
   "source": [
    "# Setting X and y\n",
    "\n",
    "X = final_Features\n",
    "y = dataRaw['phishing']\n",
    "\n",
    "# Split into train and test data\n",
    "\n",
    "train_X, val_X, train_y, val_y = train_test_split(X, y, random_state=426)"
   ]
  },
  {
   "cell_type": "code",
   "execution_count": 52,
   "metadata": {},
   "outputs": [
    {
     "data": {
      "text/plain": [
       "RandomForestClassifier(bootstrap=True, ccp_alpha=0.0, class_weight=None,\n",
       "                       criterion='gini', max_depth=15, max_features='auto',\n",
       "                       max_leaf_nodes=None, max_samples=None,\n",
       "                       min_impurity_decrease=0.0, min_impurity_split=None,\n",
       "                       min_samples_leaf=1, min_samples_split=2,\n",
       "                       min_weight_fraction_leaf=0.0, n_estimators=200,\n",
       "                       n_jobs=-1, oob_score=False, random_state=426,\n",
       "                       verbose=False, warm_start=False)"
      ]
     },
     "execution_count": 52,
     "metadata": {},
     "output_type": "execute_result"
    }
   ],
   "source": [
    "# Final model\n",
    "\n",
    "model_final = RandomForestClassifier(n_jobs = -1, verbose = False, n_estimators = 200 , random_state = 426, max_depth = 15)\n",
    "model_final.fit(train_X,train_y)"
   ]
  },
  {
   "cell_type": "code",
   "execution_count": 53,
   "metadata": {},
   "outputs": [],
   "source": [
    "# Saving some validation predicitons and probabilites\n",
    "val_preds = model_final.predict(val_X)\n",
    "# predict probabilities\n",
    "probs = model_final.predict_proba(val_X)\n",
    "# keep probabilities for the positive outcome only\n",
    "probs_final = probs[:, 1]\n"
   ]
  },
  {
   "cell_type": "code",
   "execution_count": 54,
   "metadata": {},
   "outputs": [
    {
     "name": "stdout",
     "output_type": "stream",
     "text": [
      "Mean Accuracy on Test Data: 0.9674668351231839\n",
      "F1 Score: 0.9531787778427171\n",
      "Average Precision: 0.9902867879936432\n"
     ]
    }
   ],
   "source": [
    "print(\"Mean Accuracy on Test Data:\",model_final.score(val_X,val_y))\n",
    "print(\"F1 Score:\",f1_score(val_y,val_preds))\n",
    "print(\"Average Precision:\", average_precision_score(val_y, probs_final)) # second input must be y probability estimates of the positive class"
   ]
  },
  {
   "cell_type": "code",
   "execution_count": 55,
   "metadata": {},
   "outputs": [
    {
     "name": "stdout",
     "output_type": "stream",
     "text": [
      "RandomForest: ROC AUC=0.995\n"
     ]
    }
   ],
   "source": [
    "# Going to plot the ROC \n",
    "\n",
    "# AUC\n",
    "auc = roc_auc_score(val_y, probs_final)\n",
    "print('RandomForest: ROC AUC=%.3f' % (auc))\n",
    "\n",
    "# calculating roc curve\n",
    "fpr, tpr, thresholds = roc_curve(val_y, probs_final)"
   ]
  },
  {
   "cell_type": "code",
   "execution_count": 63,
   "metadata": {},
   "outputs": [
    {
     "data": {
      "image/png": "[encoded data removed]",
      "text/plain": [
       "<Figure size 432x288 with 1 Axes>"
      ]
     },
     "metadata": {
      "needs_background": "light"
     },
     "output_type": "display_data"
    }
   ],
   "source": [
    "# plotting the curve\n",
    "plt.plot(fpr, tpr, marker='.', label='RandomForest')\n",
    "# axis labels\n",
    "plt.xlabel('False Positive Rate')\n",
    "plt.ylabel('True Positive Rate')\n",
    "# title\n",
    "plt.title('ROC curve of {}: AUC={}'.format(\"Final Model\", round(auc, 3)))\n",
    "# show the legend\n",
    "plt.legend()\n",
    "plt.show()"
   ]
  },
  {
   "cell_type": "code",
   "execution_count": 59,
   "metadata": {},
   "outputs": [
    {
     "data": {
      "text/plain": [
       "Text(0.5, 1.0, 'Precision-Recall curve of Final Model: AUC=0.989')"
      ]
     },
     "execution_count": 59,
     "metadata": {},
     "output_type": "execute_result"
    },
    {
     "data": {
      "image/png": "[encoded data removed]",
      "text/plain": [
       "<Figure size 432x288 with 1 Axes>"
      ]
     },
     "metadata": {
      "needs_background": "light"
     },
     "output_type": "display_data"
    }
   ],
   "source": [
    "# Precision recall curve\n",
    "# Calculating values\n",
    "precision, recall, thresholds = precision_recall_curve(val_y, probs_1)\n",
    "test_average_precision = average_precision_score(val_y, probs_1)\n",
    "\n",
    "plt.step(recall, precision, color='b', alpha=0.2, where='post')\n",
    "plt.fill_between(recall, precision, step='post', alpha=0.2, color='b')\n",
    "plt.xlabel('Recall')\n",
    "plt.ylabel('Precision')\n",
    "plt.ylim([0.0, 1.05])\n",
    "plt.xlim([0.0, 1.0])\n",
    "str_average_precision = \"{0:.3f}\".format(test_average_precision)\n",
    "plt.title('Precision-Recall curve of {}: AUC={}'.format(\"Final Model\", str_average_precision))"
   ]
  },
  {
   "cell_type": "code",
   "execution_count": 58,
   "metadata": {},
   "outputs": [
    {
     "data": {
      "text/plain": [
       "array([[14102,   404],\n",
       "       [  317,  7339]], dtype=int64)"
      ]
     },
     "execution_count": 58,
     "metadata": {},
     "output_type": "execute_result"
    }
   ],
   "source": [
    "# Confusion Matrix\n",
    "from sklearn.metrics import confusion_matrix\n",
    "confusion_matrix(val_y,val_preds)\n"
   ]
  }
 ],
 "metadata": {
  "kernelspec": {
   "display_name": "Python 3",
   "language": "python",
   "name": "python3"
  },
  "language_info": {
   "codemirror_mode": {
    "name": "ipython",
    "version": 3
   },
   "file_extension": ".py",
   "mimetype": "text/x-python",
   "name": "python",
   "nbconvert_exporter": "python",
   "pygments_lexer": "ipython3",
   "version": "3.7.6"
  }
 },
 "nbformat": 4,
 "nbformat_minor": 4
}
